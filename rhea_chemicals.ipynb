{
 "cells": [
  {
   "cell_type": "markdown",
   "metadata": {
    "collapsed": false
   },
   "source": [
    "# Introduction\n",
    "\n",
    "This notebook is an hands-on introduction to querying chemicals and reactions of biological interest using SPARQL.\n",
    "\n",
    "| Source | Description | web site | SPARQL endpoint |\n",
    "| :---- | :------ | -------: | -------: |\n",
    "| CHEBI/Rhea | chemicals & reactions | [https://www.rhea\\-db.org/](https://www.rhea-db.org/) | [https://sparql.rhea\\-db.org/sparql](https://sparql.rhea-db.org/sparql) |  \n",
    "\n",
    "\n",
    "  \n",
    "**rhea_chemicals.ipynb**  focuses on chemistry.  \n",
    "Reactions and enzymes will be presented in **rhea_enzymes.ipynb** notebook.  \n",
    "\n",
    "This notebook is built with a **Python3 kernel** and uses the **SPARQLWrapper**, **pandas**  and **numpy** python libraries.  \n",
    "\n",
    "**Note that you can simply use this notebook as a list of SPARQL queries that you can execute somewhere else.**  \n",
    "Each query starts with a comment line (#) indicating the SPARQL endpoint to be used to run the query.  \n",
    "\n",
    "Example: SPARQL_Q1 query  \n",
    "\\#endpoint: https://sparql.rhea-db.org/sparql  \n",
    "Go to https://sparql.rhea-db.org/sparql and copy/paste Q1 query in the query form.\n",
    "\n"
   ]
  },
  {
   "cell_type": "markdown",
   "metadata": {
    "collapsed": false
   },
   "source": [
    "<div>\n",
    "<img src=\"Image/what_is_rhea.png\" alt=“What is Rhea?” width=\"70%\" height=\"70%\" border=1/>\n",
    "</div>\n",
    "\n",
    "**Rhea website**: `https://www.rhea-db.org`  \n",
    "<div>\n",
    "<img src=\"Image/rhea_website.png\" alt=“Rhea website” width=\"70%\" height=\"70%\" border=1/>\n",
    "</div>\n",
    "\n",
    "\n",
    "**Rhea SPARQL endpoint**: `https://sparql.rhea-db.org/`\n",
    "<div>\n",
    "<img src=\"Image/rhea_sparql.png\" alt=“Rhea SPARQL endpoint” width=\"70%\" height=\"70%\" border=1/>\n",
    "</div>\n"
   ]
  },
  {
   "cell_type": "markdown",
   "metadata": {
    "collapsed": false
   },
   "source": [
    "## Rhea SPARQL endpoint content\n",
    "\n",
    "**Preliminary remarks**\n",
    "* The Rhea SPARQL endpoint (https://sparql.rhea-db.org/sparql) is built from\n",
    "both rhea.rdf and chebi.owl (ftp://ftp.expasy.org/databases/rhea/rdf/).\n",
    "The datasets are synchronized with UniProt RDF data releases (4-6 releases/y).  \n",
    "\n",
    "* <span style=\"color:red\">rhea.rdf does not contain the cross-references to UniProt protein entries</span>. They are available through the UniProt SPARQL endpoint\n",
    "(https://sparql.uniprot.org/sparql).  \n",
    "\n",
    "\n",
    "![Rhea stats](Image/rhea_sparql_stats.png)  \n",
    "\n",
    "The statistics are available [here](https://sparql.rhea-db.org/.well-known/void)  \n"
   ]
  },
  {
   "cell_type": "markdown",
   "metadata": {
    "collapsed": false
   },
   "source": [
    "## Rhea data model\n",
    "\n",
    "\n",
    "In Rhea RDF data model, all data are represented as subclasses of rdfs:Class, i.e\n",
    "there are no instances.  \n",
    "\n",
    "![Rhea schema](Image/rhea_rdf_schema.png) \n",
    "\n",
    "The documentation is available [here](https://ftp.expasy.org/databases/rhea/rdf/rhea_rdf_documentation.pdf)  \n"
   ]
  },
  {
   "cell_type": "markdown",
   "metadata": {
    "collapsed": false
   },
   "source": [
    "# Initialisation\n",
    "\n",
    "## Python libraries\n",
    "\n",
    "**Dependencies:**\n",
    "- **SPARQLWrapper**  \n",
    "SPARQLWrapper is a wrapper around a SPARQL service. It helps in creating the query URI and, possibly, convert the result into a more manageable format. The package is licensed under W3C license.  \n",
    "useful links: https://rdflib.github.io/sparqlwrapper/ and https://pypi.org/project/SPARQLWrapper/\n",
    "- **pandas**  \n",
    "pandas is a Python package providing fast, flexible, and expressive data structures designed to make working with structured (tabular, multidimensional, potentially heterogeneous) and time series data both easy and intuitive.  \n",
    "useful link: https://pandas.pydata.org/   \n",
    "- **numpy**  \n",
    "NumPy is the fundamental package for scientific computing in Python. It is a Python library that provides a multidimensional array object, various derived objects (such as masked arrays and matrices), and an assortment of routines for fast operations on arrays.  \n",
    "useful link: https://numpy.org/   \n",
    "\n"
   ]
  },
  {
   "cell_type": "code",
   "execution_count": 1,
   "metadata": {
    "collapsed": false
   },
   "outputs": [
   ],
   "source": [
    "from SPARQLWrapper import SPARQLWrapper, JSON\n",
    "\n",
    "# pandas\n",
    "import pandas as pd\n",
    "from pandas import json_normalize\n",
    "# display options\n",
    "pd.options.display.max_colwidth=200\n",
    "\n",
    "# numpy\n",
    "import numpy as np\n"
   ]
  },
  {
   "cell_type": "markdown",
   "metadata": {
    "collapsed": false
   },
   "source": [
    "# Run a SPARQL query step by step: retrieve Rhea reactions and their chemical equations\n",
    "\n",
    "**SPARQL query**   \n",
    "`PREFIX rh:<http://rdf.rhea-db.org/>`  \n",
    "`PREFIX rdfs:<http://www.w3.org/2000/01/rdf-schema#>` \n",
    "\n",
    "`SELECT ?rhea ?equation`   \n",
    "`WHERE {`  \n",
    "`     ?rhea rdfs:subClassOf rh:Reaction .`  \n",
    "`     ?rhea rh:equation ?equation .`  \n",
    "` }  `  \n",
    "\n",
    "<div>\n",
    "<img src=\"Image/rhea_equation.png\" alt=“Rhea equation” width=\"80%\" height=\"80%\" border=1/>\n",
    "</div>\n",
    "\n"
   ]
  },
  {
   "cell_type": "code",
   "execution_count": 2,
   "metadata": {
    "collapsed": false,
    "scrolled": true
   },
   "outputs": [
    {
     "name": "stdout",
     "output_type": "stream",
     "text": [
      "SPARQL query result (JSON format):\n",
      "\n",
      "{'head': {'vars': ['rhea', 'equation']}, 'results': {'bindings': [{'rhea': {'type': 'uri', 'value': 'http://rdf.rhea-db.org/10000'}, 'equation': {'type': 'literal', 'value': 'H2O + pentanamide = NH4(+) + pentanoate'}}, {'rhea': {'type': 'uri', 'value': 'http://rdf.rhea-db.org/10004'}, 'equation': {'type': 'literal', 'value': 'benzyl isothiocyanate = benzyl thiocyanate'}}, {'rhea': {'type': 'uri', 'value': 'http://rdf.rhea-db.org/10008'}, 'equation': {'type': 'literal', 'value': '[protein]-dithiol + a hydroperoxide = [protein]-disulfide + an alcohol + H2O'}}, {'rhea': {'type': 'uri', 'value': 'http://rdf.rhea-db.org/10012'}, 'equation': {'type': 'literal', 'value': '(R)-6-hydroxynicotine + H2O + O2 = 6-hydroxypseudooxynicotine + H2O2'}}, {'rhea': {'type': 'uri', 'value': 'http://rdf.rhea-db.org/10016'}, 'equation': {'type': 'literal', 'value': 'H2O + O-sinapoylcholine = (E)-sinapate + choline + H(+)'}}]}}\n"
     ]
    }
   ],
   "source": [
    "# Simple use of SPARQLWrapper module\n",
    "# the URL of the Rhea SPARQL endpoint is given and the JSON return format is used\n",
    "\n",
    "# Initialize sparql with Rhea SPARQL endpoint\n",
    "sparql=SPARQLWrapper('https://sparql.rhea-db.org/sparql')    \n",
    "\n",
    "# Define the SPARQL query and return the first 5 rows\n",
    "sparql.setQuery(\"\"\"\n",
    "PREFIX rh:<http://rdf.rhea-db.org/>\n",
    "PREFIX rdfs:<http://www.w3.org/2000/01/rdf-schema#>\n",
    "\n",
    "SELECT ?rhea ?equation \n",
    "WHERE {\n",
    "  ?rhea rdfs:subClassOf rh:Reaction .\n",
    "  ?rhea rh:equation ?equation .\n",
    "}\n",
    "LIMIT 5\n",
    "\"\"\")\n",
    "\n",
    "sparql.setReturnFormat(JSON)    \n",
    "res = sparql.query().convert()\n",
    "print('SPARQL query result (JSON format):\\n')\n",
    "print(res)\n"
   ]
  },
  {
   "cell_type": "markdown",
   "metadata": {
    "collapsed": false
   },
   "source": [
    "**JSON** stands for **J**ava**S**cript **O**bject **N**otation (https://www.w3schools.com/whatis/whatis_json.asp)  \n",
    "\n",
    "JSON is a lightweight format for storing and transporting data.  \n",
    "JSON is often used when data is sent from a server to a web page.  \n",
    "\n",
    "JSON is \"self-describing\" and easy to understand  "
   ]
  },
  {
   "cell_type": "code",
   "execution_count": 3,
   "metadata": {
    "collapsed": false
   },
   "outputs": [
    {
     "data": {
      "text/plain": [
       "dict_keys(['head', 'results'])"
      ]
     },
     "execution_count": 3,
     "metadata": {
     },
     "output_type": "execute_result"
    }
   ],
   "source": [
    "res.keys()"
   ]
  },
  {
   "cell_type": "code",
   "execution_count": 4,
   "metadata": {
    "collapsed": false
   },
   "outputs": [
    {
     "data": {
      "text/plain": [
       "{'vars': ['rhea', 'equation']}"
      ]
     },
     "execution_count": 4,
     "metadata": {
     },
     "output_type": "execute_result"
    }
   ],
   "source": [
    "res['head']"
   ]
  },
  {
   "cell_type": "code",
   "execution_count": 5,
   "metadata": {
    "collapsed": false
   },
   "outputs": [
    {
     "data": {
      "text/plain": [
       "{'bindings': [{'rhea': {'type': 'uri',\n",
       "    'value': 'http://rdf.rhea-db.org/10000'},\n",
       "   'equation': {'type': 'literal',\n",
       "    'value': 'H2O + pentanamide = NH4(+) + pentanoate'}},\n",
       "  {'rhea': {'type': 'uri', 'value': 'http://rdf.rhea-db.org/10004'},\n",
       "   'equation': {'type': 'literal',\n",
       "    'value': 'benzyl isothiocyanate = benzyl thiocyanate'}},\n",
       "  {'rhea': {'type': 'uri', 'value': 'http://rdf.rhea-db.org/10008'},\n",
       "   'equation': {'type': 'literal',\n",
       "    'value': '[protein]-dithiol + a hydroperoxide = [protein]-disulfide + an alcohol + H2O'}},\n",
       "  {'rhea': {'type': 'uri', 'value': 'http://rdf.rhea-db.org/10012'},\n",
       "   'equation': {'type': 'literal',\n",
       "    'value': '(R)-6-hydroxynicotine + H2O + O2 = 6-hydroxypseudooxynicotine + H2O2'}},\n",
       "  {'rhea': {'type': 'uri', 'value': 'http://rdf.rhea-db.org/10016'},\n",
       "   'equation': {'type': 'literal',\n",
       "    'value': 'H2O + O-sinapoylcholine = (E)-sinapate + choline + H(+)'}}]}"
      ]
     },
     "execution_count": 5,
     "metadata": {
     },
     "output_type": "execute_result"
    }
   ],
   "source": [
    "res['results']"
   ]
  },
  {
   "cell_type": "markdown",
   "metadata": {
    "collapsed": false
   },
   "source": [
    "## store results in a pandas dataframe"
   ]
  },
  {
   "cell_type": "code",
   "execution_count": 6,
   "metadata": {
    "collapsed": false
   },
   "outputs": [
    {
     "name": "stdout",
     "output_type": "stream",
     "text": [
      "SPARQL query result (pandas df):\n"
     ]
    },
    {
     "data": {
      "text/html": [
       "<div>\n",
       "<style scoped>\n",
       "    .dataframe tbody tr th:only-of-type {\n",
       "        vertical-align: middle;\n",
       "    }\n",
       "\n",
       "    .dataframe tbody tr th {\n",
       "        vertical-align: top;\n",
       "    }\n",
       "\n",
       "    .dataframe thead th {\n",
       "        text-align: right;\n",
       "    }\n",
       "</style>\n",
       "<table border=\"1\" class=\"dataframe\">\n",
       "  <thead>\n",
       "    <tr style=\"text-align: right;\">\n",
       "      <th></th>\n",
       "      <th>rhea.type</th>\n",
       "      <th>rhea.value</th>\n",
       "      <th>equation.type</th>\n",
       "      <th>equation.value</th>\n",
       "    </tr>\n",
       "  </thead>\n",
       "  <tbody>\n",
       "    <tr>\n",
       "      <th>0</th>\n",
       "      <td>uri</td>\n",
       "      <td>http://rdf.rhea-db.org/10000</td>\n",
       "      <td>literal</td>\n",
       "      <td>H2O + pentanamide = NH4(+) + pentanoate</td>\n",
       "    </tr>\n",
       "    <tr>\n",
       "      <th>1</th>\n",
       "      <td>uri</td>\n",
       "      <td>http://rdf.rhea-db.org/10004</td>\n",
       "      <td>literal</td>\n",
       "      <td>benzyl isothiocyanate = benzyl thiocyanate</td>\n",
       "    </tr>\n",
       "    <tr>\n",
       "      <th>2</th>\n",
       "      <td>uri</td>\n",
       "      <td>http://rdf.rhea-db.org/10008</td>\n",
       "      <td>literal</td>\n",
       "      <td>[protein]-dithiol + a hydroperoxide = [protein]-disulfide + an alcohol + H2O</td>\n",
       "    </tr>\n",
       "    <tr>\n",
       "      <th>3</th>\n",
       "      <td>uri</td>\n",
       "      <td>http://rdf.rhea-db.org/10012</td>\n",
       "      <td>literal</td>\n",
       "      <td>(R)-6-hydroxynicotine + H2O + O2 = 6-hydroxypseudooxynicotine + H2O2</td>\n",
       "    </tr>\n",
       "    <tr>\n",
       "      <th>4</th>\n",
       "      <td>uri</td>\n",
       "      <td>http://rdf.rhea-db.org/10016</td>\n",
       "      <td>literal</td>\n",
       "      <td>H2O + O-sinapoylcholine = (E)-sinapate + choline + H(+)</td>\n",
       "    </tr>\n",
       "  </tbody>\n",
       "</table>\n",
       "</div>"
      ],
      "text/plain": [
       "  rhea.type                    rhea.value equation.type  \\\n",
       "0       uri  http://rdf.rhea-db.org/10000       literal   \n",
       "1       uri  http://rdf.rhea-db.org/10004       literal   \n",
       "2       uri  http://rdf.rhea-db.org/10008       literal   \n",
       "3       uri  http://rdf.rhea-db.org/10012       literal   \n",
       "4       uri  http://rdf.rhea-db.org/10016       literal   \n",
       "\n",
       "                                                                 equation.value  \n",
       "0                                       H2O + pentanamide = NH4(+) + pentanoate  \n",
       "1                                    benzyl isothiocyanate = benzyl thiocyanate  \n",
       "2  [protein]-dithiol + a hydroperoxide = [protein]-disulfide + an alcohol + H2O  \n",
       "3          (R)-6-hydroxynicotine + H2O + O2 = 6-hydroxypseudooxynicotine + H2O2  \n",
       "4                       H2O + O-sinapoylcholine = (E)-sinapate + choline + H(+)  "
      ]
     },
     "execution_count": 6,
     "metadata": {
     },
     "output_type": "execute_result"
    }
   ],
   "source": [
    "print('SPARQL query result (pandas df):')\n",
    "json_normalize(res[\"results\"][\"bindings\"])"
   ]
  },
  {
   "cell_type": "markdown",
   "metadata": {
    "collapsed": false
   },
   "source": [
    "## Define a function to run a SPARQL query and process its results "
   ]
  },
  {
   "cell_type": "markdown",
   "metadata": {
    "collapsed": false
   },
   "source": [
    "### sparql2pandas function"
   ]
  },
  {
   "cell_type": "code",
   "execution_count": 0,
   "metadata": {
    "collapsed": false
   },
   "outputs": [
   ],
   "source": [
   ]
  },
  {
   "cell_type": "code",
   "execution_count": 0,
   "metadata": {
    "collapsed": false
   },
   "outputs": [
   ],
   "source": [
   ]
  },
  {
   "cell_type": "code",
   "execution_count": 7,
   "metadata": {
    "collapsed": false
   },
   "outputs": [
   ],
   "source": [
    "#sparql_uniprot_url = \"https://sparql.uniprot.org/sparql/\"\n",
    "sparql_rhea_url = \"https://sparql.rhea-db.org/sparql\"\n",
    "\n",
    "def sparql2pandas(sparqlQuery, sparql_service_url):\n",
    "    \"\"\"\n",
    "    Query a SPARQL endpoint with a given query string and return the results as a processed pandas Dataframe.\n",
    "    \"\"\"\n",
    "    sparql=SPARQLWrapper(sparql_service_url)\n",
    "    sparql.setQuery(sparqlQuery)\n",
    "    sparql.setReturnFormat(JSON)\n",
    "\n",
    "    # run the SPARQL query\n",
    "    res = sparql.query().convert()\n",
    "    # convert the JSON result in pandas dataframe\n",
    "    res_sparql_df = json_normalize(res[\"results\"][\"bindings\"])\n",
    "\n",
    "    # distinguish .type and .value\n",
    "    col_type = [c for c in res_sparql_df.columns.tolist() if \".type\" in c]\n",
    "    col_value = [c for c in res_sparql_df.columns.tolist() if \".value\" in c]\n",
    "    col_datatype = [c for c in res_sparql_df.columns.tolist() if \".datatype\" in c]\n",
    "\n",
    "    # Remove prefix part from URI\n",
    "    for i in range(0,len(col_type)):\n",
    "        if 'uri' in res_sparql_df[col_type[i]].unique().tolist() :\n",
    "            res_sparql_df[col_value[i]] = res_sparql_df[col_value[i]].str.split(pat='/').str.get(-1)\n",
    "\n",
    "    # Remove .type columns\n",
    "    res_sparql_df.drop(col_type,axis=1,inplace=True)\n",
    "    # Remove .datatype columns\n",
    "    res_sparql_df.drop(col_datatype,axis=1,inplace=True)\n",
    "\n",
    "    # Remove \".value\" from column names\n",
    "    res_sparql_df = res_sparql_df.rename(columns = lambda col: col.replace(\".value\", \"\"))\n",
    "\n",
    "    return res_sparql_df"
   ]
  },
  {
   "cell_type": "markdown",
   "metadata": {
    "collapsed": false
   },
   "source": [
    "## re-run our simple query\n",
    "\n"
   ]
  },
  {
   "cell_type": "code",
   "execution_count": 8,
   "metadata": {
    "collapsed": false
   },
   "outputs": [
    {
     "name": "stdout",
     "output_type": "stream",
     "text": [
      "\n",
      "#endpoint: https://sparql.rhea-db.org/sparql\n",
      "#query Q1: retrieve all Rhea reactions and their chemical equations.\n",
      "\n",
      "PREFIX rh:<http://rdf.rhea-db.org/>\n",
      "PREFIX rdfs:<http://www.w3.org/2000/01/rdf-schema#>\n",
      "\n",
      "SELECT ?rhea ?equation \n",
      "WHERE {\n",
      "  ?rhea rdfs:subClassOf rh:Reaction .\n",
      "  ?rhea rh:equation ?equation .\n",
      "}\n",
      "\n"
     ]
    }
   ],
   "source": [
    "# define and print sparql_Q1\n",
    "\n",
    "Q1=\"\"\"\n",
    "#endpoint: https://sparql.rhea-db.org/sparql\n",
    "#query Q1: retrieve all Rhea reactions and their chemical equations.\n",
    "\n",
    "PREFIX rh:<http://rdf.rhea-db.org/>\n",
    "PREFIX rdfs:<http://www.w3.org/2000/01/rdf-schema#>\n",
    "\n",
    "SELECT ?rhea ?equation \n",
    "WHERE {\n",
    "  ?rhea rdfs:subClassOf rh:Reaction .\n",
    "  ?rhea rh:equation ?equation .\n",
    "}\n",
    "\"\"\"\n",
    "\n",
    "print(Q1)"
   ]
  },
  {
   "cell_type": "code",
   "execution_count": 9,
   "metadata": {
    "collapsed": false,
    "scrolled": true
   },
   "outputs": [
    {
     "name": "stdout",
     "output_type": "stream",
     "text": [
      "Q1 results: df.shape (15453, 2)\n"
     ]
    },
    {
     "data": {
      "text/html": [
       "<div>\n",
       "<style scoped>\n",
       "    .dataframe tbody tr th:only-of-type {\n",
       "        vertical-align: middle;\n",
       "    }\n",
       "\n",
       "    .dataframe tbody tr th {\n",
       "        vertical-align: top;\n",
       "    }\n",
       "\n",
       "    .dataframe thead th {\n",
       "        text-align: right;\n",
       "    }\n",
       "</style>\n",
       "<table border=\"1\" class=\"dataframe\">\n",
       "  <thead>\n",
       "    <tr style=\"text-align: right;\">\n",
       "      <th></th>\n",
       "      <th>rhea</th>\n",
       "      <th>equation</th>\n",
       "    </tr>\n",
       "  </thead>\n",
       "  <tbody>\n",
       "    <tr>\n",
       "      <th>0</th>\n",
       "      <td>10000</td>\n",
       "      <td>H2O + pentanamide = NH4(+) + pentanoate</td>\n",
       "    </tr>\n",
       "    <tr>\n",
       "      <th>1</th>\n",
       "      <td>10004</td>\n",
       "      <td>benzyl isothiocyanate = benzyl thiocyanate</td>\n",
       "    </tr>\n",
       "    <tr>\n",
       "      <th>2</th>\n",
       "      <td>10008</td>\n",
       "      <td>[protein]-dithiol + a hydroperoxide = [protein]-disulfide + an alcohol + H2O</td>\n",
       "    </tr>\n",
       "    <tr>\n",
       "      <th>3</th>\n",
       "      <td>10012</td>\n",
       "      <td>(R)-6-hydroxynicotine + H2O + O2 = 6-hydroxypseudooxynicotine + H2O2</td>\n",
       "    </tr>\n",
       "    <tr>\n",
       "      <th>4</th>\n",
       "      <td>10016</td>\n",
       "      <td>H2O + O-sinapoylcholine = (E)-sinapate + choline + H(+)</td>\n",
       "    </tr>\n",
       "  </tbody>\n",
       "</table>\n",
       "</div>"
      ],
      "text/plain": [
       "    rhea  \\\n",
       "0  10000   \n",
       "1  10004   \n",
       "2  10008   \n",
       "3  10012   \n",
       "4  10016   \n",
       "\n",
       "                                                                       equation  \n",
       "0                                       H2O + pentanamide = NH4(+) + pentanoate  \n",
       "1                                    benzyl isothiocyanate = benzyl thiocyanate  \n",
       "2  [protein]-dithiol + a hydroperoxide = [protein]-disulfide + an alcohol + H2O  \n",
       "3          (R)-6-hydroxynicotine + H2O + O2 = 6-hydroxypseudooxynicotine + H2O2  \n",
       "4                       H2O + O-sinapoylcholine = (E)-sinapate + choline + H(+)  "
      ]
     },
     "execution_count": 9,
     "metadata": {
     },
     "output_type": "execute_result"
    }
   ],
   "source": [
    "# Execute query Q1\n",
    "try:\n",
    "    df  = sparql2pandas(Q1,sparql_rhea_url)\n",
    "except Exception as e:\n",
    "    print('ERROR in SPARQL query Q1')\n",
    "    print(e)\n",
    "    df = pd.DataFrame()\n",
    "\n",
    "print('Q1 results: df.shape',df.shape)\n",
    "# Display the 5 first rows\n",
    "df.head(5)"
   ]
  },
  {
   "cell_type": "markdown",
   "metadata": {
    "collapsed": false
   },
   "source": [
    "Compare the results with the Rhea web site:  \n",
    "* https://www.rhea-db.org/rhea?query=  \n",
    "\n",
    "<div>\n",
    "<img src=\"Image/rhea_web_browse.png\" alt=“Rhea equation” width=\"60%\" height=\"60%\" border=1/>\n",
    "</div>\n",
    "\n"
   ]
  },
  {
   "cell_type": "markdown",
   "metadata": {
    "collapsed": false
   },
   "source": [
    "# Rhea reaction, status, transport\n",
    "\n",
    "<div>\n",
    "<img src=\"Image/rhea_status_istransport.png\" alt=“Rhea equation” width=\"80%\" height=\"80%\" border=1/>\n",
    "</div>\n"
   ]
  },
  {
   "cell_type": "code",
   "execution_count": 10,
   "metadata": {
    "collapsed": false
   },
   "outputs": [
    {
     "name": "stdout",
     "output_type": "stream",
     "text": [
      "\n",
      "#endpoint: https://sparql.rhea-db.org/sparql\n",
      "#query Q2: Retrieve Rhea reaction, equation, status, isTransport\n",
      "PREFIX rh:<http://rdf.rhea-db.org/>\n",
      "PREFIX rdfs:<http://www.w3.org/2000/01/rdf-schema#>\n",
      "\n",
      "SELECT ?rhea\n",
      "       ?equation\n",
      "       ?status\n",
      "       ?isTransport\n",
      "WHERE {\n",
      "  ?rhea rdfs:subClassOf rh:Reaction .\n",
      "  ?rhea rh:equation ?equation .\n",
      "  ?rhea rh:status ?status .\n",
      "  ?rhea rh:isTransport ?isTransport .\n",
      "}\n",
      "\n"
     ]
    }
   ],
   "source": [
    "# define and print Q2\n",
    "\n",
    "Q2=\"\"\"\n",
    "#endpoint: https://sparql.rhea-db.org/sparql\n",
    "#query Q2: Retrieve Rhea reaction, equation, status, isTransport\n",
    "PREFIX rh:<http://rdf.rhea-db.org/>\n",
    "PREFIX rdfs:<http://www.w3.org/2000/01/rdf-schema#>\n",
    "\n",
    "SELECT ?rhea\n",
    "       ?equation\n",
    "       ?status\n",
    "       ?isTransport\n",
    "WHERE {\n",
    "  ?rhea rdfs:subClassOf rh:Reaction .\n",
    "  ?rhea rh:equation ?equation .\n",
    "  ?rhea rh:status ?status .\n",
    "  ?rhea rh:isTransport ?isTransport .\n",
    "}\n",
    "\"\"\"\n",
    "\n",
    "print(Q2)"
   ]
  },
  {
   "cell_type": "code",
   "execution_count": 11,
   "metadata": {
    "collapsed": false,
    "scrolled": true
   },
   "outputs": [
    {
     "name": "stdout",
     "output_type": "stream",
     "text": [
      "Q2 results: df.shape (15453, 4)\n"
     ]
    },
    {
     "data": {
      "text/html": [
       "<div>\n",
       "<style scoped>\n",
       "    .dataframe tbody tr th:only-of-type {\n",
       "        vertical-align: middle;\n",
       "    }\n",
       "\n",
       "    .dataframe tbody tr th {\n",
       "        vertical-align: top;\n",
       "    }\n",
       "\n",
       "    .dataframe thead th {\n",
       "        text-align: right;\n",
       "    }\n",
       "</style>\n",
       "<table border=\"1\" class=\"dataframe\">\n",
       "  <thead>\n",
       "    <tr style=\"text-align: right;\">\n",
       "      <th></th>\n",
       "      <th>rhea</th>\n",
       "      <th>isTransport</th>\n",
       "      <th>status</th>\n",
       "      <th>equation</th>\n",
       "    </tr>\n",
       "  </thead>\n",
       "  <tbody>\n",
       "    <tr>\n",
       "      <th>0</th>\n",
       "      <td>10000</td>\n",
       "      <td>false</td>\n",
       "      <td>Approved</td>\n",
       "      <td>H2O + pentanamide = NH4(+) + pentanoate</td>\n",
       "    </tr>\n",
       "    <tr>\n",
       "      <th>1</th>\n",
       "      <td>10004</td>\n",
       "      <td>false</td>\n",
       "      <td>Approved</td>\n",
       "      <td>benzyl isothiocyanate = benzyl thiocyanate</td>\n",
       "    </tr>\n",
       "    <tr>\n",
       "      <th>2</th>\n",
       "      <td>10008</td>\n",
       "      <td>false</td>\n",
       "      <td>Approved</td>\n",
       "      <td>[protein]-dithiol + a hydroperoxide = [protein]-disulfide + an alcohol + H2O</td>\n",
       "    </tr>\n",
       "    <tr>\n",
       "      <th>3</th>\n",
       "      <td>10012</td>\n",
       "      <td>false</td>\n",
       "      <td>Approved</td>\n",
       "      <td>(R)-6-hydroxynicotine + H2O + O2 = 6-hydroxypseudooxynicotine + H2O2</td>\n",
       "    </tr>\n",
       "    <tr>\n",
       "      <th>4</th>\n",
       "      <td>10016</td>\n",
       "      <td>false</td>\n",
       "      <td>Approved</td>\n",
       "      <td>H2O + O-sinapoylcholine = (E)-sinapate + choline + H(+)</td>\n",
       "    </tr>\n",
       "  </tbody>\n",
       "</table>\n",
       "</div>"
      ],
      "text/plain": [
       "    rhea isTransport    status  \\\n",
       "0  10000       false  Approved   \n",
       "1  10004       false  Approved   \n",
       "2  10008       false  Approved   \n",
       "3  10012       false  Approved   \n",
       "4  10016       false  Approved   \n",
       "\n",
       "                                                                       equation  \n",
       "0                                       H2O + pentanamide = NH4(+) + pentanoate  \n",
       "1                                    benzyl isothiocyanate = benzyl thiocyanate  \n",
       "2  [protein]-dithiol + a hydroperoxide = [protein]-disulfide + an alcohol + H2O  \n",
       "3          (R)-6-hydroxynicotine + H2O + O2 = 6-hydroxypseudooxynicotine + H2O2  \n",
       "4                       H2O + O-sinapoylcholine = (E)-sinapate + choline + H(+)  "
      ]
     },
     "execution_count": 11,
     "metadata": {
     },
     "output_type": "execute_result"
    }
   ],
   "source": [
    "# Execute Q2\n",
    "try:\n",
    "    df  = sparql2pandas(Q2,sparql_rhea_url)\n",
    "except Exception as e:\n",
    "    print('ERROR in SPARQL query Q2')\n",
    "    print(e)\n",
    "\n",
    "print('Q2 results: df.shape',df.shape)\n",
    "# Display the 5 first rows\n",
    "df.head(5)"
   ]
  },
  {
   "cell_type": "code",
   "execution_count": 12,
   "metadata": {
    "collapsed": false
   },
   "outputs": [
    {
     "data": {
      "text/plain": [
       "Approved       15426\n",
       "Preliminary       27\n",
       "Name: status, dtype: int64"
      ]
     },
     "execution_count": 12,
     "metadata": {
     },
     "output_type": "execute_result"
    }
   ],
   "source": [
    "# Check how many Rhea reactions are approved and preliminary\n",
    "df.status.value_counts()"
   ]
  },
  {
   "cell_type": "code",
   "execution_count": 13,
   "metadata": {
    "collapsed": false
   },
   "outputs": [
    {
     "data": {
      "text/plain": [
       "false    14197\n",
       "true      1256\n",
       "Name: isTransport, dtype: int64"
      ]
     },
     "execution_count": 13,
     "metadata": {
     },
     "output_type": "execute_result"
    }
   ],
   "source": [
    "# Check how many Rhea reactions are transport\n",
    "df.isTransport.value_counts()"
   ]
  },
  {
   "cell_type": "markdown",
   "metadata": {
    "collapsed": false
   },
   "source": [
    "# Rhea reaction, reaction sides and reaction participants\n",
    "\n",
    "In this part of the tutorial we will learn how to perform our search in Rhea database based on the individual reaction participants\n",
    "\n",
    "**Reaction sides and participants:**  \n",
    "<div>\n",
    "<img src=\"Image/rhea_reaction_side_participant.png\" alt=“Rhea reaction, side and participants” width=\"70%\" height=\"70%\" border=1/>\n",
    "</div>\n",
    "\n",
    "**Reaction participants:**  \n",
    "<div>\n",
    "<img src=\"Image/rhea_reaction_participant_01.png\" alt=“Rhea participants” width=\"70%\" height=\"70%\" border=1/>\n",
    "</div>\n",
    "\n",
    "**Macromolecule as  reaction participant:**  \n",
    "<div>\n",
    "<img src=\"Image/rhea_reaction_participant_02.png\" alt=“Rhea participant: macromolecule” width=\"70%\" height=\"70%\" border=1/>\n",
    "</div>\n",
    "\n"
   ]
  },
  {
   "cell_type": "markdown",
   "metadata": {
    "collapsed": false
   },
   "source": [
    "## Q4: Retrieve Rhea reactions, sides, participants and their ChEBI \n",
    "\n"
   ]
  },
  {
   "cell_type": "code",
   "execution_count": 14,
   "metadata": {
    "collapsed": false
   },
   "outputs": [
    {
     "name": "stdout",
     "output_type": "stream",
     "text": [
      "\n",
      "#endpoint:https://sparql.rhea-db.org/sparql\n",
      "#query sparql_Q4: Retrieve Rhea reactions, reaction sides, participants and ChEBI\n",
      "\n",
      "PREFIX rdfs:<http://www.w3.org/2000/01/rdf-schema#>\n",
      "PREFIX rh:<http://rdf.rhea-db.org/>\n",
      "\n",
      "SELECT distinct ?rhea\n",
      "                ?reactionSide\n",
      "                ?compoundClass\n",
      "                ?accession\n",
      "                ?chebi\n",
      "\n",
      "WHERE {\n",
      "  ?rhea rdfs:subClassOf rh:Reaction .\n",
      "\n",
      "  ?rhea rh:side ?reactionSide .\n",
      "  ?reactionSide rh:contains ?participant .\n",
      "  ?participant rh:compound ?compound .\n",
      "\n",
      "  # Reaction participant accession\n",
      "  ?compound rh:accession ?accession .\n",
      "\n",
      "  VALUES ?compoundClass {\n",
      "    rh:SmallMolecule\n",
      "    rh:GenericPolypeptide\n",
      "    rh:GenericPolynucleotide\n",
      "    rh:Polymer\n",
      "  }\n",
      "  # Reaction participant type (compoundClass)\n",
      "  ?compound rdfs:subClassOf ?compoundClass .\n",
      "  \n",
      "  # ChEBI participant\n",
      "  ?compound rh:chebi | rh:reactivePart/rh:chebi | rh:underlyingChebi ?chebi .\n",
      "}\n",
      "ORDER BY ?rhea\n",
      "\n"
     ]
    }
   ],
   "source": [
    "Q4=\"\"\"\n",
    "#endpoint:https://sparql.rhea-db.org/sparql\n",
    "#query sparql_Q4: Retrieve Rhea reactions, reaction sides, participants and ChEBI\n",
    "\n",
    "PREFIX rdfs:<http://www.w3.org/2000/01/rdf-schema#>\n",
    "PREFIX rh:<http://rdf.rhea-db.org/>\n",
    "\n",
    "SELECT distinct ?rhea\n",
    "                ?reactionSide\n",
    "                ?compoundClass\n",
    "                ?accession\n",
    "                ?chebi\n",
    "\n",
    "WHERE {\n",
    "  ?rhea rdfs:subClassOf rh:Reaction .\n",
    "\n",
    "  ?rhea rh:side ?reactionSide .\n",
    "  ?reactionSide rh:contains ?participant .\n",
    "  ?participant rh:compound ?compound .\n",
    "\n",
    "  # Reaction participant accession\n",
    "  ?compound rh:accession ?accession .\n",
    "\n",
    "  VALUES ?compoundClass {\n",
    "    rh:SmallMolecule\n",
    "    rh:GenericPolypeptide\n",
    "    rh:GenericPolynucleotide\n",
    "    rh:Polymer\n",
    "  }\n",
    "  # Reaction participant type (compoundClass)\n",
    "  ?compound rdfs:subClassOf ?compoundClass .\n",
    "  \n",
    "  # ChEBI participant\n",
    "  ?compound rh:chebi | rh:reactivePart/rh:chebi | rh:underlyingChebi ?chebi .\n",
    "}\n",
    "ORDER BY ?rhea\n",
    "\"\"\"\n",
    "print(Q4)"
   ]
  },
  {
   "cell_type": "code",
   "execution_count": 15,
   "metadata": {
    "collapsed": false
   },
   "outputs": [
    {
     "name": "stdout",
     "output_type": "stream",
     "text": [
      "Q4 results: df.shape (75381, 5)\n"
     ]
    },
    {
     "data": {
      "text/html": [
       "<div>\n",
       "<style scoped>\n",
       "    .dataframe tbody tr th:only-of-type {\n",
       "        vertical-align: middle;\n",
       "    }\n",
       "\n",
       "    .dataframe tbody tr th {\n",
       "        vertical-align: top;\n",
       "    }\n",
       "\n",
       "    .dataframe thead th {\n",
       "        text-align: right;\n",
       "    }\n",
       "</style>\n",
       "<table border=\"1\" class=\"dataframe\">\n",
       "  <thead>\n",
       "    <tr style=\"text-align: right;\">\n",
       "      <th></th>\n",
       "      <th>rhea</th>\n",
       "      <th>compoundClass</th>\n",
       "      <th>chebi</th>\n",
       "      <th>reactionSide</th>\n",
       "      <th>accession</th>\n",
       "    </tr>\n",
       "  </thead>\n",
       "  <tbody>\n",
       "    <tr>\n",
       "      <th>0</th>\n",
       "      <td>10000</td>\n",
       "      <td>SmallMolecule</td>\n",
       "      <td>CHEBI_15377</td>\n",
       "      <td>10000_L</td>\n",
       "      <td>CHEBI:15377</td>\n",
       "    </tr>\n",
       "    <tr>\n",
       "      <th>1</th>\n",
       "      <td>10000</td>\n",
       "      <td>SmallMolecule</td>\n",
       "      <td>CHEBI_16459</td>\n",
       "      <td>10000_L</td>\n",
       "      <td>CHEBI:16459</td>\n",
       "    </tr>\n",
       "    <tr>\n",
       "      <th>2</th>\n",
       "      <td>10000</td>\n",
       "      <td>SmallMolecule</td>\n",
       "      <td>CHEBI_28938</td>\n",
       "      <td>10000_R</td>\n",
       "      <td>CHEBI:28938</td>\n",
       "    </tr>\n",
       "    <tr>\n",
       "      <th>3</th>\n",
       "      <td>10000</td>\n",
       "      <td>SmallMolecule</td>\n",
       "      <td>CHEBI_31011</td>\n",
       "      <td>10000_R</td>\n",
       "      <td>CHEBI:31011</td>\n",
       "    </tr>\n",
       "    <tr>\n",
       "      <th>4</th>\n",
       "      <td>10004</td>\n",
       "      <td>SmallMolecule</td>\n",
       "      <td>CHEBI_16017</td>\n",
       "      <td>10004_R</td>\n",
       "      <td>CHEBI:16017</td>\n",
       "    </tr>\n",
       "    <tr>\n",
       "      <th>5</th>\n",
       "      <td>10004</td>\n",
       "      <td>SmallMolecule</td>\n",
       "      <td>CHEBI_17484</td>\n",
       "      <td>10004_L</td>\n",
       "      <td>CHEBI:17484</td>\n",
       "    </tr>\n",
       "    <tr>\n",
       "      <th>6</th>\n",
       "      <td>10008</td>\n",
       "      <td>SmallMolecule</td>\n",
       "      <td>CHEBI_15377</td>\n",
       "      <td>10008_R</td>\n",
       "      <td>CHEBI:15377</td>\n",
       "    </tr>\n",
       "    <tr>\n",
       "      <th>7</th>\n",
       "      <td>10008</td>\n",
       "      <td>SmallMolecule</td>\n",
       "      <td>CHEBI_30879</td>\n",
       "      <td>10008_R</td>\n",
       "      <td>CHEBI:30879</td>\n",
       "    </tr>\n",
       "    <tr>\n",
       "      <th>8</th>\n",
       "      <td>10008</td>\n",
       "      <td>SmallMolecule</td>\n",
       "      <td>CHEBI_35924</td>\n",
       "      <td>10008_L</td>\n",
       "      <td>CHEBI:35924</td>\n",
       "    </tr>\n",
       "    <tr>\n",
       "      <th>9</th>\n",
       "      <td>10008</td>\n",
       "      <td>GenericPolypeptide</td>\n",
       "      <td>CHEBI_50058</td>\n",
       "      <td>10008_R</td>\n",
       "      <td>GENERIC:10593</td>\n",
       "    </tr>\n",
       "  </tbody>\n",
       "</table>\n",
       "</div>"
      ],
      "text/plain": [
       "    rhea       compoundClass        chebi reactionSide      accession\n",
       "0  10000       SmallMolecule  CHEBI_15377      10000_L    CHEBI:15377\n",
       "1  10000       SmallMolecule  CHEBI_16459      10000_L    CHEBI:16459\n",
       "2  10000       SmallMolecule  CHEBI_28938      10000_R    CHEBI:28938\n",
       "3  10000       SmallMolecule  CHEBI_31011      10000_R    CHEBI:31011\n",
       "4  10004       SmallMolecule  CHEBI_16017      10004_R    CHEBI:16017\n",
       "5  10004       SmallMolecule  CHEBI_17484      10004_L    CHEBI:17484\n",
       "6  10008       SmallMolecule  CHEBI_15377      10008_R    CHEBI:15377\n",
       "7  10008       SmallMolecule  CHEBI_30879      10008_R    CHEBI:30879\n",
       "8  10008       SmallMolecule  CHEBI_35924      10008_L    CHEBI:35924\n",
       "9  10008  GenericPolypeptide  CHEBI_50058      10008_R  GENERIC:10593"
      ]
     },
     "execution_count": 15,
     "metadata": {
     },
     "output_type": "execute_result"
    }
   ],
   "source": [
    "try:\n",
    "    df  = sparql2pandas(Q4,sparql_rhea_url)\n",
    "except Exception as e:\n",
    "    print('ERROR in SPARQL query Q4')\n",
    "    print(e)\n",
    "\n",
    "print('Q4 results: df.shape',df.shape)\n",
    "# Display the first 10 results\n",
    "df.head(10)"
   ]
  },
  {
   "cell_type": "code",
   "execution_count": 34,
   "metadata": {
    "collapsed": false
   },
   "outputs": [
    {
     "data": {
      "text/plain": [
       "SmallMolecule            10970\n",
       "GenericPolypeptide         701\n",
       "GenericPolynucleotide      251\n",
       "Polymer                    176\n",
       "Name: compoundClass, dtype: int64"
      ]
     },
     "execution_count": 34,
     "metadata": {
     },
     "output_type": "execute_result"
    }
   ],
   "source": [
    "# Unique ChEBIs per compoundClass\n",
    "df[['compoundClass','chebi']].drop_duplicates().compoundClass.value_counts()"
   ]
  },
  {
   "cell_type": "code",
   "execution_count": 35,
   "metadata": {
    "collapsed": false
   },
   "outputs": [
    {
     "name": "stdout",
     "output_type": "stream",
     "text": [
      "#rhea involving proteins as reaction participants = 2360\n"
     ]
    }
   ],
   "source": [
    "# Number of Rhea reactions involving proteins (compoundClass == GenericPolypeptide)\n",
    "lst_rhea_prot = df[df.compoundClass=='GenericPolypeptide'].rhea.unique()\n",
    "print('#rhea involving proteins as reaction participants =',len(lst_rhea_prot))"
   ]
  },
  {
   "cell_type": "markdown",
   "metadata": {
    "collapsed": false
   },
   "source": [
    "The result differs slightly from Rhea's public website  \n",
    "\n",
    "[https://www.rhea\\-db.org/rhea?query=](https://www.rhea-db.org/rhea?query=)  \n",
    "\n",
    "\\+ Filtering = reaction involving proteins  \n",
    "\n",
    "Reason: the few proteins with a polymer as a functional residue have compoundClass == Polymer.  \n",
    "\n",
    "Example: [https://www.rhea\\-db.org/rhea/16213](https://www.rhea-db.org/rhea/16213)  \n"
   ]
  },
  {
   "cell_type": "markdown",
   "metadata": {
    "collapsed": false
   },
   "source": [
    "## Q5: Retrieve all approved reactions using L\\-glutamate \\(CHEBI:29985\\) AND L\\-glutamine \\(CHEBI:58359\\) in opposite reaction sides.\n",
    "\n"
   ]
  },
  {
   "cell_type": "code",
   "execution_count": 16,
   "metadata": {
    "collapsed": false
   },
   "outputs": [
    {
     "name": "stdout",
     "output_type": "stream",
     "text": [
      "\n",
      "#endpoint:https://sparql.rhea-db.org/sparql\n",
      "#query Q5: Retrieve reactions using\n",
      "#          L-glutamate (CHEBI:29985) AND L-glutamine (CHEBI:58359)\n",
      "#          in opposite reaction sides.\n",
      "\n",
      "PREFIX rdfs:<http://www.w3.org/2000/01/rdf-schema#>\n",
      "PREFIX rh:<http://rdf.rhea-db.org/>\n",
      "PREFIX CHEBI:<http://purl.obolibrary.org/obo/CHEBI_>\n",
      "\n",
      "\n",
      "SELECT distinct ?rhea ?equation\n",
      "WHERE {\n",
      "  ?rhea rdfs:subClassOf rh:Reaction .\n",
      "  ?rhea rh:equation ?equation .\n",
      "\n",
      "  ?rhea rh:side ?side1 .\n",
      "  ?side1 rh:contains ?participant1 .\n",
      "  ?participant1 rh:compound ?compound1 .\n",
      "  ?compound1 rh:chebi CHEBI:29985 .\n",
      "\n",
      "  ?rhea rh:side ?side2 .\n",
      "  ?side2 rh:contains ?participant2 .\n",
      "  ?participant2 rh:compound ?compound2 .\n",
      "  ?compound2 rh:chebi CHEBI:58359 .\n",
      "  \n",
      "  # we want the two sides belonging to the same reaction\n",
      "  ?side1 rh:transformableTo ?side2 .\n",
      "}\n"
     ]
    }
   ],
   "source": [
    "chebi1 = '29985'\n",
    "chebi2 = '58359'\n",
    "\n",
    "Q5=\"\"\"\n",
    "#endpoint:https://sparql.rhea-db.org/sparql\n",
    "#query Q5: Retrieve reactions using\n",
    "#          L-glutamate (CHEBI:29985) AND L-glutamine (CHEBI:58359)\n",
    "#          in opposite reaction sides.\n",
    "\n",
    "PREFIX rdfs:<http://www.w3.org/2000/01/rdf-schema#>\n",
    "PREFIX rh:<http://rdf.rhea-db.org/>\n",
    "PREFIX CHEBI:<http://purl.obolibrary.org/obo/CHEBI_>\n",
    "\n",
    "\n",
    "SELECT distinct ?rhea ?equation\n",
    "WHERE {\n",
    "  ?rhea rdfs:subClassOf rh:Reaction .\n",
    "  ?rhea rh:equation ?equation .\n",
    "\n",
    "  ?rhea rh:side ?side1 .\n",
    "  ?side1 rh:contains ?participant1 .\n",
    "  ?participant1 rh:compound ?compound1 .\n",
    "  ?compound1 rh:chebi CHEBI:\"\"\"+chebi1+\"\"\" .\n",
    "\n",
    "  ?rhea rh:side ?side2 .\n",
    "  ?side2 rh:contains ?participant2 .\n",
    "  ?participant2 rh:compound ?compound2 .\n",
    "  ?compound2 rh:chebi CHEBI:\"\"\" +chebi2+ \"\"\" .\n",
    "  \n",
    "  # we want the two sides belonging to the same reaction\n",
    "  ?side1 rh:transformableTo ?side2 .\n",
    "}\"\"\"\n",
    "\n",
    "print(Q5)"
   ]
  },
  {
   "cell_type": "code",
   "execution_count": 17,
   "metadata": {
    "collapsed": false
   },
   "outputs": [
    {
     "name": "stdout",
     "output_type": "stream",
     "text": [
      "Q5 results: df.shape (31, 2)\n"
     ]
    },
    {
     "data": {
      "text/html": [
       "<div>\n",
       "<style scoped>\n",
       "    .dataframe tbody tr th:only-of-type {\n",
       "        vertical-align: middle;\n",
       "    }\n",
       "\n",
       "    .dataframe tbody tr th {\n",
       "        vertical-align: top;\n",
       "    }\n",
       "\n",
       "    .dataframe thead th {\n",
       "        text-align: right;\n",
       "    }\n",
       "</style>\n",
       "<table border=\"1\" class=\"dataframe\">\n",
       "  <thead>\n",
       "    <tr style=\"text-align: right;\">\n",
       "      <th></th>\n",
       "      <th>rhea</th>\n",
       "      <th>equation</th>\n",
       "    </tr>\n",
       "  </thead>\n",
       "  <tbody>\n",
       "    <tr>\n",
       "      <th>0</th>\n",
       "      <td>11672</td>\n",
       "      <td>chorismate + L-glutamine = 4-amino-4-deoxychorismate + L-glutamate</td>\n",
       "    </tr>\n",
       "    <tr>\n",
       "      <th>1</th>\n",
       "      <td>11680</td>\n",
       "      <td>ATP + H2O + L-glutamine + XMP = AMP + diphosphate + GMP + 2 H(+) + L-glutamate</td>\n",
       "    </tr>\n",
       "    <tr>\n",
       "      <th>2</th>\n",
       "      <td>12128</td>\n",
       "      <td>2 L-glutamate + 2 oxidized [2Fe-2S]-[ferredoxin] = 2-oxoglutarate + 2 H(+) + L-glutamine + 2 reduced [2Fe-2S]-[ferredoxin]</td>\n",
       "    </tr>\n",
       "    <tr>\n",
       "      <th>3</th>\n",
       "      <td>12228</td>\n",
       "      <td>ATP + H2O + L-aspartate + L-glutamine = AMP + diphosphate + H(+) + L-asparagine + L-glutamate</td>\n",
       "    </tr>\n",
       "    <tr>\n",
       "      <th>4</th>\n",
       "      <td>12544</td>\n",
       "      <td>2 ATP + 2 H2O + hydrogenobyrinate + 2 L-glutamine = 2 ADP + 2 H(+) + hydrogenobyrinate a,c-diamide + 2 L-glutamate + 2 phosphate</td>\n",
       "    </tr>\n",
       "    <tr>\n",
       "      <th>5</th>\n",
       "      <td>13237</td>\n",
       "      <td>D-fructose 6-phosphate + L-glutamine = D-glucosamine 6-phosphate + L-glutamate</td>\n",
       "    </tr>\n",
       "    <tr>\n",
       "      <th>6</th>\n",
       "      <td>13753</td>\n",
       "      <td>2 L-glutamate + NAD(+) = 2-oxoglutarate + H(+) + L-glutamine + NADH</td>\n",
       "    </tr>\n",
       "    <tr>\n",
       "      <th>7</th>\n",
       "      <td>14513</td>\n",
       "      <td>ATP + H2O + L-aspartyl-tRNA(Asn) + L-glutamine = ADP + 2 H(+) + L-asparaginyl-tRNA(Asn) + L-glutamate + phosphate</td>\n",
       "    </tr>\n",
       "    <tr>\n",
       "      <th>8</th>\n",
       "      <td>14905</td>\n",
       "      <td>5-phospho-beta-D-ribosylamine + diphosphate + L-glutamate = 5-phospho-alpha-D-ribose 1-diphosphate + H2O + L-glutamine</td>\n",
       "    </tr>\n",
       "    <tr>\n",
       "      <th>9</th>\n",
       "      <td>15501</td>\n",
       "      <td>2 L-glutamate + NADP(+) = 2-oxoglutarate + H(+) + L-glutamine + NADPH</td>\n",
       "    </tr>\n",
       "    <tr>\n",
       "      <th>10</th>\n",
       "      <td>15889</td>\n",
       "      <td>H2O + L-glutamine = L-glutamate + NH4(+)</td>\n",
       "    </tr>\n",
       "    <tr>\n",
       "      <th>11</th>\n",
       "      <td>16169</td>\n",
       "      <td>ATP + L-glutamate + NH4(+) = ADP + H(+) + L-glutamine + phosphate</td>\n",
       "    </tr>\n",
       "    <tr>\n",
       "      <th>12</th>\n",
       "      <td>17129</td>\n",
       "      <td>ATP + H2O + L-glutamine + N(2)-formyl-N(1)-(5-phospho-beta-D-ribosyl)glycinamide = 2-formamido-N(1)-(5-O-phospho-beta-D-ribosyl)acetamidine + ADP + H(+) + L-glutamate + phosphate</td>\n",
       "    </tr>\n",
       "    <tr>\n",
       "      <th>13</th>\n",
       "      <td>17521</td>\n",
       "      <td>ATP + H2O + L-glutamine + L-glutamyl-tRNA(Gln) = ADP + H(+) + L-glutamate + L-glutaminyl-tRNA(Gln) + phosphate</td>\n",
       "    </tr>\n",
       "    <tr>\n",
       "      <th>14</th>\n",
       "      <td>18633</td>\n",
       "      <td>2 ATP + H2O + hydrogencarbonate + L-glutamine = 2 ADP + carbamoyl phosphate + 2 H(+) + L-glutamate + phosphate</td>\n",
       "    </tr>\n",
       "    <tr>\n",
       "      <th>15</th>\n",
       "      <td>21732</td>\n",
       "      <td>chorismate + L-glutamine = anthranilate + H(+) + L-glutamate + pyruvate</td>\n",
       "    </tr>\n",
       "    <tr>\n",
       "      <th>16</th>\n",
       "      <td>23256</td>\n",
       "      <td>adenosylcob(III)yrinate a,c-diamide + 4 ATP + 4 H2O + 4 L-glutamine = adenosylcob(III)yrate + 4 ADP + 4 H(+) + 4 L-glutamate + 4 phosphate</td>\n",
       "    </tr>\n",
       "    <tr>\n",
       "      <th>17</th>\n",
       "      <td>24384</td>\n",
       "      <td>ATP + deamido-NAD(+) + H2O + L-glutamine = AMP + diphosphate + H(+) + L-glutamate + NAD(+)</td>\n",
       "    </tr>\n",
       "    <tr>\n",
       "      <th>18</th>\n",
       "      <td>24793</td>\n",
       "      <td>5-[(5-phospho-1-deoxy-D-ribulos-1-ylimino)methylamino]-1-(5-phospho-beta-D-ribosyl)imidazole-4-carboxamide + L-glutamine = 5-amino-1-(5-phospho-beta-D-ribosyl)imidazole-4-carboxamide + D-erythro-1...</td>\n",
       "    </tr>\n",
       "    <tr>\n",
       "      <th>19</th>\n",
       "      <td>25512</td>\n",
       "      <td>(2S)-2-amino-4-deoxychorismate + L-glutamate = chorismate + L-glutamine</td>\n",
       "    </tr>\n",
       "    <tr>\n",
       "      <th>20</th>\n",
       "      <td>26289</td>\n",
       "      <td>2 ATP + cob(II)yrinate + 2 H2O + 2 L-glutamine = 2 ADP + cob(II)yrinate a,c diamide + 2 H(+) + 2 L-glutamate + 2 phosphate</td>\n",
       "    </tr>\n",
       "    <tr>\n",
       "      <th>21</th>\n",
       "      <td>26426</td>\n",
       "      <td>ATP + H2O + L-glutamine + UTP = ADP + CTP + 2 H(+) + L-glutamate + phosphate</td>\n",
       "    </tr>\n",
       "    <tr>\n",
       "      <th>22</th>\n",
       "      <td>31507</td>\n",
       "      <td>aldehydo-D-ribose 5-phosphate + D-glyceraldehyde 3-phosphate + L-glutamine = H(+) + 3 H2O + L-glutamate + phosphate + pyridoxal 5'-phosphate</td>\n",
       "    </tr>\n",
       "    <tr>\n",
       "      <th>23</th>\n",
       "      <td>34547</td>\n",
       "      <td>ATP + cob(II)yrinate + H2O + L-glutamine = ADP + cob(II)yrinate c monoamide + H(+) + L-glutamate + phosphate</td>\n",
       "    </tr>\n",
       "    <tr>\n",
       "      <th>24</th>\n",
       "      <td>34551</td>\n",
       "      <td>ATP + cob(II)yrinate c monoamide + H2O + L-glutamine = ADP + cob(II)yrinate a,c diamide + H(+) + L-glutamate + phosphate</td>\n",
       "    </tr>\n",
       "    <tr>\n",
       "      <th>25</th>\n",
       "      <td>52896</td>\n",
       "      <td>2 ATP + 2 H2O + 2 L-glutamine + Ni-sirohydrochlorin = 2 ADP + 2 H(+) + 2 L-glutamate + Ni-sirohydrochlorin a,c-diamide + 2 phosphate</td>\n",
       "    </tr>\n",
       "    <tr>\n",
       "      <th>26</th>\n",
       "      <td>54084</td>\n",
       "      <td>7-cyano-7-carbaguanosine(15) in tRNA + H2O + L-glutamine = archaeosine(15) in tRNA + L-glutamate</td>\n",
       "    </tr>\n",
       "    <tr>\n",
       "      <th>27</th>\n",
       "      <td>57928</td>\n",
       "      <td>ATP + beta-D-GlcNAc-(1-&gt;4)-Mur2Ac(oyl-L-Ala-gamma-D-Glu-L-Lys-D-Ala-D-Ala)-di-trans,octa-cis-undecaprenyl diphosphate + H2O + L-glutamine = ADP + beta-D-GlcNAc-(1-&gt;4)-Mur2Ac(oyl-L-Ala-D-isoglutami...</td>\n",
       "    </tr>\n",
       "    <tr>\n",
       "      <th>28</th>\n",
       "      <td>69528</td>\n",
       "      <td>chorismate + H2O + 2 L-glutamine = 4-amino-4-deoxychorismate + 2 L-glutamate + NH4(+)</td>\n",
       "    </tr>\n",
       "    <tr>\n",
       "      <th>29</th>\n",
       "      <td>69568</td>\n",
       "      <td>(2S)-2-amino-4-deoxychorismate + H2O + L-glutamine = 4-amino-4-deoxychorismate + L-glutamate + NH4(+)</td>\n",
       "    </tr>\n",
       "    <tr>\n",
       "      <th>30</th>\n",
       "      <td>70883</td>\n",
       "      <td>H(+)(out) + L-glutamate(out) + L-glutamine(in) + Na(+)(out) = H(+)(in) + L-glutamate(in) + L-glutamine(out) + Na(+)(in)</td>\n",
       "    </tr>\n",
       "  </tbody>\n",
       "</table>\n",
       "</div>"
      ],
      "text/plain": [
       "     rhea  \\\n",
       "0   11672   \n",
       "1   11680   \n",
       "2   12128   \n",
       "3   12228   \n",
       "4   12544   \n",
       "5   13237   \n",
       "6   13753   \n",
       "7   14513   \n",
       "8   14905   \n",
       "9   15501   \n",
       "10  15889   \n",
       "11  16169   \n",
       "12  17129   \n",
       "13  17521   \n",
       "14  18633   \n",
       "15  21732   \n",
       "16  23256   \n",
       "17  24384   \n",
       "18  24793   \n",
       "19  25512   \n",
       "20  26289   \n",
       "21  26426   \n",
       "22  31507   \n",
       "23  34547   \n",
       "24  34551   \n",
       "25  52896   \n",
       "26  54084   \n",
       "27  57928   \n",
       "28  69528   \n",
       "29  69568   \n",
       "30  70883   \n",
       "\n",
       "                                                                                                                                                                                                   equation  \n",
       "0                                                                                                                                        chorismate + L-glutamine = 4-amino-4-deoxychorismate + L-glutamate  \n",
       "1                                                                                                                            ATP + H2O + L-glutamine + XMP = AMP + diphosphate + GMP + 2 H(+) + L-glutamate  \n",
       "2                                                                                2 L-glutamate + 2 oxidized [2Fe-2S]-[ferredoxin] = 2-oxoglutarate + 2 H(+) + L-glutamine + 2 reduced [2Fe-2S]-[ferredoxin]  \n",
       "3                                                                                                             ATP + H2O + L-aspartate + L-glutamine = AMP + diphosphate + H(+) + L-asparagine + L-glutamate  \n",
       "4                                                                          2 ATP + 2 H2O + hydrogenobyrinate + 2 L-glutamine = 2 ADP + 2 H(+) + hydrogenobyrinate a,c-diamide + 2 L-glutamate + 2 phosphate  \n",
       "5                                                                                                                            D-fructose 6-phosphate + L-glutamine = D-glucosamine 6-phosphate + L-glutamate  \n",
       "6                                                                                                                                       2 L-glutamate + NAD(+) = 2-oxoglutarate + H(+) + L-glutamine + NADH  \n",
       "7                                                                                         ATP + H2O + L-aspartyl-tRNA(Asn) + L-glutamine = ADP + 2 H(+) + L-asparaginyl-tRNA(Asn) + L-glutamate + phosphate  \n",
       "8                                                                                    5-phospho-beta-D-ribosylamine + diphosphate + L-glutamate = 5-phospho-alpha-D-ribose 1-diphosphate + H2O + L-glutamine  \n",
       "9                                                                                                                                     2 L-glutamate + NADP(+) = 2-oxoglutarate + H(+) + L-glutamine + NADPH  \n",
       "10                                                                                                                                                                 H2O + L-glutamine = L-glutamate + NH4(+)  \n",
       "11                                                                                                                                        ATP + L-glutamate + NH4(+) = ADP + H(+) + L-glutamine + phosphate  \n",
       "12                       ATP + H2O + L-glutamine + N(2)-formyl-N(1)-(5-phospho-beta-D-ribosyl)glycinamide = 2-formamido-N(1)-(5-O-phospho-beta-D-ribosyl)acetamidine + ADP + H(+) + L-glutamate + phosphate  \n",
       "13                                                                                           ATP + H2O + L-glutamine + L-glutamyl-tRNA(Gln) = ADP + H(+) + L-glutamate + L-glutaminyl-tRNA(Gln) + phosphate  \n",
       "14                                                                                           2 ATP + H2O + hydrogencarbonate + L-glutamine = 2 ADP + carbamoyl phosphate + 2 H(+) + L-glutamate + phosphate  \n",
       "15                                                                                                                                  chorismate + L-glutamine = anthranilate + H(+) + L-glutamate + pyruvate  \n",
       "16                                                               adenosylcob(III)yrinate a,c-diamide + 4 ATP + 4 H2O + 4 L-glutamine = adenosylcob(III)yrate + 4 ADP + 4 H(+) + 4 L-glutamate + 4 phosphate  \n",
       "17                                                                                                               ATP + deamido-NAD(+) + H2O + L-glutamine = AMP + diphosphate + H(+) + L-glutamate + NAD(+)  \n",
       "18  5-[(5-phospho-1-deoxy-D-ribulos-1-ylimino)methylamino]-1-(5-phospho-beta-D-ribosyl)imidazole-4-carboxamide + L-glutamine = 5-amino-1-(5-phospho-beta-D-ribosyl)imidazole-4-carboxamide + D-erythro-1...  \n",
       "19                                                                                                                                  (2S)-2-amino-4-deoxychorismate + L-glutamate = chorismate + L-glutamine  \n",
       "20                                                                               2 ATP + cob(II)yrinate + 2 H2O + 2 L-glutamine = 2 ADP + cob(II)yrinate a,c diamide + 2 H(+) + 2 L-glutamate + 2 phosphate  \n",
       "21                                                                                                                             ATP + H2O + L-glutamine + UTP = ADP + CTP + 2 H(+) + L-glutamate + phosphate  \n",
       "22                                                             aldehydo-D-ribose 5-phosphate + D-glyceraldehyde 3-phosphate + L-glutamine = H(+) + 3 H2O + L-glutamate + phosphate + pyridoxal 5'-phosphate  \n",
       "23                                                                                             ATP + cob(II)yrinate + H2O + L-glutamine = ADP + cob(II)yrinate c monoamide + H(+) + L-glutamate + phosphate  \n",
       "24                                                                                 ATP + cob(II)yrinate c monoamide + H2O + L-glutamine = ADP + cob(II)yrinate a,c diamide + H(+) + L-glutamate + phosphate  \n",
       "25                                                                     2 ATP + 2 H2O + 2 L-glutamine + Ni-sirohydrochlorin = 2 ADP + 2 H(+) + 2 L-glutamate + Ni-sirohydrochlorin a,c-diamide + 2 phosphate  \n",
       "26                                                                                                         7-cyano-7-carbaguanosine(15) in tRNA + H2O + L-glutamine = archaeosine(15) in tRNA + L-glutamate  \n",
       "27  ATP + beta-D-GlcNAc-(1->4)-Mur2Ac(oyl-L-Ala-gamma-D-Glu-L-Lys-D-Ala-D-Ala)-di-trans,octa-cis-undecaprenyl diphosphate + H2O + L-glutamine = ADP + beta-D-GlcNAc-(1->4)-Mur2Ac(oyl-L-Ala-D-isoglutami...  \n",
       "28                                                                                                                    chorismate + H2O + 2 L-glutamine = 4-amino-4-deoxychorismate + 2 L-glutamate + NH4(+)  \n",
       "29                                                                                                    (2S)-2-amino-4-deoxychorismate + H2O + L-glutamine = 4-amino-4-deoxychorismate + L-glutamate + NH4(+)  \n",
       "30                                                                                  H(+)(out) + L-glutamate(out) + L-glutamine(in) + Na(+)(out) = H(+)(in) + L-glutamate(in) + L-glutamine(out) + Na(+)(in)  "
      ]
     },
     "execution_count": 17,
     "metadata": {
     },
     "output_type": "execute_result"
    }
   ],
   "source": [
    "try:\n",
    "    df  = sparql2pandas(Q5,sparql_rhea_url)\n",
    "except Exception as e:\n",
    "    print('ERROR in SPARQL query Q5')\n",
    "    print(e)\n",
    "\n",
    "print('Q5 results: df.shape',df.shape)\n",
    "# Display result\n",
    "df"
   ]
  },
  {
   "cell_type": "markdown",
   "metadata": {
    "collapsed": false
   },
   "source": [
    "### <span style='color:blue'>Exercise: Modify the query to only retrieve the transport reactions</span>\n",
    "\n"
   ]
  },
  {
   "cell_type": "code",
   "execution_count": 23,
   "metadata": {
    "collapsed": false
   },
   "outputs": [
    {
     "name": "stdout",
     "output_type": "stream",
     "text": [
      "\n",
      "#endpoint:https://sparql.rhea-db.org/sparql\n",
      "#query Q6: Retrieve all approved reactions using \n",
      "#          L-glutamate (CHEBI:29985) AND L-glutamine (CHEBI:58359)\n",
      "#          in opposite reaction sides.\n",
      "\n",
      "PREFIX rdfs:<http://www.w3.org/2000/01/rdf-schema#>\n",
      "PREFIX rh:<http://rdf.rhea-db.org/>\n",
      "PREFIX CHEBI:<http://purl.obolibrary.org/obo/CHEBI_>\n",
      "\n",
      "\n",
      "SELECT distinct ?rhea ?equation\n",
      "WHERE {\n",
      "  ?rhea rdfs:subClassOf rh:Reaction .\n",
      "  ?rhea rh:equation ?equation .\n",
      "\n",
      "  ?rhea rh:side ?side1 .\n",
      "  ?side1 rh:contains ?participant1 .\n",
      "  ?participant1 rh:compound ?compound1 .\n",
      "  ?compound1 rh:chebi CHEBI:29985 .\n",
      "\n",
      "  ?rhea rh:side ?side2 .\n",
      "  ?side2 rh:contains ?participant2 .\n",
      "  ?participant2 rh:compound ?compound2 .\n",
      "  ?compound2 rh:chebi CHEBI:58359 .\n",
      "  \n",
      "  # we want the two sides belonging to the same reaction\n",
      "  ?side1 rh:transformableTo ?side2 .\n",
      "  \n",
      "  # RESTRICT TO TRANSPORT REACTION\n",
      "  ?rhea rh:isTransport TRUE .\n",
      "}\n"
     ]
    }
   ],
   "source": [
    "QEx2=\"\"\"\n",
    "#endpoint:https://sparql.rhea-db.org/sparql\n",
    "#query Q6: Retrieve all approved reactions using \n",
    "#          L-glutamate (CHEBI:29985) AND L-glutamine (CHEBI:58359)\n",
    "#          in opposite reaction sides.\n",
    "\n",
    "PREFIX rdfs:<http://www.w3.org/2000/01/rdf-schema#>\n",
    "PREFIX rh:<http://rdf.rhea-db.org/>\n",
    "PREFIX CHEBI:<http://purl.obolibrary.org/obo/CHEBI_>\n",
    "\n",
    "\n",
    "SELECT distinct ?rhea ?equation\n",
    "WHERE {\n",
    "  ?rhea rdfs:subClassOf rh:Reaction .\n",
    "  ?rhea rh:equation ?equation .\n",
    "\n",
    "  ?rhea rh:side ?side1 .\n",
    "  ?side1 rh:contains ?participant1 .\n",
    "  ?participant1 rh:compound ?compound1 .\n",
    "  ?compound1 rh:chebi CHEBI:\"\"\"+chebi1+\"\"\" .\n",
    "\n",
    "  ?rhea rh:side ?side2 .\n",
    "  ?side2 rh:contains ?participant2 .\n",
    "  ?participant2 rh:compound ?compound2 .\n",
    "  ?compound2 rh:chebi CHEBI:\"\"\" +chebi2+ \"\"\" .\n",
    "  \n",
    "  # we want the two sides belonging to the same reaction\n",
    "  ?side1 rh:transformableTo ?side2 .\n",
    "  \n",
    "  # RESTRICT TO TRANSPORT REACTION\n",
    "  ?rhea rh:isTransport TRUE .\n",
    "}\"\"\"\n",
    "\n",
    "print(QEx2)"
   ]
  },
  {
   "cell_type": "code",
   "execution_count": 24,
   "metadata": {
    "collapsed": false
   },
   "outputs": [
   ],
   "source": [
    "try:\n",
    "    df  = sparql2pandas(QEx2,sparql_rhea_url)\n",
    "except Exception as e:\n",
    "    print('ERROR in SPARQL query QEx2')\n",
    "    print(e)"
   ]
  },
  {
   "cell_type": "code",
   "execution_count": 25,
   "metadata": {
    "collapsed": false
   },
   "outputs": [
    {
     "data": {
      "text/html": [
       "<div>\n",
       "<style scoped>\n",
       "    .dataframe tbody tr th:only-of-type {\n",
       "        vertical-align: middle;\n",
       "    }\n",
       "\n",
       "    .dataframe tbody tr th {\n",
       "        vertical-align: top;\n",
       "    }\n",
       "\n",
       "    .dataframe thead th {\n",
       "        text-align: right;\n",
       "    }\n",
       "</style>\n",
       "<table border=\"1\" class=\"dataframe\">\n",
       "  <thead>\n",
       "    <tr style=\"text-align: right;\">\n",
       "      <th></th>\n",
       "      <th>rhea</th>\n",
       "      <th>equation</th>\n",
       "    </tr>\n",
       "  </thead>\n",
       "  <tbody>\n",
       "    <tr>\n",
       "      <th>0</th>\n",
       "      <td>70883</td>\n",
       "      <td>H(+)(out) + L-glutamate(out) + L-glutamine(in) + Na(+)(out) = H(+)(in) + L-glutamate(in) + L-glutamine(out) + Na(+)(in)</td>\n",
       "    </tr>\n",
       "  </tbody>\n",
       "</table>\n",
       "</div>"
      ],
      "text/plain": [
       "    rhea  \\\n",
       "0  70883   \n",
       "\n",
       "                                                                                                                  equation  \n",
       "0  H(+)(out) + L-glutamate(out) + L-glutamine(in) + Na(+)(out) = H(+)(in) + L-glutamate(in) + L-glutamine(out) + Na(+)(in)  "
      ]
     },
     "execution_count": 25,
     "metadata": {
     },
     "output_type": "execute_result"
    }
   ],
   "source": [
    "# Display result\n",
    "df"
   ]
  },
  {
   "cell_type": "markdown",
   "metadata": {
    "collapsed": false
   },
   "source": [
    "# Structural search: search by InChIKey\n",
    "\n",
    "<div>\n",
    "<img src=\"Image/chemical_data_formats_01.png\" alt=“chemical_data_formats_01” width=\"70%\" height=\"70%\" border=1/>\n",
    "</div>\n",
    "\n",
    "**InChI and InChIKey:**  \n",
    "\n",
    "<div>\n",
    "<img src=\"Image/inchikey.png\" alt=“What is an InChIKey?” width=\"70%\" height=\"70%\" border=1/>\n",
    "</div>\n",
    "\n",
    "**WARNING: only small molecules with fully defined structure have an InChIKey:**  \n",
    "\n",
    "<div>\n",
    "<img src=\"Image/chemical_data_formats_02.png\" alt=“chemical_data_formats_02” width=\"70%\" height=\"70%\" border=1/>\n",
    "</div>\n",
    "\n"
   ]
  },
  {
   "cell_type": "markdown",
   "metadata": {
    "collapsed": false
   },
   "source": [
    "## Search by full InChIKey"
   ]
  },
  {
   "cell_type": "code",
   "execution_count": 26,
   "metadata": {
    "collapsed": false
   },
   "outputs": [
    {
     "name": "stdout",
     "output_type": "stream",
     "text": [
      "\n",
      "#endpoint:https://sparql.rhea-db.org/sparql\n",
      "#query Q7: Search ChEBI by InChiKey\n",
      "\n",
      "PREFIX rdfs:<http://www.w3.org/2000/01/rdf-schema#>\n",
      "PREFIX rh:<http://rdf.rhea-db.org/>\n",
      "PREFIX chebislash:<http://purl.obolibrary.org/obo/chebi/>\n",
      "PREFIX up:<http://purl.uniprot.org/core/>\n",
      "\n",
      "SELECT distinct ?chebi\n",
      "                ?chebiName\n",
      "                ?chebiUniprotName\n",
      "WHERE {\n",
      "  ?chebi rdfs:label ?chebiName .\n",
      "  # retrieve UniProt synonym (if it exists)\n",
      "  OPTIONAL{?chebi up:name ?chebiUniprotName .}\n",
      "  ?chebi chebislash:inchikey ?inchikey .\n",
      "  VALUES (?inchikey) {('WHUUTDBJXJRKMK-VKHMYHEASA-M')}\n",
      "}\n",
      "\n"
     ]
    }
   ],
   "source": [
    "# CHEBI:29985 L-glutamate InChIKey\n",
    "inchikey = 'WHUUTDBJXJRKMK-VKHMYHEASA-M'\n",
    "Q7=\"\"\"\n",
    "#endpoint:https://sparql.rhea-db.org/sparql\n",
    "#query Q7: Search ChEBI by InChiKey\n",
    "\n",
    "PREFIX rdfs:<http://www.w3.org/2000/01/rdf-schema#>\n",
    "PREFIX rh:<http://rdf.rhea-db.org/>\n",
    "PREFIX chebislash:<http://purl.obolibrary.org/obo/chebi/>\n",
    "PREFIX up:<http://purl.uniprot.org/core/>\n",
    "\n",
    "SELECT distinct ?chebi\n",
    "                ?chebiName\n",
    "                ?chebiUniprotName\n",
    "WHERE {\n",
    "  ?chebi rdfs:label ?chebiName .\n",
    "  # retrieve UniProt synonym (if it exists)\n",
    "  OPTIONAL{?chebi up:name ?chebiUniprotName .}\n",
    "  ?chebi chebislash:inchikey ?inchikey .\n",
    "  VALUES (?inchikey) {('\"\"\" + inchikey + \"\"\"')}\n",
    "}\n",
    "\"\"\"\n",
    "print(Q7)"
   ]
  },
  {
   "cell_type": "code",
   "execution_count": 27,
   "metadata": {
    "collapsed": false
   },
   "outputs": [
    {
     "data": {
      "text/html": [
       "<div>\n",
       "<style scoped>\n",
       "    .dataframe tbody tr th:only-of-type {\n",
       "        vertical-align: middle;\n",
       "    }\n",
       "\n",
       "    .dataframe tbody tr th {\n",
       "        vertical-align: top;\n",
       "    }\n",
       "\n",
       "    .dataframe thead th {\n",
       "        text-align: right;\n",
       "    }\n",
       "</style>\n",
       "<table border=\"1\" class=\"dataframe\">\n",
       "  <thead>\n",
       "    <tr style=\"text-align: right;\">\n",
       "      <th></th>\n",
       "      <th>chebi</th>\n",
       "      <th>chebiName</th>\n",
       "      <th>chebiUniprotName</th>\n",
       "    </tr>\n",
       "  </thead>\n",
       "  <tbody>\n",
       "    <tr>\n",
       "      <th>0</th>\n",
       "      <td>CHEBI_29985</td>\n",
       "      <td>L-glutamate(1-)</td>\n",
       "      <td>L-glutamate</td>\n",
       "    </tr>\n",
       "  </tbody>\n",
       "</table>\n",
       "</div>"
      ],
      "text/plain": [
       "         chebi        chebiName chebiUniprotName\n",
       "0  CHEBI_29985  L-glutamate(1-)      L-glutamate"
      ]
     },
     "execution_count": 27,
     "metadata": {
     },
     "output_type": "execute_result"
    }
   ],
   "source": [
    "try:\n",
    "    df  = sparql2pandas(Q7,sparql_rhea_url)\n",
    "except Exception as e:\n",
    "    print('ERROR in SPARQL query Q7')\n",
    "    print(e)\n",
    "    stop\n",
    "\n",
    "# Display result\n",
    "df"
   ]
  },
  {
   "cell_type": "markdown",
   "metadata": {
    "collapsed": false
   },
   "source": [
    "## Search by partial InChIKey (relax charge restriction)"
   ]
  },
  {
   "cell_type": "code",
   "execution_count": 30,
   "metadata": {
    "collapsed": false
   },
   "outputs": [
    {
     "name": "stdout",
     "output_type": "stream",
     "text": [
      "\n",
      "#endpoint:https://sparql.rhea-db.org/sparql\n",
      "#query Q8b: Search ChEBI by InChiKey\n",
      "\n",
      "PREFIX rdfs:<http://www.w3.org/2000/01/rdf-schema#>\n",
      "PREFIX rh:<http://rdf.rhea-db.org/>\n",
      "PREFIX chebislash:<http://purl.obolibrary.org/obo/chebi/>\n",
      "PREFIX up:<http://purl.uniprot.org/core/>\n",
      "\n",
      "SELECT distinct ?inchikey\n",
      "                ?chebi\n",
      "                ?chebiName\n",
      "                ?chebiUniprotName\n",
      "WHERE {\n",
      "  ?chebi rdfs:label ?chebiName .\n",
      "  OPTIONAL{?chebi up:name ?chebiUniprotName .}\n",
      "  ?chebi chebislash:inchikey ?inchikey .\n",
      "  FILTER regex(str(?inchikey), 'WHUUTDBJXJRKMK') .\n",
      "}\n",
      "\n"
     ]
    }
   ],
   "source": [
    "# CHEBI:29985 L-glutamate InChIKey\n",
    "\n",
    "# modify the inchikey to relax charge restriction\n",
    "#inchikey = 'WHUUTDBJXJRKMK-VKHMYHEASA-M'\n",
    "inchikey = 'WHUUTDBJXJRKMK'\n",
    "\n",
    "Q8=\"\"\"\n",
    "#endpoint:https://sparql.rhea-db.org/sparql\n",
    "#query Q8b: Search ChEBI by InChiKey\n",
    "\n",
    "PREFIX rdfs:<http://www.w3.org/2000/01/rdf-schema#>\n",
    "PREFIX rh:<http://rdf.rhea-db.org/>\n",
    "PREFIX chebislash:<http://purl.obolibrary.org/obo/chebi/>\n",
    "PREFIX up:<http://purl.uniprot.org/core/>\n",
    "\n",
    "SELECT distinct ?inchikey\n",
    "                ?chebi\n",
    "                ?chebiName\n",
    "                ?chebiUniprotName\n",
    "WHERE {\n",
    "  ?chebi rdfs:label ?chebiName .\n",
    "  OPTIONAL{?chebi up:name ?chebiUniprotName .}\n",
    "  ?chebi chebislash:inchikey ?inchikey .\n",
    "  FILTER regex(str(?inchikey), '\"\"\" + inchikey + \"\"\"') .\n",
    "}\n",
    "\"\"\"\n",
    "print(Q8)"
   ]
  },
  {
   "cell_type": "code",
   "execution_count": 31,
   "metadata": {
    "collapsed": false
   },
   "outputs": [
    {
     "data": {
      "text/html": [
       "<div>\n",
       "<style scoped>\n",
       "    .dataframe tbody tr th:only-of-type {\n",
       "        vertical-align: middle;\n",
       "    }\n",
       "\n",
       "    .dataframe tbody tr th {\n",
       "        vertical-align: top;\n",
       "    }\n",
       "\n",
       "    .dataframe thead th {\n",
       "        text-align: right;\n",
       "    }\n",
       "</style>\n",
       "<table border=\"1\" class=\"dataframe\">\n",
       "  <thead>\n",
       "    <tr style=\"text-align: right;\">\n",
       "      <th></th>\n",
       "      <th>inchikey</th>\n",
       "      <th>chebi</th>\n",
       "      <th>chebiName</th>\n",
       "      <th>chebiUniprotName</th>\n",
       "    </tr>\n",
       "  </thead>\n",
       "  <tbody>\n",
       "    <tr>\n",
       "      <th>0</th>\n",
       "      <td>WHUUTDBJXJRKMK-UHFFFAOYSA-M</td>\n",
       "      <td>CHEBI_14321</td>\n",
       "      <td>glutamate(1-)</td>\n",
       "      <td>glutamate</td>\n",
       "    </tr>\n",
       "    <tr>\n",
       "      <th>1</th>\n",
       "      <td>WHUUTDBJXJRKMK-GSVOUGTGSA-N</td>\n",
       "      <td>CHEBI_15966</td>\n",
       "      <td>D-glutamic acid</td>\n",
       "      <td>NaN</td>\n",
       "    </tr>\n",
       "    <tr>\n",
       "      <th>2</th>\n",
       "      <td>WHUUTDBJXJRKMK-VKHMYHEASA-N</td>\n",
       "      <td>CHEBI_16015</td>\n",
       "      <td>L-glutamic acid</td>\n",
       "      <td>NaN</td>\n",
       "    </tr>\n",
       "    <tr>\n",
       "      <th>3</th>\n",
       "      <td>WHUUTDBJXJRKMK-UHFFFAOYSA-N</td>\n",
       "      <td>CHEBI_18237</td>\n",
       "      <td>glutamic acid</td>\n",
       "      <td>NaN</td>\n",
       "    </tr>\n",
       "    <tr>\n",
       "      <th>4</th>\n",
       "      <td>WHUUTDBJXJRKMK-VKHMYHEASA-M</td>\n",
       "      <td>CHEBI_29985</td>\n",
       "      <td>L-glutamate(1-)</td>\n",
       "      <td>L-glutamate</td>\n",
       "    </tr>\n",
       "    <tr>\n",
       "      <th>5</th>\n",
       "      <td>WHUUTDBJXJRKMK-GSVOUGTGSA-M</td>\n",
       "      <td>CHEBI_29986</td>\n",
       "      <td>D-glutamate(1-)</td>\n",
       "      <td>D-glutamate</td>\n",
       "    </tr>\n",
       "    <tr>\n",
       "      <th>6</th>\n",
       "      <td>WHUUTDBJXJRKMK-UHFFFAOYSA-L</td>\n",
       "      <td>CHEBI_29987</td>\n",
       "      <td>glutamate(2-)</td>\n",
       "      <td>NaN</td>\n",
       "    </tr>\n",
       "    <tr>\n",
       "      <th>7</th>\n",
       "      <td>WHUUTDBJXJRKMK-VKHMYHEASA-L</td>\n",
       "      <td>CHEBI_29988</td>\n",
       "      <td>L-glutamate(2-)</td>\n",
       "      <td>NaN</td>\n",
       "    </tr>\n",
       "    <tr>\n",
       "      <th>8</th>\n",
       "      <td>WHUUTDBJXJRKMK-GSVOUGTGSA-L</td>\n",
       "      <td>CHEBI_29989</td>\n",
       "      <td>D-glutamate(2-)</td>\n",
       "      <td>NaN</td>\n",
       "    </tr>\n",
       "    <tr>\n",
       "      <th>9</th>\n",
       "      <td>WHUUTDBJXJRKMK-UXXIZXEISA-N</td>\n",
       "      <td>CHEBI_76051</td>\n",
       "      <td>glutamic acid-2,3,3,4,4-d5</td>\n",
       "      <td>NaN</td>\n",
       "    </tr>\n",
       "    <tr>\n",
       "      <th>10</th>\n",
       "      <td>WHUUTDBJXJRKMK-NKXUJHECSA-N</td>\n",
       "      <td>CHEBI_192079</td>\n",
       "      <td>L-glutamic acid-d5</td>\n",
       "      <td>NaN</td>\n",
       "    </tr>\n",
       "  </tbody>\n",
       "</table>\n",
       "</div>"
      ],
      "text/plain": [
       "                       inchikey         chebi                   chebiName  \\\n",
       "0   WHUUTDBJXJRKMK-UHFFFAOYSA-M   CHEBI_14321               glutamate(1-)   \n",
       "1   WHUUTDBJXJRKMK-GSVOUGTGSA-N   CHEBI_15966             D-glutamic acid   \n",
       "2   WHUUTDBJXJRKMK-VKHMYHEASA-N   CHEBI_16015             L-glutamic acid   \n",
       "3   WHUUTDBJXJRKMK-UHFFFAOYSA-N   CHEBI_18237               glutamic acid   \n",
       "4   WHUUTDBJXJRKMK-VKHMYHEASA-M   CHEBI_29985             L-glutamate(1-)   \n",
       "5   WHUUTDBJXJRKMK-GSVOUGTGSA-M   CHEBI_29986             D-glutamate(1-)   \n",
       "6   WHUUTDBJXJRKMK-UHFFFAOYSA-L   CHEBI_29987               glutamate(2-)   \n",
       "7   WHUUTDBJXJRKMK-VKHMYHEASA-L   CHEBI_29988             L-glutamate(2-)   \n",
       "8   WHUUTDBJXJRKMK-GSVOUGTGSA-L   CHEBI_29989             D-glutamate(2-)   \n",
       "9   WHUUTDBJXJRKMK-UXXIZXEISA-N   CHEBI_76051  glutamic acid-2,3,3,4,4-d5   \n",
       "10  WHUUTDBJXJRKMK-NKXUJHECSA-N  CHEBI_192079          L-glutamic acid-d5   \n",
       "\n",
       "   chebiUniprotName  \n",
       "0         glutamate  \n",
       "1               NaN  \n",
       "2               NaN  \n",
       "3               NaN  \n",
       "4       L-glutamate  \n",
       "5       D-glutamate  \n",
       "6               NaN  \n",
       "7               NaN  \n",
       "8               NaN  \n",
       "9               NaN  \n",
       "10              NaN  "
      ]
     },
     "execution_count": 31,
     "metadata": {
     },
     "output_type": "execute_result"
    }
   ],
   "source": [
    "try:\n",
    "    df  = sparql2pandas(Q8,sparql_rhea_url)\n",
    "except Exception as e:\n",
    "    print('ERROR in SPARQL query Q8')\n",
    "    print(e)\n",
    "    stop\n",
    "\n",
    "# Display result\n",
    "df"
   ]
  },
  {
   "cell_type": "markdown",
   "metadata": {
    "collapsed": false
   },
   "source": [
    "## <span style=\"color:blue\">Exercise: relax constraint on stereochemistry</span>"
   ]
  },
  {
   "cell_type": "code",
   "execution_count": 34,
   "metadata": {
    "collapsed": false
   },
   "outputs": [
    {
     "name": "stdout",
     "output_type": "stream",
     "text": [
      "\n",
      "#endpoint:https://sparql.rhea-db.org/sparql\n",
      "#query Q8c: Search ChEBI by InChiKey\n",
      "\n",
      "PREFIX rdfs:<http://www.w3.org/2000/01/rdf-schema#>\n",
      "PREFIX rh:<http://rdf.rhea-db.org/>\n",
      "PREFIX chebislash:<http://purl.obolibrary.org/obo/chebi/>\n",
      "PREFIX up:<http://purl.uniprot.org/core/>\n",
      "\n",
      "SELECT distinct ?inchikey\n",
      "                ?chebi\n",
      "                ?chebiName\n",
      "                ?chebiUniprotName \n",
      "WHERE {\n",
      "  ?chebi rdfs:label ?chebiName .\n",
      "  OPTIONAL{?chebi up:name ?chebiUniprotName .}\n",
      "  ?chebi chebislash:inchikey ?inchikey .\n",
      "  FILTER regex(str(?inchikey), 'WHUUTDBJXJRKMK') .\n",
      "}\n",
      "\n"
     ]
    }
   ],
   "source": [
    "# CHEBI:29985 L-glutamate InChIKey\n",
    "\n",
    "# modify the inchikey to relax charge and stereoisomery restriction\n",
    "inchikey = 'WHUUTDBJXJRKMK'\n",
    "\n",
    "QEx3=\"\"\"\n",
    "#endpoint:https://sparql.rhea-db.org/sparql\n",
    "#query Q8c: Search ChEBI by InChiKey\n",
    "\n",
    "PREFIX rdfs:<http://www.w3.org/2000/01/rdf-schema#>\n",
    "PREFIX rh:<http://rdf.rhea-db.org/>\n",
    "PREFIX chebislash:<http://purl.obolibrary.org/obo/chebi/>\n",
    "PREFIX up:<http://purl.uniprot.org/core/>\n",
    "\n",
    "SELECT distinct ?inchikey\n",
    "                ?chebi\n",
    "                ?chebiName\n",
    "                ?chebiUniprotName \n",
    "WHERE {\n",
    "  ?chebi rdfs:label ?chebiName .\n",
    "  OPTIONAL{?chebi up:name ?chebiUniprotName .}\n",
    "  ?chebi chebislash:inchikey ?inchikey .\n",
    "  FILTER regex(str(?inchikey), '\"\"\" + inchikey + \"\"\"') .\n",
    "}\n",
    "\"\"\"\n",
    "print(QEx3)"
   ]
  },
  {
   "cell_type": "code",
   "execution_count": 35,
   "metadata": {
    "collapsed": false
   },
   "outputs": [
    {
     "name": "stdout",
     "output_type": "stream",
     "text": [
      "QEx3 results: df.shape (11, 4)\n"
     ]
    },
    {
     "data": {
      "text/html": [
       "<div>\n",
       "<style scoped>\n",
       "    .dataframe tbody tr th:only-of-type {\n",
       "        vertical-align: middle;\n",
       "    }\n",
       "\n",
       "    .dataframe tbody tr th {\n",
       "        vertical-align: top;\n",
       "    }\n",
       "\n",
       "    .dataframe thead th {\n",
       "        text-align: right;\n",
       "    }\n",
       "</style>\n",
       "<table border=\"1\" class=\"dataframe\">\n",
       "  <thead>\n",
       "    <tr style=\"text-align: right;\">\n",
       "      <th></th>\n",
       "      <th>inchikey</th>\n",
       "      <th>chebi</th>\n",
       "      <th>chebiName</th>\n",
       "      <th>chebiUniprotName</th>\n",
       "    </tr>\n",
       "  </thead>\n",
       "  <tbody>\n",
       "    <tr>\n",
       "      <th>5</th>\n",
       "      <td>WHUUTDBJXJRKMK-GSVOUGTGSA-M</td>\n",
       "      <td>CHEBI_29986</td>\n",
       "      <td>D-glutamate(1-)</td>\n",
       "      <td>D-glutamate</td>\n",
       "    </tr>\n",
       "    <tr>\n",
       "      <th>8</th>\n",
       "      <td>WHUUTDBJXJRKMK-GSVOUGTGSA-L</td>\n",
       "      <td>CHEBI_29989</td>\n",
       "      <td>D-glutamate(2-)</td>\n",
       "      <td>NaN</td>\n",
       "    </tr>\n",
       "    <tr>\n",
       "      <th>1</th>\n",
       "      <td>WHUUTDBJXJRKMK-GSVOUGTGSA-N</td>\n",
       "      <td>CHEBI_15966</td>\n",
       "      <td>D-glutamic acid</td>\n",
       "      <td>NaN</td>\n",
       "    </tr>\n",
       "    <tr>\n",
       "      <th>4</th>\n",
       "      <td>WHUUTDBJXJRKMK-VKHMYHEASA-M</td>\n",
       "      <td>CHEBI_29985</td>\n",
       "      <td>L-glutamate(1-)</td>\n",
       "      <td>L-glutamate</td>\n",
       "    </tr>\n",
       "    <tr>\n",
       "      <th>7</th>\n",
       "      <td>WHUUTDBJXJRKMK-VKHMYHEASA-L</td>\n",
       "      <td>CHEBI_29988</td>\n",
       "      <td>L-glutamate(2-)</td>\n",
       "      <td>NaN</td>\n",
       "    </tr>\n",
       "    <tr>\n",
       "      <th>2</th>\n",
       "      <td>WHUUTDBJXJRKMK-VKHMYHEASA-N</td>\n",
       "      <td>CHEBI_16015</td>\n",
       "      <td>L-glutamic acid</td>\n",
       "      <td>NaN</td>\n",
       "    </tr>\n",
       "    <tr>\n",
       "      <th>10</th>\n",
       "      <td>WHUUTDBJXJRKMK-NKXUJHECSA-N</td>\n",
       "      <td>CHEBI_192079</td>\n",
       "      <td>L-glutamic acid-d5</td>\n",
       "      <td>NaN</td>\n",
       "    </tr>\n",
       "    <tr>\n",
       "      <th>0</th>\n",
       "      <td>WHUUTDBJXJRKMK-UHFFFAOYSA-M</td>\n",
       "      <td>CHEBI_14321</td>\n",
       "      <td>glutamate(1-)</td>\n",
       "      <td>glutamate</td>\n",
       "    </tr>\n",
       "    <tr>\n",
       "      <th>6</th>\n",
       "      <td>WHUUTDBJXJRKMK-UHFFFAOYSA-L</td>\n",
       "      <td>CHEBI_29987</td>\n",
       "      <td>glutamate(2-)</td>\n",
       "      <td>NaN</td>\n",
       "    </tr>\n",
       "    <tr>\n",
       "      <th>3</th>\n",
       "      <td>WHUUTDBJXJRKMK-UHFFFAOYSA-N</td>\n",
       "      <td>CHEBI_18237</td>\n",
       "      <td>glutamic acid</td>\n",
       "      <td>NaN</td>\n",
       "    </tr>\n",
       "    <tr>\n",
       "      <th>9</th>\n",
       "      <td>WHUUTDBJXJRKMK-UXXIZXEISA-N</td>\n",
       "      <td>CHEBI_76051</td>\n",
       "      <td>glutamic acid-2,3,3,4,4-d5</td>\n",
       "      <td>NaN</td>\n",
       "    </tr>\n",
       "  </tbody>\n",
       "</table>\n",
       "</div>"
      ],
      "text/plain": [
       "                       inchikey         chebi                   chebiName  \\\n",
       "5   WHUUTDBJXJRKMK-GSVOUGTGSA-M   CHEBI_29986             D-glutamate(1-)   \n",
       "8   WHUUTDBJXJRKMK-GSVOUGTGSA-L   CHEBI_29989             D-glutamate(2-)   \n",
       "1   WHUUTDBJXJRKMK-GSVOUGTGSA-N   CHEBI_15966             D-glutamic acid   \n",
       "4   WHUUTDBJXJRKMK-VKHMYHEASA-M   CHEBI_29985             L-glutamate(1-)   \n",
       "7   WHUUTDBJXJRKMK-VKHMYHEASA-L   CHEBI_29988             L-glutamate(2-)   \n",
       "2   WHUUTDBJXJRKMK-VKHMYHEASA-N   CHEBI_16015             L-glutamic acid   \n",
       "10  WHUUTDBJXJRKMK-NKXUJHECSA-N  CHEBI_192079          L-glutamic acid-d5   \n",
       "0   WHUUTDBJXJRKMK-UHFFFAOYSA-M   CHEBI_14321               glutamate(1-)   \n",
       "6   WHUUTDBJXJRKMK-UHFFFAOYSA-L   CHEBI_29987               glutamate(2-)   \n",
       "3   WHUUTDBJXJRKMK-UHFFFAOYSA-N   CHEBI_18237               glutamic acid   \n",
       "9   WHUUTDBJXJRKMK-UXXIZXEISA-N   CHEBI_76051  glutamic acid-2,3,3,4,4-d5   \n",
       "\n",
       "   chebiUniprotName  \n",
       "5       D-glutamate  \n",
       "8               NaN  \n",
       "1               NaN  \n",
       "4       L-glutamate  \n",
       "7               NaN  \n",
       "2               NaN  \n",
       "10              NaN  \n",
       "0         glutamate  \n",
       "6               NaN  \n",
       "3               NaN  \n",
       "9               NaN  "
      ]
     },
     "execution_count": 35,
     "metadata": {
     },
     "output_type": "execute_result"
    }
   ],
   "source": [
    "try:\n",
    "    df  = sparql2pandas(QEx3,sparql_rhea_url)\n",
    "except Exception as e:\n",
    "    print('ERROR in SPARQL query QEx3')\n",
    "    print(e)\n",
    "    stop\n",
    "\n",
    "print('QEx3 results: df.shape',df.shape)\n",
    "\n",
    "# Display result\n",
    "df.sort_values('chebiName')"
   ]
  },
  {
   "cell_type": "markdown",
   "metadata": {
    "collapsed": false
   },
   "source": [
    "# ChEBI hierarchy"
   ]
  },
  {
   "cell_type": "markdown",
   "metadata": {
    "collapsed": false
   },
   "source": [
    "<div>\n",
    "<img src=\"Image/rhea_chebi_hierarchy.png\" alt=“Search through ChEBI hierarchy” width=\"80%\" height=\"80%\" />\n",
    "</div>\n",
    "\n",
    "\n",
    "<div>\n",
    "<img src=\"Image/rhea_chebi_classification.png\" alt=“We take advantage of ChEBI classification” width=\"80%\" height=\"80%\" />\n",
    "</div>\n"
   ]
  },
  {
   "cell_type": "markdown",
   "metadata": {
    "collapsed": false
   },
   "source": [
    "## Q9: Select all reactions with CHEBI:31488 (N-acylsphinganine) or one of its descendant. "
   ]
  },
  {
   "cell_type": "code",
   "execution_count": 43,
   "metadata": {
    "collapsed": false
   },
   "outputs": [
    {
     "name": "stdout",
     "output_type": "stream",
     "text": [
      "\n",
      "#endpoint:https://sparql.rhea-db.org/sparql\n",
      "#query Q9: Select Rhea reactions using CHEBI:31488 (N-acylsphinganine) or one of its descendant as reaction participant\n",
      "\n",
      "PREFIX rh:<http://rdf.rhea-db.org/>\n",
      "PREFIX CHEBI:<http://purl.obolibrary.org/obo/CHEBI_>\n",
      "PREFIX up:<http://purl.uniprot.org/core/>\n",
      "\n",
      "SELECT distinct ?chebi ?chebiUniprotName ?rhea ?equation \n",
      "WHERE {\n",
      "  ?rhea rdfs:subClassOf rh:Reaction .\n",
      "  ?rhea rh:equation ?equation .\n",
      "  ?rhea rh:side/rh:contains/rh:compound/rh:chebi ?chebi .\n",
      "  ?chebi rdfs:subClassOf CHEBI:31488 .\n",
      "  ?chebi up:name ?chebiUniprotName .\n",
      "}\n",
      "ORDER BY ?chebi\n",
      "\n"
     ]
    }
   ],
   "source": [
    "chebi = '31488'\n",
    "Q9=\"\"\"\n",
    "#endpoint:https://sparql.rhea-db.org/sparql\n",
    "#query Q9: Select Rhea reactions using CHEBI:31488 (N-acylsphinganine) or one of its descendant as reaction participant\n",
    "\n",
    "PREFIX rh:<http://rdf.rhea-db.org/>\n",
    "PREFIX CHEBI:<http://purl.obolibrary.org/obo/CHEBI_>\n",
    "PREFIX up:<http://purl.uniprot.org/core/>\n",
    "\n",
    "SELECT distinct ?chebi ?chebiUniprotName ?rhea ?equation \n",
    "WHERE {\n",
    "  ?rhea rdfs:subClassOf rh:Reaction .\n",
    "  ?rhea rh:equation ?equation .\n",
    "  ?rhea rh:side/rh:contains/rh:compound/rh:chebi ?chebi .\n",
    "  ?chebi rdfs:subClassOf CHEBI:\"\"\" + chebi + \"\"\" .\n",
    "  ?chebi up:name ?chebiUniprotName .\n",
    "}\n",
    "ORDER BY ?chebi\n",
    "\"\"\"\n",
    "print(Q9)"
   ]
  },
  {
   "cell_type": "code",
   "execution_count": 45,
   "metadata": {
    "collapsed": false
   },
   "outputs": [
    {
     "name": "stdout",
     "output_type": "stream",
     "text": [
      "Q9 results: df.shape (27, 4)\n"
     ]
    },
    {
     "data": {
      "text/html": [
       "<div>\n",
       "<style scoped>\n",
       "    .dataframe tbody tr th:only-of-type {\n",
       "        vertical-align: middle;\n",
       "    }\n",
       "\n",
       "    .dataframe tbody tr th {\n",
       "        vertical-align: top;\n",
       "    }\n",
       "\n",
       "    .dataframe thead th {\n",
       "        text-align: right;\n",
       "    }\n",
       "</style>\n",
       "<table border=\"1\" class=\"dataframe\">\n",
       "  <thead>\n",
       "    <tr style=\"text-align: right;\">\n",
       "      <th></th>\n",
       "      <th>chebi</th>\n",
       "      <th>chebiUniprotName</th>\n",
       "      <th>rhea</th>\n",
       "      <th>equation</th>\n",
       "    </tr>\n",
       "  </thead>\n",
       "  <tbody>\n",
       "    <tr>\n",
       "      <th>0</th>\n",
       "      <td>CHEBI_149661</td>\n",
       "      <td>N-(13Z-docosenoyl)-sphinganine</td>\n",
       "      <td>64048</td>\n",
       "      <td>(13Z)-docosenoyl-CoA + sphinganine = CoA + H(+) + N-(13Z-docosenoyl)-sphinganine</td>\n",
       "    </tr>\n",
       "    <tr>\n",
       "      <th>1</th>\n",
       "      <td>CHEBI_52962</td>\n",
       "      <td>N-hexacosanoylsphinganine</td>\n",
       "      <td>33599</td>\n",
       "      <td>2 Fe(II)-[cytochrome b5] + 2 H(+) + N-hexacosanoylsphinganine + O2 = 2 Fe(III)-[cytochrome b5] + H2O + N-hexacosanoyl-(4R)-hydroxysphinganine</td>\n",
       "    </tr>\n",
       "    <tr>\n",
       "      <th>2</th>\n",
       "      <td>CHEBI_52962</td>\n",
       "      <td>N-hexacosanoylsphinganine</td>\n",
       "      <td>33603</td>\n",
       "      <td>H(+) + N-hexacosanoylsphinganine + NADPH + O2 = H2O + N-(2-hydroxyhexacosanoyl)-sphinganine + NADP(+)</td>\n",
       "    </tr>\n",
       "    <tr>\n",
       "      <th>3</th>\n",
       "      <td>CHEBI_52962</td>\n",
       "      <td>N-hexacosanoylsphinganine</td>\n",
       "      <td>33719</td>\n",
       "      <td>a 1,2-diacyl-sn-glycero-3-phospho-(1D-myo-inositol) + N-hexacosanoylsphinganine = a 1,2-diacyl-sn-glycerol + N-(hexacosanoyl)-sphinganine-1-(1D-myo-inositol)</td>\n",
       "    </tr>\n",
       "    <tr>\n",
       "      <th>4</th>\n",
       "      <td>CHEBI_52962</td>\n",
       "      <td>N-hexacosanoylsphinganine</td>\n",
       "      <td>33351</td>\n",
       "      <td>hexacosanoyl-CoA + sphinganine = CoA + H(+) + N-hexacosanoylsphinganine</td>\n",
       "    </tr>\n",
       "    <tr>\n",
       "      <th>5</th>\n",
       "      <td>CHEBI_67021</td>\n",
       "      <td>N-docosanoylsphinganine</td>\n",
       "      <td>36535</td>\n",
       "      <td>docosanoyl-CoA + sphinganine = CoA + H(+) + N-docosanoylsphinganine</td>\n",
       "    </tr>\n",
       "    <tr>\n",
       "      <th>6</th>\n",
       "      <td>CHEBI_67027</td>\n",
       "      <td>N-eicosanoylsphinganine</td>\n",
       "      <td>36555</td>\n",
       "      <td>eicosanoyl-CoA + sphinganine = CoA + H(+) + N-eicosanoylsphinganine</td>\n",
       "    </tr>\n",
       "    <tr>\n",
       "      <th>7</th>\n",
       "      <td>CHEBI_67033</td>\n",
       "      <td>N-(octadecanoyl)-sphinganine</td>\n",
       "      <td>45008</td>\n",
       "      <td>H2O + N-(octadecanoyl)-sphinganine = octadecanoate + sphinganine</td>\n",
       "    </tr>\n",
       "    <tr>\n",
       "      <th>8</th>\n",
       "      <td>CHEBI_67033</td>\n",
       "      <td>N-(octadecanoyl)-sphinganine</td>\n",
       "      <td>36547</td>\n",
       "      <td>octadecanoyl-CoA + sphinganine = CoA + H(+) + N-(octadecanoyl)-sphinganine</td>\n",
       "    </tr>\n",
       "    <tr>\n",
       "      <th>9</th>\n",
       "      <td>CHEBI_67042</td>\n",
       "      <td>N-hexadecanoylsphinganine</td>\n",
       "      <td>41796</td>\n",
       "      <td>a 1,2-diacyl-sn-glycero-3-phosphocholine + N-hexadecanoylsphinganine = a 1,2-diacyl-sn-glycerol + N-hexadecanoyl-sphinganine-1-phosphocholine</td>\n",
       "    </tr>\n",
       "    <tr>\n",
       "      <th>10</th>\n",
       "      <td>CHEBI_67042</td>\n",
       "      <td>N-hexadecanoylsphinganine</td>\n",
       "      <td>42128</td>\n",
       "      <td>a 1,2-diacyl-sn-glycero-3-phosphoethanolamine + N-hexadecanoylsphinganine = a 1,2-diacyl-sn-glycerol + N-hexadecanoyl-sphinganine-1-phosphoethanolamine</td>\n",
       "    </tr>\n",
       "    <tr>\n",
       "      <th>11</th>\n",
       "      <td>CHEBI_67042</td>\n",
       "      <td>N-hexadecanoylsphinganine</td>\n",
       "      <td>69707</td>\n",
       "      <td>beta-D-galactosyl-(1&lt;-&gt;1')-N-hexadecanoylsphinganine + H2O = beta-D-galactose + N-hexadecanoylsphinganine</td>\n",
       "    </tr>\n",
       "    <tr>\n",
       "      <th>12</th>\n",
       "      <td>CHEBI_67042</td>\n",
       "      <td>N-hexadecanoylsphinganine</td>\n",
       "      <td>69711</td>\n",
       "      <td>beta-D-glucosyl-(1&lt;-&gt;1')-N-hexadecanoylsphinganine + H2O = beta-D-glucose + N-hexadecanoylsphinganine</td>\n",
       "    </tr>\n",
       "    <tr>\n",
       "      <th>13</th>\n",
       "      <td>CHEBI_67042</td>\n",
       "      <td>N-hexadecanoylsphinganine</td>\n",
       "      <td>43440</td>\n",
       "      <td>hexadecanoate + sphinganine = H2O + N-hexadecanoylsphinganine</td>\n",
       "    </tr>\n",
       "    <tr>\n",
       "      <th>14</th>\n",
       "      <td>CHEBI_67042</td>\n",
       "      <td>N-hexadecanoylsphinganine</td>\n",
       "      <td>36539</td>\n",
       "      <td>hexadecanoyl-CoA + sphinganine = CoA + H(+) + N-hexadecanoylsphinganine</td>\n",
       "    </tr>\n",
       "    <tr>\n",
       "      <th>15</th>\n",
       "      <td>CHEBI_67045</td>\n",
       "      <td>N-(tetradecanoyl)-sphinganine</td>\n",
       "      <td>36571</td>\n",
       "      <td>sphinganine + tetradecanoyl-CoA = CoA + H(+) + N-(tetradecanoyl)-sphinganine</td>\n",
       "    </tr>\n",
       "    <tr>\n",
       "      <th>16</th>\n",
       "      <td>CHEBI_72019</td>\n",
       "      <td>N-(octacosanoyl)-sphinganine</td>\n",
       "      <td>36675</td>\n",
       "      <td>octacosanoyl-CoA + sphinganine = CoA + H(+) + N-(octacosanoyl)-sphinganine</td>\n",
       "    </tr>\n",
       "    <tr>\n",
       "      <th>17</th>\n",
       "      <td>CHEBI_74160</td>\n",
       "      <td>an N-tetracosenoylsphinganine</td>\n",
       "      <td>36715</td>\n",
       "      <td>sphinganine + tetracosenoyl-CoA = an N-tetracosenoylsphinganine + CoA + H(+)</td>\n",
       "    </tr>\n",
       "    <tr>\n",
       "      <th>18</th>\n",
       "      <td>CHEBI_74162</td>\n",
       "      <td>N-hexacosenoylsphinganine</td>\n",
       "      <td>36719</td>\n",
       "      <td>hexacosenoyl-CoA + sphinganine = CoA + H(+) + N-hexacosenoylsphinganine</td>\n",
       "    </tr>\n",
       "    <tr>\n",
       "      <th>19</th>\n",
       "      <td>CHEBI_76226</td>\n",
       "      <td>N-hexanoyl-sphinganine</td>\n",
       "      <td>38887</td>\n",
       "      <td>H2O + N-hexanoyl-sphinganine = hexanoate + sphinganine</td>\n",
       "    </tr>\n",
       "    <tr>\n",
       "      <th>20</th>\n",
       "      <td>CHEBI_82841</td>\n",
       "      <td>N-octanoylsphinganine</td>\n",
       "      <td>43116</td>\n",
       "      <td>2 Fe(II)-[cytochrome b5] + 2 H(+) + N-octanoylsphinganine + O2 = 2 Fe(III)-[cytochrome b5] + H2O + N-octanoyl-4-hydroxysphinganine</td>\n",
       "    </tr>\n",
       "    <tr>\n",
       "      <th>21</th>\n",
       "      <td>CHEBI_83247</td>\n",
       "      <td>an N-(2-hydroxyacyl)-sphinganine</td>\n",
       "      <td>51660</td>\n",
       "      <td>an N-(1,2-saturated acyl)sphinganine + H(+) + NADPH + O2 = an N-(2-hydroxyacyl)-sphinganine + H2O + NADP(+)</td>\n",
       "    </tr>\n",
       "    <tr>\n",
       "      <th>22</th>\n",
       "      <td>CHEBI_83247</td>\n",
       "      <td>an N-(2-hydroxyacyl)-sphinganine</td>\n",
       "      <td>44892</td>\n",
       "      <td>an N-(2-hydroxyacyl)-sphinganine + UDP-alpha-D-galactose = an N-(2-hydroxyacyl)-beta-D-galactosyl-sphinganine + H(+) + UDP</td>\n",
       "    </tr>\n",
       "    <tr>\n",
       "      <th>23</th>\n",
       "      <td>CHEBI_85206</td>\n",
       "      <td>N-(5Z,8Z,11Z,14Z-eicosatetraenoyl)-sphinganine</td>\n",
       "      <td>45376</td>\n",
       "      <td>H2O + N-(5Z,8Z,11Z,14Z-eicosatetraenoyl)-sphinganine = (5Z,8Z,11Z,14Z)-eicosatetraenoate + sphinganine</td>\n",
       "    </tr>\n",
       "    <tr>\n",
       "      <th>24</th>\n",
       "      <td>CHEBI_85261</td>\n",
       "      <td>N-(dodecanoyl)-sphinganine</td>\n",
       "      <td>45448</td>\n",
       "      <td>H2O + N-(dodecanoyl)-sphinganine = dodecanoate + sphinganine</td>\n",
       "    </tr>\n",
       "    <tr>\n",
       "      <th>25</th>\n",
       "      <td>CHEBI_86265</td>\n",
       "      <td>an N-(1,2-saturated acyl)sphinganine</td>\n",
       "      <td>46512</td>\n",
       "      <td>an N-(1,2-saturated acyl)sphinganine + 2 Fe(II)-[cytochrome b5] + 2 H(+) + O2 = an N-[(2'R)-hydroxyacyl]sphinganine + 2 Fe(III)-[cytochrome b5] + H2O</td>\n",
       "    </tr>\n",
       "    <tr>\n",
       "      <th>26</th>\n",
       "      <td>CHEBI_86265</td>\n",
       "      <td>an N-(1,2-saturated acyl)sphinganine</td>\n",
       "      <td>51660</td>\n",
       "      <td>an N-(1,2-saturated acyl)sphinganine + H(+) + NADPH + O2 = an N-(2-hydroxyacyl)-sphinganine + H2O + NADP(+)</td>\n",
       "    </tr>\n",
       "  </tbody>\n",
       "</table>\n",
       "</div>"
      ],
      "text/plain": [
       "           chebi                                chebiUniprotName   rhea  \\\n",
       "0   CHEBI_149661                  N-(13Z-docosenoyl)-sphinganine  64048   \n",
       "1    CHEBI_52962                       N-hexacosanoylsphinganine  33599   \n",
       "2    CHEBI_52962                       N-hexacosanoylsphinganine  33603   \n",
       "3    CHEBI_52962                       N-hexacosanoylsphinganine  33719   \n",
       "4    CHEBI_52962                       N-hexacosanoylsphinganine  33351   \n",
       "5    CHEBI_67021                         N-docosanoylsphinganine  36535   \n",
       "6    CHEBI_67027                         N-eicosanoylsphinganine  36555   \n",
       "7    CHEBI_67033                    N-(octadecanoyl)-sphinganine  45008   \n",
       "8    CHEBI_67033                    N-(octadecanoyl)-sphinganine  36547   \n",
       "9    CHEBI_67042                       N-hexadecanoylsphinganine  41796   \n",
       "10   CHEBI_67042                       N-hexadecanoylsphinganine  42128   \n",
       "11   CHEBI_67042                       N-hexadecanoylsphinganine  69707   \n",
       "12   CHEBI_67042                       N-hexadecanoylsphinganine  69711   \n",
       "13   CHEBI_67042                       N-hexadecanoylsphinganine  43440   \n",
       "14   CHEBI_67042                       N-hexadecanoylsphinganine  36539   \n",
       "15   CHEBI_67045                   N-(tetradecanoyl)-sphinganine  36571   \n",
       "16   CHEBI_72019                    N-(octacosanoyl)-sphinganine  36675   \n",
       "17   CHEBI_74160                   an N-tetracosenoylsphinganine  36715   \n",
       "18   CHEBI_74162                       N-hexacosenoylsphinganine  36719   \n",
       "19   CHEBI_76226                          N-hexanoyl-sphinganine  38887   \n",
       "20   CHEBI_82841                           N-octanoylsphinganine  43116   \n",
       "21   CHEBI_83247                an N-(2-hydroxyacyl)-sphinganine  51660   \n",
       "22   CHEBI_83247                an N-(2-hydroxyacyl)-sphinganine  44892   \n",
       "23   CHEBI_85206  N-(5Z,8Z,11Z,14Z-eicosatetraenoyl)-sphinganine  45376   \n",
       "24   CHEBI_85261                      N-(dodecanoyl)-sphinganine  45448   \n",
       "25   CHEBI_86265            an N-(1,2-saturated acyl)sphinganine  46512   \n",
       "26   CHEBI_86265            an N-(1,2-saturated acyl)sphinganine  51660   \n",
       "\n",
       "                                                                                                                                                         equation  \n",
       "0                                                                                (13Z)-docosenoyl-CoA + sphinganine = CoA + H(+) + N-(13Z-docosenoyl)-sphinganine  \n",
       "1                   2 Fe(II)-[cytochrome b5] + 2 H(+) + N-hexacosanoylsphinganine + O2 = 2 Fe(III)-[cytochrome b5] + H2O + N-hexacosanoyl-(4R)-hydroxysphinganine  \n",
       "2                                                           H(+) + N-hexacosanoylsphinganine + NADPH + O2 = H2O + N-(2-hydroxyhexacosanoyl)-sphinganine + NADP(+)  \n",
       "3   a 1,2-diacyl-sn-glycero-3-phospho-(1D-myo-inositol) + N-hexacosanoylsphinganine = a 1,2-diacyl-sn-glycerol + N-(hexacosanoyl)-sphinganine-1-(1D-myo-inositol)  \n",
       "4                                                                                         hexacosanoyl-CoA + sphinganine = CoA + H(+) + N-hexacosanoylsphinganine  \n",
       "5                                                                                             docosanoyl-CoA + sphinganine = CoA + H(+) + N-docosanoylsphinganine  \n",
       "6                                                                                             eicosanoyl-CoA + sphinganine = CoA + H(+) + N-eicosanoylsphinganine  \n",
       "7                                                                                                H2O + N-(octadecanoyl)-sphinganine = octadecanoate + sphinganine  \n",
       "8                                                                                      octadecanoyl-CoA + sphinganine = CoA + H(+) + N-(octadecanoyl)-sphinganine  \n",
       "9                   a 1,2-diacyl-sn-glycero-3-phosphocholine + N-hexadecanoylsphinganine = a 1,2-diacyl-sn-glycerol + N-hexadecanoyl-sphinganine-1-phosphocholine  \n",
       "10        a 1,2-diacyl-sn-glycero-3-phosphoethanolamine + N-hexadecanoylsphinganine = a 1,2-diacyl-sn-glycerol + N-hexadecanoyl-sphinganine-1-phosphoethanolamine  \n",
       "11                                                      beta-D-galactosyl-(1<->1')-N-hexadecanoylsphinganine + H2O = beta-D-galactose + N-hexadecanoylsphinganine  \n",
       "12                                                          beta-D-glucosyl-(1<->1')-N-hexadecanoylsphinganine + H2O = beta-D-glucose + N-hexadecanoylsphinganine  \n",
       "13                                                                                                  hexadecanoate + sphinganine = H2O + N-hexadecanoylsphinganine  \n",
       "14                                                                                        hexadecanoyl-CoA + sphinganine = CoA + H(+) + N-hexadecanoylsphinganine  \n",
       "15                                                                                   sphinganine + tetradecanoyl-CoA = CoA + H(+) + N-(tetradecanoyl)-sphinganine  \n",
       "16                                                                                     octacosanoyl-CoA + sphinganine = CoA + H(+) + N-(octacosanoyl)-sphinganine  \n",
       "17                                                                                   sphinganine + tetracosenoyl-CoA = an N-tetracosenoylsphinganine + CoA + H(+)  \n",
       "18                                                                                        hexacosenoyl-CoA + sphinganine = CoA + H(+) + N-hexacosenoylsphinganine  \n",
       "19                                                                                                         H2O + N-hexanoyl-sphinganine = hexanoate + sphinganine  \n",
       "20                             2 Fe(II)-[cytochrome b5] + 2 H(+) + N-octanoylsphinganine + O2 = 2 Fe(III)-[cytochrome b5] + H2O + N-octanoyl-4-hydroxysphinganine  \n",
       "21                                                    an N-(1,2-saturated acyl)sphinganine + H(+) + NADPH + O2 = an N-(2-hydroxyacyl)-sphinganine + H2O + NADP(+)  \n",
       "22                                     an N-(2-hydroxyacyl)-sphinganine + UDP-alpha-D-galactose = an N-(2-hydroxyacyl)-beta-D-galactosyl-sphinganine + H(+) + UDP  \n",
       "23                                                         H2O + N-(5Z,8Z,11Z,14Z-eicosatetraenoyl)-sphinganine = (5Z,8Z,11Z,14Z)-eicosatetraenoate + sphinganine  \n",
       "24                                                                                                   H2O + N-(dodecanoyl)-sphinganine = dodecanoate + sphinganine  \n",
       "25          an N-(1,2-saturated acyl)sphinganine + 2 Fe(II)-[cytochrome b5] + 2 H(+) + O2 = an N-[(2'R)-hydroxyacyl]sphinganine + 2 Fe(III)-[cytochrome b5] + H2O  \n",
       "26                                                    an N-(1,2-saturated acyl)sphinganine + H(+) + NADPH + O2 = an N-(2-hydroxyacyl)-sphinganine + H2O + NADP(+)  "
      ]
     },
     "execution_count": 45,
     "metadata": {
     },
     "output_type": "execute_result"
    }
   ],
   "source": [
    "try:\n",
    "    df  = sparql2pandas(Q9,sparql_rhea_url)\n",
    "except Exception:\n",
    "    print('ERROR in SPARQL query Q9')\n",
    "    stop\n",
    "\n",
    "print('Q9 results: df.shape',df.shape)\n",
    "# Display the 5 first rows\n",
    "df.head(50)"
   ]
  },
  {
   "cell_type": "markdown",
   "metadata": {
    "collapsed": false
   },
   "source": [
    "### Retrieve descendants of N-acylsphinganine used in Rhea"
   ]
  },
  {
   "cell_type": "code",
   "execution_count": 46,
   "metadata": {
    "collapsed": false
   },
   "outputs": [
    {
     "data": {
      "text/html": [
       "<div>\n",
       "<style scoped>\n",
       "    .dataframe tbody tr th:only-of-type {\n",
       "        vertical-align: middle;\n",
       "    }\n",
       "\n",
       "    .dataframe tbody tr th {\n",
       "        vertical-align: top;\n",
       "    }\n",
       "\n",
       "    .dataframe thead th {\n",
       "        text-align: right;\n",
       "    }\n",
       "</style>\n",
       "<table border=\"1\" class=\"dataframe\">\n",
       "  <thead>\n",
       "    <tr style=\"text-align: right;\">\n",
       "      <th></th>\n",
       "      <th>chebi</th>\n",
       "      <th>chebiUniprotName</th>\n",
       "    </tr>\n",
       "  </thead>\n",
       "  <tbody>\n",
       "    <tr>\n",
       "      <th>17</th>\n",
       "      <td>CHEBI_74160</td>\n",
       "      <td>an N-tetracosenoylsphinganine</td>\n",
       "    </tr>\n",
       "    <tr>\n",
       "      <th>21</th>\n",
       "      <td>CHEBI_83247</td>\n",
       "      <td>an N-(2-hydroxyacyl)-sphinganine</td>\n",
       "    </tr>\n",
       "    <tr>\n",
       "      <th>25</th>\n",
       "      <td>CHEBI_86265</td>\n",
       "      <td>an N-(1,2-saturated acyl)sphinganine</td>\n",
       "    </tr>\n",
       "    <tr>\n",
       "      <th>20</th>\n",
       "      <td>CHEBI_82841</td>\n",
       "      <td>N-octanoylsphinganine</td>\n",
       "    </tr>\n",
       "    <tr>\n",
       "      <th>19</th>\n",
       "      <td>CHEBI_76226</td>\n",
       "      <td>N-hexanoyl-sphinganine</td>\n",
       "    </tr>\n",
       "    <tr>\n",
       "      <th>9</th>\n",
       "      <td>CHEBI_67042</td>\n",
       "      <td>N-hexadecanoylsphinganine</td>\n",
       "    </tr>\n",
       "    <tr>\n",
       "      <th>18</th>\n",
       "      <td>CHEBI_74162</td>\n",
       "      <td>N-hexacosenoylsphinganine</td>\n",
       "    </tr>\n",
       "    <tr>\n",
       "      <th>1</th>\n",
       "      <td>CHEBI_52962</td>\n",
       "      <td>N-hexacosanoylsphinganine</td>\n",
       "    </tr>\n",
       "    <tr>\n",
       "      <th>6</th>\n",
       "      <td>CHEBI_67027</td>\n",
       "      <td>N-eicosanoylsphinganine</td>\n",
       "    </tr>\n",
       "    <tr>\n",
       "      <th>5</th>\n",
       "      <td>CHEBI_67021</td>\n",
       "      <td>N-docosanoylsphinganine</td>\n",
       "    </tr>\n",
       "    <tr>\n",
       "      <th>15</th>\n",
       "      <td>CHEBI_67045</td>\n",
       "      <td>N-(tetradecanoyl)-sphinganine</td>\n",
       "    </tr>\n",
       "    <tr>\n",
       "      <th>7</th>\n",
       "      <td>CHEBI_67033</td>\n",
       "      <td>N-(octadecanoyl)-sphinganine</td>\n",
       "    </tr>\n",
       "    <tr>\n",
       "      <th>16</th>\n",
       "      <td>CHEBI_72019</td>\n",
       "      <td>N-(octacosanoyl)-sphinganine</td>\n",
       "    </tr>\n",
       "    <tr>\n",
       "      <th>24</th>\n",
       "      <td>CHEBI_85261</td>\n",
       "      <td>N-(dodecanoyl)-sphinganine</td>\n",
       "    </tr>\n",
       "    <tr>\n",
       "      <th>23</th>\n",
       "      <td>CHEBI_85206</td>\n",
       "      <td>N-(5Z,8Z,11Z,14Z-eicosatetraenoyl)-sphinganine</td>\n",
       "    </tr>\n",
       "    <tr>\n",
       "      <th>0</th>\n",
       "      <td>CHEBI_149661</td>\n",
       "      <td>N-(13Z-docosenoyl)-sphinganine</td>\n",
       "    </tr>\n",
       "  </tbody>\n",
       "</table>\n",
       "</div>"
      ],
      "text/plain": [
       "           chebi                                chebiUniprotName\n",
       "17   CHEBI_74160                   an N-tetracosenoylsphinganine\n",
       "21   CHEBI_83247                an N-(2-hydroxyacyl)-sphinganine\n",
       "25   CHEBI_86265            an N-(1,2-saturated acyl)sphinganine\n",
       "20   CHEBI_82841                           N-octanoylsphinganine\n",
       "19   CHEBI_76226                          N-hexanoyl-sphinganine\n",
       "9    CHEBI_67042                       N-hexadecanoylsphinganine\n",
       "18   CHEBI_74162                       N-hexacosenoylsphinganine\n",
       "1    CHEBI_52962                       N-hexacosanoylsphinganine\n",
       "6    CHEBI_67027                         N-eicosanoylsphinganine\n",
       "5    CHEBI_67021                         N-docosanoylsphinganine\n",
       "15   CHEBI_67045                   N-(tetradecanoyl)-sphinganine\n",
       "7    CHEBI_67033                    N-(octadecanoyl)-sphinganine\n",
       "16   CHEBI_72019                    N-(octacosanoyl)-sphinganine\n",
       "24   CHEBI_85261                      N-(dodecanoyl)-sphinganine\n",
       "23   CHEBI_85206  N-(5Z,8Z,11Z,14Z-eicosatetraenoyl)-sphinganine\n",
       "0   CHEBI_149661                  N-(13Z-docosenoyl)-sphinganine"
      ]
     },
     "execution_count": 46,
     "metadata": {
     },
     "output_type": "execute_result"
    }
   ],
   "source": [
    "df[['chebi','chebiUniprotName']].drop_duplicates().sort_values('chebiUniprotName',ascending=False)"
   ]
  },
  {
   "cell_type": "markdown",
   "metadata": {
    "collapsed": false
   },
   "source": [
    "# Search by (sub)structure \n",
    "[IDSM](https://idsm.elixir-czech.cz/) (**I**ntegrated **D**atabase of **S**mall **M**olecules) provides Sachem chemical cartridge for fingerprint-guided substructure and similarity searches.  \n",
    "\n"
   ]
  },
  {
   "cell_type": "markdown",
   "metadata": {
    "collapsed": false
   },
   "source": [
    "## Q10: Retrieve the Rhea reactions that involve cholesterol or cholesterol derivatives\n",
    "\n",
    "Perfom a chemical substructure search using IDSM/Sachem service.  \n",
    "Input: SMILES\n",
    "\n",
    "<div>\n",
    "<img src=\"Image/cholesterol.png\" alt=cholesterol” width=\"80%\" height=\"80%\" />\n",
    "</div>\n",
    "\n",
    "\n",
    "\n"
   ]
  },
  {
   "cell_type": "code",
   "execution_count": 47,
   "metadata": {
    "collapsed": false
   },
   "outputs": [
    {
     "name": "stdout",
     "output_type": "stream",
     "text": [
      "\n",
      "#endpoint:https://sparql.rhea-db.org/sparql\n",
      "\n",
      "PREFIX rdfs:<http://www.w3.org/2000/01/rdf-schema#>\n",
      "PREFIX sachem:<http://bioinfo.uochb.cas.cz/rdf/v1.0/sachem#>\n",
      "PREFIX idsm:<https://idsm.elixir-czech.cz/sparql/endpoint/>\n",
      "PREFIX up:<http://purl.uniprot.org/core/>\n",
      "PREFIX rh:<http://rdf.rhea-db.org/>\n",
      "\n",
      "SELECT DISTINCT ?chebi \n",
      "                ?chebiUniprotName \n",
      "                (count(?rhea) AS ?countRhea) \n",
      "WHERE {\n",
      "  SERVICE idsm:chebi {\n",
      "    ?chebi sachem:substructureSearch\n",
      "    [ sachem:query \"C1[C@@]2([C@]3(CC[C@]4([C@]([C@@]3(CC=C2C[C@H](C1)O)[H])(CC[C@@]4([C@H](C)CCCC(C)C)[H])[H])C)[H])C\" ] .\n",
      "  }\n",
      "  ?rhea rdfs:subClassOf rh:Reaction .\n",
      "  ?rhea rh:equation ?equation .\n",
      "  ?rhea rh:side/rh:contains/rh:compound/rh:chebi ?chebi .\n",
      "  ?chebi up:name ?chebiUniprotName .\n",
      "}\n",
      "GROUP BY ?chebi  ?chebiUniprotName \n",
      "\n"
     ]
    }
   ],
   "source": [
    "smiles = \"C1[C@@]2([C@]3(CC[C@]4([C@]([C@@]3(CC=C2C[C@H](C1)O)[H])(CC[C@@]4([C@H](C)CCCC(C)C)[H])[H])C)[H])C\"\n",
    "\n",
    "Q10='''\n",
    "#endpoint:https://sparql.rhea-db.org/sparql\n",
    "\n",
    "PREFIX rdfs:<http://www.w3.org/2000/01/rdf-schema#>\n",
    "PREFIX sachem:<http://bioinfo.uochb.cas.cz/rdf/v1.0/sachem#>\n",
    "PREFIX idsm:<https://idsm.elixir-czech.cz/sparql/endpoint/>\n",
    "PREFIX up:<http://purl.uniprot.org/core/>\n",
    "PREFIX rh:<http://rdf.rhea-db.org/>\n",
    "\n",
    "SELECT DISTINCT ?chebi \n",
    "                ?chebiUniprotName \n",
    "                (count(?rhea) AS ?countRhea) \n",
    "WHERE {\n",
    "  SERVICE idsm:chebi {\n",
    "    ?chebi sachem:substructureSearch\n",
    "    [ sachem:query \"''' + smiles + '''\" ] .\n",
    "  }\n",
    "  ?rhea rdfs:subClassOf rh:Reaction .\n",
    "  ?rhea rh:equation ?equation .\n",
    "  ?rhea rh:side/rh:contains/rh:compound/rh:chebi ?chebi .\n",
    "  ?chebi up:name ?chebiUniprotName .\n",
    "}\n",
    "GROUP BY ?chebi  ?chebiUniprotName \n",
    "'''\n",
    "\n",
    "print(Q10)"
   ]
  },
  {
   "cell_type": "code",
   "execution_count": 48,
   "metadata": {
    "code_folding": [
    ],
    "collapsed": false
   },
   "outputs": [
    {
     "name": "stdout",
     "output_type": "stream",
     "text": [
      "Q10 results: df.shape (88, 3)\n"
     ]
    },
    {
     "data": {
      "text/html": [
       "<div>\n",
       "<style scoped>\n",
       "    .dataframe tbody tr th:only-of-type {\n",
       "        vertical-align: middle;\n",
       "    }\n",
       "\n",
       "    .dataframe tbody tr th {\n",
       "        vertical-align: top;\n",
       "    }\n",
       "\n",
       "    .dataframe thead th {\n",
       "        text-align: right;\n",
       "    }\n",
       "</style>\n",
       "<table border=\"1\" class=\"dataframe\">\n",
       "  <thead>\n",
       "    <tr style=\"text-align: right;\">\n",
       "      <th></th>\n",
       "      <th>chebi</th>\n",
       "      <th>chebiUniprotName</th>\n",
       "      <th>countRhea</th>\n",
       "    </tr>\n",
       "  </thead>\n",
       "  <tbody>\n",
       "    <tr>\n",
       "      <th>0</th>\n",
       "      <td>CHEBI_88756</td>\n",
       "      <td>(6Z,9Z,12Z-octadecatrienoyl)-cholesterol</td>\n",
       "      <td>1</td>\n",
       "    </tr>\n",
       "    <tr>\n",
       "      <th>1</th>\n",
       "      <td>CHEBI_17703</td>\n",
       "      <td>26-hydroxycholesterol</td>\n",
       "      <td>3</td>\n",
       "    </tr>\n",
       "    <tr>\n",
       "      <th>2</th>\n",
       "      <td>CHEBI_180497</td>\n",
       "      <td>7-oxo-25-hydroxycholesterol</td>\n",
       "      <td>1</td>\n",
       "    </tr>\n",
       "    <tr>\n",
       "      <th>3</th>\n",
       "      <td>CHEBI_87653</td>\n",
       "      <td>(25R)-3beta,26-dihydroxycholest-5-en-7-one</td>\n",
       "      <td>2</td>\n",
       "    </tr>\n",
       "    <tr>\n",
       "      <th>4</th>\n",
       "      <td>CHEBI_84341</td>\n",
       "      <td>(9Z,12Z,15Z-octadecatrienoyl)-cholesterol</td>\n",
       "      <td>2</td>\n",
       "    </tr>\n",
       "  </tbody>\n",
       "</table>\n",
       "</div>"
      ],
      "text/plain": [
       "          chebi                            chebiUniprotName countRhea\n",
       "0   CHEBI_88756    (6Z,9Z,12Z-octadecatrienoyl)-cholesterol         1\n",
       "1   CHEBI_17703                       26-hydroxycholesterol         3\n",
       "2  CHEBI_180497                 7-oxo-25-hydroxycholesterol         1\n",
       "3   CHEBI_87653  (25R)-3beta,26-dihydroxycholest-5-en-7-one         2\n",
       "4   CHEBI_84341   (9Z,12Z,15Z-octadecatrienoyl)-cholesterol         2"
      ]
     },
     "execution_count": 48,
     "metadata": {
     },
     "output_type": "execute_result"
    }
   ],
   "source": [
    "try:\n",
    "    df  = sparql2pandas(Q10,sparql_rhea_url)\n",
    "except Exception as e:\n",
    "    print('ERROR in SPARQL query 11')\n",
    "    print(e)\n",
    "\n",
    "print('Q10 results: df.shape',df.shape)\n",
    "\n",
    "# Display the 5 first rows\n",
    "df.head(5)"
   ]
  },
  {
   "cell_type": "markdown",
   "metadata": {
    "collapsed": false
   },
   "source": [
    "# Retrieve stoichiometric coefficients -- EXPLAIN COEFF\n"
   ]
  },
  {
   "cell_type": "markdown",
   "metadata": {
    "collapsed": false
   },
   "source": [
    "## Q5: Q4 + stoichiometric coefficient and type of participants\n",
    "\n",
    "<div>\n",
    "<img src=\"Image/rhea_reactionParticipant.png\" alt=“rh:ReactionParticipant” width=\"80%\" height=\"80%\" border=1/>\n",
    "</div>\n",
    "\n",
    "<div>\n",
    "<img src=\"Image/rhea_contains.png\" alt=“rh:contains” width=\"80%\" height=\"80%\" border=1/>\n",
    "</div>\n",
    "\n"
   ]
  },
  {
   "cell_type": "code",
   "execution_count": 49,
   "metadata": {
    "collapsed": false
   },
   "outputs": [
    {
     "name": "stdout",
     "output_type": "stream",
     "text": [
      "\n",
      "#endpoint:https://sparql.rhea-db.org/sparql\n",
      "#query sparql_Q5: Retrieve Rhea reactions, reaction sides, participants and ChEBI \n",
      "\n",
      "PREFIX rdfs:<http://www.w3.org/2000/01/rdf-schema#>\n",
      "PREFIX rh:<http://rdf.rhea-db.org/>\n",
      "\n",
      "SELECT distinct ?rhea\n",
      "                ?reactionSide\n",
      "                ?compoundClass\n",
      "                ?accession\n",
      "                ?coeff\n",
      "                ?chebi\n",
      "\n",
      "WHERE {\n",
      "  VALUES ?compoundClass {\n",
      "    rh:SmallMolecule\n",
      "    rh:GenericPolypeptide\n",
      "    rh:GenericPolynucleotide\n",
      "    rh:Polymer\n",
      "  }\n",
      "  ?rhea rh:side ?reactionSide .\n",
      "  ?reactionSide rh:contains ?participant .\n",
      "  ?participant rh:compound ?compound .\n",
      "\n",
      "  # accession\n",
      "  ?compound rh:accession ?accession .\n",
      "\n",
      "  # stoichiometric coefficient\n",
      "  ?reactionSide ?contains ?participant .\n",
      "  ?contains rdfs:subPropertyOf rh:contains .\n",
      "  ?contains rh:coefficient ?coeff .\n",
      "\n",
      "  # compound class\n",
      "  ?compound rdfs:subClassOf ?compoundClass .\n",
      "\n",
      "  # ChEBI participants\n",
      "  {\n",
      "    ?compound rh:chebi ?chebi .\n",
      "  }\n",
      "  UNION {\n",
      "    ?compound rh:reactivePart/rh:chebi ?chebi .\n",
      "  }\n",
      "  UNION {\n",
      "    ?compound rh:underlyingChebi ?chebi .\n",
      "  }\n",
      "}\n",
      "\n"
     ]
    }
   ],
   "source": [
    "sparql_Q5=\"\"\"\n",
    "#endpoint:https://sparql.rhea-db.org/sparql\n",
    "#query sparql_Q5: Retrieve Rhea reactions, reaction sides, participants and ChEBI \n",
    "\n",
    "PREFIX rdfs:<http://www.w3.org/2000/01/rdf-schema#>\n",
    "PREFIX rh:<http://rdf.rhea-db.org/>\n",
    "\n",
    "SELECT distinct ?rhea\n",
    "                ?reactionSide\n",
    "                ?compoundClass\n",
    "                ?accession\n",
    "                ?coeff\n",
    "                ?chebi\n",
    "\n",
    "WHERE {\n",
    "  VALUES ?compoundClass {\n",
    "    rh:SmallMolecule\n",
    "    rh:GenericPolypeptide\n",
    "    rh:GenericPolynucleotide\n",
    "    rh:Polymer\n",
    "  }\n",
    "  ?rhea rh:side ?reactionSide .\n",
    "  ?reactionSide rh:contains ?participant .\n",
    "  ?participant rh:compound ?compound .\n",
    "\n",
    "  # accession\n",
    "  ?compound rh:accession ?accession .\n",
    "\n",
    "  # stoichiometric coefficient\n",
    "  ?reactionSide ?contains ?participant .\n",
    "  ?contains rdfs:subPropertyOf rh:contains .\n",
    "  ?contains rh:coefficient ?coeff .\n",
    "\n",
    "  # compound class\n",
    "  ?compound rdfs:subClassOf ?compoundClass .\n",
    "\n",
    "  # ChEBI participants\n",
    "  {\n",
    "    ?compound rh:chebi ?chebi .\n",
    "  }\n",
    "  UNION {\n",
    "    ?compound rh:reactivePart/rh:chebi ?chebi .\n",
    "  }\n",
    "  UNION {\n",
    "    ?compound rh:underlyingChebi ?chebi .\n",
    "  }\n",
    "}\n",
    "\"\"\"\n",
    "\n",
    "print(sparql_Q5)"
   ]
  },
  {
   "cell_type": "code",
   "execution_count": 50,
   "metadata": {
    "collapsed": false
   },
   "outputs": [
    {
     "data": {
      "text/html": [
       "<div>\n",
       "<style scoped>\n",
       "    .dataframe tbody tr th:only-of-type {\n",
       "        vertical-align: middle;\n",
       "    }\n",
       "\n",
       "    .dataframe tbody tr th {\n",
       "        vertical-align: top;\n",
       "    }\n",
       "\n",
       "    .dataframe thead th {\n",
       "        text-align: right;\n",
       "    }\n",
       "</style>\n",
       "<table border=\"1\" class=\"dataframe\">\n",
       "  <thead>\n",
       "    <tr style=\"text-align: right;\">\n",
       "      <th></th>\n",
       "      <th>coeff</th>\n",
       "      <th>compoundClass</th>\n",
       "      <th>reactionSide</th>\n",
       "      <th>chebi</th>\n",
       "      <th>rhea</th>\n",
       "      <th>accession</th>\n",
       "    </tr>\n",
       "  </thead>\n",
       "  <tbody>\n",
       "    <tr>\n",
       "      <th>0</th>\n",
       "      <td>1</td>\n",
       "      <td>SmallMolecule</td>\n",
       "      <td>10000_L</td>\n",
       "      <td>CHEBI_15377</td>\n",
       "      <td>10000</td>\n",
       "      <td>CHEBI:15377</td>\n",
       "    </tr>\n",
       "    <tr>\n",
       "      <th>1</th>\n",
       "      <td>1</td>\n",
       "      <td>SmallMolecule</td>\n",
       "      <td>10008_R</td>\n",
       "      <td>CHEBI_15377</td>\n",
       "      <td>10008</td>\n",
       "      <td>CHEBI:15377</td>\n",
       "    </tr>\n",
       "    <tr>\n",
       "      <th>2</th>\n",
       "      <td>1</td>\n",
       "      <td>SmallMolecule</td>\n",
       "      <td>10012_L</td>\n",
       "      <td>CHEBI_15377</td>\n",
       "      <td>10012</td>\n",
       "      <td>CHEBI:15377</td>\n",
       "    </tr>\n",
       "    <tr>\n",
       "      <th>3</th>\n",
       "      <td>1</td>\n",
       "      <td>SmallMolecule</td>\n",
       "      <td>10016_L</td>\n",
       "      <td>CHEBI_15377</td>\n",
       "      <td>10016</td>\n",
       "      <td>CHEBI:15377</td>\n",
       "    </tr>\n",
       "    <tr>\n",
       "      <th>4</th>\n",
       "      <td>1</td>\n",
       "      <td>SmallMolecule</td>\n",
       "      <td>10020_L</td>\n",
       "      <td>CHEBI_15377</td>\n",
       "      <td>10020</td>\n",
       "      <td>CHEBI:15377</td>\n",
       "    </tr>\n",
       "  </tbody>\n",
       "</table>\n",
       "</div>"
      ],
      "text/plain": [
       "  coeff  compoundClass reactionSide        chebi   rhea    accession\n",
       "0     1  SmallMolecule      10000_L  CHEBI_15377  10000  CHEBI:15377\n",
       "1     1  SmallMolecule      10008_R  CHEBI_15377  10008  CHEBI:15377\n",
       "2     1  SmallMolecule      10012_L  CHEBI_15377  10012  CHEBI:15377\n",
       "3     1  SmallMolecule      10016_L  CHEBI_15377  10016  CHEBI:15377\n",
       "4     1  SmallMolecule      10020_L  CHEBI_15377  10020  CHEBI:15377"
      ]
     },
     "execution_count": 50,
     "metadata": {
     },
     "output_type": "execute_result"
    }
   ],
   "source": [
    "try:\n",
    "    df  = sparql2pandas(sparql_Q5,sparql_rhea_url)\n",
    "except Exception as e:\n",
    "    print('ERROR in SPARQL query sparql_Q5')\n",
    "    print(e)\n",
    "\n",
    "# Display the 5 first rows\n",
    "df.head(5)"
   ]
  },
  {
   "cell_type": "markdown",
   "metadata": {
    "collapsed": false
   },
   "source": [
    "### Process results"
   ]
  },
  {
   "cell_type": "code",
   "execution_count": 21,
   "metadata": {
    "collapsed": false
   },
   "outputs": [
    {
     "name": "stdout",
     "output_type": "stream",
     "text": [
      "df.shape (75381, 6)\n"
     ]
    },
    {
     "data": {
      "text/html": [
       "<div>\n",
       "<style scoped>\n",
       "    .dataframe tbody tr th:only-of-type {\n",
       "        vertical-align: middle;\n",
       "    }\n",
       "\n",
       "    .dataframe tbody tr th {\n",
       "        vertical-align: top;\n",
       "    }\n",
       "\n",
       "    .dataframe thead th {\n",
       "        text-align: right;\n",
       "    }\n",
       "</style>\n",
       "<table border=\"1\" class=\"dataframe\">\n",
       "  <thead>\n",
       "    <tr style=\"text-align: right;\">\n",
       "      <th></th>\n",
       "      <th>coeff</th>\n",
       "      <th>compoundClass</th>\n",
       "      <th>chebi</th>\n",
       "      <th>rhea</th>\n",
       "      <th>accession</th>\n",
       "      <th>leftSide</th>\n",
       "    </tr>\n",
       "  </thead>\n",
       "  <tbody>\n",
       "    <tr>\n",
       "      <th>0</th>\n",
       "      <td>1</td>\n",
       "      <td>SmallMolecule</td>\n",
       "      <td>15377</td>\n",
       "      <td>10000</td>\n",
       "      <td>CHEBI:15377</td>\n",
       "      <td>1</td>\n",
       "    </tr>\n",
       "    <tr>\n",
       "      <th>1</th>\n",
       "      <td>1</td>\n",
       "      <td>SmallMolecule</td>\n",
       "      <td>15377</td>\n",
       "      <td>10008</td>\n",
       "      <td>CHEBI:15377</td>\n",
       "      <td>0</td>\n",
       "    </tr>\n",
       "    <tr>\n",
       "      <th>2</th>\n",
       "      <td>1</td>\n",
       "      <td>SmallMolecule</td>\n",
       "      <td>15377</td>\n",
       "      <td>10012</td>\n",
       "      <td>CHEBI:15377</td>\n",
       "      <td>1</td>\n",
       "    </tr>\n",
       "    <tr>\n",
       "      <th>3</th>\n",
       "      <td>1</td>\n",
       "      <td>SmallMolecule</td>\n",
       "      <td>15377</td>\n",
       "      <td>10016</td>\n",
       "      <td>CHEBI:15377</td>\n",
       "      <td>1</td>\n",
       "    </tr>\n",
       "    <tr>\n",
       "      <th>4</th>\n",
       "      <td>1</td>\n",
       "      <td>SmallMolecule</td>\n",
       "      <td>15377</td>\n",
       "      <td>10020</td>\n",
       "      <td>CHEBI:15377</td>\n",
       "      <td>1</td>\n",
       "    </tr>\n",
       "  </tbody>\n",
       "</table>\n",
       "</div>"
      ],
      "text/plain": [
       "  coeff  compoundClass  chebi   rhea    accession  leftSide\n",
       "0     1  SmallMolecule  15377  10000  CHEBI:15377         1\n",
       "1     1  SmallMolecule  15377  10008  CHEBI:15377         0\n",
       "2     1  SmallMolecule  15377  10012  CHEBI:15377         1\n",
       "3     1  SmallMolecule  15377  10016  CHEBI:15377         1\n",
       "4     1  SmallMolecule  15377  10020  CHEBI:15377         1"
      ]
     },
     "execution_count": 21,
     "metadata": {
     },
     "output_type": "execute_result"
    }
   ],
   "source": [
    "# Rhea ID as integer\n",
    "df.rhea = df.rhea.astype(int)\n",
    "# ChEBI ID as integer\n",
    "df.chebi = df.chebi.str.replace('CHEBI_','').astype(int)\n",
    "\n",
    "# Replace reactionSide accessions (e.g 10000_L,10000_R) by leftSide = 1 | 0\n",
    "df['leftSide'] = np.where(df.reactionSide.str.split(pat='_').str.get(-1)  == 'L',1,0)\n",
    "# remove reactionSide\n",
    "df = df.drop(columns=['reactionSide']).copy()\n",
    "\n",
    "\n",
    "print('df.shape',df.shape)\n",
    "\n",
    "df.head()"
   ]
  },
  {
   "cell_type": "markdown",
   "metadata": {
    "collapsed": false
   },
   "source": [
    "### Retrieve data for RHEA:10000"
   ]
  },
  {
   "cell_type": "code",
   "execution_count": 51,
   "metadata": {
    "collapsed": false,
    "scrolled": true
   },
   "outputs": [
    {
     "data": {
      "text/html": [
       "<div>\n",
       "<style scoped>\n",
       "    .dataframe tbody tr th:only-of-type {\n",
       "        vertical-align: middle;\n",
       "    }\n",
       "\n",
       "    .dataframe tbody tr th {\n",
       "        vertical-align: top;\n",
       "    }\n",
       "\n",
       "    .dataframe thead th {\n",
       "        text-align: right;\n",
       "    }\n",
       "</style>\n",
       "<table border=\"1\" class=\"dataframe\">\n",
       "  <thead>\n",
       "    <tr style=\"text-align: right;\">\n",
       "      <th></th>\n",
       "      <th>coeff</th>\n",
       "      <th>compoundClass</th>\n",
       "      <th>reactionSide</th>\n",
       "      <th>chebi</th>\n",
       "      <th>rhea</th>\n",
       "      <th>accession</th>\n",
       "    </tr>\n",
       "  </thead>\n",
       "  <tbody>\n",
       "  </tbody>\n",
       "</table>\n",
       "</div>"
      ],
      "text/plain": [
       "Empty DataFrame\n",
       "Columns: [coeff, compoundClass, reactionSide, chebi, rhea, accession]\n",
       "Index: []"
      ]
     },
     "execution_count": 51,
     "metadata": {
     },
     "output_type": "execute_result"
    }
   ],
   "source": [
    "df[df.rhea==10000]"
   ]
  },
  {
   "cell_type": "markdown",
   "metadata": {
    "collapsed": false
   },
   "source": [
    "# Protonation states\n",
    "\n",
    "<div>\n",
    "<img src=\"Image/chebi_protonation_states.png\" alt=“Protonation states in ChEBI” width=\"70%\" height=\"70%\" border=1/>\n",
    "</div>\n",
    "\n",
    "<div>\n",
    "<img src=\"Image/SIB_compound_normalization.png\" alt=“SIB compound normalization” width=\"70%\" height=\"70%\" border=1/>\n",
    "</div>\n"
   ]
  },
  {
   "cell_type": "code",
   "execution_count": 52,
   "metadata": {
    "collapsed": false
   },
   "outputs": [
    {
     "name": "stdout",
     "output_type": "stream",
     "text": [
      "\n",
      "#endpoint:https://sparql.rhea-db.org/sparql\n",
      "# Query 10\n",
      "# Query: retrieve the protonation state used in Rhea\n",
      "# \n",
      "# This query corresponds to the Rhea web site query :\n",
      "# https://www.rhea-db.org/rhea?query=chebi:16015\n",
      "#\n",
      "PREFIX rh:<http://rdf.rhea-db.org/>\n",
      "PREFIX CHEBI:<http://purl.obolibrary.org/obo/CHEBI_>\n",
      "PREFIX chebihash: <http://purl.obolibrary.org/obo/chebi#>\n",
      "PREFIX up:<http://purl.uniprot.org/core/>\n",
      "\n",
      "SELECT distinct ?query ?query_label ?chebi ?chebi_label ?chebiUniprotName\n",
      "WHERE {\n",
      "  BIND(CHEBI:16015 AS ?query)\n",
      "  ?rhea rdfs:subClassOf rh:Reaction .\n",
      "  ?rhea rh:side/rh:contains/rh:compound ?compound .\n",
      "  {\n",
      "    ?compound rh:chebi ?query .\n",
      "  }\n",
      "  UNION\n",
      "  {\n",
      "    ?query rdfs:subClassOf ?chebiRestriction .\n",
      "    ?chebiRestriction a owl:Restriction .\n",
      "    ?chebiRestriction owl:onProperty chebihash:has_major_microspecies_at_pH_7_3 .\n",
      "    ?chebiRestriction owl:someValuesFrom ?chebi .\n",
      "\n",
      "    ?compound (rh:chebi|(rh:reactivePart/rh:chebi)|(rh:underlyingChebi/rh:chebi)) ?chebi .\n",
      "  }\n",
      "  ?chebi up:name ?chebiUniprotName .\n",
      "  ?chebi rdfs:label ?chebi_label .\n",
      "  ?query rdfs:label ?query_label .\n",
      "}\n",
      "\n"
     ]
    }
   ],
   "source": [
    "# L-glutamic acid\n",
    "chebi = '16015'\n",
    "sparql_Q10=\"\"\"\n",
    "#endpoint:https://sparql.rhea-db.org/sparql\n",
    "# Query 10\n",
    "# Query: retrieve the protonation state used in Rhea\n",
    "# \n",
    "# This query corresponds to the Rhea web site query :\n",
    "# https://www.rhea-db.org/rhea?query=chebi:16015\n",
    "#\n",
    "PREFIX rh:<http://rdf.rhea-db.org/>\n",
    "PREFIX CHEBI:<http://purl.obolibrary.org/obo/CHEBI_>\n",
    "PREFIX chebihash: <http://purl.obolibrary.org/obo/chebi#>\n",
    "PREFIX up:<http://purl.uniprot.org/core/>\n",
    "\n",
    "SELECT distinct ?query ?query_label ?chebi ?chebi_label ?chebiUniprotName\n",
    "WHERE {\n",
    "  BIND(CHEBI:\"\"\" +chebi+\"\"\" AS ?query)\n",
    "  ?rhea rdfs:subClassOf rh:Reaction .\n",
    "  ?rhea rh:side/rh:contains/rh:compound ?compound .\n",
    "  {\n",
    "    ?compound rh:chebi ?query .\n",
    "  }\n",
    "  UNION\n",
    "  {\n",
    "    ?query rdfs:subClassOf ?chebiRestriction .\n",
    "    ?chebiRestriction a owl:Restriction .\n",
    "    ?chebiRestriction owl:onProperty chebihash:has_major_microspecies_at_pH_7_3 .\n",
    "    ?chebiRestriction owl:someValuesFrom ?chebi .\n",
    "\n",
    "    ?compound (rh:chebi|(rh:reactivePart/rh:chebi)|(rh:underlyingChebi/rh:chebi)) ?chebi .\n",
    "  }\n",
    "  ?chebi up:name ?chebiUniprotName .\n",
    "  ?chebi rdfs:label ?chebi_label .\n",
    "  ?query rdfs:label ?query_label .\n",
    "}\n",
    "\"\"\"\n",
    "\n",
    "print(sparql_Q10)"
   ]
  },
  {
   "cell_type": "code",
   "execution_count": 53,
   "metadata": {
    "collapsed": false
   },
   "outputs": [
    {
     "name": "stdout",
     "output_type": "stream",
     "text": [
      "df.shape (1, 5)\n"
     ]
    },
    {
     "data": {
      "text/html": [
       "<div>\n",
       "<style scoped>\n",
       "    .dataframe tbody tr th:only-of-type {\n",
       "        vertical-align: middle;\n",
       "    }\n",
       "\n",
       "    .dataframe tbody tr th {\n",
       "        vertical-align: top;\n",
       "    }\n",
       "\n",
       "    .dataframe thead th {\n",
       "        text-align: right;\n",
       "    }\n",
       "</style>\n",
       "<table border=\"1\" class=\"dataframe\">\n",
       "  <thead>\n",
       "    <tr style=\"text-align: right;\">\n",
       "      <th></th>\n",
       "      <th>query</th>\n",
       "      <th>query_label</th>\n",
       "      <th>chebi</th>\n",
       "      <th>chebiUniprotName</th>\n",
       "      <th>chebi_label</th>\n",
       "    </tr>\n",
       "  </thead>\n",
       "  <tbody>\n",
       "    <tr>\n",
       "      <th>0</th>\n",
       "      <td>CHEBI_16015</td>\n",
       "      <td>L-glutamic acid</td>\n",
       "      <td>CHEBI_29985</td>\n",
       "      <td>L-glutamate</td>\n",
       "      <td>L-glutamate(1-)</td>\n",
       "    </tr>\n",
       "  </tbody>\n",
       "</table>\n",
       "</div>"
      ],
      "text/plain": [
       "         query      query_label        chebi chebiUniprotName      chebi_label\n",
       "0  CHEBI_16015  L-glutamic acid  CHEBI_29985      L-glutamate  L-glutamate(1-)"
      ]
     },
     "execution_count": 53,
     "metadata": {
     },
     "output_type": "execute_result"
    }
   ],
   "source": [
    "try:\n",
    "    df  = sparql2pandas(sparql_Q10,sparql_rhea_url)\n",
    "except Exception as e:\n",
    "    print('ERROR in SPARQL query sparql_Q10')\n",
    "    print(e)\n",
    "    stop\n",
    "\n",
    "print('df.shape',df.shape)\n",
    "# Display result\n",
    "df"
   ]
  },
  {
   "cell_type": "code",
   "execution_count": 0,
   "metadata": {
    "collapsed": false
   },
   "outputs": [
   ],
   "source": [
   ]
  },
  {
   "cell_type": "markdown",
   "metadata": {
    "collapsed": false
   },
   "source": [
    "## <span style='color:blue'>Exercise: Retrieve all lipids used in Rhea \\(hierarchical search \\+ protonation states\\)</span>\n",
    "\n",
    "tips: CHEBI:18059 (lipid)\n",
    "\n"
   ]
  },
  {
   "cell_type": "code",
   "execution_count": 60,
   "metadata": {
    "collapsed": false
   },
   "outputs": [
    {
     "name": "stdout",
     "output_type": "stream",
     "text": [
      "\n",
      "#endpoint:https://sparql.rhea-db.org/sparql\n",
      "#query Q9: Select Rhea reactions using CHEBI:31488 (N-acylsphinganine) or one of its descendant as reaction participant\n",
      "\n",
      "PREFIX rh:<http://rdf.rhea-db.org/>\n",
      "PREFIX CHEBI:<http://purl.obolibrary.org/obo/CHEBI_>\n",
      "PREFIX up:<http://purl.uniprot.org/core/>\n",
      "\n",
      "SELECT distinct ?chebi ?chebiUniprotName ?rhea ?equation \n",
      "WHERE {\n",
      "  ?rhea rdfs:subClassOf rh:Reaction .\n",
      "  ?rhea rh:equation ?equation .\n",
      "  ?rhea rh:side/rh:contains/rh:compound/rh:chebi ?chebi .\n",
      "  ?chebi rdfs:subClassOf/rdfs:subClassOf/rdfs:subClassOf CHEBI:18059 .\n",
      "  ?chebi up:name ?chebiUniprotName .\n",
      "}\n",
      "ORDER BY ?chebi\n",
      "\n"
     ]
    }
   ],
   "source": [
    "# Put your code here\n",
    "\n",
    "\n",
    "\n",
    "chebi = '18059'\n",
    "\n",
    "sparql_QEx4=\"\"\"\n",
    "#endpoint:https://sparql.rhea-db.org/sparql\n",
    "#query Q9: Select Rhea reactions using CHEBI:31488 (N-acylsphinganine) or one of its descendant as reaction participant\n",
    "\n",
    "PREFIX rh:<http://rdf.rhea-db.org/>\n",
    "PREFIX CHEBI:<http://purl.obolibrary.org/obo/CHEBI_>\n",
    "PREFIX up:<http://purl.uniprot.org/core/>\n",
    "\n",
    "SELECT distinct ?chebi ?chebiUniprotName ?rhea ?equation \n",
    "WHERE {\n",
    "  ?rhea rdfs:subClassOf rh:Reaction .\n",
    "  ?rhea rh:equation ?equation .\n",
    "  ?rhea rh:side/rh:contains/rh:compound/rh:chebi ?chebi .\n",
    "  ?chebi rdfs:subClassOf/rdfs:subClassOf/rdfs:subClassOf CHEBI:\"\"\" + chebi + \"\"\" .\n",
    "  ?chebi up:name ?chebiUniprotName .\n",
    "}\n",
    "ORDER BY ?chebi\n",
    "\"\"\"\n",
    "\n",
    "\n",
    "print(sparql_QEx4)"
   ]
  },
  {
   "cell_type": "code",
   "execution_count": 61,
   "metadata": {
    "collapsed": false
   },
   "outputs": [
    {
     "data": {
      "text/html": [
       "<div>\n",
       "<style scoped>\n",
       "    .dataframe tbody tr th:only-of-type {\n",
       "        vertical-align: middle;\n",
       "    }\n",
       "\n",
       "    .dataframe tbody tr th {\n",
       "        vertical-align: top;\n",
       "    }\n",
       "\n",
       "    .dataframe thead th {\n",
       "        text-align: right;\n",
       "    }\n",
       "</style>\n",
       "<table border=\"1\" class=\"dataframe\">\n",
       "  <thead>\n",
       "    <tr style=\"text-align: right;\">\n",
       "      <th></th>\n",
       "      <th>chebi</th>\n",
       "      <th>chebiUniprotName</th>\n",
       "      <th>rhea</th>\n",
       "      <th>equation</th>\n",
       "    </tr>\n",
       "  </thead>\n",
       "  <tbody>\n",
       "    <tr>\n",
       "      <th>0</th>\n",
       "      <td>CHEBI_10036</td>\n",
       "      <td>a wax ester</td>\n",
       "      <td>38443</td>\n",
       "      <td>a fatty acyl-CoA + a long chain fatty alcohol = a wax ester + CoA</td>\n",
       "    </tr>\n",
       "    <tr>\n",
       "      <th>1</th>\n",
       "      <td>CHEBI_10036</td>\n",
       "      <td>a wax ester</td>\n",
       "      <td>13577</td>\n",
       "      <td>a wax ester + H2O = a long chain fatty alcohol + a long-chain fatty acid + H(+)</td>\n",
       "    </tr>\n",
       "    <tr>\n",
       "      <th>2</th>\n",
       "      <td>CHEBI_11320</td>\n",
       "      <td>13-hydroxydocosanoate</td>\n",
       "      <td>22316</td>\n",
       "      <td>13-hydroxydocosanoate + UDP-alpha-D-glucose = 13-(beta-D-glucosyloxy)docosanoate + H(+) + UDP</td>\n",
       "    </tr>\n",
       "    <tr>\n",
       "      <th>3</th>\n",
       "      <td>CHEBI_11851</td>\n",
       "      <td>3-methyl-2-oxobutanoate</td>\n",
       "      <td>24809</td>\n",
       "      <td>(2R)-2,3-dihydroxy-3-methylbutanoate = 3-methyl-2-oxobutanoate + H2O</td>\n",
       "    </tr>\n",
       "    <tr>\n",
       "      <th>4</th>\n",
       "      <td>CHEBI_11851</td>\n",
       "      <td>3-methyl-2-oxobutanoate</td>\n",
       "      <td>11824</td>\n",
       "      <td>(6R)-5,10-methylene-5,6,7,8-tetrahydrofolate + 3-methyl-2-oxobutanoate + H2O = (6S)-5,6,7,8-tetrahydrofolate + 2-dehydropantoate</td>\n",
       "    </tr>\n",
       "    <tr>\n",
       "      <th>...</th>\n",
       "      <td>...</td>\n",
       "      <td>...</td>\n",
       "      <td>...</td>\n",
       "      <td>...</td>\n",
       "    </tr>\n",
       "    <tr>\n",
       "      <th>1855</th>\n",
       "      <td>CHEBI_91294</td>\n",
       "      <td>12,18-dihydroxyoctadecanoate</td>\n",
       "      <td>49376</td>\n",
       "      <td>12-hydroxyoctadecanoate + O2 + reduced [NADPH--hemoprotein reductase] = 12,18-dihydroxyoctadecanoate + H(+) + H2O + oxidized [NADPH--hemoprotein reductase]</td>\n",
       "    </tr>\n",
       "    <tr>\n",
       "      <th>1856</th>\n",
       "      <td>CHEBI_91295</td>\n",
       "      <td>(12R)-hydroxy-(9Z)-octadecenoate</td>\n",
       "      <td>49384</td>\n",
       "      <td>(12R)-hydroxy-(9Z)-octadecenoate + O2 + reduced [NADPH--hemoprotein reductase] = (12R),18-dihydroxy-(9Z)-octadecenoate + H(+) + H2O + oxidized [NADPH--hemoprotein reductase]</td>\n",
       "    </tr>\n",
       "    <tr>\n",
       "      <th>1857</th>\n",
       "      <td>CHEBI_91295</td>\n",
       "      <td>(12R)-hydroxy-(9Z)-octadecenoate</td>\n",
       "      <td>55956</td>\n",
       "      <td>(9Z)-octadecenoate + AH2 + O2 = (12R)-hydroxy-(9Z)-octadecenoate + A + H2O</td>\n",
       "    </tr>\n",
       "    <tr>\n",
       "      <th>1858</th>\n",
       "      <td>CHEBI_91300</td>\n",
       "      <td>(12R),18-dihydroxy-(9Z)-octadecenoate</td>\n",
       "      <td>49384</td>\n",
       "      <td>(12R)-hydroxy-(9Z)-octadecenoate + O2 + reduced [NADPH--hemoprotein reductase] = (12R),18-dihydroxy-(9Z)-octadecenoate + H(+) + H2O + oxidized [NADPH--hemoprotein reductase]</td>\n",
       "    </tr>\n",
       "    <tr>\n",
       "      <th>1859</th>\n",
       "      <td>CHEBI_91301</td>\n",
       "      <td>5,20-dihydroxy-(6E,8Z,11Z,14Z,17Z)-eicosapentaenoate</td>\n",
       "      <td>49380</td>\n",
       "      <td>5-hydroxy-(6E,8Z,11Z,14Z,17Z)-eicosapentaenoate + O2 + reduced [NADPH--hemoprotein reductase] = 5,20-dihydroxy-(6E,8Z,11Z,14Z,17Z)-eicosapentaenoate + H(+) + H2O + oxidized [NADPH--hemoprotein red...</td>\n",
       "    </tr>\n",
       "  </tbody>\n",
       "</table>\n",
       "<p>1860 rows × 4 columns</p>\n",
       "</div>"
      ],
      "text/plain": [
       "            chebi                                      chebiUniprotName  \\\n",
       "0     CHEBI_10036                                           a wax ester   \n",
       "1     CHEBI_10036                                           a wax ester   \n",
       "2     CHEBI_11320                                 13-hydroxydocosanoate   \n",
       "3     CHEBI_11851                               3-methyl-2-oxobutanoate   \n",
       "4     CHEBI_11851                               3-methyl-2-oxobutanoate   \n",
       "...           ...                                                   ...   \n",
       "1855  CHEBI_91294                          12,18-dihydroxyoctadecanoate   \n",
       "1856  CHEBI_91295                      (12R)-hydroxy-(9Z)-octadecenoate   \n",
       "1857  CHEBI_91295                      (12R)-hydroxy-(9Z)-octadecenoate   \n",
       "1858  CHEBI_91300                 (12R),18-dihydroxy-(9Z)-octadecenoate   \n",
       "1859  CHEBI_91301  5,20-dihydroxy-(6E,8Z,11Z,14Z,17Z)-eicosapentaenoate   \n",
       "\n",
       "       rhea  \\\n",
       "0     38443   \n",
       "1     13577   \n",
       "2     22316   \n",
       "3     24809   \n",
       "4     11824   \n",
       "...     ...   \n",
       "1855  49376   \n",
       "1856  49384   \n",
       "1857  55956   \n",
       "1858  49384   \n",
       "1859  49380   \n",
       "\n",
       "                                                                                                                                                                                                     equation  \n",
       "0                                                                                                                                           a fatty acyl-CoA + a long chain fatty alcohol = a wax ester + CoA  \n",
       "1                                                                                                                             a wax ester + H2O = a long chain fatty alcohol + a long-chain fatty acid + H(+)  \n",
       "2                                                                                                               13-hydroxydocosanoate + UDP-alpha-D-glucose = 13-(beta-D-glucosyloxy)docosanoate + H(+) + UDP  \n",
       "3                                                                                                                                        (2R)-2,3-dihydroxy-3-methylbutanoate = 3-methyl-2-oxobutanoate + H2O  \n",
       "4                                                                            (6R)-5,10-methylene-5,6,7,8-tetrahydrofolate + 3-methyl-2-oxobutanoate + H2O = (6S)-5,6,7,8-tetrahydrofolate + 2-dehydropantoate  \n",
       "...                                                                                                                                                                                                       ...  \n",
       "1855                                              12-hydroxyoctadecanoate + O2 + reduced [NADPH--hemoprotein reductase] = 12,18-dihydroxyoctadecanoate + H(+) + H2O + oxidized [NADPH--hemoprotein reductase]  \n",
       "1856                            (12R)-hydroxy-(9Z)-octadecenoate + O2 + reduced [NADPH--hemoprotein reductase] = (12R),18-dihydroxy-(9Z)-octadecenoate + H(+) + H2O + oxidized [NADPH--hemoprotein reductase]  \n",
       "1857                                                                                                                               (9Z)-octadecenoate + AH2 + O2 = (12R)-hydroxy-(9Z)-octadecenoate + A + H2O  \n",
       "1858                            (12R)-hydroxy-(9Z)-octadecenoate + O2 + reduced [NADPH--hemoprotein reductase] = (12R),18-dihydroxy-(9Z)-octadecenoate + H(+) + H2O + oxidized [NADPH--hemoprotein reductase]  \n",
       "1859  5-hydroxy-(6E,8Z,11Z,14Z,17Z)-eicosapentaenoate + O2 + reduced [NADPH--hemoprotein reductase] = 5,20-dihydroxy-(6E,8Z,11Z,14Z,17Z)-eicosapentaenoate + H(+) + H2O + oxidized [NADPH--hemoprotein red...  \n",
       "\n",
       "[1860 rows x 4 columns]"
      ]
     },
     "execution_count": 61,
     "metadata": {
     },
     "output_type": "execute_result"
    }
   ],
   "source": [
    "try:\n",
    "    df  = sparql2pandas(sparql_QEx4,sparql_rhea_url)\n",
    "except Exception as e:\n",
    "    print('ERROR in SPARQL query sparql_QEx4')\n",
    "    print(e)\n",
    "    stop\n",
    "\n",
    "# Display result\n",
    "df"
   ]
  },
  {
   "cell_type": "code",
   "execution_count": 0,
   "metadata": {
    "collapsed": false
   },
   "outputs": [
   ],
   "source": [
   ]
  }
 ],
 "metadata": {
  "hide_input": false,
  "kernelspec": {
   "display_name": "Python 3 (Anaconda 2021)",
   "env": {
    "ADDR2LINE": "/ext/anaconda2021.11/bin/x86_64-conda_cos6-linux-gnu-addr2line",
    "ANACONDA2021": "/ext/anaconda2021.11",
    "ANACONDA3": "$EXT/anaconda3",
    "ANACONDA5": "$EXT/anaconda5",
    "AR": "/ext/anaconda2021.11/bin/x86_64-conda_cos6-linux-gnu-ar",
    "AS": "/ext/anaconda2021.11/bin/x86_64-conda_cos6-linux-gnu-as",
    "CC": "/ext/anaconda2021.11/bin/x86_64-conda_cos6-linux-gnu-cc",
    "CFLAGS": "-march=nocona -mtune=haswell -ftree-vectorize -fPIC -fstack-protector-strong -fno-plt -O2 -ffunction-sections -pipe -isystem /ext/anaconda2021.11/include",
    "CMAKE_PREFIX_PATH": "/ext/anaconda2021.11:/ext/anaconda2021.11/x86_64-conda_cos6-linux-gnu/sysroot/usr",
    "CONDA_BACKUP_HOST": "x86_64-conda_cos6-linux-gnu",
    "CONDA_BUILD_SYSROOT": "/ext/anaconda2021.11/x86_64-conda_cos6-linux-gnu/sysroot",
    "CONDA_DEFAULT_ENV": "base",
    "CONDA_EXE": "/ext/anaconda2021.11/bin/conda",
    "CONDA_MKL_INTERFACE_LAYER_BACKUP": "",
    "CONDA_PREFIX": "/ext/anaconda2021.11",
    "CONDA_PROMPT_MODIFIER": "(base) ",
    "CONDA_PYTHON_EXE": "/ext/anaconda2021.11/bin/python",
    "CONDA_SHLVL": "1",
    "CPP": "/ext/anaconda2021.11/bin/x86_64-conda_cos6-linux-gnu-cpp",
    "CPPFLAGS": "-DNDEBUG -D_FORTIFY_SOURCE=2 -O2 -isystem /ext/anaconda2021.11/include",
    "CXX": "/ext/anaconda2021.11/bin/x86_64-conda_cos6-linux-gnu-c++",
    "CXXFILT": "/ext/anaconda2021.11/bin/x86_64-conda_cos6-linux-gnu-c++filt",
    "CXXFLAGS": "-fvisibility-inlines-hidden -std=c++17 -fmessage-length=0 -march=nocona -mtune=haswell -ftree-vectorize -fPIC -fstack-protector-strong -fno-plt -O2 -ffunction-sections -pipe -isystem /ext/anaconda2021.11/include",
    "DEBUG_CFLAGS": "-march=nocona -mtune=haswell -ftree-vectorize -fPIC -fstack-protector-all -fno-plt -Og -g -Wall -Wextra -fvar-tracking-assignments -ffunction-sections -pipe -isystem /ext/anaconda2021.11/include",
    "DEBUG_CPPFLAGS": "-D_DEBUG -D_FORTIFY_SOURCE=2 -Og -isystem /ext/anaconda2021.11/include",
    "DEBUG_CXXFLAGS": "-fvisibility-inlines-hidden -std=c++17 -fmessage-length=0 -march=nocona -mtune=haswell -ftree-vectorize -fPIC -fstack-protector-all -fno-plt -Og -g -Wall -Wextra -fvar-tracking-assignments -ffunction-sections -pipe -isystem /ext/anaconda2021.11/include",
    "DEBUG_FFLAGS": "-fopenmp -march=nocona -mtune=haswell -ftree-vectorize -fPIC -fstack-protector-strong -fno-plt -O2 -ffunction-sections -pipe -isystem /ext/anaconda2021.11/include -fopenmp -march=nocona -mtune=haswell -ftree-vectorize -fPIC -fstack-protector-all -fno-plt -Og -g -Wall -Wextra -fcheck=all -fbacktrace -fimplicit-none -fvar-tracking-assignments -ffunction-sections -pipe",
    "DEBUG_FORTRANFLAGS": "-fopenmp -march=nocona -mtune=haswell -ftree-vectorize -fPIC -fstack-protector-strong -fno-plt -O2 -ffunction-sections -pipe -isystem /ext/anaconda2021.11/include -fopenmp -march=nocona -mtune=haswell -ftree-vectorize -fPIC -fstack-protector-all -fno-plt -Og -g -Wall -Wextra -fcheck=all -fbacktrace -fimplicit-none -fvar-tracking-assignments -ffunction-sections -pipe",
    "ELFEDIT": "/ext/anaconda2021.11/bin/x86_64-conda_cos6-linux-gnu-elfedit",
    "F77": "/ext/anaconda2021.11/bin/x86_64-conda_cos6-linux-gnu-gfortran",
    "F90": "/ext/anaconda2021.11/bin/x86_64-conda_cos6-linux-gnu-gfortran",
    "F95": "/ext/anaconda2021.11/bin/x86_64-conda_cos6-linux-gnu-f95",
    "FC": "/ext/anaconda2021.11/bin/x86_64-conda_cos6-linux-gnu-gfortran",
    "FFLAGS": "-fopenmp -march=nocona -mtune=haswell -ftree-vectorize -fPIC -fstack-protector-strong -fno-plt -O2 -ffunction-sections -pipe -isystem /ext/anaconda2021.11/include",
    "FORTRANFLAGS": "-fopenmp -march=nocona -mtune=haswell -ftree-vectorize -fPIC -fstack-protector-strong -fno-plt -O2 -ffunction-sections -pipe -isystem /ext/anaconda2021.11/include",
    "GCC": "/ext/anaconda2021.11/bin/x86_64-conda_cos6-linux-gnu-gcc",
    "GCC_AR": "/ext/anaconda2021.11/bin/x86_64-conda_cos6-linux-gnu-gcc-ar",
    "GCC_NM": "/ext/anaconda2021.11/bin/x86_64-conda_cos6-linux-gnu-gcc-nm",
    "GCC_RANLIB": "/ext/anaconda2021.11/bin/x86_64-conda_cos6-linux-gnu-gcc-ranlib",
    "GDAL_DATA": "/ext/anaconda2021.11/share/gdal",
    "GFORTRAN": "/ext/anaconda2021.11/bin/x86_64-conda_cos6-linux-gnu-gfortran",
    "GPROF": "/ext/anaconda2021.11/bin/x86_64-conda_cos6-linux-gnu-gprof",
    "GXX": "/ext/anaconda2021.11/bin/x86_64-conda_cos6-linux-gnu-g++",
    "JAVA_HOME": "/ext/anaconda2021.11",
    "JAVA_HOME_CONDA_BACKUP": "",
    "JAVA_LD_LIBRARY_PATH": "/ext/anaconda2021.11/lib/server",
    "LD": "/ext/anaconda2021.11/bin/x86_64-conda_cos6-linux-gnu-ld",
    "LDFLAGS": "-Wl,-O2 -Wl,--sort-common -Wl,--as-needed -Wl,-z,relro -Wl,-z,now -Wl,--disable-new-dtags -Wl,--gc-sections -Wl,-rpath,/ext/anaconda2021.11/lib -Wl,-rpath-link,/ext/anaconda2021.11/lib -L/ext/anaconda2021.11/lib",
    "LD_GOLD": "/ext/anaconda2021.11/bin/x86_64-conda_cos6-linux-gnu-ld.gold",
    "LD_LIBRARY_PATH": "/ext/anaconda2021.11/lib",
    "MKL_INTERFACE_LAYER": "LP64,GNU",
    "MKL_THREADING_LAYER": "GNU",
    "NM": "/ext/anaconda2021.11/bin/x86_64-conda_cos6-linux-gnu-nm",
    "OBJCOPY": "/ext/anaconda2021.11/bin/x86_64-conda_cos6-linux-gnu-objcopy",
    "OBJDUMP": "/ext/anaconda2021.11/bin/x86_64-conda_cos6-linux-gnu-objdump",
    "OLDPWD": "/ext/anaconda2021.11",
    "PATH": "/ext/anaconda2021.11/bin:/ext/anaconda2021.11/bin:/ext/anaconda2021.11/condabin:/cocalc/bin:/cocalc/src/smc-project/bin:/home/salvus/bin:/home/salvus/.local/bin:/usr/lib/xpra:/ext/bin:/opt/ghc/bin:/usr/local/sbin:/usr/local/bin:/usr/sbin:/usr/bin:/sbin:/bin:/snap/bin:/usr/lib/postgresql/10/bin:/ext/data/homer/bin:/ext/data/weblogo",
    "PROJ_LIB": "/ext/anaconda2021.11/share/proj",
    "RANLIB": "/ext/anaconda2021.11/bin/x86_64-conda_cos6-linux-gnu-ranlib",
    "READELF": "/ext/anaconda2021.11/bin/x86_64-conda_cos6-linux-gnu-readelf",
    "RSTUDIO_WHICH_R": "/ext/anaconda2021.11/bin/R",
    "SIZE": "/ext/anaconda2021.11/bin/x86_64-conda_cos6-linux-gnu-size",
    "STRINGS": "/ext/anaconda2021.11/bin/x86_64-conda_cos6-linux-gnu-strings",
    "STRIP": "/ext/anaconda2021.11/bin/x86_64-conda_cos6-linux-gnu-strip",
    "_CE_CONDA": "",
    "_CE_M": "",
    "_CONDA_PYTHON_SYSCONFIGDATA_NAME": "_sysconfigdata_x86_64_conda_cos6_linux_gnu"
   },
   "language": "python",
   "metadata": {
    "cocalc": {
     "description": "Anaconda 2021.11 Python 3 environment",
     "priority": 10,
     "url": "https://www.anaconda.com/distribution/"
    }
   },
   "name": "anaconda2021",
   "resource_dir": "/ext/jupyter/kernels/anaconda2021"
  },
  "language_info": {
   "codemirror_mode": {
    "name": "ipython",
    "version": 3
   },
   "file_extension": ".py",
   "mimetype": "text/x-python",
   "name": "python",
   "nbconvert_exporter": "python",
   "pygments_lexer": "ipython3",
   "version": "3.9.7"
  },
  "toc": {
   "base_numbering": 1,
   "nav_menu": {
   },
   "number_sections": true,
   "sideBar": true,
   "skip_h1_title": false,
   "title_cell": "Table of Contents",
   "title_sidebar": "Contents",
   "toc_cell": true,
   "toc_position": {
    "height": "636.667px",
    "left": "166px",
    "top": "109.722px",
    "width": "336.946px"
   },
   "toc_section_display": true,
   "toc_window_display": true
  }
 },
 "nbformat": 4,
 "nbformat_minor": 4
}