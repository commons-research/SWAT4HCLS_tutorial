{
 "cells": [
  {
   "cell_type": "markdown",
   "metadata": {
    "collapsed": false,
    "hideCode": true,
    "hidePrompt": true
   },
   "source": [
    "# Required Python libraries"
   ]
  },
  {
   "cell_type": "code",
   "execution_count": 2,
   "metadata": {
    "collapsed": false,
    "hideCode": true,
    "hidePrompt": true
   },
   "outputs": [],
   "source": [
    "from rdflib import Graph\n",
    "from SPARQLWrapper import SPARQLWrapper, JSON"
   ]
  },
  {
   "cell_type": "markdown",
   "metadata": {
    "collapsed": false,
    "hideCode": true,
    "hidePrompt": true
   },
   "source": [
    "# Basic information\n",
    "\n",
    "This notebook aims to show you basic informations of UniProtKB entries:  \n",
    "- identifier\n",
    "- date\n",
    "- names"
   ]
  },
  {
   "cell_type": "markdown",
   "metadata": {
    "collapsed": false,
    "hideCode": true,
    "hidePrompt": true
   },
   "source": [
    "## Entry identifier\n",
    "\n",
    "Each UniProt entry is identified by a [primary accession](https://www.uniprot.org/help/accession_numbers).\n",
    "This is the best way to access an entry.  \n",
    "In the RDF format the primary accession is part of the IRI identifying an entry.\n",
    "\n"
   ]
  },
  {
   "cell_type": "code",
   "execution_count": 3,
   "metadata": {
    "collapsed": false,
    "hideCode": true,
    "hidePrompt": true
   },
   "outputs": [],
   "source": [
    "entry=Graph().parse(format='ttl',\n",
    "                     data=\"\"\"\n",
    "base <http://purl.uniprot.org/uniprot/>\n",
    "prefix up: <http://purl.uniprot.org/core/>\n",
    "prefix rdf: <http://www.w3.org/1999/02/22-rdf-syntax-ns#>\n",
    "prefix isoform:<http://purl.uniprot.org/isoforms/>\n",
    "<O22340> rdf:type up:Protein ;\n",
    "         up:reviewed true ;\n",
    "         up:created \"2001-10-24\"^^<xsd:date> ;\n",
    "         up:modified \"2015-04-01\"^^<xsd:date> ;\n",
    "         up:version 86 ;\n",
    "         up:mnemonic \"TPSDA_ABIGR\" ;\n",
    "         up:oldMnemonic \"TPSD3_ABIGR\" ,\n",
    "                        \"TSD3_ABIGR\" ;\n",
    "         up:replaces <Q94FV9> ;\n",
    "         up:sequence isoform:O22340-1 .\n",
    "isoform:O22340-1 rdf:type up:Simple_Sequence ;\n",
    "                 up:modified \"1998-01-01\"^^<xsd:date> ;\n",
    "                 up:version 1 .\"\"\")"
   ]
  },
  {
   "cell_type": "code",
   "execution_count": 4,
   "metadata": {
    "collapsed": false
   },
   "outputs": [
    {
     "name": "stdout",
     "output_type": "stream",
     "text": [
      "UniProt entry URI = http://purl.uniprot.org/uniprot/O22340\n"
     ]
    }
   ],
   "source": [
    "qres=entry.query(\"\"\"\n",
    "PREFIX up: <http://purl.uniprot.org/core/> \n",
    "PREFIX uniprotkb: <http://purl.uniprot.org/uniprot/> \n",
    "SELECT ?protein\n",
    "WHERE {\n",
    "  ?protein a up:Protein .\n",
    "}\"\"\")\n",
    "\n",
    "for row in qres:\n",
    "    print(\"UniProt entry URI = %s\" % row)"
   ]
  },
  {
   "cell_type": "markdown",
   "metadata": {
    "collapsed": false,
    "hideCode": true,
    "hidePrompt": true
   },
   "source": [
    "### Extracting a primaryAccession from a IRI\n",
    "\n",
    "This is easy enough with some string manipulation.  \n",
    "While UniProt primary accession are unique within UniProtKB they may be reused by accident or itentionally by other data sources. If we provided them as strings (not URI) and if you used them in a query that way, you might accidentaly retrieve completly wrong records.  \n"
   ]
  },
  {
   "cell_type": "code",
   "execution_count": 5,
   "metadata": {
    "collapsed": false,
    "hideCode": true,
    "hidePrompt": true
   },
   "outputs": [
    {
     "name": "stdout",
     "output_type": "stream",
     "text": [
      "'O22340' is the PrimaryAccession of http://purl.uniprot.org/uniprot/O22340\n"
     ]
    }
   ],
   "source": [
    "qres=entry.query(\"\"\"\n",
    "PREFIX up: <http://purl.uniprot.org/core/> \n",
    "PREFIX uniprotkb: <http://purl.uniprot.org/uniprot/> \n",
    "SELECT ?primaryAccession\n",
    "       ?protein\n",
    "WHERE {\n",
    "  ?protein a up:Protein .\n",
    "  BIND(substr(str(?protein), strlen(str(uniprotkb:))+1) AS ?primaryAccession)\n",
    "}\"\"\")\n",
    "\n",
    "for row in qres:\n",
    "    print(\"'%s' is the PrimaryAccession of %s\" % row)"
   ]
  },
  {
   "cell_type": "markdown",
   "metadata": {
    "collapsed": false,
    "hideCode": true,
    "hidePrompt": true
   },
   "source": [
    "## UniProt entry name (mnemonic)\n",
    "\n",
    "The UniProtKB/Swiss-Prot **entry name** consists of up to 11 uppercase alphanumeric characters with a naming convention that can be symbolized as **X_Y**, where:  \n",
    "\n",
    "- **X** is a mnemonic protein identification code of at most 5 alphanumeric characters  \n",
    "- The **'_'** sign serves as a separator\n",
    "- **Y** is a mnemonic species identification code of at most 5 alphanumeric characters\n",
    "\n",
    "The mnemonic code **X** is an abbreviation of the protein/gene name, which does not necessarily correspond to the recommended protein name or to the gene name.  \n",
    "\n",
    "See more details on [Entry Name](https://www.uniprot.org/help/entry_name) UniProt documentation \n",
    "\n",
    "The RDF format stores the **entry name** in the property `mnemonic` and, for convenience reasons, lists also obsolete entry names with `oldMnemonic` properties."
   ]
  },
  {
   "cell_type": "code",
   "execution_count": 6,
   "metadata": {
    "collapsed": false,
    "hideCode": true,
    "hidePrompt": true
   },
   "outputs": [
    {
     "name": "stdout",
     "output_type": "stream",
     "text": [
      "The entry name of http://purl.uniprot.org/uniprot/O22340 is TPSDA_ABIGR\n"
     ]
    }
   ],
   "source": [
    "qres=entry.query(\"\"\"\n",
    "PREFIX up: <http://purl.uniprot.org/core/> \n",
    "PREFIX uniprotkb: <http://purl.uniprot.org/uniprot/> \n",
    "SELECT\n",
    "  ?protein ?mnemonic\n",
    "WHERE {\n",
    "  ?protein a up:Protein ;\n",
    "      up:mnemonic ?mnemonic.\n",
    "}\"\"\")\n",
    "\n",
    "for row in qres:\n",
    "    print(\"The entry name of %s is %s\" % row)"
   ]
  },
  {
   "cell_type": "markdown",
   "metadata": {
    "collapsed": false,
    "hideCode": true,
    "hidePrompt": true
   },
   "source": [
    "### Old mnemonics"
   ]
  },
  {
   "cell_type": "code",
   "execution_count": 5,
   "metadata": {
    "collapsed": false,
    "hideCode": true,
    "hidePrompt": true
   },
   "outputs": [
    {
     "name": "stdout",
     "output_type": "stream",
     "text": [
      "http://purl.uniprot.org/uniprot/O22340 used to be known as TPSD3_ABIGR and TSD3_ABIGR\n"
     ]
    }
   ],
   "source": [
    "qres=entry.query(\"\"\"\n",
    "PREFIX up: <http://purl.uniprot.org/core/> \n",
    "PREFIX uniprotkb: <http://purl.uniprot.org/uniprot/> \n",
    "SELECT\n",
    "  ?protein (GROUP_CONCAT(?oldMnemonic; separator=\" and \") AS ?oldMnemonics)\n",
    "WHERE {\n",
    "  ?protein a up:Protein ;\n",
    "      up:oldMnemonic ?oldMnemonic.\n",
    "} GROUP BY ?protein\n",
    "\"\"\")\n",
    "\n",
    "for row in qres:\n",
    "    print(\"%s used to be known as %s\" % row)"
   ]
  },
  {
   "cell_type": "markdown",
   "metadata": {
    "collapsed": false,
    "hideCode": true,
    "hidePrompt": true
   },
   "source": [
    "## Entry status\n",
    "\n",
    "UniProtKB has two sections: \n",
    "\n",
    "- UniProtKB/Swiss-Prot: entries that have been manually annotated and reviewed by UniProtKB biocurators \n",
    "- UniProtKB/TrEMBL: entries that have been annotated using annotation pipelines \n",
    "\n",
    "The RDF format stores the **entry status** in the property `reviewed`.\n",
    "\n"
   ]
  },
  {
   "cell_type": "code",
   "execution_count": 6,
   "metadata": {
    "code_folding": [],
    "collapsed": false,
    "hideCode": true,
    "hidePrompt": true
   },
   "outputs": [
    {
     "name": "stdout",
     "output_type": "stream",
     "text": [
      "http://purl.uniprot.org/uniprot/O22340 (TPSDA_ABIGR) is a reviewed (Swiss-Prot) entry? true\n"
     ]
    }
   ],
   "source": [
    "sp_entry=Graph().parse(format='ttl',\n",
    "                     data=\"\"\"\n",
    "base <http://purl.uniprot.org/uniprot/>  \n",
    "prefix up: <http://purl.uniprot.org/core/>\n",
    "prefix rdf: <http://www.w3.org/1999/02/22-rdf-syntax-ns#> \n",
    "prefix isoform:<http://purl.uniprot.org/isoforms/>\n",
    "<O22340> rdf:type up:Protein ;\n",
    "         up:reviewed true ;\n",
    "         up:created \"2001-10-24\"^^<xsd:date> ;\n",
    "         up:modified \"2015-04-01\"^^<xsd:date> ;\n",
    "         up:version 86 ;\n",
    "         up:mnemonic \"TPSDA_ABIGR\" .\n",
    "\"\"\")\n",
    "\n",
    "qres=sp_entry.query(\"\"\"\n",
    "PREFIX up: <http://purl.uniprot.org/core/>\n",
    "SELECT ?protein\n",
    "       ?entryName\n",
    "       ?reviewed\n",
    "WHERE {\n",
    "  ?protein a up:Protein .\n",
    "  ?protein up:mnemonic ?entryName .\n",
    "  ?protein up:reviewed ?reviewed .\n",
    "}\"\"\" )\n",
    "\n",
    "for row in qres:\n",
    "    print(\"%s (%s) is a reviewed (Swiss-Prot) entry? %s\" % row)"
   ]
  },
  {
   "cell_type": "code",
   "execution_count": 7,
   "metadata": {
    "collapsed": false,
    "hideCode": true,
    "hidePrompt": true
   },
   "outputs": [
    {
     "name": "stdout",
     "output_type": "stream",
     "text": [
      "http://purl.uniprot.org/uniprot/A0A024R563 (A0A024R563_HUMAN) is a reviewed (Swiss-Prot) entry? false\n"
     ]
    }
   ],
   "source": [
    "tr_entry=Graph().parse(format='ttl',\n",
    "                         data=\"\"\"base <http://purl.uniprot.org/uniprot/>  \n",
    "prefix up: <http://purl.uniprot.org/core/> \n",
    "prefix rdf: <http://www.w3.org/1999/02/22-rdf-syntax-ns#>  \n",
    "prefix xsd: <http://www.w3.org/2001/XMLSchema#> \n",
    "\n",
    "<A0A024R563> rdf:type up:Protein ;\n",
    "             up:reviewed false ;\n",
    "             up:created \"2014-07-09\"^^xsd:date ;\n",
    "             up:modified \"2020-10-07\"^^xsd:date ;\n",
    "             up:version 30 ;\n",
    "             up:mnemonic \"A0A024R563_HUMAN\" .\"\"\"\n",
    ")\n",
    "\n",
    "qres=tr_entry.query(\"\"\"\n",
    "PREFIX up: <http://purl.uniprot.org/core/>\n",
    "SELECT ?protein\n",
    "       ?entryName\n",
    "       ?reviewed\n",
    "WHERE {\n",
    "  ?protein a up:Protein .\n",
    "  ?protein up:mnemonic ?entryName .\n",
    "  ?protein up:reviewed ?reviewed .\n",
    "}\"\"\" )\n",
    "\n",
    "for row in qres:\n",
    "    print(\"%s (%s) is a reviewed (Swiss-Prot) entry? %s\" % row)"
   ]
  },
  {
   "cell_type": "code",
   "execution_count": 10,
   "metadata": {
    "collapsed": false
   },
   "outputs": [
    {
     "name": "stdout",
     "output_type": "stream",
     "text": [
      "http://purl.uniprot.org/uniprot/A0A024R563 (A0A024R563_HUMAN) is a reviewed (Swiss-Prot) entry? false\n"
     ]
    }
   ],
   "source": [
    "tr_entry=Graph().parse(format='ttl',\n",
    "                     data=\"\"\"base <http://purl.uniprot.org/uniprot/>\n",
    "prefix up: <http://purl.uniprot.org/core/>\n",
    "prefix rdf: <http://www.w3.org/1999/02/22-rdf-syntax-ns#>\n",
    "prefix xsd: <http://www.w3.org/2001/XMLSchema#>\n",
    "\n",
    "<A0A024R563> rdf:type up:Protein ;\n",
    "             up:reviewed false ;\n",
    "             up:created \"2014-07-09\"^^xsd:date ;\n",
    "             up:modified \"2020-10-07\"^^xsd:date ;\n",
    "             up:version 30 ;\n",
    "             up:mnemonic \"A0A024R563_HUMAN\" .\"\"\"\n",
    ")\n",
    "\n",
    "qres=tr_entry.query(\"\"\"\n",
    "PREFIX up: <http://purl.uniprot.org/core/>\n",
    "SELECT ?protein\n",
    "       ?entryName\n",
    "       ?reviewed\n",
    "WHERE {\n",
    "  ?protein a up:Protein .\n",
    "  ?protein up:mnemonic ?entryName .\n",
    "  ?protein up:reviewed ?reviewed .\n",
    "}\"\"\" )\n",
    "\n",
    "for row in qres:\n",
    "    print(\"%s (%s) is a reviewed (Swiss-Prot) entry? %s\" % row)"
   ]
  },
  {
   "cell_type": "markdown",
   "metadata": {
    "collapsed": false,
    "hideCode": true,
    "hidePrompt": true
   },
   "source": [
    "## Dates and versions\n",
    "\n",
    "We stores the date when an entry was integrated into UniProtKB in the `created` property and the last modification date of the entry and its current version in the `modified` and `version` properties of the entry. The last modification date of the sequence and its current version are displayed in the `modified` and `version` properties of the `sequence` element/subject.We make use of the international standard date [notation](http://www.w3.org/QA/Tips/iso-date)\n",
    "\n"
   ]
  },
  {
   "cell_type": "code",
   "execution_count": 4,
   "metadata": {
    "collapsed": false,
    "hideCode": true,
    "hideOutput": true,
    "hidePrompt": true
   },
   "outputs": [
    {
     "name": "stdout",
     "output_type": "stream",
     "text": [
      "http://purl.uniprot.org/uniprot/O22340 was created on 2001-10-24 and modified on 2015-04-01. It is at version 86\n"
     ]
    }
   ],
   "source": [
    "entry=Graph().parse(format='ttl',\n",
    "                     data=\"\"\"\n",
    "base <http://purl.uniprot.org/uniprot/>  \n",
    "prefix up: <http://purl.uniprot.org/core/>\n",
    "prefix rdf: <http://www.w3.org/1999/02/22-rdf-syntax-ns#> \n",
    "prefix isoform:<http://purl.uniprot.org/isoforms/>\n",
    "<O22340> rdf:type up:Protein ;\n",
    "         up:reviewed true ;\n",
    "         up:created \"2001-10-24\"^^<xsd:date> ;\n",
    "         up:modified \"2015-04-01\"^^<xsd:date> ;\n",
    "         up:version 86 ;\n",
    "         up:mnemonic \"TPSDA_ABIGR\" ;\n",
    "         up:oldMnemonic \"TPSD3_ABIGR\" ,\n",
    "                        \"TSD3_ABIGR\" ;\n",
    "         up:replaces <Q94FV9> ;\n",
    "         up:sequence isoform:O22340-1 .\n",
    "isoform:O22340-1 rdf:type up:Simple_Sequence ;\n",
    "                 up:modified \"1998-01-01\"^^<xsd:date> ;\n",
    "                 up:version 1 .\"\"\")\n",
    "\n",
    "qres=entry.query(\"\"\"prefix up: <http://purl.uniprot.org/core/>\n",
    "SELECT\n",
    "    ?protein\n",
    "    ?created\n",
    "    ?modified\n",
    "    ?version\n",
    "WHERE {\n",
    "  ?protein a up:Protein ;\n",
    "           up:created ?created ;\n",
    "           up:modified ?modified ;\n",
    "           up:version ?version .\n",
    "}\"\"\")\n",
    "\n",
    "for row in qres:\n",
    "    print(\"%s was created on %s and modified on %s. It is at version %s\" % row)"
   ]
  },
  {
   "cell_type": "markdown",
   "metadata": {
    "collapsed": false
   },
   "source": [
    "### <span style='color:#f44336'>Exercise select entries with version between 20 and 100</span>\n",
    "\n"
   ]
  },
  {
   "cell_type": "code",
   "execution_count": 14,
   "metadata": {
    "collapsed": false
   },
   "outputs": [
    {
     "name": "stdout",
     "output_type": "stream",
     "text": [
      "http://purl.uniprot.org/uniprot/O22340 was created on 2001-10-24 and modified on 2015-04-01. It is at version 86\n"
     ]
    }
   ],
   "source": [
    "qres=entry.query(\"\"\"prefix up: <http://purl.uniprot.org/core/>\n",
    "SELECT\n",
    "    ?protein\n",
    "    ?created\n",
    "    ?modified\n",
    "    ?version\n",
    "WHERE {\n",
    "  ?protein a up:Protein ;\n",
    "           up:created ?created ;\n",
    "           up:modified ?modified ;\n",
    "           up:version ?version .\n",
    " FILTER(20 < ?version)\n",
    " FILTER(**** ?version)\n",
    "}\"\"\")\n",
    "\n",
    "for row in qres:\n",
    "    print(\"%s was created on %s and modified on %s. It is at version %s\" % row)"
   ]
  },
  {
   "cell_type": "markdown",
   "metadata": {
    "collapsed": false
   },
   "source": [
    "# UniProt protein names\n",
    "\n",
    "Now we try to show you basic information on **protein names**.\n",
    "\n",
    "Protein names are modeled as `name` resources in the RDF format. \n",
    "\n",
    "There are 3 main types of protein names:  \n",
    "\n",
    " 1. The name recommended by the UniProt consortium: linked to a `recommendedName` element/property in the RDF format.  \n",
    " 2. Names provided by the submitter of the underlying nucleotide sequence (in UniProtKB/TrEMBL only):\n",
    "    Shown in `submittedName` elements/properties in the RDF format.  \n",
    " 3. Alternative names:  \n",
    "    Shown in `alternativeName` elements/properties in the RDF format.  \n",
    "\n",
    "These types are further categorized into:  \n",
    "\n",
    " 1. Full name:  \n",
    "    Shown in a `fullName` element/property in the RDF format.  \n",
    " 2. Abbreviations or acronyms of the full name:  \n",
    "    Shown in `shortName` elements/properties in the RDF format.  \n",
    "\n",
    "There are furthermore a few categories with more specific meanings:  \n",
    "\n",
    "  1. Name of an allergen:  \n",
    "     Shown in an `allergenName` element/property in the RDF format.  \n",
    "  2. Names of CD antigens:  \n",
    "     Shown in `CdAntigenName` elements/properties in the RDF format.  \n",
    "  3. Name used in a biotechnological context:  \n",
    "     Shown in a `biotechName` element/property in the RDF format.  \n",
    "  4. International nonproprietary names:  \n",
    "     Shown in `innName` elements/properties in the RDF format.  \n",
    "  5. Enzyme Commission EC numbers.  \n",
    "     This links a name with the EC number that clasifies the enzymatic activity of this entry.  \n",
    "     See the notebook `XX_metabolism.ipynb` for more details.  \n",
    "\n"
   ]
  },
  {
   "cell_type": "markdown",
   "metadata": {
    "collapsed": false
   },
   "source": [
    "## Protein Names\n",
    "\n"
   ]
  },
  {
   "cell_type": "code",
   "execution_count": 4,
   "metadata": {
    "collapsed": false
   },
   "outputs": [],
   "source": [
    "entry=Graph().parse(format='ttl',\n",
    "                     data=\"\"\"\n",
    "base <http://purl.uniprot.org/uniprot/>  \n",
    "prefix up: <http://purl.uniprot.org/core/>\n",
    "prefix rdf: <http://www.w3.org/1999/02/22-rdf-syntax-ns#> \n",
    "prefix isoform:<http://purl.uniprot.org/isoforms/>\n",
    "prefix enzyme: <http://purl.uniprot.org/enzyme/>\n",
    "\n",
    "<P12820>\n",
    "  a up:Protein ;\n",
    "  up:recommendedName\n",
    "    <P12820#SIP30A> ;\n",
    "  up:alternativeName\n",
    "    <P12820#SIP62B> ,\n",
    "    <P12820#SIPE4F> ,\n",
    "    <P12820#SIPFE1> ;\n",
    "  up:enzyme\n",
    "    enzyme:3.2.1.- ,\n",
    "    enzyme:3.4.15.1 ;\n",
    "  up:sequence\n",
    "    isoform:P12820-1 .\n",
    "\n",
    "<P12820#SIP30A>\n",
    "  rdf:type up:Structured_Name ;\n",
    "  up:fullName \"Angiotensin-converting enzyme\" ;\n",
    "  up:shortName \"ACE\" ;\n",
    "  up:ecName \"3.2.1.-\" ,\n",
    "    \"3.4.15.1\" .\n",
    "\n",
    "<P12820#SIP62B>\n",
    "  rdf:type up:Structured_Name ;\n",
    "  up:fullName \"Dipeptidyl carboxypeptidase I\" .\n",
    "\n",
    "<P12820#SIPE4F>\n",
    "  rdf:type up:Structured_Name ;\n",
    "  up:fullName \"Kininase II\" .\n",
    "\n",
    "<P12820#SIPFE1>\n",
    "  rdf:type up:Structured_Name ;\n",
    "  up:cdAntigenName \"CD143\" .\n",
    "\"\"\")\n"
   ]
  },
  {
   "cell_type": "markdown",
   "metadata": {
    "collapsed": false
   },
   "source": [
    "### Selecting a recommended full name"
   ]
  },
  {
   "cell_type": "code",
   "execution_count": 11,
   "metadata": {
    "collapsed": false
   },
   "outputs": [
    {
     "name": "stdout",
     "output_type": "stream",
     "text": [
      "UniProt recommends that http://purl.uniprot.org/uniprot/P12820 is called 'Angiotensin-converting enzyme' (full name)\n"
     ]
    }
   ],
   "source": [
    "qres=entry.query(\"\"\"\n",
    "PREFIX up: <http://purl.uniprot.org/core/> \n",
    "PREFIX uniprotkb: <http://purl.uniprot.org/uniprot/> \n",
    "SELECT ?protein \n",
    "       ?fullName\n",
    "WHERE {\n",
    "  ?protein a up:Protein ;\n",
    "           up:recommendedName ?recommendedName .\n",
    "  ?recommendedName up:fullName ?fullName .\n",
    "}\"\"\")\n",
    "for row in qres:\n",
    "    print(\"UniProt recommends that %s is called '%s' (full name)\" % row)"
   ]
  },
  {
   "cell_type": "markdown",
   "metadata": {
    "collapsed": false
   },
   "source": [
    "### Selecting a recommended short name"
   ]
  },
  {
   "cell_type": "code",
   "execution_count": 12,
   "metadata": {
    "collapsed": false
   },
   "outputs": [
    {
     "name": "stdout",
     "output_type": "stream",
     "text": [
      "UniProt recommends that http://purl.uniprot.org/uniprot/P12820 is called 'ACE' (short name)\n"
     ]
    }
   ],
   "source": [
    "qres=entry.query(\"\"\"\n",
    "PREFIX up: <http://purl.uniprot.org/core/> \n",
    "PREFIX uniprotkb: <http://purl.uniprot.org/uniprot/> \n",
    "SELECT ?protein \n",
    "       ?shortName\n",
    "WHERE {\n",
    "  ?protein a up:Protein ;\n",
    "           up:recommendedName ?recommendedName .\n",
    "  ?recommendedName up:shortName ?shortName .\n",
    "}\"\"\")\n",
    "for row in qres:\n",
    "    print(\"UniProt recommends that %s is called '%s' (short name)\" % row)"
   ]
  },
  {
   "cell_type": "markdown",
   "metadata": {
    "collapsed": false
   },
   "source": [
    "### Selecting recommended EC numbers"
   ]
  },
  {
   "cell_type": "code",
   "execution_count": 14,
   "metadata": {
    "collapsed": false
   },
   "outputs": [
    {
     "name": "stdout",
     "output_type": "stream",
     "text": [
      "UniProt recommends that http://purl.uniprot.org/uniprot/P12820 is named EC 3.4.15.1\n",
      "UniProt recommends that http://purl.uniprot.org/uniprot/P12820 is named EC 3.2.1.-\n"
     ]
    }
   ],
   "source": [
    "qres=entry.query(\"\"\"\n",
    "PREFIX up: <http://purl.uniprot.org/core/>\n",
    "PREFIX uniprotkb: <http://purl.uniprot.org/uniprot/>\n",
    "SELECT ?protein\n",
    "       ?ecName\n",
    "WHERE {\n",
    "  ?protein a up:Protein ;\n",
    "           up:recommendedName ?recommendedName .\n",
    "  ?recommendedName up:ecName ?ecName .\n",
    "}\"\"\")\n",
    "for row in qres:\n",
    "    print(\"UniProt recommends that %s is named EC %s\" % row)"
   ]
  },
  {
   "cell_type": "markdown",
   "metadata": {
    "collapsed": false
   },
   "source": [
    "### Selecting alternative names"
   ]
  },
  {
   "cell_type": "code",
   "execution_count": 6,
   "metadata": {
    "collapsed": false
   },
   "outputs": [
    {
     "name": "stdout",
     "output_type": "stream",
     "text": [
      "http://purl.uniprot.org/uniprot/P12820 is also known as Dipeptidyl carboxypeptidase I\n",
      "http://purl.uniprot.org/uniprot/P12820 is also known as Kininase II\n"
     ]
    }
   ],
   "source": [
    "qres=entry.query(\"\"\"\n",
    "PREFIX up: <http://purl.uniprot.org/core/>\n",
    "PREFIX uniprotkb: <http://purl.uniprot.org/uniprot/>\n",
    "SELECT ?protein\n",
    "       ?fullName\n",
    "WHERE {\n",
    "  ?protein a up:Protein ;\n",
    "           up:alternativeName ?alternativeName .\n",
    "  ?alternativeName up:fullName ?fullName .\n",
    "}\"\"\")\n",
    "\n",
    "for row in qres:\n",
    "    print(\"%s is also known as %s\" % row)"
   ]
  },
  {
   "cell_type": "markdown",
   "metadata": {
    "collapsed": false
   },
   "source": [
    "# Replicon and genes\n",
    "\n",
    "This notebook aims to show you basic informations on **genes** that encode the protein and their replicon (chromosome, plasmid, etc).   "
   ]
  },
  {
   "cell_type": "markdown",
   "metadata": {
    "collapsed": false
   },
   "source": [
    "## Gene Names\n",
    "\n",
    "This notebook aims to show you basic informations on **genes** that encode the protein.\n",
    "\n",
    "The name(s) of the gene(s) that encode the protein by a separate `encodedBy` properties.\n",
    "\n",
    "There are four categories of gene names.  \n",
    "- The primary gene name is represented with a `skos:prefLabel` property\n",
    "- The synonyms with `skos:altLabel` property. \n",
    "- Ordered locus names (OLN) with `locusName` property.\n",
    "- ORF names with `orfName` property.\n",
    "\n",
    "The resources representing a gene are members of the `up:Gene` class."
   ]
  },
  {
   "cell_type": "code",
   "execution_count": 2,
   "metadata": {
    "collapsed": false
   },
   "outputs": [],
   "source": [
    "entry=Graph().parse(format='ttl',\n",
    "                     data=\"\"\"\n",
    "base <http://purl.uniprot.org/uniprot/>  \n",
    "prefix up: <http://purl.uniprot.org/core/>\n",
    "prefix rdf: <http://www.w3.org/1999/02/22-rdf-syntax-ns#> \n",
    "prefix isoform:<http://purl.uniprot.org/isoforms/>\n",
    "prefix skos: <http://www.w3.org/2004/02/skos/core#>\n",
    "\n",
    "<Q0JNS6>\n",
    "  a up:Protein ;\n",
    "  up:encodedBy\n",
    "    <Q0JNS6#51304A4E53360019> ,\n",
    "    <Q0JNS6#51304A4E5336001A> ,\n",
    "    <Q0JNS6#51304A4E5336001B> .\n",
    "\n",
    "<Q0JNS6#51304A4E53360019>\n",
    "  rdf:type up:Gene ;\n",
    "  skos:prefLabel \"CAM1-1\" ;\n",
    "  skos:altLabel \"CAM1\" ;\n",
    "  up:locusName \"Os03g0319300\" ,\n",
    "    \"LOC_Os03g20370\" ;\n",
    "  up:orfName \"OsJ_010214\" .\n",
    "\n",
    "<Q0JNS6#51304A4E5336001A>\n",
    "  rdf:type up:Gene ;\n",
    "  skos:prefLabel \"CAM1-2\" ;\n",
    "  skos:altLabel \"CAM\" ;\n",
    "  up:locusName \"Os07g0687200\" ,\n",
    "    \"LOC_Os07g48780\" ;\n",
    "  up:orfName \"OJ1150_E04.120-1\" ,\n",
    "    \"OJ1200_C08.124-1\" ,\n",
    "    \"OsJ_024630\" .\n",
    "\n",
    "<Q0JNS6#51304A4E5336001B>\n",
    "  rdf:type up:Gene ;\n",
    "  skos:prefLabel \"CAM1-3\" ;\n",
    "  up:locusName \"Os01g0267900\" ,\n",
    "    \"LOC_Os01g16240\" ;\n",
    "  up:orfName \"OsJ_001186\" ,\n",
    "    \"P0011D01.22\" .\"\"\")\n"
   ]
  },
  {
   "cell_type": "markdown",
   "metadata": {
    "collapsed": false
   },
   "source": [
    "### Selecting encoding genes"
   ]
  },
  {
   "cell_type": "code",
   "execution_count": 3,
   "metadata": {
    "collapsed": false
   },
   "outputs": [
    {
     "name": "stdout",
     "output_type": "stream",
     "text": [
      "http://purl.uniprot.org/uniprot/Q0JNS6 is encoded by http://purl.uniprot.org/uniprot/Q0JNS6#51304A4E5336001B\n",
      "http://purl.uniprot.org/uniprot/Q0JNS6 is encoded by http://purl.uniprot.org/uniprot/Q0JNS6#51304A4E53360019\n",
      "http://purl.uniprot.org/uniprot/Q0JNS6 is encoded by http://purl.uniprot.org/uniprot/Q0JNS6#51304A4E5336001A\n"
     ]
    }
   ],
   "source": [
    "qres=entry.query(\"\"\"\n",
    "PREFIX up: <http://purl.uniprot.org/core/> \n",
    "PREFIX uniprotkb: <http://purl.uniprot.org/uniprot/>\n",
    "PREFIX skos: <http://www.w3.org/2004/02/skos/core#>\n",
    "\n",
    "SELECT ?protein\n",
    "       ?gene \n",
    "WHERE {\n",
    "  ?protein a up:Protein ;\n",
    "           up:encodedBy ?gene .\n",
    "}\"\"\")\n",
    "\n",
    "for row in qres:\n",
    "    print(\"%s is encoded by %s\" % row)"
   ]
  },
  {
   "cell_type": "markdown",
   "metadata": {
    "collapsed": false
   },
   "source": [
    "### Selecting the recommended gene names"
   ]
  },
  {
   "cell_type": "code",
   "execution_count": 4,
   "metadata": {
    "collapsed": false
   },
   "outputs": [
    {
     "name": "stdout",
     "output_type": "stream",
     "text": [
      "http://purl.uniprot.org/uniprot/Q0JNS6#51304A4E5336001B is called CAM1-3\n",
      "http://purl.uniprot.org/uniprot/Q0JNS6#51304A4E53360019 is called CAM1-1\n",
      "http://purl.uniprot.org/uniprot/Q0JNS6#51304A4E5336001A is called CAM1-2\n"
     ]
    }
   ],
   "source": [
    "qres=entry.query(\"\"\"\n",
    "PREFIX up: <http://purl.uniprot.org/core/>\n",
    "PREFIX uniprotkb: <http://purl.uniprot.org/uniprot/>\n",
    "PREFIX skos: <http://www.w3.org/2004/02/skos/core#>\n",
    "\n",
    "SELECT ?gene\n",
    "       ?recommendedGeneName\n",
    "WHERE {\n",
    "  ?protein a up:Protein ;\n",
    "           up:encodedBy ?gene .\n",
    "  ?gene skos:prefLabel ?recommendedGeneName .\n",
    "}\"\"\")\n",
    "\n",
    "for row in qres:\n",
    "    print(\"%s is called %s\" % row)"
   ]
  },
  {
   "cell_type": "markdown",
   "metadata": {
    "collapsed": false
   },
   "source": [
    "### Selecting alternative gene names"
   ]
  },
  {
   "cell_type": "code",
   "execution_count": 5,
   "metadata": {
    "collapsed": false
   },
   "outputs": [
    {
     "name": "stdout",
     "output_type": "stream",
     "text": [
      "http://purl.uniprot.org/uniprot/Q0JNS6#51304A4E53360019 is also known as CAM1\n",
      "http://purl.uniprot.org/uniprot/Q0JNS6#51304A4E5336001A is also known as CAM\n"
     ]
    }
   ],
   "source": [
    "qres=entry.query(\"\"\"\n",
    "PREFIX up: <http://purl.uniprot.org/core/>\n",
    "PREFIX uniprotkb: <http://purl.uniprot.org/uniprot/>\n",
    "PREFIX skos: <http://www.w3.org/2004/02/skos/core#>\n",
    "\n",
    "SELECT ?gene\n",
    "       ?altGeneName\n",
    "WHERE {\n",
    "  ?protein a up:Protein ;\n",
    "           up:encodedBy ?gene .\n",
    "  ?gene skos:altLabel ?altGeneName .\n",
    "}\"\"\")\n",
    "\n",
    "for row in qres:\n",
    "    print(\"%s is also known as %s\" % row)"
   ]
  },
  {
   "cell_type": "markdown",
   "metadata": {
    "collapsed": false
   },
   "source": [
    "### Selecting ordered locus names"
   ]
  },
  {
   "cell_type": "code",
   "execution_count": 6,
   "metadata": {
    "collapsed": false
   },
   "outputs": [
    {
     "name": "stdout",
     "output_type": "stream",
     "text": [
      "http://purl.uniprot.org/uniprot/Q0JNS6#51304A4E5336001B has a ordered locus name Os01g0267900\n",
      "http://purl.uniprot.org/uniprot/Q0JNS6#51304A4E5336001B has a ordered locus name LOC_Os01g16240\n",
      "http://purl.uniprot.org/uniprot/Q0JNS6#51304A4E53360019 has a ordered locus name Os03g0319300\n",
      "http://purl.uniprot.org/uniprot/Q0JNS6#51304A4E53360019 has a ordered locus name LOC_Os03g20370\n",
      "http://purl.uniprot.org/uniprot/Q0JNS6#51304A4E5336001A has a ordered locus name LOC_Os07g48780\n",
      "http://purl.uniprot.org/uniprot/Q0JNS6#51304A4E5336001A has a ordered locus name Os07g0687200\n"
     ]
    }
   ],
   "source": [
    "qres=entry.query(\"\"\"\n",
    "PREFIX up: <http://purl.uniprot.org/core/>\n",
    "PREFIX uniprotkb: <http://purl.uniprot.org/uniprot/>\n",
    "PREFIX skos: <http://www.w3.org/2004/02/skos/core#>\n",
    "\n",
    "SELECT ?gene\n",
    "       ?oln\n",
    "WHERE {\n",
    "  ?protein a up:Protein ;\n",
    "           up:encodedBy ?gene .\n",
    "  ?gene up:locusName ?oln .\n",
    "}\"\"\")\n",
    "\n",
    "for row in qres:\n",
    "    print(\"%s has a ordered locus name %s\" % row)"
   ]
  },
  {
   "cell_type": "markdown",
   "metadata": {
    "collapsed": false
   },
   "source": [
    "### Selecting ORF names"
   ]
  },
  {
   "cell_type": "code",
   "execution_count": 7,
   "metadata": {
    "collapsed": false
   },
   "outputs": [
    {
     "name": "stdout",
     "output_type": "stream",
     "text": [
      "http://purl.uniprot.org/uniprot/Q0JNS6#51304A4E5336001B has a open reading frame name OsJ_001186\n",
      "http://purl.uniprot.org/uniprot/Q0JNS6#51304A4E5336001B has a open reading frame name P0011D01.22\n",
      "http://purl.uniprot.org/uniprot/Q0JNS6#51304A4E53360019 has a open reading frame name OsJ_010214\n",
      "http://purl.uniprot.org/uniprot/Q0JNS6#51304A4E5336001A has a open reading frame name OJ1200_C08.124-1\n",
      "http://purl.uniprot.org/uniprot/Q0JNS6#51304A4E5336001A has a open reading frame name OsJ_024630\n",
      "http://purl.uniprot.org/uniprot/Q0JNS6#51304A4E5336001A has a open reading frame name OJ1150_E04.120-1\n"
     ]
    }
   ],
   "source": [
    "qres=entry.query(\"\"\"\n",
    "PREFIX up: <http://purl.uniprot.org/core/>\n",
    "PREFIX uniprotkb: <http://purl.uniprot.org/uniprot/>\n",
    "PREFIX skos: <http://www.w3.org/2004/02/skos/core#>\n",
    "\n",
    "SELECT ?gene\n",
    "       ?orfName\n",
    "WHERE {\n",
    "  ?protein a up:Protein ;\n",
    "           up:encodedBy ?gene .\n",
    "  ?gene up:orfName ?orfName .\n",
    "}\"\"\")\n",
    "\n",
    "for row in qres:\n",
    "    print(\"%s has a open reading frame name %s\" % row)"
   ]
  },
  {
   "cell_type": "markdown",
   "metadata": {
    "collapsed": false
   },
   "source": [
    "## Replicons"
   ]
  },
  {
   "cell_type": "code",
   "execution_count": 3,
   "metadata": {
    "collapsed": false
   },
   "outputs": [],
   "source": [
    "entry=Graph().parse(format='ttl',\n",
    "                     data=\"\"\"\n",
    "base <http://purl.uniprot.org/uniprot/>\n",
    "prefix rdf: <http://www.w3.org/1999/02/22-rdf-syntax-ns#>\n",
    "prefix up: <http://purl.uniprot.org/core/> \n",
    "prefix xsd: <http://www.w3.org/2001/XMLSchema#> \n",
    "\n",
    "<Q71RH2> rdf:type up:Protein ;\n",
    "  up:reviewed true ;\n",
    "  up:created \"2005-04-12\"^^xsd:date ;\n",
    "  up:modified \"2021-04-07\"^^xsd:date ;\n",
    "  up:version 130 ;\n",
    "  up:mnemonic \"TLC3B_HUMAN\" .\n",
    "\n",
    "\n",
    "<Q71RH2> up:proteome <http://purl.uniprot.org/proteomes/UP000005640#Chromosome%2016> .\"\"\")"
   ]
  },
  {
   "cell_type": "code",
   "execution_count": 9,
   "metadata": {
    "collapsed": false
   },
   "outputs": [
    {
     "name": "stdout",
     "output_type": "stream",
     "text": [
      "The gene coding for http://purl.uniprot.org/uniprot/Q71RH2 is located on Chromosome%2016\n"
     ]
    }
   ],
   "source": [
    "qres=entry.query(\"\"\"\n",
    "PREFIX up: <http://purl.uniprot.org/core/>\n",
    "PREFIX uniprotkb: <http://purl.uniprot.org/uniprot/>\n",
    "PREFIX skos: <http://www.w3.org/2004/02/skos/core#>\n",
    "\n",
    "SELECT ?protein\n",
    "       ?replicon\n",
    "WHERE {\n",
    "  ?protein a up:Protein ;\n",
    "           up:proteome ?proteomeData .\n",
    "  BIND( strafter( str(?proteomeData), \"#\" ) as ?replicon )\n",
    "}\"\"\")\n",
    "\n",
    "for row in qres:\n",
    "    print(\"The gene coding for %s is located on %s\" % row)"
   ]
  },
  {
   "cell_type": "markdown",
   "metadata": {
    "collapsed": false
   },
   "source": [
    "### Using the live UniProt SPARQL endpoint\n",
    "\n",
    "Selecting the chromosome via the proteomes dataset (gives components i.e. chromosomes)"
   ]
  },
  {
   "cell_type": "code",
   "execution_count": 10,
   "metadata": {
    "collapsed": false
   },
   "outputs": [
    {
     "name": "stdout",
     "output_type": "stream",
     "text": [
      "http://purl.uniprot.org/proteomes/UP000005640#Chromosome%2011\n",
      "http://purl.uniprot.org/proteomes/UP000005640#Chromosome%202\n",
      "http://purl.uniprot.org/proteomes/UP000005640#Chromosome%203\n"
     ]
    }
   ],
   "source": [
    "query = \"\"\"\n",
    "PREFIX up:<http://purl.uniprot.org/core/>\n",
    "PREFIX taxon:<http://purl.uniprot.org/taxonomy/>\n",
    "PREFIX skos:<http://www.w3.org/2004/02/skos/core#> \n",
    "PREFIX proteome:<http://purl.uniprot.org/proteomes/>\n",
    "\n",
    "SELECT\n",
    "  DISTINCT\n",
    "    ?proteomeData\n",
    "WHERE {\n",
    "  # reviewed entries (UniProtKB/Swiss-Prot)\n",
    "  ?protein up:reviewed true .\n",
    "  # restricted to Human taxid\n",
    "  ?uniprot up:organism taxon:9606 .\n",
    "  ?uniprot up:proteome ?proteomeData .\n",
    "  BIND( strbefore( str(?proteomeData), \"#\" ) as ?proteome )\n",
    "  BIND( strafter( str(?proteomeData), \"#\" ) as ?replicon )\n",
    "}\n",
    "LIMIT 3\n",
    "\"\"\"\n",
    "\n",
    "# Set the SPARQL endpoint (UniProt)\n",
    "sparql = SPARQLWrapper(\"https://sparql.uniprot.org/sparql\")\n",
    "\n",
    "# Define the query\n",
    "sparql.setQuery(query)\n",
    "\n",
    "# Set the output format as JSON\n",
    "sparql.setReturnFormat(JSON)\n",
    "\n",
    "# Run the SPARQL query and convert to the defined format\n",
    "results = sparql.query().convert()\n",
    "\n",
    "# Print the query result\n",
    "for result in results[\"results\"][\"bindings\"]:\n",
    "    print(result[\"proteomeData\"][\"value\"])"
   ]
  },
  {
   "cell_type": "markdown",
   "metadata": {
    "collapsed": false
   },
   "source": [
    "### Organelles and Plasmids\n",
    "\n",
    "If a gene is located in an organelle other than the nucleus, or/and on a plasmid rather than a chromosome, the gene location is stored in encodedIn properties. Note that if a plasmid has several names, they are listed as multiple `rdfs:label` properties."
   ]
  },
  {
   "cell_type": "code",
   "execution_count": 3,
   "metadata": {
    "collapsed": false
   },
   "outputs": [
    {
     "name": "stdout",
     "output_type": "stream",
     "text": [
      "protein=http://purl.uniprot.org/uniprot/Q01529 plasmid or organelle=http://purl.uniprot.org/core/Mitochondrion label=None\n",
      "protein=http://purl.uniprot.org/uniprot/Q01529 plasmid or organelle=http://purl.uniprot.org/uniprot/Q01529#SIP29DF58 label=pAL2-1\n"
     ]
    }
   ],
   "source": [
    "entry2=Graph().parse(format='ttl',\n",
    "                     data=\"\"\"\n",
    "base <http://purl.uniprot.org/uniprot/>  \n",
    "prefix up: <http://purl.uniprot.org/core/>\n",
    "prefix rdf: <http://www.w3.org/1999/02/22-rdf-syntax-ns#> \n",
    "prefix isoform:<http://purl.uniprot.org/isoforms/>\n",
    "prefix skos: <http://www.w3.org/2004/02/skos/core#>\n",
    "prefix rdfs: <http://www.w3.org/2000/01/rdf-schema#>\n",
    "\n",
    "<Q01529>\n",
    "  a up:Protein ;\n",
    "  up:encodedIn up:Mitochondrion ,\n",
    "               <Q01529#SIP29DF58> . \n",
    "\n",
    "<Q01529#SIP29DF58>\n",
    "  rdf:type up:Plasmid ;\n",
    "  rdfs:label \"pAL2-1\" .\n",
    "  \"\"\")\n",
    "\n",
    "\n",
    "qres=entry2.query(\"\"\"\n",
    "PREFIX up: <http://purl.uniprot.org/core/> \n",
    "PREFIX uniprotkb: <http://purl.uniprot.org/uniprot/>\n",
    "PREFIX skos: <http://www.w3.org/2004/02/skos/core#>\n",
    "\n",
    "SELECT\n",
    "    ?protein\n",
    "    ?plasmidOrOrganelle\n",
    "    ?label\n",
    "WHERE {\n",
    "    ?protein a up:Protein ;\n",
    "      up:encodedIn ?plasmidOrOrganelle .\n",
    "    OPTIONAL {\n",
    "        ?plasmidOrOrganelle rdfs:label ?label .\n",
    "    }\n",
    "}\"\"\")\n",
    "\n",
    "for row in qres:\n",
    "    print(\"protein=%s plasmid or organelle=%s label=%s\" % row)"
   ]
  },
  {
   "cell_type": "markdown",
   "metadata": {
    "collapsed": false
   },
   "source": [
    "Sometimes it is known that a gene is located on a plasmid, but the name of the plasmid is unknown. The example below shows how this is represented."
   ]
  },
  {
   "cell_type": "code",
   "execution_count": 13,
   "metadata": {
    "collapsed": false
   },
   "outputs": [
    {
     "name": "stdout",
     "output_type": "stream",
     "text": [
      "http://purl.uniprot.org/uniprot/Q7BS32 is encodedIn a 'http://purl.uniprot.org/core/Plasmid'\n"
     ]
    }
   ],
   "source": [
    "entry3=Graph().parse(format='ttl',\n",
    "                     data=\"\"\"\n",
    "base <http://purl.uniprot.org/uniprot/>  \n",
    "prefix up: <http://purl.uniprot.org/core/>\n",
    "prefix rdf: <http://www.w3.org/1999/02/22-rdf-syntax-ns#> \n",
    "prefix isoform:<http://purl.uniprot.org/isoforms/>\n",
    "prefix skos: <http://www.w3.org/2004/02/skos/core#>\n",
    "<Q7BS32>\n",
    "  a up:Protein ;\n",
    "  up:encodedIn\n",
    "    <Q7BS32#51374253333200E> .\n",
    "\n",
    "<Q7BS32#51374253333200E>\n",
    "  rdf:type up:Plasmid .\"\"\")\n",
    "\n",
    "qres=entry3.query(\"\"\"\n",
    "PREFIX up: <http://purl.uniprot.org/core/> \n",
    "PREFIX uniprotkb: <http://purl.uniprot.org/uniprot/>\n",
    "PREFIX skos: <http://www.w3.org/2004/02/skos/core#>\n",
    "\n",
    "SELECT\n",
    "    ?protein\n",
    "    ?type\n",
    "WHERE {\n",
    "    ?protein a up:Protein ;\n",
    "      up:encodedIn ?plasmidOrOrganelle .\n",
    "    OPTIONAL {\n",
    "        ?plasmidOrOrganelle a ?type .\n",
    "    }\n",
    "}\"\"\")\n",
    "\n",
    "for row in qres:\n",
    "    print(\"%s is encodedIn a '%s'\" % row)"
   ]
  },
  {
   "cell_type": "markdown",
   "metadata": {
    "collapsed": false
   },
   "source": [
    "# Taxonomy\n",
    "\n",
    "This notebook aims to show you how taxonomy data are represented in UniProt.  \n",
    "\n",
    "UniProtKB taxonomy data is manually curated (see details [here](https://www.uniprot.org/taxonomy/)).\n",
    "\n",
    "\n",
    "The organism which is the source of a protein sequence is identified by a unique identifier (often called _taxon_ or _taxid_) from the [NCBI taxonomy](https://www.ncbi.nlm.nih.gov/taxonomy) database.   \n",
    "This is the only taxonomy information that is stored in the RDF format of a UniProtKB entry. However, the full NCBI taxonomy is modelled and available as well.   "
   ]
  },
  {
   "cell_type": "markdown",
   "metadata": {
    "collapsed": false
   },
   "source": [
    "## Organism identifier\n",
    "\n",
    "The organism identifier (taxon) is stored in the `organism` property of a uniprot entry.  "
   ]
  },
  {
   "cell_type": "code",
   "execution_count": 13,
   "metadata": {
    "collapsed": false
   },
   "outputs": [
    {
     "name": "stdout",
     "output_type": "stream",
     "text": [
      "http://purl.uniprot.org/uniprot/P05067 http://purl.uniprot.org/core/organism http://purl.uniprot.org/taxonomy/9606\n",
      "http://purl.uniprot.org/uniprot/P05067 http://www.w3.org/1999/02/22-rdf-syntax-ns#type http://purl.uniprot.org/core/Protein\n"
     ]
    }
   ],
   "source": [
    "P05067ttl = \"\"\"base <http://purl.uniprot.org/uniprot/>  \n",
    "prefix up: <http://purl.uniprot.org/core/>\n",
    "prefix taxon: <http://purl.uniprot.org/taxonomy/>\n",
    "\n",
    "<P05067> a up:Protein ;\n",
    "         up:organism taxon:9606 .\n",
    "\"\"\"\n",
    "\n",
    "P05067=Graph().parse(format='ttl', data=P05067ttl)\n",
    "\n",
    "for subj, pred, obj in P05067:\n",
    "   print(subj, pred, obj)\n"
   ]
  },
  {
   "cell_type": "markdown",
   "metadata": {
    "collapsed": false
   },
   "source": [
    "## Retrieve the taxon (organism id) of a protein"
   ]
  },
  {
   "cell_type": "code",
   "execution_count": 14,
   "metadata": {
    "collapsed": false
   },
   "outputs": [
    {
     "name": "stdout",
     "output_type": "stream",
     "text": [
      "The taxon (organism id) of http://purl.uniprot.org/uniprot/P05067 is http://purl.uniprot.org/taxonomy/9606\n"
     ]
    }
   ],
   "source": [
    "qres=P05067.query(\"\"\"\n",
    "PREFIX up: <http://purl.uniprot.org/core/> \n",
    "PREFIX uniprotkb: <http://purl.uniprot.org/uniprot/>\n",
    "PREFIX skos: <http://www.w3.org/2004/02/skos/core#>\n",
    "\n",
    "SELECT ?protein ?taxon\n",
    "WHERE {\n",
    "  ?protein a up:Protein ;\n",
    "           up:organism ?taxon .\n",
    "}\"\"\")\n",
    "\n",
    "for row in qres:\n",
    "    print(\"The taxon (organism id) of %s is %s\" % row)"
   ]
  },
  {
   "cell_type": "markdown",
   "metadata": {
    "collapsed": false
   },
   "source": [
    "## Taxonomy data\n",
    "\n",
    "**Properties**:\n",
    "- `rank`\n",
    "- `mnemonic`\n",
    "- `scientificName`\n",
    "- `commonName`\n",
    "- `otherName`\n",
    "- `seeAlso` (xref)\n",
    "- `subClassOf` (hierarchy)\n",
    "- `narrowerTransitive` (opposite direction of hierarchy)\n",
    "- `partOfLineage` (If it should be shown on the UniProt record pages of the website)"
   ]
  },
  {
   "cell_type": "code",
   "execution_count": 4,
   "metadata": {
    "collapsed": false
   },
   "outputs": [],
   "source": [
    "# Description of the taxon:9606 (Homo sapiens)\n",
    "taxon=Graph().parse(format='ttl',\n",
    "                 data=\"\"\"\n",
    "base <http://purl.uniprot.org/taxonomy/> \n",
    "prefix up: <http://purl.uniprot.org/core/> \n",
    "prefix foaf: <http://xmlns.com/foaf/0.1/> \n",
    "prefix owl: <http://www.w3.org/2002/07/owl#> \n",
    "prefix rdf: <http://www.w3.org/1999/02/22-rdf-syntax-ns#> \n",
    "prefix rdfs: <http://www.w3.org/2000/01/rdf-schema#> \n",
    "prefix skos: <http://www.w3.org/2004/02/skos/core#> \n",
    "prefix xsd: <http://www.w3.org/2001/XMLSchema#> \n",
    "\n",
    "<9606> a up:Taxon ;\n",
    "       up:rank up:Species ;\n",
    "       up:mnemonic \"HUMAN\" ;\n",
    "       up:scientificName \"Homo sapiens\" ;\n",
    "       up:commonName \"Human\" ;\n",
    "       up:otherName \"Home sapiens\" ,\n",
    "                    \"Homo sapiens Linnaeus, 1758\" ,\n",
    "                    \"man\" ;\n",
    "       rdfs:seeAlso <http://animaldiversity.org/site/accounts/information/Homo_sapiens.html> ,\n",
    "                    <http://archaeologyinfo.com/homo-sapiens/> ,\n",
    "                    <http://www.ensembl.org/Homo_sapiens/Info/Index> ,\n",
    "                    <https://www.sciencedaily.com/releases/2005/02/050223122209.htm> ;\n",
    "       rdfs:subClassOf <9605> ;\n",
    "       skos:narrowerTransitive <63221> ,\n",
    "                               <741158> ;\n",
    "       up:partOfLineage false .\n",
    "\n",
    "<9605> a up:Taxon ;\n",
    "       up:rank up:Genus ;\n",
    "       up:scientificName \"Homo\" ;\n",
    "       up:otherName \"Homo Linnaeus, 1758\" ,\n",
    "                    \"humans\" ;\n",
    "       rdfs:subClassOf <207598> ;\n",
    "       skos:narrowerTransitive <9606> ,\n",
    "                               <1425170> ,\n",
    "                               <2665952> ;\n",
    "       up:partOfLineage true .\n",
    "\"\"\")"
   ]
  },
  {
   "cell_type": "markdown",
   "metadata": {
    "collapsed": false
   },
   "source": [
    "### Retrieve the rank and the scientific name of the organism\n",
    "\n",
    "The rank and scientificName are by far the most queried properties of a taxon."
   ]
  },
  {
   "cell_type": "code",
   "execution_count": 16,
   "metadata": {
    "collapsed": false
   },
   "outputs": [
    {
     "name": "stdout",
     "output_type": "stream",
     "text": [
      "Taxon \"http://purl.uniprot.org/taxonomy/9606\", rank = \"http://purl.uniprot.org/core/Species\", scientificName = \"Homo sapiens\"\n",
      "Taxon \"http://purl.uniprot.org/taxonomy/9605\", rank = \"http://purl.uniprot.org/core/Genus\", scientificName = \"Homo\"\n"
     ]
    }
   ],
   "source": [
    "qres=taxon.query(\"\"\"PREFIX up: <http://purl.uniprot.org/core/> \n",
    "SELECT ?taxon \n",
    "       ?rank\n",
    "       ?scientificName\n",
    "WHERE {\n",
    "  ?taxon a up:Taxon ;\n",
    "         up:rank ?rank ;\n",
    "         up:scientificName ?scientificName .\n",
    "}\"\"\")\n",
    "\n",
    "for row in qres:\n",
    "    print('Taxon \"%s\", rank = \"%s\", scientificName = \"%s\"' % row)"
   ]
  },
  {
   "cell_type": "markdown",
   "metadata": {
    "collapsed": false
   },
   "source": [
    "## Taxonomy hierarchy\n",
    "\n",
    "Querying the taxonomic hierarchy is straightforward using the `rdfs:subClassOf` property.  \n",
    "In our _taxon_ example shown previously:  \n",
    "<9605> rdfs:subClassOf <9606>  \n",
    "<9606> rdfs:subClassOf <207598>  \n",
    "\n",
    "In order to facilitate the search, the UniProt SPARQL endpoint materialized all relationships. In other words, you don't need to use SPARQL property path to query the taxonomy classification.  \n",
    "Note that if you use other endpoints you might need to use `rdfs:subClassOf+` to query by higher levels of taxonomy.\n"
   ]
  },
  {
   "cell_type": "code",
   "execution_count": 5,
   "metadata": {
    "collapsed": false
   },
   "outputs": [
    {
     "name": "stdout",
     "output_type": "stream",
     "text": [
      "http://purl.uniprot.org/taxonomy/9606 is part of the genus http://purl.uniprot.org/taxonomy/9605\n"
     ]
    }
   ],
   "source": [
    "qres=taxon.query(\"\"\"\n",
    "PREFIX up: <http://purl.uniprot.org/core/> \n",
    "PREFIX uniprotkb: <http://purl.uniprot.org/uniprot/>\n",
    "PREFIX skos: <http://www.w3.org/2004/02/skos/core#>\n",
    "\n",
    "SELECT\n",
    "  ?species\n",
    "  ?genus\n",
    "WHERE {\n",
    "  ?species a up:Taxon ;\n",
    "           up:rank up:Species ;\n",
    "           rdfs:subClassOf ?genus .\n",
    "  ?genus a up:Taxon ;\n",
    "         up:rank up:Genus .\n",
    "}\"\"\")\n",
    "\n",
    "for row in qres:\n",
    "    print(\"%s is part of the genus %s\" % row)"
   ]
  },
  {
   "cell_type": "markdown",
   "metadata": {
    "collapsed": false
   },
   "source": [
    "### <span style='color:#f44336'>Exercise use skos:narrowerTransitive instead</span>\n",
    "\n"
   ]
  },
  {
   "cell_type": "code",
   "execution_count": null,
   "metadata": {
    "collapsed": false
   },
   "outputs": [],
   "source": [
    "qres=taxon.query(\"\"\"\n",
    "PREFIX up: <http://purl.uniprot.org/core/> \n",
    "PREFIX uniprotkb: <http://purl.uniprot.org/uniprot/>\n",
    "PREFIX skos: <http://www.w3.org/2004/02/skos/core#>\n",
    "\n",
    "SELECT\n",
    "  ?species\n",
    "  ?genus\n",
    "WHERE {\n",
    "  ?species a up:Taxon ;\n",
    "           up:rank up:Species ;\n",
    "           **** ?genus .\n",
    "  ?genus a up:Taxon ;\n",
    "         up:rank up:Genus .\n",
    "}\"\"\")\n",
    "\n",
    "for row in qres:\n",
    "    print(\"%s is part of the genus %s\" % row)"
   ]
  },
  {
   "cell_type": "markdown",
   "metadata": {
    "collapsed": false
   },
   "source": [
    "## Host organisms\n",
    "\n",
    "Sometimes an organism is known to be hosted inside an other one (_e.g._ parasite, symbiont, infection).   \n",
    "We defined the `host` property to link an organism to its host.  "
   ]
  },
  {
   "cell_type": "code",
   "execution_count": 4,
   "metadata": {
    "collapsed": false
   },
   "outputs": [],
   "source": [
    "host=Graph().parse(format='ttl',\n",
    "                 data=\"\"\"\n",
    "base <http://purl.uniprot.org/taxonomy/> \n",
    "prefix up: <http://purl.uniprot.org/core/> \n",
    "<1241371> a up:Taxon ;\n",
    "          up:mnemonic \"ABHV\" ;\n",
    "          up:host <6451> .\n",
    "\"\"\")"
   ]
  },
  {
   "cell_type": "code",
   "execution_count": 5,
   "metadata": {
    "collapsed": false
   },
   "outputs": [
    {
     "name": "stdout",
     "output_type": "stream",
     "text": [
      "http://purl.uniprot.org/taxonomy/1241371 hosted by http://purl.uniprot.org/taxonomy/6451\n"
     ]
    }
   ],
   "source": [
    "qres=host.query(\"\"\"\n",
    "PREFIX up: <http://purl.uniprot.org/core/> \n",
    "PREFIX uniprotkb: <http://purl.uniprot.org/uniprot/>\n",
    "PREFIX skos: <http://www.w3.org/2004/02/skos/core#>\n",
    "\n",
    "SELECT\n",
    "    ?virus\n",
    "    ?host\n",
    "WHERE {\n",
    "    ?virus up:host ?host .\n",
    "}\"\"\")\n",
    "\n",
    "for row in qres:\n",
    "    print(\"%s hosted by %s\" % row)"
   ]
  },
  {
   "cell_type": "markdown",
   "metadata": {
    "collapsed": false
   },
   "source": [
    "# Annotations\n",
    "\n",
    "UniProt is well known for it's detailed functional annotation of Protein.\n",
    "There are many type of annotations we will talk about three kinds today\n",
    "\n",
    "- Function_Annotation\n",
    "- Catalytic_Activity_Annotation\n",
    "- Active_Site_Annotation\n",
    "\n"
   ]
  },
  {
   "cell_type": "code",
   "execution_count": 7,
   "metadata": {
    "collapsed": false
   },
   "outputs": [],
   "source": [
    "annotated_entry=Graph().parse(format='ttl',\n",
    "                 data=\"\"\"\n",
    "base <http://purl.uniprot.org/uniprot/>\n",
    "prefix up: <http://purl.uniprot.org/core/>\n",
    "prefix range: <http://purl.uniprot.org/range/>\n",
    "prefix faldo: <http://biohackathon.org/resource/faldo#>\n",
    "prefix rdf: <http://www.w3.org/1999/02/22-rdf-syntax-ns#>\n",
    "prefix xsd: <http://www.w3.org/2001/XMLSchema#>\n",
    "prefix enzyme: <http://purl.uniprot.org/enzyme/>\n",
    "prefix rdfs: <http://www.w3.org/2000/01/rdf-schema#>\n",
    "prefix position: <http://purl.uniprot.org/position/>\n",
    "prefix isoform: <http://purl.uniprot.org/isoforms/>\n",
    "\n",
    "<A1L3X0> rdf:type up:Protein ;\n",
    "  up:reviewed true ;\n",
    "  up:created \"2007-12-04\"^^xsd:date ;\n",
    "  up:modified \"2022-12-14\"^^xsd:date ;\n",
    "  up:version 126 ;\n",
    "  up:mnemonic \"ELOV7_HUMAN\" ;\n",
    "  up:annotation <A1L3X0#SIP89646E7BFEA7319C> , <A1L3X0#SIPAA7F9D2700865549> , <A1L3X0#SIP9679820FC93F989D> .\n",
    "\n",
    "<A1L3X0#SIP89646E7BFEA7319C> rdf:type up:Function_Annotation ;\n",
    "  rdfs:comment \"Catalyzes the first and rate-limiting reaction of the four reactions that constitute the long-chain fatty acids elongation cycle. This endoplasmic reticulum-bound enzymatic process allows the addition of 2 carbons to the chain of long- and very long-chain fatty acids (VLCFAs) per cycle. Condensing enzyme with higher activity toward C18 acyl-CoAs, especially C18:3(n-3) acyl-CoAs and C18:3(n-6)-CoAs. Also active toward C20:4-, C18:0-, C18:1-, C18:2- and C16:0-CoAs, and weakly toward C20:0-CoA. Little or no activity toward C22:0-, C24:0-, or C26:0-CoAs. May participate in the production of saturated and polyunsaturated VLCFAs of different chain lengths that are involved in multiple biological processes as precursors of membrane lipids and lipid mediators.\" .\n",
    "\n",
    "<A1L3X0#SIPAA7F9D2700865549> rdf:type up:Active_Site_Annotation ;\n",
    "  rdfs:comment \"Nucleophile\" ;\n",
    "  up:range range:18350076834885678tt150tt150 .\n",
    "range:18350076834885678tt150tt150 rdf:type faldo:Region ;\n",
    "  faldo:begin position:18350076834885678tt150 ;\n",
    "  faldo:end position:18350076834885678tt150 .\n",
    "\n",
    "<A1L3X0#SIP9679820FC93F989D> rdf:type up:Catalytic_Activity_Annotation ;\n",
    "  up:catalyticActivity <A1L3X0#SIP795F50B39688C7AA> ;\n",
    "  up:catalyzedPhysiologicalReaction <http://rdf.rhea-db.org/32728> .\n",
    "\n",
    "<A1L3X0#SIP795F50B39688C7AA> rdf:type up:Catalytic_Activity ;\n",
    "  up:catalyzedReaction <http://rdf.rhea-db.org/32727> ;\n",
    "  up:enzymeClass enzyme:2.3.1.199 .\n",
    "\n",
    "position:18350076834885678tt150 rdf:type faldo:Position ,\n",
    "    faldo:ExactPosition ;\n",
    "  faldo:position 150 ;\n",
    "  faldo:reference isoform:A1L3X0-1 .\n",
    "\n",
    "isoform:A1L3X0-1 rdf:type up:Simple_Sequence ;\n",
    "  up:modified \"2007-02-06\"^^xsd:date ;\n",
    "  up:version 1 ;\n",
    "  up:mass 33356 ;\n",
    "  up:md5Checksum \"8be30446ba90dce3da3a4ed115206e19\" ;\n",
    "  rdf:value \"MAFSDLTSRTVHLYDNWIKDADPRVEDWLLMSSPLPQTILLGFYVYFVTSLGPKLMENRKPFELKKAMITYNFFIVLFSVYMCYEFVMSGWGIGYSFRCDIVDYSRSPTALRMARTCWLYYFSKFIELLDTIFFVLRKKNSQVTFLHVFHHTIMPWTWWFGVKFAAGGLGTFHALLNTAVHVVMYSYYGLSALGPAYQKYLWWKKYLTSLQLVQFVIVAIHISQFFFMEDCKYQFPVFACIIMSYSFMFLLLFLHFWYRAYTKGQRLPKTVKNGTCKNKDN\" .\n",
    "\"\"\")"
   ]
  },
  {
   "cell_type": "markdown",
   "metadata": {
    "collapsed": false
   },
   "source": [
    "## Function Annotation\n",
    "\n",
    "A free text annotation that is for humans to read and understand. i.e. \"General description of the functions of a protein\""
   ]
  },
  {
   "cell_type": "code",
   "execution_count": 8,
   "metadata": {
    "collapsed": false
   },
   "outputs": [
    {
     "name": "stdout",
     "output_type": "stream",
     "text": [
      "Found http://purl.uniprot.org/uniprot/A1L3X0 annotated with the a function=Catalyzes the first and rate-limiting reaction of the four reactions that constitute the long-chain fatty acids elongation cycle. This endoplasmic reticulum-bound enzymatic process allows the addition of 2 carbons to the chain of long- and very long-chain fatty acids (VLCFAs) per cycle. Condensing enzyme with higher activity toward C18 acyl-CoAs, especially C18:3(n-3) acyl-CoAs and C18:3(n-6)-CoAs. Also active toward C20:4-, C18:0-, C18:1-, C18:2- and C16:0-CoAs, and weakly toward C20:0-CoA. Little or no activity toward C22:0-, C24:0-, or C26:0-CoAs. May participate in the production of saturated and polyunsaturated VLCFAs of different chain lengths that are involved in multiple biological processes as precursors of membrane lipids and lipid mediators.\n"
     ]
    }
   ],
   "source": [
    "res=annotated_entry.query(\"\"\"\n",
    "prefix rdfs: <http://www.w3.org/2000/01/rdf-schema#>\n",
    "prefix up: <http://purl.uniprot.org/core/>\n",
    "\n",
    "SELECT\n",
    "  ?protein\n",
    "  ?comment\n",
    "WHERE {\n",
    "  ?protein a up:Protein ;\n",
    "    up:annotation ?annotation .\n",
    "  ?annotation a up:Function_Annotation ;\n",
    "    rdfs:comment ?comment .\n",
    "  FILTER(contains(?comment, 'Condensing enzyme'))\n",
    "}\n",
    "\"\"\")\n",
    "\n",
    "for row in res:\n",
    "    print(\"Found %s annotated with the a function=%s\" % row)"
   ]
  },
  {
   "cell_type": "markdown",
   "metadata": {
    "collapsed": false
   },
   "source": [
    "## Active site annotation\n",
    "\n",
    "Active sites are the \"Amino acid(s) involved in the activity of an enzyme.\""
   ]
  },
  {
   "cell_type": "code",
   "execution_count": 14,
   "metadata": {
    "collapsed": false
   },
   "outputs": [
    {
     "name": "stdout",
     "output_type": "stream",
     "text": [
      "Found http://purl.uniprot.org/uniprot/A1L3X0 annotated with the an active site = Nucleophile at 150\n"
     ]
    }
   ],
   "source": [
    "res=annotated_entry.query(\"\"\"\n",
    "prefix rdfs: <http://www.w3.org/2000/01/rdf-schema#>\n",
    "prefix up: <http://purl.uniprot.org/core/>\n",
    "\n",
    "SELECT\n",
    "  ?protein\n",
    "  ?comment\n",
    "  ?beginPosition\n",
    "WHERE {\n",
    "  ?protein a up:Protein ;\n",
    "    up:annotation ?annotation .\n",
    "  ?annotation a up:Active_Site_Annotation ;\n",
    "    rdfs:comment ?comment ;\n",
    "    up:range ?range .\n",
    "  ?range faldo:begin/faldo:position ?beginPosition .\n",
    "}\n",
    "\"\"\")\n",
    "\n",
    "for row in res:\n",
    "    print(\"Found %s annotated with the an active site (%s) at %s\" % row)"
   ]
  },
  {
   "cell_type": "code",
   "execution_count": 8,
   "metadata": {
    "collapsed": false
   },
   "outputs": [
    {
     "name": "stdout",
     "output_type": "stream",
     "text": [
      "Found http://purl.uniprot.org/uniprot/A1L3X0 annotated active site at 150 on the sequence MAFSDLTSRTVHLYDNWIKDADPRVEDWLLMSSPLPQTILLGFYVYFVTSLGPKLMENRKPFELKKAMITYNFFIVLFSVYMCYEFVMSGWGIGYSFRCDIVDYSRSPTALRMARTCWLYYFSKFIELLDTIFFVLRKKNSQVTFLHVFHHTIMPWTWWFGVKFAAGGLGTFHALLNTAVHVVMYSYYGLSALGPAYQKYLWWKKYLTSLQLVQFVIVAIHISQFFFMEDCKYQFPVFACIIMSYSFMFLLLFLHFWYRAYTKGQRLPKTVKNGTCKNKDN\n"
     ]
    }
   ],
   "source": [
    "res=annotated_entry.query(\"\"\"\n",
    "prefix rdfs: <http://www.w3.org/2000/01/rdf-schema#>\n",
    "prefix up: <http://purl.uniprot.org/core/>\n",
    "\n",
    "SELECT\n",
    "  ?protein\n",
    "  ?beginPosition\n",
    "  ?sequence\n",
    "WHERE {\n",
    "  ?protein a up:Protein ;\n",
    "    up:annotation ?annotation .\n",
    "  ?annotation a up:Active_Site_Annotation ;\n",
    "    up:range ?range .\n",
    "  ?range faldo:begin [ faldo:position ?beginPosition ;\n",
    "                       faldo:reference ?isoform ] .\n",
    "  ?isoform rdf:value ?sequence .\n",
    "}\n",
    "\"\"\")\n",
    "\n",
    "for row in res:\n",
    "    print(\"Found %s annotated active site at %s on the sequence %s\" % row)"
   ]
  },
  {
   "cell_type": "markdown",
   "metadata": {
    "collapsed": false
   },
   "source": [
    "### Extracting the amino acid annotated\n",
    "\n"
   ]
  },
  {
   "cell_type": "code",
   "execution_count": 9,
   "metadata": {
    "collapsed": false
   },
   "outputs": [
    {
     "name": "stdout",
     "output_type": "stream",
     "text": [
      "Found http://purl.uniprot.org/uniprot/A1L3X0 annotated active site at 150 is a  H\n"
     ]
    }
   ],
   "source": [
    "res=annotated_entry.query(\"\"\"\n",
    "prefix rdfs: <http://www.w3.org/2000/01/rdf-schema#>\n",
    "prefix up: <http://purl.uniprot.org/core/>\n",
    "\n",
    "SELECT\n",
    "  ?protein\n",
    "  ?beginPosition\n",
    "  ?amminoacid\n",
    "WHERE {\n",
    "  ?protein a up:Protein ;\n",
    "    up:annotation ?annotation .\n",
    "  ?annotation a up:Active_Site_Annotation ;\n",
    "    up:range ?range .\n",
    "  ?range faldo:begin [ faldo:position ?beginPosition ;\n",
    "                       faldo:reference ?isoform ] .\n",
    "  ?isoform rdf:value ?sequence .\n",
    "  BIND(SUBSTR(?sequence, ?beginPosition, 1) AS ?amminoacid)\n",
    "}\n",
    "\"\"\")\n",
    "\n",
    "for row in res:\n",
    "    print(\"Found %s annotated active site at %s is a  %s\" % row)"
   ]
  },
  {
   "cell_type": "markdown",
   "metadata": {
    "collapsed": false
   },
   "source": [
    "### <span style='color:#f44336'>Exercise select only those entries where the active site is a 'H'</span>\n",
    "\n"
   ]
  },
  {
   "cell_type": "code",
   "execution_count": null,
   "metadata": {
    "collapsed": false
   },
   "outputs": [],
   "source": [
    "res=annotated_entry.query(\"\"\"\n",
    "prefix rdfs: <http://www.w3.org/2000/01/rdf-schema#>\n",
    "prefix up: <http://purl.uniprot.org/core/>\n",
    "\n",
    "SELECT\n",
    "  ?protein\n",
    "  ?beginPosition\n",
    "  ?amminoacid\n",
    "WHERE {\n",
    "  ?protein a up:Protein ;\n",
    "    up:annotation ?annotation .\n",
    "  ?annotation a up:Active_Site_Annotation ;\n",
    "    up:range ?range .\n",
    "  ?range faldo:begin [ faldo:position ?beginPosition ;\n",
    "                       faldo:reference ?isoform ] .\n",
    "  ?isoform rdf:value ?sequence .\n",
    "  BIND(SUBSTR(?sequence, ?beginPosition, 1) AS ?amminoacid)\n",
    "  FILTER(**** = ?aminoacid)\n",
    "}\n",
    "\"\"\")\n",
    "\n",
    "for row in res:\n",
    "    print(\"Found %s annotated active site at %s is a %s and must be a 'H'\" % row)"
   ]
  },
  {
   "cell_type": "markdown",
   "metadata": {
    "collapsed": false
   },
   "source": [
    "### FALDO\n",
    "\n",
    "We use FALDO to describe positions. FALDO allows for positions that we currently don't allow in UniProt but that do appear in other databases.\n",
    "Building on this reusable schema means that what you learned here can be reused at other databases e.g. DDBJ.\n",
    "\n",
    "Why the layers of indirection. Simple biology doesn't need, unfortunately lots of biology is not simple.\n",
    "\n",
    "Things you might expect but are not always true.\n",
    "\n",
    "genes \\-&gt; start before they end \\-&gt; have a definable length \\-&gt; are shorter than their chromosome they are on \\-&gt; start on the same chromosome that it ends on \\-&gt; position is actually known \\-&gt; genes are not wholly within other genes \\-&gt; and if they are they don't share exons \\-&gt; and if they do mutations in the one don't make the other non functional\n",
    "\n",
    "FALDO deals with the rare edge cases, and we pay for the extra triples in the simple cases. Specifically because the rare cases are often interesting for biological reasons.\n",
    "\n",
    "![Example](./Image/faldo-example.png)\n",
    "\n"
   ]
  },
  {
   "cell_type": "markdown",
   "metadata": {
    "collapsed": false
   },
   "source": [
    "## Catalytic activity\n",
    "\n",
    "![Protein to Reaction](Image/uniprot_ca_rhea.png)\n",
    "\n"
   ]
  },
  {
   "cell_type": "code",
   "execution_count": 5,
   "metadata": {
    "collapsed": false
   },
   "outputs": [
    {
     "name": "stdout",
     "output_type": "stream",
     "text": [
      "Found http://purl.uniprot.org/uniprot/A1L3X0 that catalyzes http://rdf.rhea-db.org/32727\n"
     ]
    }
   ],
   "source": [
    "res=annotated_entry.query(\"\"\"\n",
    "PREFIX up: <http://purl.uniprot.org/core/>\n",
    "\n",
    "SELECT\n",
    "  DISTINCT\n",
    "    ?uniprot\n",
    "    ?rhea\n",
    "WHERE {\n",
    "    ?uniprot a up:Protein .\n",
    "\n",
    "    # Catalytic activity annotation\n",
    "    ?uniprot up:annotation ?cann .\n",
    "    ?cann a up:Catalytic_Activity_Annotation ;\n",
    "      up:catalyticActivity ?ca .\n",
    "\n",
    "    # catalyzed reaction (Rhea)\n",
    "    ?ca up:catalyzedReaction ?rhea .\n",
    "}\n",
    "\"\"\")\n",
    "\n",
    "for row in res:\n",
    "    print(\"Found %s that catalyzes %s\" % row)"
   ]
  },
  {
   "cell_type": "markdown",
   "metadata": {
    "collapsed": false
   },
   "source": [
    "## String functions on sequences\n",
    "\n",
    "UniProt uses 1 based indexing as do the [SPARQL string](https://www.w3.org/TR/sparql11-query/) functions.\n",
    "\n",
    "In the RDF all isoforms sequences are available, not only the \"cannonical\" as in the flatfile.\n"
   ]
  },
  {
   "cell_type": "code",
   "execution_count": null,
   "metadata": {
    "collapsed": false
   },
   "outputs": [],
   "source": [
    "res=annotated_entry.query(\"\"\"\n",
    "PREFIX up: <http://purl.uniprot.org/core/>\n",
    "PREFIX faldo: <http://biohackathon.org/resource/faldo#>\n",
    "SELECT\n",
    "    ?protein\n",
    "    ?sequence\n",
    "    ?sequenceLength\n",
    "WHERE {\n",
    "    ?protein up:sequence ?sequence .\n",
    "    ?sequence rdf:value ?sequenceIUPACstring .\n",
    "    BIND(STRLEN(?sequenceIUPACstring ) AS ?sequenceLength)\n",
    "}\n",
    "\"\"\")\n",
    "\n",
    "for row in res:\n",
    "    print(\"Found %s with a sequence of length %s\" % row)"
   ]
  },
  {
   "cell_type": "markdown",
   "metadata": {
    "collapsed": false
   },
   "source": [
    "## Disease Annotation"
   ]
  },
  {
   "cell_type": "code",
   "execution_count": 9,
   "metadata": {
    "collapsed": false
   },
   "outputs": [],
   "source": [
    "diseased_entry=Graph().parse(format='ttl',\n",
    "                 data=\"\"\"\n",
    "base <http://purl.uniprot.org/uniprot/>\n",
    "prefix up: <http://purl.uniprot.org/core/>\n",
    "prefix range: <http://purl.uniprot.org/range/>\n",
    "prefix faldo: <http://biohackathon.org/resource/faldo#>\n",
    "prefix rdf: <http://www.w3.org/1999/02/22-rdf-syntax-ns#>\n",
    "prefix xsd: <http://www.w3.org/2001/XMLSchema#>\n",
    "prefix enzyme: <http://purl.uniprot.org/enzyme/>\n",
    "prefix rdfs: <http://www.w3.org/2000/01/rdf-schema#>\n",
    "prefix position: <http://purl.uniprot.org/position/>\n",
    "prefix isoform: <http://purl.uniprot.org/isoforms/>\n",
    "prefix skos: <http://www.w3.org/2004/02/skos/core#>\n",
    "prefix annotation: <http://purl.uniprot.org/annotation/>\n",
    "prefix disease: <http://purl.uniprot.org/diseases/>\n",
    "\n",
    "<A0A1B0GTW7> rdf:type up:Protein ;\n",
    "  up:reviewed true ;\n",
    "  up:annotation <A0A1B0GTW7#SIP7FF941061D88C2CD> , annotation:VAR_086199 .\n",
    "\n",
    "<A0A1B0GTW7#SIP7FF941061D88C2CD> rdf:type up:Disease_Annotation ;\n",
    "  rdfs:comment \"The disease is caused by variants affecting the gene represented in this entry.\" ;\n",
    "  up:disease disease:6243 .\n",
    "\n",
    "annotation:VAR_086199 rdf:type up:Natural_Variant_Annotation ;\n",
    "  rdfs:comment \"In HTX12; unknown pathological significance.\" ;\n",
    "  up:substitution \"F\" ;\n",
    "  skos:related disease:6243 ;\n",
    "  up:range <http://purl.uniprot.org/range/-9218581325671703506tt31tt31> . \"\"\")"
   ]
  },
  {
   "cell_type": "code",
   "execution_count": null,
   "metadata": {
    "collapsed": false
   },
   "outputs": [],
   "source": [
    "In the above example one can see there is a `skos:related` between a natural variation and a dissease (6423) this is only made explicit in the RDF of UniProt."
   ]
  },
  {
   "cell_type": "code",
   "execution_count": 11,
   "metadata": {
    "collapsed": false
   },
   "outputs": [
    {
     "name": "stdout",
     "output_type": "stream",
     "text": [
      "Found http://purl.uniprot.org/uniprot/A0A1B0GTW7 with an annotation http://purl.uniprot.org/annotation/VAR_086199 that is related to http://purl.uniprot.org/diseases/6243\n",
      "Found http://purl.uniprot.org/uniprot/A0A1B0GTW7 with an annotation http://purl.uniprot.org/uniprot/A0A1B0GTW7#SIP7FF941061D88C2CD that is related to http://purl.uniprot.org/diseases/6243\n"
     ]
    }
   ],
   "source": [
    "res=diseased_entry.query(\"\"\"\n",
    "PREFIX up: <http://purl.uniprot.org/core/>\n",
    "PREFIX faldo: <http://biohackathon.org/resource/faldo#>\n",
    "PREFIX skos: <http://www.w3.org/2004/02/skos/core#>\n",
    "\n",
    "SELECT\n",
    "    ?protein\n",
    "    ?annotation\n",
    "    ?disease\n",
    "WHERE {\n",
    "    ?protein up:annotation ?annotation .\n",
    "    ?annotation (skos:related|up:disease) ?disease .\n",
    "}\n",
    "\"\"\")\n",
    "\n",
    "for row in res:\n",
    "    print(\"Found %s with an annotation %s that is related to %s\" % row)"
   ]
  },
  {
   "cell_type": "code",
   "execution_count": null,
   "metadata": {
    "collapsed": false
   },
   "outputs": [],
   "source": []
  }
 ],
 "metadata": {
  "hide_input": false,
  "kernelspec": {
   "display_name": "swat4hcls",
   "language": "python",
   "name": "python3"
  },
  "language_info": {
   "codemirror_mode": {
    "name": "ipython",
    "version": 3
   },
   "file_extension": ".py",
   "mimetype": "text/x-python",
   "name": "python",
   "nbconvert_exporter": "python",
   "pygments_lexer": "ipython3",
   "version": "3.11.0"
  },
  "toc": {
   "base_numbering": 1,
   "nav_menu": {},
   "number_sections": true,
   "sideBar": true,
   "skip_h1_title": false,
   "title_cell": "Table of Contents",
   "title_sidebar": "Contents",
   "toc_cell": true,
   "toc_position": {
    "height": "636.667px",
    "left": "166px",
    "top": "109.722px",
    "width": "195.938px"
   },
   "toc_section_display": true,
   "toc_window_display": true
  },
  "vscode": {
   "interpreter": {
    "hash": "284e420cfa37ae84184867869e71f67268a8410b0d52239af7135efd6fd9fa0d"
   }
  }
 },
 "nbformat": 4,
 "nbformat_minor": 4
}
