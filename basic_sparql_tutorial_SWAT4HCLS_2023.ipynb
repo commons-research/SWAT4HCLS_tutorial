{
 "cells": [
  {
   "cell_type": "code",
   "execution_count": 0,
   "metadata": {
    "collapsed": false
   },
   "outputs": [
   ],
   "source": [
   ]
  },
  {
   "cell_type": "markdown",
   "metadata": {
    "collapsed": false
   },
   "source": [
    "# Introduction\n",
    "\n",
    "This notebook is an hands\\-on introduction to querying data with SPARQL.\n",
    "\n",
    "This notebook is built with a **Python3 kernel** and uses the **SPARQLWrapper, RDFLib** and **pandas** python libraries.\n",
    "\n",
    "For this tutorial all queries are run locally in the Jupyther notebook. But can also be run at public endpoints \\(websites that expect sparql\\).\n",
    "\n",
    "## RDF\n",
    "\n",
    "Resource Description Framework: a way to talk about data on the web.\n",
    "\n",
    " - Triples : Small sentences that have a subject, predicate and an object\n",
    " - subject : the thing the sentence is about\n",
    " - predicate: the concept linking the subject to the object\n",
    " - object: what the subject relates to.\n",
    "\n",
    "Example:\n",
    "\n",
    "```\n",
    "I love chocolate .\n",
    "```\n",
    "\n",
    "I  = subject, love = predicate, chocolate = object .\n",
    "\n",
    "Different ways of writing the same thing, we use the syntax [Turtle](https://www.w3.org/TR/turtle/)\n",
    "\n",
    "We replace the words such as I with an IRI (URL, thing that is in the top of your browser/internet)\n",
    "e.g.\n",
    "I =  https://ch.linkedin.com/in/jervenbolleman/en\n",
    "love = https://www.dictionary.com/browse/love\n",
    "chocolate = https://www.wikidata.org/wiki/Q195\n",
    "\n",
    "## SPARQL\n",
    "\n",
    "Query language to find answers in data represented as RDF.\n",
    "\n"
   ]
  },
  {
   "cell_type": "markdown",
   "metadata": {
    "collapsed": false
   },
   "source": [
    "# Initialisation\n",
    "\n",
    "This notebook uses a Python3 kernel.\n",
    "\n"
   ]
  },
  {
   "cell_type": "markdown",
   "metadata": {
    "collapsed": false
   },
   "source": [
    "## Python libraries\n",
    "\n",
    "**Dependencies:**\n",
    "\n",
    "- **SPARQLWrapper**  \n",
    "  SPARQLWrapper is a wrapper around a SPARQL service. It helps in creating the query URI and, possibly, convert the result into a more manageable format. The package is licensed under W3C license.  \n",
    "  useful links: https://rdflib.github.io/sparqlwrapper/ and https://pypi.org/project/SPARQLWrapper/\n",
    "- **RDFLIB**  \n",
    "  Is a Python library for working with RDF data, it has it's own SPARQL engine build in and does not need \\(but can work with\\) a SPARQL capable database. [Documentation](https://rdflib.readthedocs.io/en/stable/)\n",
    "- **pandas**  \n",
    "  pandas is a Python package providing fast, flexible, and expressive data structures designed to make working with structured \\(tabular, multidimensional, potentially heterogeneous\\) and time series data both easy and intuitive.  \n",
    "  useful link: https://pypi.org/project/pandas/\n",
    "\n"
   ]
  },
  {
   "cell_type": "code",
   "execution_count": 2,
   "metadata": {
    "collapsed": false
   },
   "outputs": [
   ],
   "source": [
    "from SPARQLWrapper import SPARQLWrapper, JSON\n",
    "from rdflib import Graph\n",
    "\n",
    "import pandas as pd\n",
    "from pandas import json_normalize\n"
   ]
  },
  {
   "cell_type": "code",
   "execution_count": 3,
   "metadata": {
    "collapsed": false
   },
   "outputs": [
   ],
   "source": [
    "g = Graph()\n",
    "prefixes=\"\"\"PREFIX dbo:<http://dbpedia.org/ontology/>\n",
    "PREFIX dbp:<http://dbpedia.org/property/>\n",
    "PREFIX dbpedia:<http://dbpedia.org/resource/>\n",
    "PREFIX rdf:<http://www.w3.org/1999/02/22-rdf-syntax-ns#>\n",
    "PREFIX rdfs:<http://www.w3.org/2000/01/rdf-schema#>\n",
    "PREFIX tto:<http://example.org/tuto/ontology#>\n",
    "PREFIX ttr:<http://example.org/tuto/resource#>\n",
    "PREFIX xsd:<http://www.w3.org/2001/XMLSchema#>\n",
    "\"\"\"\n",
    "\n",
    "data = g.parse(format =\"turtle\" ,data = prefixes+\"\"\"\n",
    "\n",
    "dbo:Person rdfs:subClassOf tto:Creature .\n",
    "\n",
    "tto:Animal a rdfs:Class ;\n",
    "\trdfs:isDefinedBy <http://example.org/tuto/ontology#> ;\n",
    "\trdfs:label \"animal\" ;\n",
    "\trdfs:subClassOf tto:Creature .\n",
    "\n",
    "tto:Cat a rdfs:Class ;\n",
    "\trdfs:isDefinedBy <http://example.org/tuto/ontology#> ;\n",
    "\trdfs:label \"cat\" ;\n",
    "\trdfs:subClassOf tto:Animal .\n",
    "\n",
    "tto:Creature a rdfs:Class ;\n",
    "\trdfs:isDefinedBy <http://example.org/tuto/ontology#> ;\n",
    "\trdfs:label \"creature\" .\n",
    "\n",
    "tto:Dog a rdfs:Class ;\n",
    "\trdfs:isDefinedBy <http://example.org/tuto/ontology#> ;\n",
    "\trdfs:label \"dog\" ;\n",
    "\trdfs:subClassOf tto:Animal .\n",
    "\n",
    "tto:Monkey a rdfs:Class ;\n",
    "\trdfs:isDefinedBy <http://example.org/tuto/ontology#> ;\n",
    "\trdfs:label \"monkey\" ;\n",
    "\trdfs:subClassOf tto:Animal .\n",
    "\n",
    "tto:pet a rdf:Property ;\n",
    "\trdfs:domain dbo:Person ;\n",
    "\trdfs:isDefinedBy <http://example.org/tuto/ontology#> ;\n",
    "\trdfs:label \"domestic animal\" ;\n",
    "\trdfs:range tto:Animal .\n",
    "\n",
    "tto:sex a rdf:Property ;\n",
    "\trdfs:domain tto:Creature ;\n",
    "\trdfs:isDefinedBy <http://example.org/tuto/ontology#> ;\n",
    "\trdfs:label \"sex\" ;\n",
    "\trdfs:range xsd:string .\n",
    "\n",
    "tto:weight a rdf:Property ;\n",
    "\trdfs:comment \"weight in kilograms\" ;\n",
    "\trdfs:domain tto:Creature ;\n",
    "\trdfs:isDefinedBy <http://example.org/tuto/ontology#> ;\n",
    "\trdfs:label \"weight\" ;\n",
    "\trdfs:range xsd:decimal .\n",
    "\n",
    "ttr:Eve dbo:parent ttr:William ;\n",
    "\tdbp:birthDate \"2006-11-03\"^^xsd:date ;\n",
    "\tdbp:name \"Eve\" ;\n",
    "\ttto:sex \"female\" ;\n",
    "\ta dbo:Person .\n",
    "\n",
    "ttr:John dbp:birthDate \"1942-02-02\"^^xsd:date ;\n",
    "\tdbp:name \"John\" ;\n",
    "\ttto:pet ttr:LunaCat , ttr:TomCat ;\n",
    "\ttto:sex \"male\" ;\n",
    "\ta dbo:Person .\n",
    "\n",
    "ttr:LunaCat dbp:name \"Luna\" ;\n",
    "\ttto:color \"violet\" ;\n",
    "\ttto:sex \"female\" ;\n",
    "\ttto:weight 4.2 ;\n",
    "\ta tto:Cat .\n",
    "\n",
    "ttr:RexDog dbp:name \"Rex\" ;\n",
    "\ttto:color \"brown\" ;\n",
    "\ttto:sex \"male\" ;\n",
    "\ttto:weight 8.8 ;\n",
    "\ta tto:Dog .\n",
    "\n",
    "ttr:SnuffMonkey dbp:name \"Snuff\" ;\n",
    "\ttto:color \"golden\" ;\n",
    "\ttto:sex \"male\" ;\n",
    "\ttto:weight 3.6 ;\n",
    "\ta tto:Monkey .\n",
    "\n",
    "ttr:TomCat dbp:name \"Tom\" ;\n",
    "\ttto:color \"grey\" ;\n",
    "\ttto:sex \"male\" ;\n",
    "\ttto:weight 5.8 ;\n",
    "\ta tto:Cat .\n",
    "\n",
    "ttr:William dbo:parent ttr:John ;\n",
    "\tdbp:birthDate \"1978-07-20\"^^xsd:date ;\n",
    "\tdbp:name \"William\" ;\n",
    "\ttto:pet ttr:RexDog ;\n",
    "\ttto:sex \"male\" ;\n",
    "\ta dbo:Person .\"\"\")\n"
   ]
  },
  {
   "cell_type": "markdown",
   "metadata": {
    "collapsed": false
   },
   "source": [
    "## Introduction\n",
    "\n",
    "![Cartoon of how data items are related](https://sparql-playground.sib.swiss/queries/cartoon-rdf-type.png)\n",
    "\n",
    "This example contains a very simple set with persons and their pets.\n",
    "\n",
    "The following diagram shows you the main resources it contains.\n",
    "\n",
    "This is a simplified version \\(all triples can be seen in the data section\\)\n",
    "\n"
   ]
  },
  {
   "cell_type": "markdown",
   "metadata": {
    "collapsed": false
   },
   "source": [
    "## RDF Data used in this tutorial\n",
    "\n"
   ]
  },
  {
   "cell_type": "markdown",
   "metadata": {
    "collapsed": false
   },
   "source": [
    "In this tutorial we use a minimal dataset just enough to train on RDF data. Here we use a syntax called Turtle. RDF is about small sentences called triples, they have a subject, predicate and an object.\n",
    "In most cases we use an IRI (the thing that is in the address bar) to identify things. e.g. [http://purl.uniprot.org/uniprot/P05067]\n",
    "We use IRIs to avoid amiguity e.g. 9606 is that the tax code for human or a pubmed identifier or just a number?\n",
    "These IRIs are very long so we make them shorter with an abbreviation we call these \"prefixes\", and are normally at the top of the SPARQL query and RDF files.\n",
    "\n",
    "There are also literals, they have datatypes  e.g. \"animal\" is an xsd:String, while \"1985\"^^xsd:gYear is a year in the gregorian calendar as defined by XML 1.1.\n",
    "\n",
    "The last type is blank nodes, blank nodes can be thought of as things that should have an IRI but we just don't know them yet.\n",
    "\n",
    "The prefixes we use are\n",
    "\n",
    "```\n",
    "PREFIX dbo:<http://dbpedia.org/ontology/>\n",
    "PREFIX dbp:<http://dbpedia.org/property/>\n",
    "PREFIX dbpedia:<http://dbpedia.org/resource/>\n",
    "PREFIX rdf:<http://www.w3.org/1999/02/22-rdf-syntax-ns#>\n",
    "PREFIX rdfs:<http://www.w3.org/2000/01/rdf-schema#>\n",
    "PREFIX tto:<http://example.org/tuto/ontology#>\n",
    "PREFIX ttr:<http://example.org/tuto/resource#>\n",
    "PREFIX xsd:<http://www.w3.org/2001/XMLSchema#>\n",
    "```\n",
    "\n"
   ]
  },
  {
   "cell_type": "markdown",
   "metadata": {
    "collapsed": false
   },
   "source": [
    "# SPARQL query examples\n",
    "\n"
   ]
  },
  {
   "cell_type": "markdown",
   "metadata": {
    "collapsed": false
   },
   "source": [
    "## Turning a data example into a query\n",
    "\n",
    "Take one triple\n",
    "\n",
    "```turtle\n",
    "ttr:John a dbo:Person .\n",
    "```\n",
    "\n",
    "replace ttr:John with a variable\n",
    "\n",
    "```sparql \n",
    "?person rdf:type dbo:Person .\n",
    "```\n",
    "\n",
    "add that we want to select the ?person .\n",
    "\n",
    "```sparql\n",
    "select ?person\n",
    "\n",
    "  ?person rdf:type dbo:Person .\n",
    "\n",
    "```\n",
    "\n",
    "and separate what we want as a result from the pattern\n",
    "\n",
    "```sparql\n",
    "select ?person\n",
    "where {\n",
    "  ?person rdf:type dbo:Person .\n",
    "}\n",
    "```\n",
    "\n",
    "### Q1: Select things that are persons\n",
    "\n",
    "Selects subjects connected to the object dbo:Person via the predicate rdf:type\n",
    "?thing is the only variable\n",
    "\n"
   ]
  },
  {
   "cell_type": "code",
   "execution_count": 0,
   "metadata": {
    "collapsed": false
   },
   "outputs": [
   ],
   "source": [
    "q1 = g.query(prefixes+\"\"\"\n",
    "select ?thing where {\n",
    "  ?thing rdf:type dbo:Person .\n",
    "}\"\"\")\n",
    "\n",
    "# Remember that in the turtle data above we can see:\n",
    "#\n",
    "# 'ttr:John a dbo:Person'\n",
    "#\n",
    "# 'a' can also be used instead of 'rdf:type'\n",
    "# 'a' is a synonym of 'rdf:type'\n",
    "\n",
    "for row in q1:\n",
    "    print(\"%s os a Person\" % row)\n"
   ]
  },
  {
   "cell_type": "markdown",
   "metadata": {
    "collapsed": false
   },
   "source": [
    "### Q2: Select \"things\" that are Female\n",
    "\n",
    "![Diagram](https://sparql-playground.sib.swiss/queries/cartoon-female.png) \n",
    "\n"
   ]
  },
  {
   "cell_type": "code",
   "execution_count": 7,
   "metadata": {
    "collapsed": false
   },
   "outputs": [
    {
     "name": "stdout",
     "output_type": "stream",
     "text": [
      "http://example.org/tuto/resource#Eve is female\n",
      "http://example.org/tuto/resource#LunaCat is female\n"
     ]
    }
   ],
   "source": [
    "q2 = g.query(prefixes+\"\"\"\n",
    "select ?thing where {\n",
    "  ?thing tto:sex \"female\" .\n",
    "}\"\"\")\n",
    "\n",
    "# Notice that not only the persons\n",
    "# but also the pets are taken\n",
    "\n",
    "for row in q2:\n",
    "    print(\"%s is female\" % row)\n"
   ]
  },
  {
   "cell_type": "markdown",
   "metadata": {
    "collapsed": false
   },
   "source": [
    "### Q3: Select things that are females\n",
    "\n",
    "Selects subjects connected to the literal \"female\" via the predicate tto:sex\n",
    "?thing is the only variable"
   ]
  },
  {
   "cell_type": "code",
   "execution_count": 8,
   "metadata": {
    "collapsed": false
   },
   "outputs": [
    {
     "name": "stdout",
     "output_type": "stream",
     "text": [
      "q3: http://example.org/tuto/resource#Eve a female person\n"
     ]
    }
   ],
   "source": [
    "q3 = g.query(\"\"\"\n",
    "select ?thing where {\n",
    "  ?thing a dbo:Person .\n",
    "  ?thing tto:sex \"female\" .\n",
    "}\"\"\")\n",
    "\n",
    "\n",
    "# Use the same name of the variable in the 2 statements\n",
    "# It is the name of the variable that enforces the constraint\n",
    "\n",
    "# Note the dot \".\" which must be added in the first statement, otherwise we get a MalformedQueryException.\n",
    "# Like good english we need to finish one sentence before starting the next.\n",
    "\n",
    "for row in q3:\n",
    "    print(\"q3: %s a female person\" % row)"
   ]
  },
  {
   "cell_type": "code",
   "execution_count": 17,
   "metadata": {
    "collapsed": false
   },
   "outputs": [
   ],
   "source": [
    "# Hint: Use the semicolon ';' to refer to the previous subject\n",
    "#\n",
    "# select ?thing where {\n",
    "#  ?thing a dbo:Person ;\n",
    "#     tto:sex \"female\" .\n",
    "#}\n",
    "q3b = g.query(prefixes+\"\"\"\n",
    "select ?thing where {\n",
    "  ?thing a dbo:Person ;\n",
    "  tto:sex \"female\" .\n",
    "}\"\"\")"
   ]
  },
  {
   "cell_type": "markdown",
   "metadata": {
    "collapsed": false
   },
   "source": [
    "## Exercise use semi-colon to avoid typing the subject twice "
   ]
  },
  {
   "cell_type": "code",
   "execution_count": 11,
   "metadata": {
    "collapsed": false
   },
   "outputs": [
    {
     "name": "stdout",
     "output_type": "stream",
     "text": [
      "e3: http://example.org/tuto/resource#Eve a female person\n"
     ]
    }
   ],
   "source": [
    "# Hint: Use the semicolon ';' to refer to the previous subject\n",
    "#\n",
    "# select ?thing where {\n",
    "#  ?thing a dbo:Person ;\n",
    "#     tto:sex \"female\" .\n",
    "#}\n",
    "e3 = g.query(prefixes+\"\"\"\n",
    "select ?thing where {\n",
    "  ?thing a dbo:Person ;\n",
    "     tto:sex \"female\" .\n",
    "}\"\"\")\n",
    "\n",
    "for row in e3:\n",
    "    print(\"e3: %s a female person\" % row)"
   ]
  },
  {
   "cell_type": "code",
   "execution_count": 18,
   "metadata": {
    "collapsed": false
   },
   "outputs": [
    {
     "name": "stdout",
     "output_type": "stream",
     "text": [
      "q3b: http://example.org/tuto/resource#Eve a female person\n"
     ]
    }
   ],
   "source": [
    "\n",
    "# Note that we could also use the comma ',' , if we had hermaphrodites in our dataset\n",
    "# The following statements selects things that are persons male and females at the same\n",
    "# select ?thing where {\n",
    "#  ?thing a dbo:Person ;\n",
    "#   \t\ttto:sex \"female\" , \"male\" \n",
    "#}\n",
    "#Of course this does not return any value in our \"normal\" dataset....\"\"\")\n",
    "\n",
    "\n",
    "\n",
    "for row in q3b:\n",
    "    print(\"q3b: %s a female person\" % row)\n"
   ]
  },
  {
   "cell_type": "markdown",
   "metadata": {
    "collapsed": false
   },
   "source": [
    "### Q4: Select things that have a \"sex\"\n",
    "\n",
    "![diagram](https://sparql-playground.sib.swiss/queries/cartoon-female.png) \n",
    "\n"
   ]
  },
  {
   "cell_type": "code",
   "execution_count": 19,
   "metadata": {
    "collapsed": false
   },
   "outputs": [
    {
     "name": "stdout",
     "output_type": "stream",
     "text": [
      "q4: http://example.org/tuto/resource#Eve a thing that has a sex= female\n",
      "q4: http://example.org/tuto/resource#LunaCat a thing that has a sex= female\n",
      "q4: http://example.org/tuto/resource#John a thing that has a sex= male\n",
      "q4: http://example.org/tuto/resource#RexDog a thing that has a sex= male\n",
      "q4: http://example.org/tuto/resource#SnuffMonkey a thing that has a sex= male\n",
      "q4: http://example.org/tuto/resource#TomCat a thing that has a sex= male\n",
      "q4: http://example.org/tuto/resource#William a thing that has a sex= male\n"
     ]
    }
   ],
   "source": [
    "q4 =g.query(prefixes+\"\"\"\n",
    "select ?thing ?sex where {\n",
    "  ?thing tto:sex ?sex .\n",
    "}\n",
    "\"\"\")\n",
    "# Notice that we get 2 variables in our dataset\n",
    "#\n",
    "# Explore the use of the keywords LIMIT and OFFSET at the end of the query\n",
    "#\n",
    "# example LIMIT 3\n",
    "# example OFFSET 2 LIMIT 3\n",
    "#\n",
    "# Add the word distinct before ?thing in the select, to get the number of distinct sexes on the dataset\n",
    "\n",
    "for row in q4:\n",
    "    print(\"q4: %s a thing that has a sex= %s\" % row)"
   ]
  },
  {
   "cell_type": "code",
   "execution_count": 0,
   "metadata": {
    "collapsed": false
   },
   "outputs": [
   ],
   "source": [
   ]
  },
  {
   "cell_type": "markdown",
   "metadata": {
    "collapsed": false
   },
   "source": [
    "### Q5: Select persons and their pets\n",
    "\n",
    "```sparql\n",
    "select ?person ?pet where {\n",
    "  ?person rdf:type dbo:Person .\n",
    "  ?person tto:pet ?pet .\n",
    "}\n",
    "```\n",
    "\n",
    "another example where we select 2 variables\n",
    "notice that only the persons \n",
    "who actually have a pet are returned in the result set\n",
    "\n"
   ]
  },
  {
   "cell_type": "code",
   "execution_count": 20,
   "metadata": {
    "collapsed": false
   },
   "outputs": [
    {
     "name": "stdout",
     "output_type": "stream",
     "text": [
      "http://example.org/tuto/resource#John has http://example.org/tuto/resource#LunaCat as pet\n",
      "http://example.org/tuto/resource#John has http://example.org/tuto/resource#TomCat as pet\n",
      "http://example.org/tuto/resource#William has http://example.org/tuto/resource#RexDog as pet\n"
     ]
    }
   ],
   "source": [
    "q5 = g.query(prefixes+\"\"\"\n",
    "select ?person ?pet where {\n",
    "    ?person rdf:type dbo:Person .\n",
    "\t?person tto:pet ?pet .\n",
    "}\n",
    "\"\"\")\n",
    "for row in q5:\n",
    "    print(\"%s has %s as pet\" % row)"
   ]
  },
  {
   "cell_type": "markdown",
   "metadata": {
    "collapsed": false
   },
   "source": [
    "## OPTIONAL\n",
    "\n",
    "For when some data is nice to have but not essential.\n",
    "\n",
    "\n"
   ]
  },
  {
   "cell_type": "markdown",
   "metadata": {
    "collapsed": false
   },
   "source": [
    "\n",
    "### Q6: Select persons and (if they have) their pets\n",
    "\n",
    "![Diagram](.basic_sparql_tutorial_SWAT4HCLS_2024.ipynb.upload/paste-0.08931847913213065)"
   ]
  },
  {
   "cell_type": "code",
   "execution_count": 21,
   "metadata": {
    "collapsed": false
   },
   "outputs": [
    {
     "name": "stdout",
     "output_type": "stream",
     "text": [
      "http://example.org/tuto/resource#Eve has None as pet\n",
      "http://example.org/tuto/resource#John has http://example.org/tuto/resource#LunaCat as pet\n",
      "http://example.org/tuto/resource#John has http://example.org/tuto/resource#TomCat as pet\n",
      "http://example.org/tuto/resource#William has http://example.org/tuto/resource#RexDog as pet\n"
     ]
    }
   ],
   "source": [
    "q6 = g.query(prefixes+\"\"\"\n",
    "select ?person ?pet where {\n",
    "    ?person rdf:type dbo:Person .\n",
    "\toptional {?person tto:pet ?pet }.\n",
    "}\n",
    "\"\"\")\n",
    "# The use of the clause optional allows\n",
    "# to extract their pets if they exist\n",
    "# but will not exclude the persons who don't have pets\n",
    "for row in q6:\n",
    "    print(\"%s has %s as pet\" % row)"
   ]
  },
  {
   "cell_type": "markdown",
   "metadata": {
    "collapsed": false
   },
   "source": [
    "## Finding where something is missing\n",
    "\n",
    "The are a few ways to select for missing data in SPARQL we use the concept of filtering for something that does not exists.\n",
    "\n",
    "```sparql\n",
    "FILTER (NOT EXISTS {  })\n",
    "```\n",
    "\n",
    "### Q7: Select persons that have no pets\n",
    "\n"
   ]
  },
  {
   "cell_type": "code",
   "execution_count": 30,
   "metadata": {
    "collapsed": false
   },
   "outputs": [
    {
     "name": "stdout",
     "output_type": "stream",
     "text": [
      "(rdflib.term.URIRef('http://example.org/tuto/resource#John'), None)\n",
      "http://example.org/tuto/resource#John does not have a pet. Pet is None\n",
      "(rdflib.term.URIRef('http://example.org/tuto/resource#William'), None)\n",
      "http://example.org/tuto/resource#William does not have a pet. Pet is None\n"
     ]
    }
   ],
   "source": [
    "q7 = g.query(prefixes+\"\"\"\n",
    "select\n",
    "  ?person\n",
    "  ?pet\n",
    "where {\n",
    "    ?person rdf:type dbo:Person .\n",
    "    filter exists {?person tto:pet ?_ }.\n",
    "}\"\"\")\n",
    "\n",
    "\n",
    "for row in q7:\n",
    "    print(row)\n",
    "    print(\"%s does not have a pet. Pet is %s\" % row)"
   ]
  },
  {
   "cell_type": "markdown",
   "metadata": {
    "collapsed": false
   },
   "source": [
    "Note that the variable ?pet is not bound even if you use filter exists\n",
    " ```sparql\n",
    " filter exists {?person tto:pet ?_ }.\n",
    " ```\n",
    "Bound means that a variable is \"filled\" in or matches with the graph."
   ]
  },
  {
   "cell_type": "markdown",
   "metadata": {
    "collapsed": false
   },
   "source": [
    "### Q8: William's and John's pets\n",
    "\n",
    "Selects the pets of a list of owners using the clause union or values"
   ]
  },
  {
   "cell_type": "code",
   "execution_count": 29,
   "metadata": {
    "collapsed": false
   },
   "outputs": [
    {
     "name": "stdout",
     "output_type": "stream",
     "text": [
      "http://example.org/tuto/resource#RexDog is a pet\n",
      "http://example.org/tuto/resource#LunaCat is a pet\n",
      "http://example.org/tuto/resource#TomCat is a pet\n"
     ]
    }
   ],
   "source": [
    "q8 = g.query(prefixes+\"\"\"\n",
    "select\n",
    " ?pet\n",
    "where {\n",
    " {\n",
    "    ttr:William tto:pet ?pet .\n",
    " } UNION {\n",
    "    ttr:John tto:pet ?pet .\n",
    " }\n",
    "}\"\"\")\n",
    "for row in q8:\n",
    "    print(\"%s is a pet\" % row)"
   ]
  },
  {
   "cell_type": "markdown",
   "metadata": {
    "collapsed": false
   },
   "source": [
    "In this scenario we only have 2 persons who have pets, so it is not the best example\n",
    "but you could see the potential of union in a real scenario, where we would have many owners and we would \n",
    "like to filter just a few of them\n",
    "\n",
    "Alternatively you can also use the keyword VALUES that sets what the values of ?owner could be (faster option)"
   ]
  },
  {
   "cell_type": "code",
   "execution_count": 26,
   "metadata": {
    "collapsed": false
   },
   "outputs": [
    {
     "name": "stdout",
     "output_type": "stream",
     "text": [
      "http://example.org/tuto/resource#William is the owner of the pet http://example.org/tuto/resource#RexDog\n",
      "http://example.org/tuto/resource#John is the owner of the pet http://example.org/tuto/resource#LunaCat\n",
      "http://example.org/tuto/resource#John is the owner of the pet http://example.org/tuto/resource#TomCat\n"
     ]
    }
   ],
   "source": [
    "q8b = g.query(prefixes+\"\"\"select\n",
    " ?owner\n",
    " ?pet\n",
    "where {\n",
    "  values (?owner) { (ttr:William) (ttr:John) }\n",
    "  ?owner tto:pet ?pet .\n",
    "}\"\"\")\n",
    "\n",
    "for row in q8b:\n",
    "    print(\"%s is the owner of the pet %s\" % row)"
   ]
  },
  {
   "cell_type": "markdown",
   "metadata": {
    "collapsed": false
   },
   "source": [
    "## Exercise:  Select Eve's grandparent\n",
    "\n",
    "Replace *** with specific variables or resources.\n",
    "\n",
    "Use the property dbo:parent to connect Eve to her parent\n",
    "\n"
   ]
  },
  {
   "cell_type": "code",
   "execution_count": 0,
   "metadata": {
    "collapsed": false
   },
   "outputs": [
   ],
   "source": [
    "e1 = g.query(prefixes+\"\"\"\n",
    "select ?grandparent where {\n",
    "  ttr:Eve dbo:parent  ?parent .\n",
    "  ?parent   dbo:parent   ?grandparent  .\n",
    "}\"\"\")\n",
    "\n",
    "for row in e1:\n",
    "    print(\"%s is the grandparent of Eve\" % row)"
   ]
  },
  {
   "cell_type": "markdown",
   "metadata": {
    "collapsed": false
   },
   "source": [
    "## Exercise:  Select persons who don't have cats\n",
    "\n",
    "You should filter out any person with a pet which is of type tto:Cat"
   ]
  },
  {
   "cell_type": "code",
   "execution_count": 0,
   "metadata": {
    "collapsed": false
   },
   "outputs": [
   ],
   "source": [
    "e2 = g.query(\"\"\"\n",
    "select ?person where {\n",
    "  ?person rdf:type dbo:Person .\n",
    "  *** *** *** {\n",
    "    ?person tto:pet ?pet .\n",
    "    ?pet rdf:type *** .\n",
    "  }\n",
    "}\n",
    "\"\"\")\n",
    "\n",
    "for row in e2:\n",
    "    print(\"%s is a person who does not have a Cat\" % row)"
   ]
  },
  {
   "cell_type": "markdown",
   "metadata": {
    "collapsed": false
   },
   "source": [
    "### Exercise 3: Select the relatives of William\n",
    "\n",
    "We introduce the concept of `BIND`. Bind put's _one_ single value into a variable."
   ]
  },
  {
   "cell_type": "code",
   "execution_count": 0,
   "metadata": {
    "collapsed": false
   },
   "outputs": [
   ],
   "source": [
    "e3 =g.query(\"\"\"\n",
    "select\n",
    "  ?relative\n",
    "  ?william\n",
    "where {\n",
    "  bind (ttr:William as ?william))\n",
    "  {?william *** ?relative}\n",
    "  ***\n",
    "  {?relative *** ?william}\n",
    "}\n",
    "\"\"\")\n",
    "\n",
    "for row in e3:\n",
    "    print(\"%s is a relative of %s\" % row)"
   ]
  },
  {
   "cell_type": "markdown",
   "metadata": {
    "collapsed": false
   },
   "source": [
    "## Paths"
   ]
  },
  {
   "cell_type": "markdown",
   "metadata": {
    "collapsed": false
   },
   "source": [
    "Inverting a query pattern\n",
    "\n",
    "```sparql\n",
    "?a :prop ?b .\n",
    "```\n",
    "\n",
    "is equivalent:\n",
    "```sparql\n",
    "?b ^:prop ?a .\n",
    "```\n",
    "\n",
    "\n",
    "Once that is done, try to write the query in one line using the pipe (|) which means OR\n",
    "```sparql\n",
    "ttr:William (prop | ^prop) ?relative .\n",
    "```"
   ]
  },
  {
   "cell_type": "code",
   "execution_count": 0,
   "metadata": {
    "collapsed": false
   },
   "outputs": [
   ],
   "source": [
    "e3b =g.query(\"\"\"\n",
    "select\n",
    "  ?relative\n",
    "  ?william\n",
    "where {\n",
    "  bind (ttr:William as ?william))\n",
    "  ?william * *** * * **** * ?relative}\n",
    "}\n",
    "\"\"\")\n",
    "\n",
    "for row in e3b:\n",
    "    print(\"%s is a relative of %s\" % row)"
   ]
  },
  {
   "cell_type": "markdown",
   "metadata": {
    "collapsed": false
   },
   "source": [
    "### Q9: Get the direct sub classes of class Creature\n",
    "\n",
    "the single graph pattern matching process finds all the subjects described as a `rdfs:subClassOf tto:Creature` ."
   ]
  },
  {
   "cell_type": "code",
   "execution_count": 11,
   "metadata": {
    "collapsed": false
   },
   "outputs": [
    {
     "name": "stdout",
     "output_type": "stream",
     "text": [
      "http://dbpedia.org/ontology/Person is a tto:Creature \n",
      "http://example.org/tuto/ontology#Animal is a tto:Creature \n"
     ]
    }
   ],
   "source": [
    "q9 = g.query(prefixes + \"\"\"\n",
    "select ?subSpecies   where {\n",
    "  ?subSpecies rdfs:subClassOf tto:Creature .\n",
    "}\n",
    "\"\"\")\n",
    "\n",
    "#The same rules applied to the data / resources \n",
    "#are applied to the ontology / classes\n",
    "\n",
    "for row in q9:\n",
    "    print(\"%s is a tto:Creature \" % row)"
   ]
  },
  {
   "cell_type": "markdown",
   "metadata": {
    "collapsed": false
   },
   "source": [
    "### Q10: Get the direct and indirect sub classes of class Creature\n",
    "\n",
    "the + after rdfs:subClassOf retrieves solutions for ?species if it is connected to tto:Creature by one or multiple owl:subClassOf predicates"
   ]
  },
  {
   "cell_type": "code",
   "execution_count": 12,
   "metadata": {
    "collapsed": false
   },
   "outputs": [
    {
     "name": "stdout",
     "output_type": "stream",
     "text": [
      "http://dbpedia.org/ontology/Person is a sub species of tto:Creature \n",
      "http://example.org/tuto/ontology#Animal is a sub species of tto:Creature \n",
      "http://example.org/tuto/ontology#Cat is a sub species of tto:Creature \n",
      "http://example.org/tuto/ontology#Dog is a sub species of tto:Creature \n",
      "http://example.org/tuto/ontology#Monkey is a sub species of tto:Creature \n"
     ]
    }
   ],
   "source": [
    "q10 = g.query(\"\"\"select ?subSpecies   where {\n",
    "  ?subSpecies rdfs:subClassOf+ tto:Creature .\n",
    "}\"\"\")\n",
    "\n",
    "for row in q10:\n",
    "    print(\"%s is a sub species of tto:Creature \" % row)\n"
   ]
  },
  {
   "cell_type": "markdown",
   "metadata": {
    "collapsed": false
   },
   "source": [
    "There are different ways to express the property path level\n",
    "\n",
    "```\n",
    " path* | path+ | path?\n",
    "```\n",
    "\n",
    "```\n",
    "  * -> means 0 or more\n",
    "  + -> means 1 or more\n",
    "  ? -> means 0 or 1 \n",
    "```\n",
    "\n",
    " The same can be used for any property for example:\n",
    "\n",
    " ```sparql\n",
    " select ?parents where {\n",
    "   ttr:Eve dbo:parent+ ?parents .\n",
    "}\n",
    "```\n",
    "\n"
   ]
  },
  {
   "cell_type": "markdown",
   "metadata": {
    "collapsed": false
   },
   "source": [
    "### Alternative for Exercise with unneeded variable\n",
    "\n",
    "Try to write a two line where part of a query in only one line using '/'\n",
    "knowing that:\n",
    "\n",
    "```sparql\n",
    "?a prop ?c .\n",
    "?c prop ?d .\n",
    "```\n",
    "\n",
    "can be simplified like this:\n",
    "\n",
    "```sparql\n",
    "?a prop / prop ?d\n",
    "```"
   ]
  },
  {
   "cell_type": "code",
   "execution_count": 0,
   "metadata": {
    "collapsed": false
   },
   "outputs": [
   ],
   "source": [
    "e1 = g.query(prefixes+\"\"\"\n",
    "select ?grandparent where {\n",
    "  ttr:Eve dbo:parent  * dbo:parent ?grandparent  .\n",
    "}\"\"\")\n",
    "\n",
    "for row in e1:\n",
    "    print(\"%s is the grandparent of Eve\" % row)"
   ]
  },
  {
   "cell_type": "markdown",
   "metadata": {
    "collapsed": false
   },
   "source": [
    "### Q11: Select all things that are animals\n",
    "\n",
    "Hint:use the property rdfs:subClassOf+, rdf:type and the class tto:Animal"
   ]
  },
  {
   "cell_type": "code",
   "execution_count": 9,
   "metadata": {
    "collapsed": false
   },
   "outputs": [
    {
     "name": "stdout",
     "output_type": "stream",
     "text": [
      "http://example.org/tuto/resource#LunaCat is a thing of type http://example.org/tuto/ontology#Cat\n",
      "http://example.org/tuto/resource#TomCat is a thing of type http://example.org/tuto/ontology#Cat\n",
      "http://example.org/tuto/resource#RexDog is a thing of type http://example.org/tuto/ontology#Dog\n",
      "http://example.org/tuto/resource#SnuffMonkey is a thing of type http://example.org/tuto/ontology#Monkey\n",
      "type is not used in this variant\n",
      "http://example.org/tuto/resource#LunaCat is a thing\n",
      "http://example.org/tuto/resource#TomCat is a thing\n",
      "http://example.org/tuto/resource#RexDog is a thing\n",
      "http://example.org/tuto/resource#SnuffMonkey is a thing\n"
     ]
    }
   ],
   "source": [
    "q11 = g.query(prefixes+\"\"\"\n",
    "select ?thing ?type where {\n",
    "  ?type rdfs:subClassOf+ tto:Animal .\n",
    "  ?thing a ?type .\n",
    "}\n",
    "\"\"\")\n",
    "\n",
    "\n",
    "\n",
    "for row in q11:\n",
    "    print(\"%s is a thing of type %s\" % row)\n",
    "\n",
    "# or alternatively\n",
    "\n",
    "q11b = g.query(prefixes+\"\"\"\n",
    "select ?thing where {\n",
    "  ?thing a / rdfs:subClassOf+ tto:Animal .\n",
    "}\"\"\")\n",
    "\n",
    "print(\"type is not used in this variant\")\n",
    "\n",
    "for row in q11b:\n",
    "    print(\"%s is a thing\" % row)"
   ]
  },
  {
   "cell_type": "markdown",
   "metadata": {
    "collapsed": false
   },
   "source": [
    "## Adding data\n",
    "When one has write access to a data base via sparql we can insert data. If we want to make new data but are not allowed to add it we can CONSTRUCT it for download."
   ]
  },
  {
   "cell_type": "markdown",
   "metadata": {
    "collapsed": false
   },
   "source": [
    "### Q12: Search for lonely pets and try to find them a nice owner :)\n",
    "\n",
    "Insert the triple using an INSERT."
   ]
  },
  {
   "cell_type": "code",
   "execution_count": 16,
   "metadata": {
    "collapsed": false
   },
   "outputs": [
    {
     "name": "stdout",
     "output_type": "stream",
     "text": [
      "http://example.org/tuto/resource#LunaCat is a pet with the owner http://example.org/tuto/resource#John\n",
      "http://example.org/tuto/resource#TomCat is a pet with the owner http://example.org/tuto/resource#John\n",
      "http://example.org/tuto/resource#RexDog is a pet with the owner http://example.org/tuto/resource#William\n",
      "http://example.org/tuto/resource#SnuffMonkey is a pet with the owner None\n"
     ]
    }
   ],
   "source": [
    "# First we show that ttr:SnuffMonkey has None as owner\n",
    "q12 = g.query(prefixes+\"\"\"\n",
    "select\n",
    "  ?pet\n",
    "  ?owner\n",
    "where {\n",
    "  ?pet a / rdfs:subClassOf+ tto:Animal .\n",
    "  optional {?owner tto:pet ?pet}\n",
    "}\n",
    "\"\"\")\n",
    "\n",
    "for row in q12:\n",
    "    print(\"%s is a pet with the owner %s\" % row)\n"
   ]
  },
  {
   "cell_type": "code",
   "execution_count": 17,
   "metadata": {
    "collapsed": false
   },
   "outputs": [
   ],
   "source": [
    "# we use update instead of query.\n",
    "i12 = g.update(\"\"\"\n",
    "INSERT DATA { dbpedia:Harrison_Ford tto:pet ttr:SnuffMonkey.}\n",
    "\"\"\")\n",
    "\n",
    "# note the lack of a where clause! this inserts without consideration of data that is there\n"
   ]
  },
  {
   "cell_type": "code",
   "execution_count": 22,
   "metadata": {
    "collapsed": false
   },
   "outputs": [
    {
     "name": "stdout",
     "output_type": "stream",
     "text": [
      "http://example.org/tuto/resource#LunaCat is a pet with the owner http://example.org/tuto/resource#John\n",
      "http://example.org/tuto/resource#TomCat is a pet with the owner http://example.org/tuto/resource#John\n",
      "http://example.org/tuto/resource#RexDog is a pet with the owner http://example.org/tuto/resource#William\n",
      "http://example.org/tuto/resource#SnuffMonkey is a pet with the owner http://dbpedia.org/resource/Harrison_Ford\n"
     ]
    }
   ],
   "source": [
    "q12again = g.query(\"\"\"\n",
    "select\n",
    "  ?pet\n",
    "  ?owner\n",
    "where {\n",
    "  ?pet a / rdfs:subClassOf+ tto:Animal .\n",
    "  optional {?owner tto:pet ?pet}\n",
    "}\n",
    "\"\"\")\n",
    "\n",
    "for row in q12again:\n",
    "    print(\"%s is a pet with the owner %s\" % row)"
   ]
  },
  {
   "cell_type": "markdown",
   "metadata": {
    "collapsed": false
   },
   "source": [
    "## Federated querying\n",
    "\n",
    "There are many databases in the world. In the end we can't all put them into one system. Federated querying is a way to make two or more databases act as if they where one database.\n",
    "\n",
    "We use `SERVICE` for this. Service plus an IRI of the other database is enough to tell your database to ask a second database for help with more data."
   ]
  },
  {
   "cell_type": "markdown",
   "metadata": {
    "collapsed": false
   },
   "source": [
    "### Q13: Combining our mini database with a big one\n",
    "\n",
    "The birthday variable is retrieved from [dbpedia](https://www.dbpedia.org/) using a federated query  \n",
    "through the `SERVICE` keyword. The graph retrieved is combined with the local graph\n",
    "and solutions are built from the distant and local graph pattern matching processes.\n",
    "The local graph pattern\n",
    "\n"
   ]
  },
  {
   "cell_type": "code",
   "execution_count": 1,
   "metadata": {
    "collapsed": false
   },
   "outputs": [
    {
     "ename": "NameError",
     "evalue": "name 'g' is not defined",
     "output_type": "error",
     "traceback": [
      "\u001b[0;31m---------------------------------------------------------------------------\u001b[0m",
      "\u001b[0;31mNameError\u001b[0m                                 Traceback (most recent call last)",
      "\u001b[0;32m/tmp/ipykernel_1243/706324120.py\u001b[0m in \u001b[0;36m<module>\u001b[0;34m\u001b[0m\n\u001b[0;32m----> 1\u001b[0;31m q13 = g.query(prefixes+\"\"\"\n\u001b[0m\u001b[1;32m      2\u001b[0m select * where {\n\u001b[1;32m      3\u001b[0m    \u001b[0mbind\u001b[0m \u001b[0;34m(\u001b[0m\u001b[0mdbpedia\u001b[0m\u001b[0;34m:\u001b[0m\u001b[0mHarrison_Ford\u001b[0m \u001b[0;32mas\u001b[0m\u001b[0;31m \u001b[0m\u001b[0;31m?\u001b[0m\u001b[0msubj\u001b[0m\u001b[0;34m)\u001b[0m\u001b[0;34m\u001b[0m\u001b[0;34m\u001b[0m\u001b[0m\n\u001b[1;32m      4\u001b[0m    \u001b[0;31m?\u001b[0m\u001b[0msubj\u001b[0m \u001b[0mtto\u001b[0m\u001b[0;34m:\u001b[0m\u001b[0mpet\u001b[0m\u001b[0;31m \u001b[0m\u001b[0;31m?\u001b[0m\u001b[0mpet\u001b[0m \u001b[0;34m.\u001b[0m\u001b[0;34m\u001b[0m\u001b[0;34m\u001b[0m\u001b[0m\n\u001b[1;32m      5\u001b[0m    service <https://dbpedia.org/sparql> {\n",
      "\u001b[0;31mNameError\u001b[0m: name 'g' is not defined"
     ]
    }
   ],
   "source": [
    "q13 = g.query(prefixes+\"\"\"\n",
    "select * where {\n",
    "   bind (dbpedia:Harrison_Ford as ?subj)\n",
    "   ?subj tto:pet ?pet .\n",
    "   service <https://dbpedia.org/sparql> {\n",
    "       ?subj dbp:birthDate ?birthday .\n",
    " }\n",
    "}\"\"\")\n",
    "\n",
    "for row in q13:\n",
    "    print(row)"
   ]
  },
  {
   "cell_type": "code",
   "execution_count": 0,
   "metadata": {
    "collapsed": false
   },
   "outputs": [
   ],
   "source": [
   ]
  },
  {
   "cell_type": "code",
   "execution_count": 0,
   "metadata": {
    "collapsed": false
   },
   "outputs": [
   ],
   "source": [
   ]
  },
  {
   "cell_type": "code",
   "execution_count": 0,
   "metadata": {
    "collapsed": false
   },
   "outputs": [
   ],
   "source": [
   ]
  }
 ],
 "metadata": {
  "hide_input": false,
  "kernelspec": {
   "display_name": "Python 3 (Anaconda 2021)",
   "env": {
    "ADDR2LINE": "/ext/anaconda2021.11/bin/x86_64-conda_cos6-linux-gnu-addr2line",
    "ANACONDA2021": "/ext/anaconda2021.11",
    "ANACONDA3": "$EXT/anaconda3",
    "ANACONDA5": "$EXT/anaconda5",
    "AR": "/ext/anaconda2021.11/bin/x86_64-conda_cos6-linux-gnu-ar",
    "AS": "/ext/anaconda2021.11/bin/x86_64-conda_cos6-linux-gnu-as",
    "CC": "/ext/anaconda2021.11/bin/x86_64-conda_cos6-linux-gnu-cc",
    "CFLAGS": "-march=nocona -mtune=haswell -ftree-vectorize -fPIC -fstack-protector-strong -fno-plt -O2 -ffunction-sections -pipe -isystem /ext/anaconda2021.11/include",
    "CMAKE_PREFIX_PATH": "/ext/anaconda2021.11:/ext/anaconda2021.11/x86_64-conda_cos6-linux-gnu/sysroot/usr",
    "CONDA_BACKUP_HOST": "x86_64-conda_cos6-linux-gnu",
    "CONDA_BUILD_SYSROOT": "/ext/anaconda2021.11/x86_64-conda_cos6-linux-gnu/sysroot",
    "CONDA_DEFAULT_ENV": "base",
    "CONDA_EXE": "/ext/anaconda2021.11/bin/conda",
    "CONDA_MKL_INTERFACE_LAYER_BACKUP": "",
    "CONDA_PREFIX": "/ext/anaconda2021.11",
    "CONDA_PROMPT_MODIFIER": "(base) ",
    "CONDA_PYTHON_EXE": "/ext/anaconda2021.11/bin/python",
    "CONDA_SHLVL": "1",
    "CPP": "/ext/anaconda2021.11/bin/x86_64-conda_cos6-linux-gnu-cpp",
    "CPPFLAGS": "-DNDEBUG -D_FORTIFY_SOURCE=2 -O2 -isystem /ext/anaconda2021.11/include",
    "CXX": "/ext/anaconda2021.11/bin/x86_64-conda_cos6-linux-gnu-c++",
    "CXXFILT": "/ext/anaconda2021.11/bin/x86_64-conda_cos6-linux-gnu-c++filt",
    "CXXFLAGS": "-fvisibility-inlines-hidden -std=c++17 -fmessage-length=0 -march=nocona -mtune=haswell -ftree-vectorize -fPIC -fstack-protector-strong -fno-plt -O2 -ffunction-sections -pipe -isystem /ext/anaconda2021.11/include",
    "DEBUG_CFLAGS": "-march=nocona -mtune=haswell -ftree-vectorize -fPIC -fstack-protector-all -fno-plt -Og -g -Wall -Wextra -fvar-tracking-assignments -ffunction-sections -pipe -isystem /ext/anaconda2021.11/include",
    "DEBUG_CPPFLAGS": "-D_DEBUG -D_FORTIFY_SOURCE=2 -Og -isystem /ext/anaconda2021.11/include",
    "DEBUG_CXXFLAGS": "-fvisibility-inlines-hidden -std=c++17 -fmessage-length=0 -march=nocona -mtune=haswell -ftree-vectorize -fPIC -fstack-protector-all -fno-plt -Og -g -Wall -Wextra -fvar-tracking-assignments -ffunction-sections -pipe -isystem /ext/anaconda2021.11/include",
    "DEBUG_FFLAGS": "-fopenmp -march=nocona -mtune=haswell -ftree-vectorize -fPIC -fstack-protector-strong -fno-plt -O2 -ffunction-sections -pipe -isystem /ext/anaconda2021.11/include -fopenmp -march=nocona -mtune=haswell -ftree-vectorize -fPIC -fstack-protector-all -fno-plt -Og -g -Wall -Wextra -fcheck=all -fbacktrace -fimplicit-none -fvar-tracking-assignments -ffunction-sections -pipe",
    "DEBUG_FORTRANFLAGS": "-fopenmp -march=nocona -mtune=haswell -ftree-vectorize -fPIC -fstack-protector-strong -fno-plt -O2 -ffunction-sections -pipe -isystem /ext/anaconda2021.11/include -fopenmp -march=nocona -mtune=haswell -ftree-vectorize -fPIC -fstack-protector-all -fno-plt -Og -g -Wall -Wextra -fcheck=all -fbacktrace -fimplicit-none -fvar-tracking-assignments -ffunction-sections -pipe",
    "ELFEDIT": "/ext/anaconda2021.11/bin/x86_64-conda_cos6-linux-gnu-elfedit",
    "F77": "/ext/anaconda2021.11/bin/x86_64-conda_cos6-linux-gnu-gfortran",
    "F90": "/ext/anaconda2021.11/bin/x86_64-conda_cos6-linux-gnu-gfortran",
    "F95": "/ext/anaconda2021.11/bin/x86_64-conda_cos6-linux-gnu-f95",
    "FC": "/ext/anaconda2021.11/bin/x86_64-conda_cos6-linux-gnu-gfortran",
    "FFLAGS": "-fopenmp -march=nocona -mtune=haswell -ftree-vectorize -fPIC -fstack-protector-strong -fno-plt -O2 -ffunction-sections -pipe -isystem /ext/anaconda2021.11/include",
    "FORTRANFLAGS": "-fopenmp -march=nocona -mtune=haswell -ftree-vectorize -fPIC -fstack-protector-strong -fno-plt -O2 -ffunction-sections -pipe -isystem /ext/anaconda2021.11/include",
    "GCC": "/ext/anaconda2021.11/bin/x86_64-conda_cos6-linux-gnu-gcc",
    "GCC_AR": "/ext/anaconda2021.11/bin/x86_64-conda_cos6-linux-gnu-gcc-ar",
    "GCC_NM": "/ext/anaconda2021.11/bin/x86_64-conda_cos6-linux-gnu-gcc-nm",
    "GCC_RANLIB": "/ext/anaconda2021.11/bin/x86_64-conda_cos6-linux-gnu-gcc-ranlib",
    "GDAL_DATA": "/ext/anaconda2021.11/share/gdal",
    "GFORTRAN": "/ext/anaconda2021.11/bin/x86_64-conda_cos6-linux-gnu-gfortran",
    "GPROF": "/ext/anaconda2021.11/bin/x86_64-conda_cos6-linux-gnu-gprof",
    "GXX": "/ext/anaconda2021.11/bin/x86_64-conda_cos6-linux-gnu-g++",
    "JAVA_HOME": "/ext/anaconda2021.11",
    "JAVA_HOME_CONDA_BACKUP": "",
    "JAVA_LD_LIBRARY_PATH": "/ext/anaconda2021.11/lib/server",
    "LD": "/ext/anaconda2021.11/bin/x86_64-conda_cos6-linux-gnu-ld",
    "LDFLAGS": "-Wl,-O2 -Wl,--sort-common -Wl,--as-needed -Wl,-z,relro -Wl,-z,now -Wl,--disable-new-dtags -Wl,--gc-sections -Wl,-rpath,/ext/anaconda2021.11/lib -Wl,-rpath-link,/ext/anaconda2021.11/lib -L/ext/anaconda2021.11/lib",
    "LD_GOLD": "/ext/anaconda2021.11/bin/x86_64-conda_cos6-linux-gnu-ld.gold",
    "LD_LIBRARY_PATH": "/ext/anaconda2021.11/lib",
    "MKL_INTERFACE_LAYER": "LP64,GNU",
    "MKL_THREADING_LAYER": "GNU",
    "NM": "/ext/anaconda2021.11/bin/x86_64-conda_cos6-linux-gnu-nm",
    "OBJCOPY": "/ext/anaconda2021.11/bin/x86_64-conda_cos6-linux-gnu-objcopy",
    "OBJDUMP": "/ext/anaconda2021.11/bin/x86_64-conda_cos6-linux-gnu-objdump",
    "OLDPWD": "/ext/anaconda2021.11",
    "PATH": "/ext/anaconda2021.11/bin:/ext/anaconda2021.11/bin:/ext/anaconda2021.11/condabin:/cocalc/bin:/cocalc/src/smc-project/bin:/home/salvus/bin:/home/salvus/.local/bin:/usr/lib/xpra:/ext/bin:/opt/ghc/bin:/usr/local/sbin:/usr/local/bin:/usr/sbin:/usr/bin:/sbin:/bin:/snap/bin:/usr/lib/postgresql/10/bin:/ext/data/homer/bin:/ext/data/weblogo",
    "PROJ_LIB": "/ext/anaconda2021.11/share/proj",
    "RANLIB": "/ext/anaconda2021.11/bin/x86_64-conda_cos6-linux-gnu-ranlib",
    "READELF": "/ext/anaconda2021.11/bin/x86_64-conda_cos6-linux-gnu-readelf",
    "RSTUDIO_WHICH_R": "/ext/anaconda2021.11/bin/R",
    "SIZE": "/ext/anaconda2021.11/bin/x86_64-conda_cos6-linux-gnu-size",
    "STRINGS": "/ext/anaconda2021.11/bin/x86_64-conda_cos6-linux-gnu-strings",
    "STRIP": "/ext/anaconda2021.11/bin/x86_64-conda_cos6-linux-gnu-strip",
    "_CE_CONDA": "",
    "_CE_M": "",
    "_CONDA_PYTHON_SYSCONFIGDATA_NAME": "_sysconfigdata_x86_64_conda_cos6_linux_gnu"
   },
   "language": "python",
   "metadata": {
    "cocalc": {
     "description": "Anaconda 2021.11 Python 3 environment",
     "priority": 10,
     "url": "https://www.anaconda.com/distribution/"
    }
   },
   "name": "anaconda2021",
   "resource_dir": "/ext/jupyter/kernels/anaconda2021"
  },
  "language_info": {
   "codemirror_mode": {
    "name": "ipython",
    "version": 3
   },
   "file_extension": ".py",
   "mimetype": "text/x-python",
   "name": "python",
   "nbconvert_exporter": "python",
   "pygments_lexer": "ipython3",
   "version": "3.9.7"
  },
  "toc": {
   "base_numbering": 1,
   "nav_menu": {
   },
   "number_sections": true,
   "sideBar": true,
   "skip_h1_title": false,
   "title_cell": "Table of Contents",
   "title_sidebar": "Contents",
   "toc_cell": true,
   "toc_position": {
    "height": "636.667px",
    "left": "166px",
    "top": "109.722px",
    "width": "195.938px"
   },
   "toc_section_display": true,
   "toc_window_display": true
  }
 },
 "nbformat": 4,
 "nbformat_minor": 4
}