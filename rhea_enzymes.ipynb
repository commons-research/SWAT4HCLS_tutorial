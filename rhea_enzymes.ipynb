{
 "cells": [
  {
   "cell_type": "markdown",
   "metadata": {
    "collapsed": false,
    "toc": true
   },
   "source": [
    "<h1>Table of Contents<span class=\"tocSkip\"></span></h1>\n",
    "<div class=\"toc\"><ul class=\"toc-item\"><li><span><a href=\"#Introduction\" data-toc-modified-id=\"Introduction-1\"><span class=\"toc-item-num\">1&nbsp;&nbsp;</span>Introduction</a></span></li><li><span><a href=\"#Initialisation\" data-toc-modified-id=\"Initialisation-2\"><span class=\"toc-item-num\">2&nbsp;&nbsp;</span>Initialisation</a></span><ul class=\"toc-item\"><li><span><a href=\"#Python-libraries\" data-toc-modified-id=\"Python-libraries-2.1\"><span class=\"toc-item-num\">2.1&nbsp;&nbsp;</span>Python libraries</a></span></li><li><span><a href=\"#SPARQL-endpoints\" data-toc-modified-id=\"SPARQL-endpoints-2.2\"><span class=\"toc-item-num\">2.2&nbsp;&nbsp;</span>SPARQL endpoints</a></span></li><li><span><a href=\"#Python-functions\" data-toc-modified-id=\"Python-functions-2.3\"><span class=\"toc-item-num\">2.3&nbsp;&nbsp;</span>Python functions</a></span></li><li><span><a href=\"#Releases\" data-toc-modified-id=\"Releases-2.4\"><span class=\"toc-item-num\">2.4&nbsp;&nbsp;</span>Releases</a></span></li></ul></li><li><span><a href=\"#Retrieve-enzymes-and-their-catalyzed-reactions-(UniProtKB/Swiss-Prot)\" data-toc-modified-id=\"Retrieve-enzymes-and-their-catalyzed-reactions-(UniProtKB/Swiss-Prot)-3\"><span class=\"toc-item-num\">3&nbsp;&nbsp;</span>Retrieve enzymes and their catalyzed reactions (UniProtKB/Swiss-Prot)</a></span><ul class=\"toc-item\"><li><span><a href=\"#Add-reaction-equation\" data-toc-modified-id=\"Add-reaction-equation-3.1\"><span class=\"toc-item-num\">3.1&nbsp;&nbsp;</span>Add reaction equation</a></span></li></ul></li><li><span><a href=\"#Human-enzyme-metabolizing-cholesterol\" data-toc-modified-id=\"Human-enzyme-metabolizing-cholesterol-4\"><span class=\"toc-item-num\">4&nbsp;&nbsp;</span>Human enzyme metabolizing cholesterol</a></span><ul class=\"toc-item\"><li><span><a href=\"#Retrieve-UniProtKB/Swiss-Prot-entries-(human)-catalyzing-reactions-that-involve-cholesterol.\" data-toc-modified-id=\"Retrieve-UniProtKB/Swiss-Prot-entries-(human)-catalyzing-reactions-that-involve-cholesterol.-4.1\"><span class=\"toc-item-num\">4.1&nbsp;&nbsp;</span>Retrieve UniProtKB/Swiss-Prot entries (human) catalyzing reactions that involve cholesterol.</a></span></li><li><span><a href=\"#Where-are-these-enzymes-located-in-the-cell?\" data-toc-modified-id=\"Where-are-these-enzymes-located-in-the-cell?-4.2\"><span class=\"toc-item-num\">4.2&nbsp;&nbsp;</span>Where are these enzymes located in the cell?</a></span></li><li><span><a href=\"#Retrieve-their-amino-acid-sequences\" data-toc-modified-id=\"Retrieve-their-amino-acid-sequences-4.3\"><span class=\"toc-item-num\">4.3&nbsp;&nbsp;</span>Retrieve their amino-acid sequences</a></span></li></ul></li><li><span><a href=\"#Build-the-UniProt-H.-pylori-proteome-scale-metabolic-network\" data-toc-modified-id=\"Build-the-UniProt-H.-pylori-proteome-scale-metabolic-network-5\"><span class=\"toc-item-num\">5&nbsp;&nbsp;</span>Build the UniProt H. pylori proteome scale metabolic network</a></span><ul class=\"toc-item\"><li><span><a href=\"#Q11:-Explore-H.-pylori-tryptophan-biosynthesis-pathway-(GO:0000162)\" data-toc-modified-id=\"Q11:-Explore-H.-pylori-tryptophan-biosynthesis-pathway-(GO:0000162)-5.1\"><span class=\"toc-item-num\">5.1&nbsp;&nbsp;</span>Q11: Explore H. pylori tryptophan biosynthesis pathway (GO:0000162)</a></span></li></ul></li><li><span><a href=\"#Visualization\" data-toc-modified-id=\"Visualization-6\"><span class=\"toc-item-num\">6&nbsp;&nbsp;</span>Visualization</a></span></li><li><span><a href=\"#Super-kingdom-distribution-of-Rhea-reactions-annotated-in-UniProtKB/Swiss-Prot\" data-toc-modified-id=\"Super-kingdom-distribution-of-Rhea-reactions-annotated-in-UniProtKB/Swiss-Prot-7\"><span class=\"toc-item-num\">7&nbsp;&nbsp;</span>Super-kingdom distribution of Rhea reactions annotated in UniProtKB/Swiss-Prot</a></span><ul class=\"toc-item\"><li><span><a href=\"#Q20:-Retrieve-UniProtKB/Swiss-Prot-proteins,-their-taxonomic-domain-and-their-catalyzed-Rhea-reactions\" data-toc-modified-id=\"Q20:-Retrieve-UniProtKB/Swiss-Prot-proteins,-their-taxonomic-domain-and-their-catalyzed-Rhea-reactions-7.1\"><span class=\"toc-item-num\">7.1&nbsp;&nbsp;</span>Q20: Retrieve UniProtKB/Swiss-Prot proteins, their taxonomic domain and their catalyzed Rhea reactions</a></span></li><li><span><a href=\"#Compute-Venn-diagram-using-matplotlib-and-matplotlib_venn-python-libraries\" data-toc-modified-id=\"Compute-Venn-diagram-using-matplotlib-and-matplotlib_venn-python-libraries-7.2\"><span class=\"toc-item-num\">7.2&nbsp;&nbsp;</span>Compute Venn diagram using matplotlib and matplotlib_venn python libraries</a></span></li></ul></li></ul></div>\n",
    "\n"
   ]
  },
  {
   "cell_type": "code",
   "execution_count": 0,
   "metadata": {
    "collapsed": false
   },
   "outputs": [
   ],
   "source": [
   ]
  },
  {
   "cell_type": "markdown",
   "metadata": {
    "collapsed": false
   },
   "source": [
    "# Introduction\n",
    "\n",
    "This notebook is an hands-on introduction to querying enzyme catalyzed reactions using SPARQL.\n",
    "\n",
    "|Source | Description | web site | SPARQL endpoint |\n",
    "|-------|-------------|----------|-----------------|\n",
    "| CHEBI/Rhea | chemicals & reactions | https://www.rhea-db.org/ |https://sparql.rhea-db.org/sparql |\n",
    "| UniProt | protein sequences and annotations | https://www.uniprot.org/ | https://sparql.uniprot.org/sparql/ |\n",
    "\n",
    "\n",
    "This notebook is built with a **Python3 kernel** and uses the **SPARQLWrapper**, **pandas**, **numpy** and **matplotlib** python libraries.\n",
    "\n",
    "**You should have done the rhea_chebi tutorial first**."
   ]
  },
  {
   "cell_type": "markdown",
   "metadata": {
    "collapsed": false
   },
   "source": [
    "# Initialisation\n",
    "\n",
    "## Python libraries\n",
    "\n",
    "**Dependencies:**\n",
    "- **SPARQLWrapper**  \n",
    "SPARQLWrapper is a wrapper around a SPARQL service. It helps in creating the query URI and, possibly, convert the result into a more manageable format. The package is licensed under W3C license.  \n",
    "useful links: https://rdflib.github.io/sparqlwrapper/ and https://pypi.org/project/SPARQLWrapper/\n",
    "- **pandas**  \n",
    "pandas is a Python package providing fast, flexible, and expressive data structures designed to make working with structured (tabular, multidimensional, potentially heterogeneous) and time series data both easy and intuitive.  \n",
    "useful link: https://pandas.pydata.org/   \n",
    "- **numpy**  \n",
    "NumPy is the fundamental package for scientific computing in Python. It is a Python library that provides a multidimensional array object, various derived objects (such as masked arrays and matrices), and an assortment of routines for fast operations on arrays.  \n",
    "useful link: https://numpy.org/   \n",
    "- **matplotlib**  \n",
    "Matplotlib is a comprehensive library for creating static, animated, and interactive visualizations in Python. Useful link: https://matplotlib.org/\n"
   ]
  },
  {
   "cell_type": "code",
   "execution_count": 1,
   "metadata": {
    "collapsed": false
   },
   "outputs": [
   ],
   "source": [
    "from SPARQLWrapper import SPARQLWrapper, JSON\n",
    "\n",
    "# pandas\n",
    "import pandas as pd\n",
    "from pandas import json_normalize\n",
    "# display options\n",
    "pd.options.display.max_colwidth=200\n",
    "\n",
    "# numpy\n",
    "import numpy as np"
   ]
  },
  {
   "cell_type": "markdown",
   "metadata": {
    "collapsed": false
   },
   "source": [
    "## SPARQL endpoints"
   ]
  },
  {
   "cell_type": "code",
   "execution_count": 2,
   "metadata": {
    "collapsed": false
   },
   "outputs": [
   ],
   "source": [
    "sparql_uniprot_url = \"https://sparql.uniprot.org/sparql/\"\n",
    "sparql_rhea_url = \"https://sparql.rhea-db.org/sparql\""
   ]
  },
  {
   "cell_type": "markdown",
   "metadata": {
    "collapsed": false
   },
   "source": [
    "## Python functions"
   ]
  },
  {
   "cell_type": "code",
   "execution_count": 3,
   "metadata": {
    "collapsed": false
   },
   "outputs": [
   ],
   "source": [
    "def sparql2pandas(sparqlQuery, sparql_service_url):\n",
    "    \"\"\"\n",
    "    Query a SPARQL endpoint with a given query string and return the results as a processed pandas Dataframe.\n",
    "    \"\"\"\n",
    "    sparql=SPARQLWrapper(sparql_service_url)    \n",
    "    sparql.setQuery(sparqlQuery)\n",
    "    sparql.setReturnFormat(JSON)\n",
    "    \n",
    "    # run the SPARQL query\n",
    "    res = sparql.query().convert()\n",
    "    # convert the JSON result in pandas dataframe\n",
    "    res_sparql_df = json_normalize(res[\"results\"][\"bindings\"])\n",
    "    \n",
    "    # distinguish .type and .value\n",
    "    col_type = [c for c in res_sparql_df.columns.tolist() if \".type\" in c]\n",
    "    col_value = [c for c in res_sparql_df.columns.tolist() if \".value\" in c]\n",
    "    col_datatype = [c for c in res_sparql_df.columns.tolist() if \".datatype\" in c]\n",
    "    \n",
    "    # Remove prefix part from URI\n",
    "    for i in range(0,len(col_type)):\n",
    "        if 'uri' in res_sparql_df[col_type[i]].unique().tolist() :\n",
    "            res_sparql_df[col_value[i]] = res_sparql_df[col_value[i]].str.split(pat='/').str.get(-1)\n",
    "\n",
    "    # Remove .type columns\n",
    "    res_sparql_df.drop(col_type,axis=1,inplace=True)\n",
    "    # Remove .datatype columns\n",
    "    res_sparql_df.drop(col_datatype,axis=1,inplace=True)\n",
    "    \n",
    "    # Remove \".value\" from column names\n",
    "    res_sparql_df = res_sparql_df.rename(columns = lambda col: col.replace(\".value\", \"\"))\n",
    "    \n",
    "    return res_sparql_df"
   ]
  },
  {
   "cell_type": "markdown",
   "metadata": {
    "collapsed": false
   },
   "source": [
    "## Releases"
   ]
  },
  {
   "cell_type": "code",
   "execution_count": 4,
   "metadata": {
    "collapsed": false
   },
   "outputs": [
   ],
   "source": [
    "uniprotRelease = '2022_05'\n",
    "rheaRelease = 125"
   ]
  },
  {
   "cell_type": "code",
   "execution_count": 0,
   "metadata": {
    "collapsed": false
   },
   "outputs": [
   ],
   "source": [
    "# Rhea and enzyme classification\n",
    "\n",
    "<div>\n",
    "<img src=\"Image/rhea_ec.png\" alt=“Rhea equation” width=\"20%\" height=\"20%\" border=1/>\n",
    "</div>\n",
    "\n",
    "For more info about the Enzyme Classification (EC numbers) check https://enzyme.expasy.org/ or https://www.enzyme-database.org/contents.php  "
   ]
  },
  {
   "cell_type": "code",
   "execution_count": 0,
   "metadata": {
    "collapsed": false
   },
   "outputs": [
   ],
   "source": [
    "# define and print sparql_Q3\n",
    "# Match Rhea reaction identifiers to the EC number where possible\n",
    "# Use OPTIONAL to preserve the reaction that are not assigned the EC number\n",
    "\n",
    "sparql_Q3a=\"\"\"\n",
    "#endpoint: https://sparql.rhea-db.org/sparql\n",
    "#query sparql_Q3a: Retrieve Rhea reactions and their possible mapped EC numbers (OPTIONAL)\n",
    "PREFIX rh:<http://rdf.rhea-db.org/>\n",
    "PREFIX rdfs:<http://www.w3.org/2000/01/rdf-schema#>\n",
    "\n",
    "SELECT ?rhea\n",
    "       ?ec_number\n",
    "WHERE {\n",
    "  ?rhea rdfs:subClassOf rh:Reaction .\n",
    "  OPTIONAL {?rhea rh:ec ?ec_number .}\n",
    "}\n",
    "\"\"\"\n",
    "\n",
    "print(sparql_Q3a)"
   ]
  },
  {
   "cell_type": "code",
   "execution_count": 0,
   "metadata": {
    "collapsed": false
   },
   "outputs": [
   ],
   "source": [
    "# Execute sparql_Q3a\n",
    "try:\n",
    "    df  = sparql2pandas(sparql_Q3a,sparql_rhea_url)\n",
    "except Exception as e:\n",
    "    print('ERROR in SPARQL query Q3a')\n",
    "    print(e)\n",
    "\n",
    "print('Results: df.shape',df.shape)\n",
    "# Display the 5 first rows\n",
    "df.head(5)"
   ]
  },
  {
   "cell_type": "code",
   "execution_count": 0,
   "metadata": {
    "collapsed": false
   },
   "outputs": [
   ],
   "source": [
    "print('#rhea mapped to EC numbers =',df[df.ec_number.notna()].rhea.nunique())\n",
    "print('#rhea not mapped to EC numbers =',df[df.ec_number.isna()].rhea.nunique())"
   ]
  },
  {
   "cell_type": "code",
   "execution_count": 0,
   "metadata": {
    "collapsed": false
   },
   "outputs": [
   ],
   "source": [
    "## Retrieve enzyme class names for EC numbers mapped to Rhea reactions\n",
    "\n",
    "**rhea.rdf** only contains the link to the EC numbers, to retrieve additional information on the classification of enzymes, we can perform a federated query at the SPARQL UniProt endpoint (https://sparql.uniprot.org/sparql).    "
   ]
  },
  {
   "cell_type": "code",
   "execution_count": 0,
   "metadata": {
    "collapsed": false
   },
   "outputs": [
   ],
   "source": [
    "sparql_Q3b=\"\"\"\n",
    "#endpoint:https://sparql.rhea-db.org/sparql\n",
    "\n",
    "PREFIX rh:<http://rdf.rhea-db.org/>\n",
    "PREFIX up:<http://purl.uniprot.org/core/> \n",
    "PREFIX rdfs:<http://www.w3.org/2000/01/rdf-schema#>\n",
    "PREFIX skos:<http://www.w3.org/2004/02/skos/core#>\n",
    "\n",
    "SELECT ?rhea\n",
    "       ?ec_number \n",
    "       ?enzyme_class\n",
    "WHERE\n",
    "{\n",
    "  ?rhea rdfs:subClassOf rh:Reaction .\n",
    "  ?rhea rh:ec ?ec_number .\n",
    "  SERVICE <https://sparql.uniprot.org/sparql> {\n",
    "    ?ec_number a up:Enzyme .\n",
    "    ?ec_number skos:prefLabel ?enzyme_class .\n",
    "  }\n",
    "}\n",
    "\"\"\"\n",
    "print(sparql_Q3b)"
   ]
  },
  {
   "cell_type": "code",
   "execution_count": 0,
   "metadata": {
    "collapsed": false
   },
   "outputs": [
   ],
   "source": [
    "# Execute sparql_Q3b\n",
    "try:\n",
    "    df  = sparql2pandas(sparql_Q3b,sparql_rhea_url)\n",
    "except Exception as e:\n",
    "    print('ERROR in SPARQL query Q3b')\n",
    "    print(e)\n",
    "\n",
    "print('Results: df.shape',df.shape)\n",
    "# Display the 5 first rows\n",
    "df.head()"
   ]
  },
  {
   "cell_type": "markdown",
   "metadata": {
    "collapsed": false
   },
   "source": [
    "## <span style='color:blue'>Exercise: Modify the query to add the chemical equation of the Rhea reactions</span>\n"
   ]
  },
  {
   "cell_type": "code",
   "execution_count": 0,
   "metadata": {
    "collapsed": false
   },
   "outputs": [
   ],
   "source": [
    "# Put your code here\n",
    "sparql_QEx1=\"\"\"\n",
    "\n",
    "\"\"\""
   ]
  },
  {
   "cell_type": "code",
   "execution_count": 0,
   "metadata": {
    "collapsed": false
   },
   "outputs": [
   ],
   "source": [
    "try:\n",
    "    df  = sparql2pandas(sparql_QEx1,sparql_rhea_url)\n",
    "except Exception as e:\n",
    "    print('ERROR in SPARQL query sparql_QEx1')\n",
    "    print(e)"
   ]
  },
  {
   "cell_type": "code",
   "execution_count": 0,
   "metadata": {
    "collapsed": false
   },
   "outputs": [
   ],
   "source": [
    "# Display result\n",
    "df"
   ]
  },
  {
   "cell_type": "code",
   "execution_count": 0,
   "metadata": {
    "collapsed": false
   },
   "outputs": [
   ],
   "source": [
   ]
  },
  {
   "cell_type": "code",
   "execution_count": 0,
   "metadata": {
    "collapsed": false
   },
   "outputs": [
   ],
   "source": [
   ]
  },
  {
   "cell_type": "markdown",
   "metadata": {
    "collapsed": false
   },
   "source": [
    "# Retrieve enzymes and their catalyzed reactions (UniProtKB/Swiss-Prot)\n",
    "\n",
    "<div>\n",
    "<img src=\"Image/uniprot_ca_rhea.png\" alt=“UniProt enzymes and their catalyzed reactions” width=\"60%\" height=\"60%\" border=1/>\n",
    "</div>\n",
    "\n"
   ]
  },
  {
   "cell_type": "code",
   "execution_count": 5,
   "metadata": {
    "collapsed": false
   },
   "outputs": [
    {
     "name": "stdout",
     "output_type": "stream",
     "text": [
      "\n",
      "#endpoint:http://sparql.uniprot.org/sparql/\n",
      "\n",
      "PREFIX up: <http://purl.uniprot.org/core/>\n",
      "\n",
      "SELECT DISTINCT ?uniprot  \n",
      "                ?mnemo\n",
      "                ?proteinName\n",
      "                ?rhea \n",
      "WHERE {\n",
      "    # restrict to UniProKB/Swiss-Prot\n",
      "    ?uniprot up:reviewed True .\n",
      "    # mnemonic\n",
      "    ?uniprot up:mnemonic ?mnemo .\n",
      "    # protein name (recommended name)\n",
      "    ?uniprot up:recommendedName/up:fullName ?proteinName .\n",
      "    # Catalytic activity annotation\n",
      "    ?uniprot up:annotation ?a .\n",
      "    ?a a up:Catalytic_Activity_Annotation .\n",
      "    ?a up:catalyticActivity ?ca .\n",
      "    # catalyzed reaction (Rhea)\n",
      "    ?ca up:catalyzedReaction ?rhea .  \n",
      "}\n",
      "LIMIT 10\n",
      "\n"
     ]
    }
   ],
   "source": [
    "sparql_Q1a=\"\"\"\n",
    "#endpoint:http://sparql.uniprot.org/sparql/\n",
    "\n",
    "PREFIX up: <http://purl.uniprot.org/core/>\n",
    "\n",
    "SELECT DISTINCT ?uniprot\n",
    "                ?mnemo\n",
    "                ?proteinName\n",
    "                ?rhea\n",
    "WHERE {\n",
    "    # restrict to UniProKB/Swiss-Prot\n",
    "    ?uniprot up:reviewed True .\n",
    "    # mnemonic\n",
    "    ?uniprot up:mnemonic ?mnemo .\n",
    "    # protein name (recommended name)\n",
    "    ?uniprot up:recommendedName/up:fullName ?proteinName .\n",
    "    # Catalytic activity annotation\n",
    "    ?uniprot up:annotation ?a .\n",
    "    ?a a up:Catalytic_Activity_Annotation .\n",
    "    ?a up:catalyticActivity ?ca .\n",
    "    # catalyzed reaction (Rhea)\n",
    "    ?ca up:catalyzedReaction ?rhea .\n",
    "}\n",
    "LIMIT 10\n",
    "\"\"\"\n",
    "\n",
    "print(sparql_Q1a)"
   ]
  },
  {
   "cell_type": "code",
   "execution_count": 6,
   "metadata": {
    "collapsed": false
   },
   "outputs": [
   ],
   "source": [
    "try:\n",
    "    df  = sparql2pandas(sparql_Q1a,sparql_uniprot_url)\n",
    "except Exception as e:\n",
    "    print('ERROR in SPARQL query sparql_Q1a')\n",
    "    print(e)"
   ]
  },
  {
   "cell_type": "code",
   "execution_count": 7,
   "metadata": {
    "collapsed": false
   },
   "outputs": [
    {
     "data": {
      "text/html": [
       "<div>\n",
       "<style scoped>\n",
       "    .dataframe tbody tr th:only-of-type {\n",
       "        vertical-align: middle;\n",
       "    }\n",
       "\n",
       "    .dataframe tbody tr th {\n",
       "        vertical-align: top;\n",
       "    }\n",
       "\n",
       "    .dataframe thead th {\n",
       "        text-align: right;\n",
       "    }\n",
       "</style>\n",
       "<table border=\"1\" class=\"dataframe\">\n",
       "  <thead>\n",
       "    <tr style=\"text-align: right;\">\n",
       "      <th></th>\n",
       "      <th>proteinName</th>\n",
       "      <th>mnemo</th>\n",
       "      <th>rhea</th>\n",
       "      <th>uniprot</th>\n",
       "    </tr>\n",
       "  </thead>\n",
       "  <tbody>\n",
       "    <tr>\n",
       "      <th>0</th>\n",
       "      <td>Casein kinase I</td>\n",
       "      <td>KC1_DICDI</td>\n",
       "      <td>46608</td>\n",
       "      <td>Q556Y4</td>\n",
       "    </tr>\n",
       "    <tr>\n",
       "      <th>1</th>\n",
       "      <td>Casein kinase I</td>\n",
       "      <td>KC1_DICDI</td>\n",
       "      <td>17989</td>\n",
       "      <td>Q556Y4</td>\n",
       "    </tr>\n",
       "    <tr>\n",
       "      <th>2</th>\n",
       "      <td>Probable aspartate/prephenate aminotransferase</td>\n",
       "      <td>AAPAT_THEAQ</td>\n",
       "      <td>21824</td>\n",
       "      <td>O33822</td>\n",
       "    </tr>\n",
       "    <tr>\n",
       "      <th>3</th>\n",
       "      <td>Probable aspartate/prephenate aminotransferase</td>\n",
       "      <td>AAPAT_THEAQ</td>\n",
       "      <td>20445</td>\n",
       "      <td>O33822</td>\n",
       "    </tr>\n",
       "    <tr>\n",
       "      <th>4</th>\n",
       "      <td>Diacylglycerol acyltransferase/mycolyltransferase Ag85B</td>\n",
       "      <td>A85B_MYCKA</td>\n",
       "      <td>23472</td>\n",
       "      <td>P21160</td>\n",
       "    </tr>\n",
       "    <tr>\n",
       "      <th>5</th>\n",
       "      <td>Diacylglycerol acyltransferase/mycolyltransferase Ag85B</td>\n",
       "      <td>A85B_MYCKA</td>\n",
       "      <td>10868</td>\n",
       "      <td>P21160</td>\n",
       "    </tr>\n",
       "    <tr>\n",
       "      <th>6</th>\n",
       "      <td>1-aminocyclopropane-1-carboxylate synthase 3</td>\n",
       "      <td>1A13_SOLLC</td>\n",
       "      <td>21744</td>\n",
       "      <td>Q42881</td>\n",
       "    </tr>\n",
       "    <tr>\n",
       "      <th>7</th>\n",
       "      <td>tRNA N6-adenosine threonylcarbamoyltransferase</td>\n",
       "      <td>TSAD_KORVE</td>\n",
       "      <td>37059</td>\n",
       "      <td>Q1IUF1</td>\n",
       "    </tr>\n",
       "    <tr>\n",
       "      <th>8</th>\n",
       "      <td>3 beta-hydroxysteroid dehydrogenase/Delta 5--&gt;4-isomerase type 6</td>\n",
       "      <td>3BHS6_MOUSE</td>\n",
       "      <td>24076</td>\n",
       "      <td>O35469</td>\n",
       "    </tr>\n",
       "    <tr>\n",
       "      <th>9</th>\n",
       "      <td>3 beta-hydroxysteroid dehydrogenase/Delta 5--&gt;4-isomerase type 6</td>\n",
       "      <td>3BHS6_MOUSE</td>\n",
       "      <td>14709</td>\n",
       "      <td>O35469</td>\n",
       "    </tr>\n",
       "  </tbody>\n",
       "</table>\n",
       "</div>"
      ],
      "text/plain": [
       "                                                        proteinName  \\\n",
       "0                                                   Casein kinase I   \n",
       "1                                                   Casein kinase I   \n",
       "2                    Probable aspartate/prephenate aminotransferase   \n",
       "3                    Probable aspartate/prephenate aminotransferase   \n",
       "4           Diacylglycerol acyltransferase/mycolyltransferase Ag85B   \n",
       "5           Diacylglycerol acyltransferase/mycolyltransferase Ag85B   \n",
       "6                      1-aminocyclopropane-1-carboxylate synthase 3   \n",
       "7                    tRNA N6-adenosine threonylcarbamoyltransferase   \n",
       "8  3 beta-hydroxysteroid dehydrogenase/Delta 5-->4-isomerase type 6   \n",
       "9  3 beta-hydroxysteroid dehydrogenase/Delta 5-->4-isomerase type 6   \n",
       "\n",
       "         mnemo   rhea uniprot  \n",
       "0    KC1_DICDI  46608  Q556Y4  \n",
       "1    KC1_DICDI  17989  Q556Y4  \n",
       "2  AAPAT_THEAQ  21824  O33822  \n",
       "3  AAPAT_THEAQ  20445  O33822  \n",
       "4   A85B_MYCKA  23472  P21160  \n",
       "5   A85B_MYCKA  10868  P21160  \n",
       "6   1A13_SOLLC  21744  Q42881  \n",
       "7   TSAD_KORVE  37059  Q1IUF1  \n",
       "8  3BHS6_MOUSE  24076  O35469  \n",
       "9  3BHS6_MOUSE  14709  O35469  "
      ]
     },
     "execution_count": 7,
     "metadata": {
     },
     "output_type": "execute_result"
    }
   ],
   "source": [
    "# Display results\n",
    "df"
   ]
  },
  {
   "cell_type": "markdown",
   "metadata": {
    "collapsed": false
   },
   "source": [
    "## Add reaction equation\n",
    "\n",
    "UniProt contains only references to Rhea reactions. We need to perform a federated query to retrieve Rhea reaction data.\n",
    "\n",
    "<div>\n",
    "<img src=\"Image/rhea_uniprot_ca_rhea.png\" alt=“UniProt enzymes and their catalyzed reactions” width=\"80%\" height=\"80%\" border=1/>\n",
    "</div>\n"
   ]
  },
  {
   "cell_type": "code",
   "execution_count": 8,
   "metadata": {
    "collapsed": false
   },
   "outputs": [
    {
     "name": "stdout",
     "output_type": "stream",
     "text": [
      "\n",
      "#endpoint:http://sparql.uniprot.org/sparql/\n",
      "\n",
      "PREFIX up: <http://purl.uniprot.org/core/>\n",
      "PREFIX rh: <http://rdf.rhea-db.org/>\n",
      "\n",
      "SELECT DISTINCT ?uniprot  \n",
      "                ?mnemo\n",
      "                ?proteinName\n",
      "                ?rhea \n",
      "                ?equation\n",
      "WHERE {\n",
      "    # restrict to UniProKB/Swiss-Prot\n",
      "    ?uniprot up:reviewed True .\n",
      "    # mnemonic\n",
      "    ?uniprot up:mnemonic ?mnemo .\n",
      "    # protein name (recommended name)\n",
      "    ?uniprot up:recommendedName/up:fullName ?proteinName .\n",
      "    # Catalytic activity annotation\n",
      "    ?uniprot up:annotation ?a .\n",
      "    ?a a up:Catalytic_Activity_Annotation .\n",
      "    ?a up:catalyticActivity ?ca .\n",
      "    # catalyzed reaction (Rhea)\n",
      "    ?ca up:catalyzedReaction ?rhea .  \n",
      "    \n",
      "    # Federated query:\n",
      "    SERVICE <https://sparql.rhea-db.org/sparql> {\n",
      "      ?rhea rh:equation ?equation .\n",
      "    }\n",
      "}\n",
      "LIMIT 10\n",
      "\n"
     ]
    }
   ],
   "source": [
    "sparql_Q1b=\"\"\"\n",
    "#endpoint:http://sparql.uniprot.org/sparql/\n",
    "\n",
    "PREFIX up: <http://purl.uniprot.org/core/>\n",
    "PREFIX rh: <http://rdf.rhea-db.org/>\n",
    "\n",
    "SELECT DISTINCT ?uniprot  \n",
    "                ?mnemo\n",
    "                ?proteinName\n",
    "                ?rhea \n",
    "                ?equation\n",
    "WHERE {\n",
    "    # restrict to UniProKB/Swiss-Prot\n",
    "    ?uniprot up:reviewed True .\n",
    "    # mnemonic\n",
    "    ?uniprot up:mnemonic ?mnemo .\n",
    "    # protein name (recommended name)\n",
    "    ?uniprot up:recommendedName/up:fullName ?proteinName .\n",
    "    # Catalytic activity annotation\n",
    "    ?uniprot up:annotation ?a .\n",
    "    ?a a up:Catalytic_Activity_Annotation .\n",
    "    ?a up:catalyticActivity ?ca .\n",
    "    # catalyzed reaction (Rhea)\n",
    "    ?ca up:catalyzedReaction ?rhea .  \n",
    "    \n",
    "    # Federated query:\n",
    "    SERVICE <https://sparql.rhea-db.org/sparql> {\n",
    "      ?rhea rh:equation ?equation .\n",
    "    }\n",
    "}\n",
    "LIMIT 10\n",
    "\"\"\"\n",
    "print(sparql_Q1b)"
   ]
  },
  {
   "cell_type": "code",
   "execution_count": 9,
   "metadata": {
    "collapsed": false
   },
   "outputs": [
   ],
   "source": [
    "try:\n",
    "    df  = sparql2pandas(sparql_Q1b,sparql_uniprot_url)\n",
    "except Exception as e:\n",
    "    print('ERROR in SPARQL query sparql_Q1b')\n",
    "    print(e)"
   ]
  },
  {
   "cell_type": "code",
   "execution_count": 10,
   "metadata": {
    "collapsed": false
   },
   "outputs": [
    {
     "data": {
      "text/html": [
       "<div>\n",
       "<style scoped>\n",
       "    .dataframe tbody tr th:only-of-type {\n",
       "        vertical-align: middle;\n",
       "    }\n",
       "\n",
       "    .dataframe tbody tr th {\n",
       "        vertical-align: top;\n",
       "    }\n",
       "\n",
       "    .dataframe thead th {\n",
       "        text-align: right;\n",
       "    }\n",
       "</style>\n",
       "<table border=\"1\" class=\"dataframe\">\n",
       "  <thead>\n",
       "    <tr style=\"text-align: right;\">\n",
       "      <th></th>\n",
       "      <th>uniprot</th>\n",
       "      <th>mnemo</th>\n",
       "      <th>proteinName</th>\n",
       "      <th>rhea</th>\n",
       "      <th>equation</th>\n",
       "    </tr>\n",
       "  </thead>\n",
       "  <tbody>\n",
       "    <tr>\n",
       "      <th>0</th>\n",
       "      <td>O21042</td>\n",
       "      <td>COX1_DICDI</td>\n",
       "      <td>Cytochrome c oxidase subunit 1+2</td>\n",
       "      <td>11436</td>\n",
       "      <td>4 Fe(II)-[cytochrome c] + 8 H(+)(in) + O2 = 4 Fe(III)-[cytochrome c] + 4 H(+)(out) + 2 H2O</td>\n",
       "    </tr>\n",
       "    <tr>\n",
       "      <th>1</th>\n",
       "      <td>O21049</td>\n",
       "      <td>COX3_DICDI</td>\n",
       "      <td>Cytochrome c oxidase subunit 3</td>\n",
       "      <td>11436</td>\n",
       "      <td>4 Fe(II)-[cytochrome c] + 8 H(+)(in) + O2 = 4 Fe(III)-[cytochrome c] + 4 H(+)(out) + 2 H2O</td>\n",
       "    </tr>\n",
       "    <tr>\n",
       "      <th>2</th>\n",
       "      <td>O77229</td>\n",
       "      <td>CATA_DICDI</td>\n",
       "      <td>Catalase-A</td>\n",
       "      <td>20309</td>\n",
       "      <td>2 H2O2 = 2 H2O + O2</td>\n",
       "    </tr>\n",
       "    <tr>\n",
       "      <th>3</th>\n",
       "      <td>P19476</td>\n",
       "      <td>CR29_ENTHI</td>\n",
       "      <td>Putative peroxiredoxin</td>\n",
       "      <td>62620</td>\n",
       "      <td>[thioredoxin]-dithiol + a hydroperoxide = [thioredoxin]-disulfide + an alcohol + H2O</td>\n",
       "    </tr>\n",
       "    <tr>\n",
       "      <th>4</th>\n",
       "      <td>P20609</td>\n",
       "      <td>COXE_DICDI</td>\n",
       "      <td>Cytochrome c oxidase subunit 7e</td>\n",
       "      <td>11436</td>\n",
       "      <td>4 Fe(II)-[cytochrome c] + 8 H(+)(in) + O2 = 4 Fe(III)-[cytochrome c] + 4 H(+)(out) + 2 H2O</td>\n",
       "    </tr>\n",
       "    <tr>\n",
       "      <th>5</th>\n",
       "      <td>P20610</td>\n",
       "      <td>COXS_DICDI</td>\n",
       "      <td>Cytochrome c oxidase subunit 7s</td>\n",
       "      <td>11436</td>\n",
       "      <td>4 Fe(II)-[cytochrome c] + 8 H(+)(in) + O2 = 4 Fe(III)-[cytochrome c] + 4 H(+)(out) + 2 H2O</td>\n",
       "    </tr>\n",
       "    <tr>\n",
       "      <th>6</th>\n",
       "      <td>P30815</td>\n",
       "      <td>COX4_DICDI</td>\n",
       "      <td>Cytochrome c oxidase subunit 4, mitochondrial</td>\n",
       "      <td>11436</td>\n",
       "      <td>4 Fe(II)-[cytochrome c] + 8 H(+)(in) + O2 = 4 Fe(III)-[cytochrome c] + 4 H(+)(out) + 2 H2O</td>\n",
       "    </tr>\n",
       "    <tr>\n",
       "      <th>7</th>\n",
       "      <td>P34112</td>\n",
       "      <td>CDK1_DICDI</td>\n",
       "      <td>Cyclin-dependent kinase 1</td>\n",
       "      <td>17989</td>\n",
       "      <td>ATP + L-seryl-[protein] = ADP + H(+) + O-phospho-L-seryl-[protein]</td>\n",
       "    </tr>\n",
       "    <tr>\n",
       "      <th>8</th>\n",
       "      <td>P34112</td>\n",
       "      <td>CDK1_DICDI</td>\n",
       "      <td>Cyclin-dependent kinase 1</td>\n",
       "      <td>46608</td>\n",
       "      <td>ATP + L-threonyl-[protein] = ADP + H(+) + O-phospho-L-threonyl-[protein]</td>\n",
       "    </tr>\n",
       "    <tr>\n",
       "      <th>9</th>\n",
       "      <td>P34112</td>\n",
       "      <td>CDK1_DICDI</td>\n",
       "      <td>Cyclin-dependent kinase 1</td>\n",
       "      <td>10216</td>\n",
       "      <td>[DNA-directed RNA polymerase] + ATP = ADP + H(+) + phospho-[DNA-directed RNA polymerase]</td>\n",
       "    </tr>\n",
       "  </tbody>\n",
       "</table>\n",
       "</div>"
      ],
      "text/plain": [
       "  uniprot       mnemo                                    proteinName   rhea  \\\n",
       "0  O21042  COX1_DICDI               Cytochrome c oxidase subunit 1+2  11436   \n",
       "1  O21049  COX3_DICDI                 Cytochrome c oxidase subunit 3  11436   \n",
       "2  O77229  CATA_DICDI                                     Catalase-A  20309   \n",
       "3  P19476  CR29_ENTHI                         Putative peroxiredoxin  62620   \n",
       "4  P20609  COXE_DICDI                Cytochrome c oxidase subunit 7e  11436   \n",
       "5  P20610  COXS_DICDI                Cytochrome c oxidase subunit 7s  11436   \n",
       "6  P30815  COX4_DICDI  Cytochrome c oxidase subunit 4, mitochondrial  11436   \n",
       "7  P34112  CDK1_DICDI                      Cyclin-dependent kinase 1  17989   \n",
       "8  P34112  CDK1_DICDI                      Cyclin-dependent kinase 1  46608   \n",
       "9  P34112  CDK1_DICDI                      Cyclin-dependent kinase 1  10216   \n",
       "\n",
       "                                                                                     equation  \n",
       "0  4 Fe(II)-[cytochrome c] + 8 H(+)(in) + O2 = 4 Fe(III)-[cytochrome c] + 4 H(+)(out) + 2 H2O  \n",
       "1  4 Fe(II)-[cytochrome c] + 8 H(+)(in) + O2 = 4 Fe(III)-[cytochrome c] + 4 H(+)(out) + 2 H2O  \n",
       "2                                                                         2 H2O2 = 2 H2O + O2  \n",
       "3        [thioredoxin]-dithiol + a hydroperoxide = [thioredoxin]-disulfide + an alcohol + H2O  \n",
       "4  4 Fe(II)-[cytochrome c] + 8 H(+)(in) + O2 = 4 Fe(III)-[cytochrome c] + 4 H(+)(out) + 2 H2O  \n",
       "5  4 Fe(II)-[cytochrome c] + 8 H(+)(in) + O2 = 4 Fe(III)-[cytochrome c] + 4 H(+)(out) + 2 H2O  \n",
       "6  4 Fe(II)-[cytochrome c] + 8 H(+)(in) + O2 = 4 Fe(III)-[cytochrome c] + 4 H(+)(out) + 2 H2O  \n",
       "7                          ATP + L-seryl-[protein] = ADP + H(+) + O-phospho-L-seryl-[protein]  \n",
       "8                    ATP + L-threonyl-[protein] = ADP + H(+) + O-phospho-L-threonyl-[protein]  \n",
       "9    [DNA-directed RNA polymerase] + ATP = ADP + H(+) + phospho-[DNA-directed RNA polymerase]  "
      ]
     },
     "execution_count": 10,
     "metadata": {
     },
     "output_type": "execute_result"
    }
   ],
   "source": [
    "# Display results\n",
    "cols = ['uniprot','mnemo','proteinName','rhea','equation']\n",
    "df[cols]"
   ]
  },
  {
   "cell_type": "markdown",
   "metadata": {
    "collapsed": false
   },
   "source": [
    "# Human enzyme metabolizing cholesterol"
   ]
  },
  {
   "cell_type": "markdown",
   "metadata": {
    "collapsed": false
   },
   "source": [
    "## Retrieve UniProtKB/Swiss-Prot entries (human) catalyzing reactions that involve cholesterol.\n",
    "\n",
    "<div>\n",
    "<img src=\"Image/rhea_human_enz_cholesterol.png\" alt=“Human enzyme metabolizing cholesterol” width=\"80%\" height=\"80%\" border=1/>\n",
    "</div>\n"
   ]
  },
  {
   "cell_type": "code",
   "execution_count": 11,
   "metadata": {
    "collapsed": false
   },
   "outputs": [
    {
     "name": "stdout",
     "output_type": "stream",
     "text": [
      "\n",
      "#endpoint:https://sparql.rhea-db.org/sparql\n",
      "\n",
      "PREFIX rdfs: <http://www.w3.org/2000/01/rdf-schema#>\n",
      "PREFIX up: <http://purl.uniprot.org/core/>\n",
      "PREFIX taxon:<http://purl.uniprot.org/taxonomy/> \n",
      "PREFIX rh: <http://rdf.rhea-db.org/>\n",
      "PREFIX CHEBI:<http://purl.obolibrary.org/obo/CHEBI_>\n",
      "\n",
      "SELECT DISTINCT ?uniprot  \n",
      "                ?rhea \n",
      "WHERE {\n",
      "  # CHEBI query\n",
      "  VALUES (?chebi) { (CHEBI:16113) } .\n",
      "  # Rhea reactions involving ?cheb\n",
      "  ?rhea rdfs:subClassOf rh:Reaction .\n",
      "  ?rhea rh:equation ?equation .  \n",
      "  ?rhea rh:side ?side .\n",
      "  ?side rh:contains ?reactionParticipant .\n",
      "  ?reactionParticipant rh:compound ?compound .\n",
      "  ?compound rh:chebi ?chebi .\n",
      "  \n",
      "  # UniProt enzymes \n",
      "  SERVICE <https://sparql.uniprot.org/> {\n",
      "    ?uniprot up:reviewed True .\n",
      "    ?uniprot up:organism taxon:9606 .\n",
      "    ?uniprot up:annotation ?a .\n",
      "    ?a a up:Catalytic_Activity_Annotation .\n",
      "    ?a up:catalyticActivity ?ca .\n",
      "    ?ca up:catalyzedReaction ?rhea .  \n",
      "  }\n",
      "}\n",
      "LIMIT 5\n",
      "\n"
     ]
    }
   ],
   "source": [
    "# Homo sapiens (human), species\n",
    "taxid = '9606'\n",
    "# cholesterol\n",
    "chebi = '16113'\n",
    "\n",
    "sparql_Q6=\"\"\"\n",
    "#endpoint:https://sparql.rhea-db.org/sparql\n",
    "\n",
    "PREFIX rdfs: <http://www.w3.org/2000/01/rdf-schema#>\n",
    "PREFIX up: <http://purl.uniprot.org/core/>\n",
    "PREFIX taxon:<http://purl.uniprot.org/taxonomy/> \n",
    "PREFIX rh: <http://rdf.rhea-db.org/>\n",
    "PREFIX CHEBI:<http://purl.obolibrary.org/obo/CHEBI_>\n",
    "\n",
    "SELECT DISTINCT ?uniprot  \n",
    "                ?rhea \n",
    "WHERE {\n",
    "  # CHEBI query\n",
    "  VALUES (?chebi) { (CHEBI:16113) } .\n",
    "  # Rhea reactions involving ?cheb\n",
    "  ?rhea rdfs:subClassOf rh:Reaction .\n",
    "  ?rhea rh:equation ?equation .  \n",
    "  ?rhea rh:side ?side .\n",
    "  ?side rh:contains ?reactionParticipant .\n",
    "  ?reactionParticipant rh:compound ?compound .\n",
    "  ?compound rh:chebi ?chebi .\n",
    "  \n",
    "  # UniProt enzymes \n",
    "  SERVICE <https://sparql.uniprot.org/> {\n",
    "    ?uniprot up:reviewed True .\n",
    "    ?uniprot up:organism taxon:\"\"\" + taxid + \"\"\" .\n",
    "    ?uniprot up:annotation ?a .\n",
    "    ?a a up:Catalytic_Activity_Annotation .\n",
    "    ?a up:catalyticActivity ?ca .\n",
    "    ?ca up:catalyzedReaction ?rhea .  \n",
    "  }\n",
    "}\n",
    "LIMIT 5\n",
    "\"\"\"\n",
    "\n",
    "print(sparql_Q6)"
   ]
  },
  {
   "cell_type": "code",
   "execution_count": 12,
   "metadata": {
    "collapsed": false
   },
   "outputs": [
   ],
   "source": [
    "try:\n",
    "    df  = sparql2pandas(sparql_Q6,sparql_rhea_url)\n",
    "except Exception as e:\n",
    "    print('ERROR in SPARQL query sparql_Q6')\n",
    "    print(e)"
   ]
  },
  {
   "cell_type": "code",
   "execution_count": 13,
   "metadata": {
    "collapsed": false
   },
   "outputs": [
    {
     "data": {
      "text/html": [
       "<div>\n",
       "<style scoped>\n",
       "    .dataframe tbody tr th:only-of-type {\n",
       "        vertical-align: middle;\n",
       "    }\n",
       "\n",
       "    .dataframe tbody tr th {\n",
       "        vertical-align: top;\n",
       "    }\n",
       "\n",
       "    .dataframe thead th {\n",
       "        text-align: right;\n",
       "    }\n",
       "</style>\n",
       "<table border=\"1\" class=\"dataframe\">\n",
       "  <thead>\n",
       "    <tr style=\"text-align: right;\">\n",
       "      <th></th>\n",
       "      <th>uniprot</th>\n",
       "      <th>rhea</th>\n",
       "    </tr>\n",
       "  </thead>\n",
       "  <tbody>\n",
       "    <tr>\n",
       "      <th>0</th>\n",
       "      <td>P17900</td>\n",
       "      <td>39747</td>\n",
       "    </tr>\n",
       "    <tr>\n",
       "      <th>1</th>\n",
       "      <td>Q15465</td>\n",
       "      <td>59504</td>\n",
       "    </tr>\n",
       "    <tr>\n",
       "      <th>2</th>\n",
       "      <td>P23141</td>\n",
       "      <td>36403</td>\n",
       "    </tr>\n",
       "    <tr>\n",
       "      <th>3</th>\n",
       "      <td>P23141</td>\n",
       "      <td>33875</td>\n",
       "    </tr>\n",
       "    <tr>\n",
       "      <th>4</th>\n",
       "      <td>P45844</td>\n",
       "      <td>39051</td>\n",
       "    </tr>\n",
       "  </tbody>\n",
       "</table>\n",
       "</div>"
      ],
      "text/plain": [
       "  uniprot   rhea\n",
       "0  P17900  39747\n",
       "1  Q15465  59504\n",
       "2  P23141  36403\n",
       "3  P23141  33875\n",
       "4  P45844  39051"
      ]
     },
     "execution_count": 13,
     "metadata": {
     },
     "output_type": "execute_result"
    }
   ],
   "source": [
    "# Display the result\n",
    "df"
   ]
  },
  {
   "cell_type": "markdown",
   "metadata": {
    "collapsed": false
   },
   "source": [
    "## Where are these enzymes located in the cell?\n",
    "\n",
    "Retrieve the UniProt proteins, their catalyzed reactions and their subcellular location(s) (UniProt locations and GO Cellular Component ID)"
   ]
  },
  {
   "cell_type": "code",
   "execution_count": 14,
   "metadata": {
    "collapsed": false
   },
   "outputs": [
    {
     "name": "stdout",
     "output_type": "stream",
     "text": [
      "\n",
      "#endpoint: https://sparql.uniprot.org/sparql/\n",
      "#query Q8: Where are the human enzymes metabolizing cholesterol located in the cell?\n",
      "\n",
      "PREFIX rdfs:<http://www.w3.org/2000/01/rdf-schema#> \n",
      "PREFIX rh:<http://rdf.rhea-db.org/>\n",
      "PREFIX CHEBI:<http://purl.obolibrary.org/obo/CHEBI_> \n",
      "PREFIX up:<http://purl.uniprot.org/core/>\n",
      "PREFIX taxon:<http://purl.uniprot.org/taxonomy/>\n",
      "PREFIX skos:<http://www.w3.org/2004/02/skos/core#>\n",
      "\n",
      "SELECT distinct ?protein\n",
      "                ?reaction \n",
      "                ?upLocation \n",
      "                ?upLocationLabel \n",
      "                ?goId\n",
      "WHERE {\n",
      "  SERVICE <https://sparql.rhea-db.org/sparql> {\n",
      "    ?reaction rdfs:subClassOf rh:Reaction .\n",
      "    ?reaction rh:status rh:Approved .\n",
      "    ?reaction rh:equation ?reactionEquation .\n",
      "    ?reaction rh:side ?reactionSide .\n",
      "    ?reactionSide rh:contains ?participant .\n",
      "    ?participant rh:compound ?compound .\n",
      "    # compound constraint\n",
      "    ?compound rh:chebi CHEBI:16113 .\n",
      "  }\n",
      "  # taxonomy constraint\n",
      "  ?protein up:organism taxon:9606 .\n",
      "  # Rhea catalayzed reactions\n",
      "  ?protein up:annotation ?a1 .\n",
      "  ?a1 a up:Catalytic_Activity_Annotation .\n",
      "  ?a1 up:catalyticActivity ?ca .\n",
      "  ?ca up:catalyzedReaction ?reaction .\n",
      "  # UniProt cellular components\n",
      "  ?protein up:annotation ?a2 .    \n",
      "  ?a2  a  up:Subcellular_Location_Annotation .    \n",
      "  ?a2 up:locatedIn ?lIn .\n",
      "  ?lIn up:cellularComponent ?upLocation .    \n",
      "  ?upLocation skos:prefLabel ?upLocationLabel  .    \n",
      "  ?upLocation skos:exactMatch ?goId .\n",
      "}\n",
      "\n"
     ]
    }
   ],
   "source": [
    "# Homo sapiens (human), species\n",
    "taxid = '9606'\n",
    "# cholesterol\n",
    "chebi = '16113'\n",
    "\n",
    "sparql_Q8=\"\"\"\n",
    "#endpoint: https://sparql.uniprot.org/sparql/\n",
    "#query Q8: Where are the human enzymes metabolizing cholesterol located in the cell?\n",
    "\n",
    "PREFIX rdfs:<http://www.w3.org/2000/01/rdf-schema#> \n",
    "PREFIX rh:<http://rdf.rhea-db.org/>\n",
    "PREFIX CHEBI:<http://purl.obolibrary.org/obo/CHEBI_> \n",
    "PREFIX up:<http://purl.uniprot.org/core/>\n",
    "PREFIX taxon:<http://purl.uniprot.org/taxonomy/>\n",
    "PREFIX skos:<http://www.w3.org/2004/02/skos/core#>\n",
    "\n",
    "SELECT distinct ?protein\n",
    "                ?reaction \n",
    "                ?upLocation \n",
    "                ?upLocationLabel \n",
    "                ?goId\n",
    "WHERE {\n",
    "  SERVICE <https://sparql.rhea-db.org/sparql> {\n",
    "    ?reaction rdfs:subClassOf rh:Reaction .\n",
    "    ?reaction rh:status rh:Approved .\n",
    "    ?reaction rh:equation ?reactionEquation .\n",
    "    ?reaction rh:side ?reactionSide .\n",
    "    ?reactionSide rh:contains ?participant .\n",
    "    ?participant rh:compound ?compound .\n",
    "    # compound constraint\n",
    "    ?compound rh:chebi CHEBI:\"\"\" + chebi + \"\"\" .\n",
    "  }\n",
    "  # taxonomy constraint\n",
    "  ?protein up:organism taxon:\"\"\" + taxid + \"\"\" .\n",
    "  # Rhea catalayzed reactions\n",
    "  ?protein up:annotation ?a1 .\n",
    "  ?a1 a up:Catalytic_Activity_Annotation .\n",
    "  ?a1 up:catalyticActivity ?ca .\n",
    "  ?ca up:catalyzedReaction ?reaction .\n",
    "  # UniProt cellular components\n",
    "  ?protein up:annotation ?a2 .    \n",
    "  ?a2  a  up:Subcellular_Location_Annotation .    \n",
    "  ?a2 up:locatedIn ?lIn .\n",
    "  ?lIn up:cellularComponent ?upLocation .    \n",
    "  ?upLocation skos:prefLabel ?upLocationLabel  .    \n",
    "  ?upLocation skos:exactMatch ?goId .\n",
    "}\n",
    "\"\"\"\n",
    "print(sparql_Q8)"
   ]
  },
  {
   "cell_type": "code",
   "execution_count": 15,
   "metadata": {
    "collapsed": false
   },
   "outputs": [
   ],
   "source": [
    "try:\n",
    "    df  = sparql2pandas(sparql_Q8,sparql_uniprot_url)\n",
    "except Exception as e:\n",
    "    print('ERROR in SPARQL query Q8')\n",
    "    print(e)"
   ]
  },
  {
   "cell_type": "code",
   "execution_count": 16,
   "metadata": {
    "collapsed": false
   },
   "outputs": [
    {
     "data": {
      "text/html": [
       "<div>\n",
       "<style scoped>\n",
       "    .dataframe tbody tr th:only-of-type {\n",
       "        vertical-align: middle;\n",
       "    }\n",
       "\n",
       "    .dataframe tbody tr th {\n",
       "        vertical-align: top;\n",
       "    }\n",
       "\n",
       "    .dataframe thead th {\n",
       "        text-align: right;\n",
       "    }\n",
       "</style>\n",
       "<table border=\"1\" class=\"dataframe\">\n",
       "  <thead>\n",
       "    <tr style=\"text-align: right;\">\n",
       "      <th></th>\n",
       "      <th>upLocationLabel</th>\n",
       "      <th>reaction</th>\n",
       "      <th>goId</th>\n",
       "      <th>protein</th>\n",
       "      <th>upLocation</th>\n",
       "    </tr>\n",
       "  </thead>\n",
       "  <tbody>\n",
       "    <tr>\n",
       "      <th>0</th>\n",
       "      <td>Endosome membrane</td>\n",
       "      <td>39051</td>\n",
       "      <td>GO_0010008</td>\n",
       "      <td>Q9H172</td>\n",
       "      <td>100</td>\n",
       "    </tr>\n",
       "    <tr>\n",
       "      <th>1</th>\n",
       "      <td>Endosome</td>\n",
       "      <td>39051</td>\n",
       "      <td>GO_0005768</td>\n",
       "      <td>O95477</td>\n",
       "      <td>101</td>\n",
       "    </tr>\n",
       "    <tr>\n",
       "      <th>2</th>\n",
       "      <td>Golgi apparatus membrane</td>\n",
       "      <td>39051</td>\n",
       "      <td>GO_0000139</td>\n",
       "      <td>P45844</td>\n",
       "      <td>134</td>\n",
       "    </tr>\n",
       "    <tr>\n",
       "      <th>3</th>\n",
       "      <td>Golgi apparatus membrane</td>\n",
       "      <td>39051</td>\n",
       "      <td>GO_0000139</td>\n",
       "      <td>Q8WWZ7</td>\n",
       "      <td>134</td>\n",
       "    </tr>\n",
       "    <tr>\n",
       "      <th>4</th>\n",
       "      <td>Endomembrane system</td>\n",
       "      <td>39747</td>\n",
       "      <td>GO_0012505</td>\n",
       "      <td>Q5BJD5</td>\n",
       "      <td>147</td>\n",
       "    </tr>\n",
       "  </tbody>\n",
       "</table>\n",
       "</div>"
      ],
      "text/plain": [
       "            upLocationLabel reaction        goId protein upLocation\n",
       "0         Endosome membrane    39051  GO_0010008  Q9H172        100\n",
       "1                  Endosome    39051  GO_0005768  O95477        101\n",
       "2  Golgi apparatus membrane    39051  GO_0000139  P45844        134\n",
       "3  Golgi apparatus membrane    39051  GO_0000139  Q8WWZ7        134\n",
       "4       Endomembrane system    39747  GO_0012505  Q5BJD5        147"
      ]
     },
     "execution_count": 16,
     "metadata": {
     },
     "output_type": "execute_result"
    }
   ],
   "source": [
    "# Display the 5 first rows\n",
    "df.head(5)"
   ]
  },
  {
   "cell_type": "markdown",
   "metadata": {
    "collapsed": false
   },
   "source": [
    "## Retrieve their amino-acid sequences"
   ]
  },
  {
   "cell_type": "code",
   "execution_count": 17,
   "metadata": {
    "collapsed": false,
    "scrolled": true
   },
   "outputs": [
    {
     "name": "stdout",
     "output_type": "stream",
     "text": [
      "\n",
      "#endpoint: https://sparql.uniprot.org/sparql/\n",
      "#query Q9: What are the sequences of human enzyme metabolizing cholesterol?\n",
      "\n",
      "PREFIX rdfs:<http://www.w3.org/2000/01/rdf-schema#> \n",
      "PREFIX rh:<http://rdf.rhea-db.org/>\n",
      "PREFIX CHEBI:<http://purl.obolibrary.org/obo/CHEBI_> \n",
      "PREFIX up:<http://purl.uniprot.org/core/>\n",
      "PREFIX taxon:<http://purl.uniprot.org/taxonomy/>\n",
      "\n",
      "SELECT distinct ?protein\n",
      "                ?reaction \n",
      "                ?sequence\n",
      "WHERE {\n",
      "  SERVICE <https://sparql.rhea-db.org/sparql> {\n",
      "    ?reaction rdfs:subClassOf rh:Reaction .\n",
      "    ?reaction rh:status rh:Approved .\n",
      "    ?reaction rh:equation ?reactionEquation .\n",
      "    ?reaction rh:side ?reactionSide .\n",
      "    ?reactionSide rh:contains ?participant .\n",
      "    ?participant rh:compound ?compound .\n",
      "    # compound constraint\n",
      "    ?compound rh:chebi CHEBI:16113 .\n",
      "  }\n",
      "  # taxonomy constraint\n",
      "  ?protein up:organism taxon:9606 .\n",
      "  # Rhea catalayzed reactions\n",
      "  ?protein up:annotation ?a1 .\n",
      "  ?a1 a up:Catalytic_Activity_Annotation .\n",
      "  ?a1 up:catalyticActivity ?ca .\n",
      "  ?ca up:catalyzedReaction ?reaction .\n",
      "  ?protein up:sequence ?seq .\n",
      "  ?seq rdf:value ?sequence .\n",
      "}\n",
      "\n"
     ]
    }
   ],
   "source": [
    "# Homo sapiens (human), species\n",
    "taxid = '9606'\n",
    "# cholesterol\n",
    "chebi = 'CHEBI_16113'\n",
    "\n",
    "sparql_Q9=\"\"\"\n",
    "#endpoint: https://sparql.uniprot.org/sparql/\n",
    "#query Q9: What are the sequences of human enzyme metabolizing cholesterol?\n",
    "\n",
    "PREFIX rdfs:<http://www.w3.org/2000/01/rdf-schema#> \n",
    "PREFIX rh:<http://rdf.rhea-db.org/>\n",
    "PREFIX CHEBI:<http://purl.obolibrary.org/obo/CHEBI_> \n",
    "PREFIX up:<http://purl.uniprot.org/core/>\n",
    "PREFIX taxon:<http://purl.uniprot.org/taxonomy/>\n",
    "\n",
    "SELECT distinct ?protein\n",
    "                ?reaction \n",
    "                ?sequence\n",
    "WHERE {\n",
    "  SERVICE <https://sparql.rhea-db.org/sparql> {\n",
    "    ?reaction rdfs:subClassOf rh:Reaction .\n",
    "    ?reaction rh:status rh:Approved .\n",
    "    ?reaction rh:equation ?reactionEquation .\n",
    "    ?reaction rh:side ?reactionSide .\n",
    "    ?reactionSide rh:contains ?participant .\n",
    "    ?participant rh:compound ?compound .\n",
    "    # compound constraint\n",
    "    ?compound rh:chebi CHEBI:16113 .\n",
    "  }\n",
    "  # taxonomy constraint\n",
    "  ?protein up:organism taxon:9606 .\n",
    "  # Rhea catalayzed reactions\n",
    "  ?protein up:annotation ?a1 .\n",
    "  ?a1 a up:Catalytic_Activity_Annotation .\n",
    "  ?a1 up:catalyticActivity ?ca .\n",
    "  ?ca up:catalyzedReaction ?reaction .\n",
    "  ?protein up:sequence ?seq .\n",
    "  ?seq rdf:value ?sequence .\n",
    "}\n",
    "\"\"\"\n",
    "\n",
    "print(sparql_Q9)"
   ]
  },
  {
   "cell_type": "code",
   "execution_count": 18,
   "metadata": {
    "collapsed": false
   },
   "outputs": [
   ],
   "source": [
    "try:\n",
    "    df  = sparql2pandas(sparql_Q9,sparql_uniprot_url)\n",
    "    # Display the 5 first rows\n",
    "    \n",
    "except Exception as e:\n",
    "    print('ERROR in SPARQL query Q9')\n",
    "    print(e)\n"
   ]
  },
  {
   "cell_type": "code",
   "execution_count": 19,
   "metadata": {
    "collapsed": false
   },
   "outputs": [
    {
     "data": {
      "text/html": [
       "<div>\n",
       "<style scoped>\n",
       "    .dataframe tbody tr th:only-of-type {\n",
       "        vertical-align: middle;\n",
       "    }\n",
       "\n",
       "    .dataframe tbody tr th {\n",
       "        vertical-align: top;\n",
       "    }\n",
       "\n",
       "    .dataframe thead th {\n",
       "        text-align: right;\n",
       "    }\n",
       "</style>\n",
       "<table border=\"1\" class=\"dataframe\">\n",
       "  <thead>\n",
       "    <tr style=\"text-align: right;\">\n",
       "      <th></th>\n",
       "      <th>sequence</th>\n",
       "      <th>reaction</th>\n",
       "      <th>protein</th>\n",
       "    </tr>\n",
       "  </thead>\n",
       "  <tbody>\n",
       "    <tr>\n",
       "      <th>0</th>\n",
       "      <td>MGHAGCQFKALLWKNWLCRLRNPVLFLAEFFWPCILFVILTVLRFQEPPRYRDICYLQPRDLPSCGVIPFVQSLLCNTGSRCRNFSYEGSMEHHFRLSRFQTAADPKKVNNLAFLKEIQDLAEEIHGMMDKAKNLKRLWVERSNTPDSSYGSSFFTMDLNKTEEVILKLESLHQQPHIWDFLLLLPRLHTSHDHVE...</td>\n",
       "      <td>39051</td>\n",
       "      <td>Q86UQ4</td>\n",
       "    </tr>\n",
       "    <tr>\n",
       "      <th>1</th>\n",
       "      <td>MSFVPKDKILEILKLDQFLTLMIQDRLMNIFSSLKETIYHLMKSSFILDNGEFYFDTHQGLKFMQDLFNALLRETSMKNKTENNIDFFTVVSQLFFHVNKSEDLFKLNQDLGSALHLVRECSTEMARLLDTILHSPNKDFYALYPTLQEVILANLTDLLFFINNSFPLRNRATLEITKRLVGAISRASEESHVLKP...</td>\n",
       "      <td>39051</td>\n",
       "      <td>Q86UQ4</td>\n",
       "    </tr>\n",
       "    <tr>\n",
       "      <th>2</th>\n",
       "      <td>MRFLAATFLLLALSTAAQAEPVQFKDCGSVDGVIKEVNVSPCPTQPCQLSKGQSYSVNVTFTSNIQSKSSKAVVHGILMGVPVPFPIPEPDGCKSGINCPIQKDKTYSYLNKLPVKSEYPSIKLVVEWQLQDDKNQSLFCWEIPVQIVSHL</td>\n",
       "      <td>39747</td>\n",
       "      <td>P61916</td>\n",
       "    </tr>\n",
       "    <tr>\n",
       "      <th>3</th>\n",
       "      <td>MAAFSVGTAMNASSYSAEMTEPKSVCVSVDEVVSSNMEATETDLLNGHLKKVDNNLTEAQRFSSLPRRAAVNIEFRDLSYSVPEGPWWRKKGYKTLLKGISGKFNSGELVAIMGPSGAGKSTLMNILAGYRETGMKGAVLINGLPRDLRCFRKVSCYIMQDDMLLPHLTVQEAMMVSAHLKLQEKDEGRREMVKEI...</td>\n",
       "      <td>39051</td>\n",
       "      <td>P45844</td>\n",
       "    </tr>\n",
       "    <tr>\n",
       "      <th>4</th>\n",
       "      <td>MDSLVVLVLCLSCLLLLSLWRQSSGRGKLPPGPTPLPVIGNILQIGIKDISKSLTNLSKVYGPVFTLYFGLKPIVVLHGYEAVKEALIDLGEEFSGRGIFPLAERANRGFGIVFSNGKKWKEIRRFSLMTLRNFGMGKRSIEDRVQEEARCLVEELRKTKASPCDPTFILGCAPCNVICSIIFHKRFDYKDQQFLN...</td>\n",
       "      <td>50256</td>\n",
       "      <td>P11712</td>\n",
       "    </tr>\n",
       "  </tbody>\n",
       "</table>\n",
       "</div>"
      ],
      "text/plain": [
       "                                                                                                                                                                                                  sequence  \\\n",
       "0  MGHAGCQFKALLWKNWLCRLRNPVLFLAEFFWPCILFVILTVLRFQEPPRYRDICYLQPRDLPSCGVIPFVQSLLCNTGSRCRNFSYEGSMEHHFRLSRFQTAADPKKVNNLAFLKEIQDLAEEIHGMMDKAKNLKRLWVERSNTPDSSYGSSFFTMDLNKTEEVILKLESLHQQPHIWDFLLLLPRLHTSHDHVE...   \n",
       "1  MSFVPKDKILEILKLDQFLTLMIQDRLMNIFSSLKETIYHLMKSSFILDNGEFYFDTHQGLKFMQDLFNALLRETSMKNKTENNIDFFTVVSQLFFHVNKSEDLFKLNQDLGSALHLVRECSTEMARLLDTILHSPNKDFYALYPTLQEVILANLTDLLFFINNSFPLRNRATLEITKRLVGAISRASEESHVLKP...   \n",
       "2                                                  MRFLAATFLLLALSTAAQAEPVQFKDCGSVDGVIKEVNVSPCPTQPCQLSKGQSYSVNVTFTSNIQSKSSKAVVHGILMGVPVPFPIPEPDGCKSGINCPIQKDKTYSYLNKLPVKSEYPSIKLVVEWQLQDDKNQSLFCWEIPVQIVSHL   \n",
       "3  MAAFSVGTAMNASSYSAEMTEPKSVCVSVDEVVSSNMEATETDLLNGHLKKVDNNLTEAQRFSSLPRRAAVNIEFRDLSYSVPEGPWWRKKGYKTLLKGISGKFNSGELVAIMGPSGAGKSTLMNILAGYRETGMKGAVLINGLPRDLRCFRKVSCYIMQDDMLLPHLTVQEAMMVSAHLKLQEKDEGRREMVKEI...   \n",
       "4  MDSLVVLVLCLSCLLLLSLWRQSSGRGKLPPGPTPLPVIGNILQIGIKDISKSLTNLSKVYGPVFTLYFGLKPIVVLHGYEAVKEALIDLGEEFSGRGIFPLAERANRGFGIVFSNGKKWKEIRRFSLMTLRNFGMGKRSIEDRVQEEARCLVEELRKTKASPCDPTFILGCAPCNVICSIIFHKRFDYKDQQFLN...   \n",
       "\n",
       "  reaction protein  \n",
       "0    39051  Q86UQ4  \n",
       "1    39051  Q86UQ4  \n",
       "2    39747  P61916  \n",
       "3    39051  P45844  \n",
       "4    50256  P11712  "
      ]
     },
     "execution_count": 19,
     "metadata": {
     },
     "output_type": "execute_result"
    }
   ],
   "source": [
    "# Display results\n",
    "df.head(5)"
   ]
  },
  {
   "cell_type": "markdown",
   "metadata": {
    "collapsed": false
   },
   "source": [
    "# Build the UniProt H. pylori proteome scale metabolic network"
   ]
  },
  {
   "cell_type": "code",
   "execution_count": 20,
   "metadata": {
    "collapsed": false
   },
   "outputs": [
    {
     "name": "stdout",
     "output_type": "stream",
     "text": [
      "\n",
      "#endpoint: https://sparql.rhea-db.org/sparql\n",
      "#query Q10: Build the UniProt H. pylori proteome scale metabolic network\n",
      "\n",
      "PREFIX rdfs:<http://www.w3.org/2000/01/rdf-schema#>\n",
      "PREFIX rh:<http://rdf.rhea-db.org/>\n",
      "PREFIX up:<http://purl.uniprot.org/core/>\n",
      "PREFIX taxon:<http://purl.uniprot.org/taxonomy/>\n",
      "SELECT  ?protein \n",
      "        ?proteinId\n",
      "        ?reaction \n",
      "        ?reactionSide \n",
      "        ?compound  \n",
      "        ?chebi \n",
      "        ?reactionEquation\n",
      "WHERE {\n",
      "  SERVICE <http://sparql.uniprot.org/sparql> {\n",
      "    ?protein up:reviewed ?status .\n",
      "    # taxonomy constraint\n",
      "    ?protein up:organism taxon:85962 .\n",
      "    ?protein up:mnemonic ?proteinId . \n",
      "    # Rhea reactions catalyzed by UniProt proteins\n",
      "    ?protein up:annotation ?a .\n",
      "    ?a up:catalyticActivity ?ca .\n",
      "    ?ca up:catalyzedReaction ?reaction .  \n",
      "  }\n",
      "  ?reaction rh:equation ?reactionEquation .\n",
      "  ?reaction rh:side ?reactionSide .\n",
      "  ?reactionSide rh:contains ?participant .\n",
      "  ?participant rh:compound ?compound .\n",
      "  OPTIONAL {?compound rh:chebi ?chebi } .\n",
      "}\n",
      "\n"
     ]
    }
   ],
   "source": [
    "# Helicobacter pylori str. 26695\n",
    "taxid = '85962'\n",
    "\n",
    "sparql_Q10=\"\"\"\n",
    "#endpoint: https://sparql.rhea-db.org/sparql\n",
    "#query Q10: Build the UniProt H. pylori proteome scale metabolic network\n",
    "\n",
    "PREFIX rdfs:<http://www.w3.org/2000/01/rdf-schema#>\n",
    "PREFIX rh:<http://rdf.rhea-db.org/>\n",
    "PREFIX up:<http://purl.uniprot.org/core/>\n",
    "PREFIX taxon:<http://purl.uniprot.org/taxonomy/>\n",
    "SELECT  ?protein \n",
    "        ?proteinId\n",
    "        ?reaction \n",
    "        ?reactionSide \n",
    "        ?compound  \n",
    "        ?chebi \n",
    "        ?reactionEquation\n",
    "WHERE {\n",
    "  SERVICE <http://sparql.uniprot.org/sparql> {\n",
    "    ?protein up:reviewed ?status .\n",
    "    # taxonomy constraint\n",
    "    ?protein up:organism taxon:\"\"\" + taxid + \"\"\" .\n",
    "    ?protein up:mnemonic ?proteinId . \n",
    "    # Rhea reactions catalyzed by UniProt proteins\n",
    "    ?protein up:annotation ?a .\n",
    "    ?a up:catalyticActivity ?ca .\n",
    "    ?ca up:catalyzedReaction ?reaction .  \n",
    "  }\n",
    "  ?reaction rh:equation ?reactionEquation .\n",
    "  ?reaction rh:side ?reactionSide .\n",
    "  ?reactionSide rh:contains ?participant .\n",
    "  ?participant rh:compound ?compound .\n",
    "  OPTIONAL {?compound rh:chebi ?chebi } .\n",
    "}\n",
    "\"\"\"\n",
    "print(sparql_Q10)"
   ]
  },
  {
   "cell_type": "code",
   "execution_count": 21,
   "metadata": {
    "collapsed": false
   },
   "outputs": [
   ],
   "source": [
    "try:\n",
    "    df  = sparql2pandas(sparql_Q10,sparql_rhea_url)\n",
    "except Exception as e:\n",
    "    print('ERROR in SPARQL query Q10')\n",
    "    print(e)"
   ]
  },
  {
   "cell_type": "code",
   "execution_count": 22,
   "metadata": {
    "collapsed": false
   },
   "outputs": [
    {
     "data": {
      "text/html": [
       "<div>\n",
       "<style scoped>\n",
       "    .dataframe tbody tr th:only-of-type {\n",
       "        vertical-align: middle;\n",
       "    }\n",
       "\n",
       "    .dataframe tbody tr th {\n",
       "        vertical-align: top;\n",
       "    }\n",
       "\n",
       "    .dataframe thead th {\n",
       "        text-align: right;\n",
       "    }\n",
       "</style>\n",
       "<table border=\"1\" class=\"dataframe\">\n",
       "  <thead>\n",
       "    <tr style=\"text-align: right;\">\n",
       "      <th></th>\n",
       "      <th>protein</th>\n",
       "      <th>proteinId</th>\n",
       "      <th>reaction</th>\n",
       "      <th>reactionSide</th>\n",
       "      <th>compound</th>\n",
       "      <th>reactionEquation</th>\n",
       "      <th>chebi</th>\n",
       "    </tr>\n",
       "  </thead>\n",
       "  <tbody>\n",
       "    <tr>\n",
       "      <th>0</th>\n",
       "      <td>P56153</td>\n",
       "      <td>IPYR_HELPY</td>\n",
       "      <td>24576</td>\n",
       "      <td>24576_L</td>\n",
       "      <td>Compound_2106</td>\n",
       "      <td>diphosphate + H2O = H(+) + 2 phosphate</td>\n",
       "      <td>CHEBI_33019</td>\n",
       "    </tr>\n",
       "    <tr>\n",
       "      <th>1</th>\n",
       "      <td>P56153</td>\n",
       "      <td>IPYR_HELPY</td>\n",
       "      <td>24576</td>\n",
       "      <td>24576_L</td>\n",
       "      <td>Compound_1283</td>\n",
       "      <td>diphosphate + H2O = H(+) + 2 phosphate</td>\n",
       "      <td>CHEBI_15377</td>\n",
       "    </tr>\n",
       "    <tr>\n",
       "      <th>2</th>\n",
       "      <td>P56153</td>\n",
       "      <td>IPYR_HELPY</td>\n",
       "      <td>24576</td>\n",
       "      <td>24576_R</td>\n",
       "      <td>Compound_3249</td>\n",
       "      <td>diphosphate + H2O = H(+) + 2 phosphate</td>\n",
       "      <td>CHEBI_15378</td>\n",
       "    </tr>\n",
       "    <tr>\n",
       "      <th>3</th>\n",
       "      <td>P56153</td>\n",
       "      <td>IPYR_HELPY</td>\n",
       "      <td>24576</td>\n",
       "      <td>24576_R</td>\n",
       "      <td>Compound_5518</td>\n",
       "      <td>diphosphate + H2O = H(+) + 2 phosphate</td>\n",
       "      <td>CHEBI_43474</td>\n",
       "    </tr>\n",
       "    <tr>\n",
       "      <th>4</th>\n",
       "      <td>O25959</td>\n",
       "      <td>QUEF_HELPY</td>\n",
       "      <td>13409</td>\n",
       "      <td>13409_L</td>\n",
       "      <td>Compound_5842</td>\n",
       "      <td>7-aminomethyl-7-carbaguanine + 2 NADP(+) = 7-cyano-7-deazaguanine + 3 H(+) + 2 NADPH</td>\n",
       "      <td>CHEBI_58703</td>\n",
       "    </tr>\n",
       "  </tbody>\n",
       "</table>\n",
       "</div>"
      ],
      "text/plain": [
       "  protein   proteinId reaction reactionSide       compound  \\\n",
       "0  P56153  IPYR_HELPY    24576      24576_L  Compound_2106   \n",
       "1  P56153  IPYR_HELPY    24576      24576_L  Compound_1283   \n",
       "2  P56153  IPYR_HELPY    24576      24576_R  Compound_3249   \n",
       "3  P56153  IPYR_HELPY    24576      24576_R  Compound_5518   \n",
       "4  O25959  QUEF_HELPY    13409      13409_L  Compound_5842   \n",
       "\n",
       "                                                                       reactionEquation  \\\n",
       "0                                                diphosphate + H2O = H(+) + 2 phosphate   \n",
       "1                                                diphosphate + H2O = H(+) + 2 phosphate   \n",
       "2                                                diphosphate + H2O = H(+) + 2 phosphate   \n",
       "3                                                diphosphate + H2O = H(+) + 2 phosphate   \n",
       "4  7-aminomethyl-7-carbaguanine + 2 NADP(+) = 7-cyano-7-deazaguanine + 3 H(+) + 2 NADPH   \n",
       "\n",
       "         chebi  \n",
       "0  CHEBI_33019  \n",
       "1  CHEBI_15377  \n",
       "2  CHEBI_15378  \n",
       "3  CHEBI_43474  \n",
       "4  CHEBI_58703  "
      ]
     },
     "execution_count": 22,
     "metadata": {
     },
     "output_type": "execute_result"
    }
   ],
   "source": [
    "# Display the 5 first rows\n",
    "df.head(5)"
   ]
  },
  {
   "cell_type": "markdown",
   "metadata": {
    "collapsed": false
   },
   "source": [
    "## Q11: Explore H. pylori tryptophan biosynthesis pathway (GO:0000162)"
   ]
  },
  {
   "cell_type": "code",
   "execution_count": 23,
   "metadata": {
    "collapsed": false
   },
   "outputs": [
    {
     "name": "stdout",
     "output_type": "stream",
     "text": [
      "\n",
      "#endpoint: https://sparql.uniprot.org/sparql/\n",
      "\n",
      "PREFIX rdfs:<http://www.w3.org/2000/01/rdf-schema#> \n",
      "PREFIX up:<http://purl.uniprot.org/core/>\n",
      "PREFIX rh:<http://rdf.rhea-db.org/>\n",
      "PREFIX taxon:<http://purl.uniprot.org/taxonomy/>\n",
      "PREFIX ch:<http://purl.obolibrary.org/obo/>\n",
      "PREFIX GO:<http://purl.obolibrary.org/obo/GO_>\n",
      "SELECT distinct ?upProteinId \n",
      "                ?goId \n",
      "                ?rhReaction \n",
      "                ?upPathway \n",
      "WHERE{\n",
      "  ?upProtein up:reviewed true .\n",
      "  ?upProtein up:mnemonic  ?upProteinId . \n",
      "  # taxonomy constraint\n",
      "  ?upProtein up:organism taxon:85962 .\n",
      "  ?upProtein up:annotation/up:catalyticActivity/up:catalyzedReaction ?rhReaction .  \n",
      "  ?upProtein up:classifiedWith ?goId .\n",
      "  # pathway constraint (GO Biological Process)\n",
      "  VALUES ?goId {GO:0000162} \n",
      "  OPTIONAL {?upProtein up:annotation ?pa . # Pathway annotation\n",
      "                      ?pa a up:Pathway_Annotation .  \n",
      "                      ?pa rdfs:seeAlso/rdfs:label ?upPathway . }\n",
      "}\n",
      "ORDER BY ?upPathway \n",
      "\n"
     ]
    }
   ],
   "source": [
    "# Helicobacter pylori str. 26695 (UniProt proteome: HELPY)\n",
    "taxid = '85962'\n",
    "# tryptophan biosynthesis pathway (GO:0000162)\n",
    "goid = 'GO:0000162'\n",
    "\n",
    "sparql_Q11=\"\"\"\n",
    "#endpoint: https://sparql.uniprot.org/sparql/\n",
    "\n",
    "PREFIX rdfs:<http://www.w3.org/2000/01/rdf-schema#> \n",
    "PREFIX up:<http://purl.uniprot.org/core/>\n",
    "PREFIX rh:<http://rdf.rhea-db.org/>\n",
    "PREFIX taxon:<http://purl.uniprot.org/taxonomy/>\n",
    "PREFIX ch:<http://purl.obolibrary.org/obo/>\n",
    "PREFIX GO:<http://purl.obolibrary.org/obo/GO_>\n",
    "SELECT distinct ?upProteinId \n",
    "                ?goId \n",
    "                ?rhReaction \n",
    "                ?upPathway \n",
    "WHERE{\n",
    "  ?upProtein up:reviewed true .\n",
    "  ?upProtein up:mnemonic  ?upProteinId . \n",
    "  # taxonomy constraint\n",
    "  ?upProtein up:organism taxon:\"\"\" + taxid + \"\"\" .\n",
    "  ?upProtein up:annotation/up:catalyticActivity/up:catalyzedReaction ?rhReaction .  \n",
    "  ?upProtein up:classifiedWith ?goId .\n",
    "  # pathway constraint (GO Biological Process)\n",
    "  VALUES ?goId {\"\"\" + goid + \"\"\"} \n",
    "  OPTIONAL {?upProtein up:annotation ?pa . # Pathway annotation\n",
    "                      ?pa a up:Pathway_Annotation .  \n",
    "                      ?pa rdfs:seeAlso/rdfs:label ?upPathway . }\n",
    "}\n",
    "ORDER BY ?upPathway \n",
    "\"\"\"\n",
    "print(sparql_Q11)"
   ]
  },
  {
   "cell_type": "code",
   "execution_count": 24,
   "metadata": {
    "collapsed": false
   },
   "outputs": [
   ],
   "source": [
    "try:\n",
    "    df  = sparql2pandas(sparql_Q11,sparql_uniprot_url)\n",
    "except Exception as e:\n",
    "    print('ERROR in SPARQL query Q11')\n",
    "    print(e)    "
   ]
  },
  {
   "cell_type": "code",
   "execution_count": 25,
   "metadata": {
    "collapsed": false
   },
   "outputs": [
    {
     "data": {
      "text/html": [
       "<div>\n",
       "<style scoped>\n",
       "    .dataframe tbody tr th:only-of-type {\n",
       "        vertical-align: middle;\n",
       "    }\n",
       "\n",
       "    .dataframe tbody tr th {\n",
       "        vertical-align: top;\n",
       "    }\n",
       "\n",
       "    .dataframe thead th {\n",
       "        text-align: right;\n",
       "    }\n",
       "</style>\n",
       "<table border=\"1\" class=\"dataframe\">\n",
       "  <thead>\n",
       "    <tr style=\"text-align: right;\">\n",
       "      <th></th>\n",
       "      <th>goId</th>\n",
       "      <th>upProteinId</th>\n",
       "      <th>rhReaction</th>\n",
       "      <th>upPathway</th>\n",
       "    </tr>\n",
       "  </thead>\n",
       "  <tbody>\n",
       "    <tr>\n",
       "      <th>0</th>\n",
       "      <td>GO_0000162</td>\n",
       "      <td>TRPD_HELPY</td>\n",
       "      <td>11768</td>\n",
       "      <td>Amino-acid biosynthesis; L-tryptophan biosynthesis; L-tryptophan from chorismate: step 2/5</td>\n",
       "    </tr>\n",
       "    <tr>\n",
       "      <th>1</th>\n",
       "      <td>GO_0000162</td>\n",
       "      <td>TRPA_HELPY</td>\n",
       "      <td>10532</td>\n",
       "      <td>Amino-acid biosynthesis; L-tryptophan biosynthesis; L-tryptophan from chorismate: step 5/5</td>\n",
       "    </tr>\n",
       "    <tr>\n",
       "      <th>2</th>\n",
       "      <td>GO_0000162</td>\n",
       "      <td>TRPB_HELPY</td>\n",
       "      <td>10532</td>\n",
       "      <td>Amino-acid biosynthesis; L-tryptophan biosynthesis; L-tryptophan from chorismate: step 5/5</td>\n",
       "    </tr>\n",
       "    <tr>\n",
       "      <th>3</th>\n",
       "      <td>GO_0000162</td>\n",
       "      <td>TRPC_HELPY</td>\n",
       "      <td>23476</td>\n",
       "      <td>Amino-acid biosynthesis; L-tryptophan biosynthesis; L-tryptophan from chorismate: step 3/5</td>\n",
       "    </tr>\n",
       "    <tr>\n",
       "      <th>4</th>\n",
       "      <td>GO_0000162</td>\n",
       "      <td>TRPC_HELPY</td>\n",
       "      <td>21540</td>\n",
       "      <td>Amino-acid biosynthesis; L-tryptophan biosynthesis; L-tryptophan from chorismate: step 3/5</td>\n",
       "    </tr>\n",
       "    <tr>\n",
       "      <th>5</th>\n",
       "      <td>GO_0000162</td>\n",
       "      <td>TRPC_HELPY</td>\n",
       "      <td>23476</td>\n",
       "      <td>Amino-acid biosynthesis; L-tryptophan biosynthesis; L-tryptophan from chorismate: step 4/5</td>\n",
       "    </tr>\n",
       "    <tr>\n",
       "      <th>6</th>\n",
       "      <td>GO_0000162</td>\n",
       "      <td>TRPC_HELPY</td>\n",
       "      <td>21540</td>\n",
       "      <td>Amino-acid biosynthesis; L-tryptophan biosynthesis; L-tryptophan from chorismate: step 4/5</td>\n",
       "    </tr>\n",
       "    <tr>\n",
       "      <th>7</th>\n",
       "      <td>GO_0000162</td>\n",
       "      <td>TRPG_HELPY</td>\n",
       "      <td>21732</td>\n",
       "      <td>Amino-acid biosynthesis; L-tryptophan biosynthesis; L-tryptophan from chorismate: step 1/5</td>\n",
       "    </tr>\n",
       "    <tr>\n",
       "      <th>8</th>\n",
       "      <td>GO_0000162</td>\n",
       "      <td>TRPE_HELPY</td>\n",
       "      <td>21732</td>\n",
       "      <td>Amino-acid biosynthesis; L-tryptophan biosynthesis; L-tryptophan from chorismate: step 1/5</td>\n",
       "    </tr>\n",
       "  </tbody>\n",
       "</table>\n",
       "</div>"
      ],
      "text/plain": [
       "         goId upProteinId rhReaction  \\\n",
       "0  GO_0000162  TRPD_HELPY      11768   \n",
       "1  GO_0000162  TRPA_HELPY      10532   \n",
       "2  GO_0000162  TRPB_HELPY      10532   \n",
       "3  GO_0000162  TRPC_HELPY      23476   \n",
       "4  GO_0000162  TRPC_HELPY      21540   \n",
       "5  GO_0000162  TRPC_HELPY      23476   \n",
       "6  GO_0000162  TRPC_HELPY      21540   \n",
       "7  GO_0000162  TRPG_HELPY      21732   \n",
       "8  GO_0000162  TRPE_HELPY      21732   \n",
       "\n",
       "                                                                                    upPathway  \n",
       "0  Amino-acid biosynthesis; L-tryptophan biosynthesis; L-tryptophan from chorismate: step 2/5  \n",
       "1  Amino-acid biosynthesis; L-tryptophan biosynthesis; L-tryptophan from chorismate: step 5/5  \n",
       "2  Amino-acid biosynthesis; L-tryptophan biosynthesis; L-tryptophan from chorismate: step 5/5  \n",
       "3  Amino-acid biosynthesis; L-tryptophan biosynthesis; L-tryptophan from chorismate: step 3/5  \n",
       "4  Amino-acid biosynthesis; L-tryptophan biosynthesis; L-tryptophan from chorismate: step 3/5  \n",
       "5  Amino-acid biosynthesis; L-tryptophan biosynthesis; L-tryptophan from chorismate: step 4/5  \n",
       "6  Amino-acid biosynthesis; L-tryptophan biosynthesis; L-tryptophan from chorismate: step 4/5  \n",
       "7  Amino-acid biosynthesis; L-tryptophan biosynthesis; L-tryptophan from chorismate: step 1/5  \n",
       "8  Amino-acid biosynthesis; L-tryptophan biosynthesis; L-tryptophan from chorismate: step 1/5  "
      ]
     },
     "execution_count": 25,
     "metadata": {
     },
     "output_type": "execute_result"
    }
   ],
   "source": [
    "# Display all results\n",
    "df"
   ]
  },
  {
   "cell_type": "markdown",
   "metadata": {
    "collapsed": false
   },
   "source": [
    "# Visualization"
   ]
  },
  {
   "cell_type": "markdown",
   "metadata": {
    "collapsed": false
   },
   "source": [
    "# Super-kingdom distribution of Rhea reactions annotated in UniProtKB/Swiss-Prot \n",
    "\n",
    "|Taxonomic domain name | NCBI taxid |\n",
    "|----------------------|------------|\n",
    "| Archaea | 2157 |\n",
    "| Bacteria | 2 |\n",
    "| Eukaryota | 2759 |\n",
    "| Viruses | 10239 | \n",
    "\n",
    "\n",
    "WARNING: the SPARQL query may take a few minutes\n"
   ]
  },
  {
   "cell_type": "markdown",
   "metadata": {
    "collapsed": false
   },
   "source": [
    "## Q20: Retrieve UniProtKB/Swiss-Prot proteins, their taxonomic domain and their catalyzed Rhea reactions"
   ]
  },
  {
   "cell_type": "code",
   "execution_count": 26,
   "metadata": {
    "collapsed": false,
    "scrolled": true
   },
   "outputs": [
    {
     "name": "stdout",
     "output_type": "stream",
     "text": [
      "\n",
      "#endpoint: https://sparql.uniprot.org/sparql/\n",
      "#query Q20: Retrieve UniProtKB/Swiss-Prot proteins, their taxonomic domain and their catalyzed Rhea reactions\n",
      "\n",
      "PREFIX rdfs:<http://www.w3.org/2000/01/rdf-schema#> \n",
      "PREFIX up:<http://purl.uniprot.org/core/>\n",
      "PREFIX keywords:<http://purl.uniprot.org/keywords/>\n",
      "PREFIX taxon:<http://purl.uniprot.org/taxonomy/>\n",
      "\n",
      "SELECT distinct ?uniprot  \n",
      "                ?taxid\n",
      "                ?domain\n",
      "                ?domainName\n",
      "                ?rhea\n",
      "WHERE {\n",
      "  # UniProtKB/Swiss-Prot entries (reviewed)\n",
      "  ?uniprot up:reviewed true .\n",
      "  # \n",
      "  ?uniprot up:organism ?taxid .\n",
      "  ?taxid rdfs:subClassOf ?domain .\n",
      "  VALUES (?domain) { (taxon:2157)  # Archaea\n",
      "                     (taxon:2)     # Bacteria\n",
      "                     (taxon:2759)  # Eukaryota\n",
      "                     (taxon:10239) # Viruses\n",
      "                   } \n",
      "  ?domain up:scientificName ?domainName .\n",
      "  ?uniprot up:annotation/up:catalyticActivity/up:catalyzedReaction ?rhea .\n",
      "}\n",
      "\n",
      "\n"
     ]
    }
   ],
   "source": [
    "sparql_Q20=\"\"\"\n",
    "#endpoint: https://sparql.uniprot.org/sparql/\n",
    "#query Q20: Retrieve UniProtKB/Swiss-Prot proteins, their taxonomic domain and their catalyzed Rhea reactions\n",
    "\n",
    "PREFIX rdfs:<http://www.w3.org/2000/01/rdf-schema#> \n",
    "PREFIX up:<http://purl.uniprot.org/core/>\n",
    "PREFIX keywords:<http://purl.uniprot.org/keywords/>\n",
    "PREFIX taxon:<http://purl.uniprot.org/taxonomy/>\n",
    "\n",
    "SELECT distinct ?uniprot  \n",
    "                ?taxid\n",
    "                ?domain\n",
    "                ?domainName\n",
    "                ?rhea\n",
    "WHERE {\n",
    "  # UniProtKB/Swiss-Prot entries (reviewed)\n",
    "  ?uniprot up:reviewed true .\n",
    "  # \n",
    "  ?uniprot up:organism ?taxid .\n",
    "  ?taxid rdfs:subClassOf ?domain .\n",
    "  VALUES (?domain) { (taxon:2157)  # Archaea\n",
    "                     (taxon:2)     # Bacteria\n",
    "                     (taxon:2759)  # Eukaryota\n",
    "                     (taxon:10239) # Viruses\n",
    "                   } \n",
    "  ?domain up:scientificName ?domainName .\n",
    "  ?uniprot up:annotation/up:catalyticActivity/up:catalyzedReaction ?rhea .\n",
    "}\n",
    "\n",
    "\"\"\"\n",
    "    \n",
    "print(sparql_Q20)"
   ]
  },
  {
   "cell_type": "code",
   "execution_count": 0,
   "metadata": {
    "collapsed": false
   },
   "outputs": [
   ],
   "source": [
    "try:\n",
    "    df  = sparql2pandas(sparql_Q20,sparql_uniprot_url)\n",
    "except Exception as e:\n",
    "    print('ERROR in SPARQL query Q20')\n",
    "    print(e)"
   ]
  },
  {
   "cell_type": "code",
   "execution_count": 0,
   "metadata": {
    "collapsed": false
   },
   "outputs": [
   ],
   "source": [
    "# Display results\n",
    "df.head(5)"
   ]
  },
  {
   "cell_type": "markdown",
   "metadata": {
    "collapsed": false
   },
   "source": [
    "## Compute Venn diagram using matplotlib and matplotlib_venn python libraries"
   ]
  },
  {
   "cell_type": "code",
   "execution_count": 0,
   "metadata": {
    "collapsed": false
   },
   "outputs": [
   ],
   "source": [
    "import matplotlib.pyplot as plt\n",
    "from matplotlib_venn import venn3\n",
    "from matplotlib_venn import venn3_circles\n",
    "\n",
    "set_A = set(df[df.domainName == 'Archaea'].rhea.unique())\n",
    "set_B = set(df[df.domainName == 'Bacteria'].rhea.unique())\n",
    "set_E = set(df[df.domainName == 'Eukaryota'].rhea.unique())\n",
    "\n",
    "nb_A = len(set_A)\n",
    "nb_B = len(set_B)\n",
    "nb_E = len(set_E)\n",
    "nb_all = len(set_A | set_B | set_E)\n",
    "\n",
    "title = 'Taxonomic distribution of the Rhea reactions annotated in UniProtKB/Swiss-Prot\\n'\n",
    "title += 'Rhea reactions: in Archaea=%s ; in Bacteria=%s; in Eukaryota=%s\\n' % (nb_A, nb_B, nb_E)\n",
    "title += 'UniProt release = %s - Rhea release = %s\\n' % (uniprotRelease, rheaRelease)\n",
    "\n",
    "# Plot Venn diagram\n",
    "v=venn3([set_B,set_E,set_A], set_labels = ('Bacteria','Eukaryota', '\\nArchaea'))\n",
    "c=venn3_circles([set_B,set_E,set_A], linestyle='dashed', linewidth=1, color=\"grey\")\n",
    "plt.title(title)\n",
    "\n",
    "plt.show();"
   ]
  },
  {
   "cell_type": "code",
   "execution_count": 0,
   "metadata": {
    "collapsed": false
   },
   "outputs": [
   ],
   "source": [
   ]
  }
 ],
 "metadata": {
  "hide_input": false,
  "kernelspec": {
   "display_name": "Python 3 (Anaconda 2021)",
   "env": {
    "ADDR2LINE": "/ext/anaconda2021.11/bin/x86_64-conda_cos6-linux-gnu-addr2line",
    "ANACONDA2021": "/ext/anaconda2021.11",
    "ANACONDA3": "$EXT/anaconda3",
    "ANACONDA5": "$EXT/anaconda5",
    "AR": "/ext/anaconda2021.11/bin/x86_64-conda_cos6-linux-gnu-ar",
    "AS": "/ext/anaconda2021.11/bin/x86_64-conda_cos6-linux-gnu-as",
    "CC": "/ext/anaconda2021.11/bin/x86_64-conda_cos6-linux-gnu-cc",
    "CFLAGS": "-march=nocona -mtune=haswell -ftree-vectorize -fPIC -fstack-protector-strong -fno-plt -O2 -ffunction-sections -pipe -isystem /ext/anaconda2021.11/include",
    "CMAKE_PREFIX_PATH": "/ext/anaconda2021.11:/ext/anaconda2021.11/x86_64-conda_cos6-linux-gnu/sysroot/usr",
    "CONDA_BACKUP_HOST": "x86_64-conda_cos6-linux-gnu",
    "CONDA_BUILD_SYSROOT": "/ext/anaconda2021.11/x86_64-conda_cos6-linux-gnu/sysroot",
    "CONDA_DEFAULT_ENV": "base",
    "CONDA_EXE": "/ext/anaconda2021.11/bin/conda",
    "CONDA_MKL_INTERFACE_LAYER_BACKUP": "",
    "CONDA_PREFIX": "/ext/anaconda2021.11",
    "CONDA_PROMPT_MODIFIER": "(base) ",
    "CONDA_PYTHON_EXE": "/ext/anaconda2021.11/bin/python",
    "CONDA_SHLVL": "1",
    "CPP": "/ext/anaconda2021.11/bin/x86_64-conda_cos6-linux-gnu-cpp",
    "CPPFLAGS": "-DNDEBUG -D_FORTIFY_SOURCE=2 -O2 -isystem /ext/anaconda2021.11/include",
    "CXX": "/ext/anaconda2021.11/bin/x86_64-conda_cos6-linux-gnu-c++",
    "CXXFILT": "/ext/anaconda2021.11/bin/x86_64-conda_cos6-linux-gnu-c++filt",
    "CXXFLAGS": "-fvisibility-inlines-hidden -std=c++17 -fmessage-length=0 -march=nocona -mtune=haswell -ftree-vectorize -fPIC -fstack-protector-strong -fno-plt -O2 -ffunction-sections -pipe -isystem /ext/anaconda2021.11/include",
    "DEBUG_CFLAGS": "-march=nocona -mtune=haswell -ftree-vectorize -fPIC -fstack-protector-all -fno-plt -Og -g -Wall -Wextra -fvar-tracking-assignments -ffunction-sections -pipe -isystem /ext/anaconda2021.11/include",
    "DEBUG_CPPFLAGS": "-D_DEBUG -D_FORTIFY_SOURCE=2 -Og -isystem /ext/anaconda2021.11/include",
    "DEBUG_CXXFLAGS": "-fvisibility-inlines-hidden -std=c++17 -fmessage-length=0 -march=nocona -mtune=haswell -ftree-vectorize -fPIC -fstack-protector-all -fno-plt -Og -g -Wall -Wextra -fvar-tracking-assignments -ffunction-sections -pipe -isystem /ext/anaconda2021.11/include",
    "DEBUG_FFLAGS": "-fopenmp -march=nocona -mtune=haswell -ftree-vectorize -fPIC -fstack-protector-strong -fno-plt -O2 -ffunction-sections -pipe -isystem /ext/anaconda2021.11/include -fopenmp -march=nocona -mtune=haswell -ftree-vectorize -fPIC -fstack-protector-all -fno-plt -Og -g -Wall -Wextra -fcheck=all -fbacktrace -fimplicit-none -fvar-tracking-assignments -ffunction-sections -pipe",
    "DEBUG_FORTRANFLAGS": "-fopenmp -march=nocona -mtune=haswell -ftree-vectorize -fPIC -fstack-protector-strong -fno-plt -O2 -ffunction-sections -pipe -isystem /ext/anaconda2021.11/include -fopenmp -march=nocona -mtune=haswell -ftree-vectorize -fPIC -fstack-protector-all -fno-plt -Og -g -Wall -Wextra -fcheck=all -fbacktrace -fimplicit-none -fvar-tracking-assignments -ffunction-sections -pipe",
    "ELFEDIT": "/ext/anaconda2021.11/bin/x86_64-conda_cos6-linux-gnu-elfedit",
    "F77": "/ext/anaconda2021.11/bin/x86_64-conda_cos6-linux-gnu-gfortran",
    "F90": "/ext/anaconda2021.11/bin/x86_64-conda_cos6-linux-gnu-gfortran",
    "F95": "/ext/anaconda2021.11/bin/x86_64-conda_cos6-linux-gnu-f95",
    "FC": "/ext/anaconda2021.11/bin/x86_64-conda_cos6-linux-gnu-gfortran",
    "FFLAGS": "-fopenmp -march=nocona -mtune=haswell -ftree-vectorize -fPIC -fstack-protector-strong -fno-plt -O2 -ffunction-sections -pipe -isystem /ext/anaconda2021.11/include",
    "FORTRANFLAGS": "-fopenmp -march=nocona -mtune=haswell -ftree-vectorize -fPIC -fstack-protector-strong -fno-plt -O2 -ffunction-sections -pipe -isystem /ext/anaconda2021.11/include",
    "GCC": "/ext/anaconda2021.11/bin/x86_64-conda_cos6-linux-gnu-gcc",
    "GCC_AR": "/ext/anaconda2021.11/bin/x86_64-conda_cos6-linux-gnu-gcc-ar",
    "GCC_NM": "/ext/anaconda2021.11/bin/x86_64-conda_cos6-linux-gnu-gcc-nm",
    "GCC_RANLIB": "/ext/anaconda2021.11/bin/x86_64-conda_cos6-linux-gnu-gcc-ranlib",
    "GDAL_DATA": "/ext/anaconda2021.11/share/gdal",
    "GFORTRAN": "/ext/anaconda2021.11/bin/x86_64-conda_cos6-linux-gnu-gfortran",
    "GPROF": "/ext/anaconda2021.11/bin/x86_64-conda_cos6-linux-gnu-gprof",
    "GXX": "/ext/anaconda2021.11/bin/x86_64-conda_cos6-linux-gnu-g++",
    "JAVA_HOME": "/ext/anaconda2021.11",
    "JAVA_HOME_CONDA_BACKUP": "",
    "JAVA_LD_LIBRARY_PATH": "/ext/anaconda2021.11/lib/server",
    "LD": "/ext/anaconda2021.11/bin/x86_64-conda_cos6-linux-gnu-ld",
    "LDFLAGS": "-Wl,-O2 -Wl,--sort-common -Wl,--as-needed -Wl,-z,relro -Wl,-z,now -Wl,--disable-new-dtags -Wl,--gc-sections -Wl,-rpath,/ext/anaconda2021.11/lib -Wl,-rpath-link,/ext/anaconda2021.11/lib -L/ext/anaconda2021.11/lib",
    "LD_GOLD": "/ext/anaconda2021.11/bin/x86_64-conda_cos6-linux-gnu-ld.gold",
    "LD_LIBRARY_PATH": "/ext/anaconda2021.11/lib",
    "MKL_INTERFACE_LAYER": "LP64,GNU",
    "MKL_THREADING_LAYER": "GNU",
    "NM": "/ext/anaconda2021.11/bin/x86_64-conda_cos6-linux-gnu-nm",
    "OBJCOPY": "/ext/anaconda2021.11/bin/x86_64-conda_cos6-linux-gnu-objcopy",
    "OBJDUMP": "/ext/anaconda2021.11/bin/x86_64-conda_cos6-linux-gnu-objdump",
    "OLDPWD": "/ext/anaconda2021.11",
    "PATH": "/ext/anaconda2021.11/bin:/ext/anaconda2021.11/bin:/ext/anaconda2021.11/condabin:/cocalc/bin:/cocalc/src/smc-project/bin:/home/salvus/bin:/home/salvus/.local/bin:/usr/lib/xpra:/ext/bin:/opt/ghc/bin:/usr/local/sbin:/usr/local/bin:/usr/sbin:/usr/bin:/sbin:/bin:/snap/bin:/usr/lib/postgresql/10/bin:/ext/data/homer/bin:/ext/data/weblogo",
    "PROJ_LIB": "/ext/anaconda2021.11/share/proj",
    "RANLIB": "/ext/anaconda2021.11/bin/x86_64-conda_cos6-linux-gnu-ranlib",
    "READELF": "/ext/anaconda2021.11/bin/x86_64-conda_cos6-linux-gnu-readelf",
    "RSTUDIO_WHICH_R": "/ext/anaconda2021.11/bin/R",
    "SIZE": "/ext/anaconda2021.11/bin/x86_64-conda_cos6-linux-gnu-size",
    "STRINGS": "/ext/anaconda2021.11/bin/x86_64-conda_cos6-linux-gnu-strings",
    "STRIP": "/ext/anaconda2021.11/bin/x86_64-conda_cos6-linux-gnu-strip",
    "_CE_CONDA": "",
    "_CE_M": "",
    "_CONDA_PYTHON_SYSCONFIGDATA_NAME": "_sysconfigdata_x86_64_conda_cos6_linux_gnu"
   },
   "language": "python",
   "metadata": {
    "cocalc": {
     "description": "Anaconda 2021.11 Python 3 environment",
     "priority": 10,
     "url": "https://www.anaconda.com/distribution/"
    }
   },
   "name": "anaconda2021",
   "resource_dir": "/ext/jupyter/kernels/anaconda2021"
  },
  "language_info": {
   "codemirror_mode": {
    "name": "ipython",
    "version": 3
   },
   "file_extension": ".py",
   "mimetype": "text/x-python",
   "name": "python",
   "nbconvert_exporter": "python",
   "pygments_lexer": "ipython3",
   "version": "3.9.7"
  },
  "toc": {
   "base_numbering": 1,
   "nav_menu": {
   },
   "number_sections": true,
   "sideBar": true,
   "skip_h1_title": false,
   "title_cell": "Table of Contents",
   "title_sidebar": "Contents",
   "toc_cell": true,
   "toc_position": {
    "height": "636.667px",
    "left": "166px",
    "top": "109.722px",
    "width": "287.617px"
   },
   "toc_section_display": true,
   "toc_window_display": true
  }
 },
 "nbformat": 4,
 "nbformat_minor": 4
}